{
 "cells": [
  {
   "cell_type": "markdown",
   "metadata": {
    "colab_type": "text",
    "id": "h9ORfVnCWiRL"
   },
   "source": [
    "# **Рубежный контроль №2 Наседкин Игорь ИУ5-23М**"
   ]
  },
  {
   "cell_type": "markdown",
   "metadata": {
    "colab_type": "text",
    "id": "_9IoEEeKWrTY"
   },
   "source": [
    "## **Тема: Методы построения моделей машинного обучения.**"
   ]
  },
  {
   "cell_type": "markdown",
   "metadata": {
    "colab_type": "text",
    "id": "2qw6M_ArXCRK"
   },
   "source": [
    "### **Задача 2. Выполнение классификации/регрессии/кластеризации данных (по вариантам)**."
   ]
  },
  {
   "cell_type": "markdown",
   "metadata": {
    "colab_type": "text",
    "id": "XSzyj1jpXRDa"
   },
   "source": [
    "Для заданного набора данных решите задачу кластеризации с использованием методов 1) K-Means, 2) DBSCAN и 3) Birch. Оцените качество модели на основе подходящих метрик качества (не менее двух метрик, если это возможно). Какие метрики качества Вы использовали и почему? Какие выводы Вы можете сделать о качестве построенных моделей?"
   ]
  },
  {
   "cell_type": "markdown",
   "metadata": {
    "colab_type": "text",
    "id": "HgmcsfZGXYc1"
   },
   "source": [
    "Набор данных - https://www.kaggle.com/ronitf/heart-disease-uci"
   ]
  },
  {
   "cell_type": "markdown",
   "metadata": {
    "colab_type": "text",
    "id": "jHFiYcbvZfDN"
   },
   "source": [
    "age;---возраст;\n",
    "\n",
    "sex;---пол;\n",
    "\n",
    "chest pain type (4 values);---Тип боли;\n",
    "\n",
    "resting blood pressure;---Кровяное давление в покое;\n",
    "\n",
    "serum cholestoral in mg/dl;---Холестерин;\n",
    "\n",
    "fasting blood sugar > 120 mg/dl;---Сахар в крови;\n",
    "\n",
    "resting electrocardiographic results (values 0,1,2);---Электрокардиография в покое;\n",
    "\n",
    "maximum heart rate achieved;---Максимальный сердечный ритм;\n",
    "\n",
    "exercise induced angina;---Стенокардия вызванная физической нагрузкой;\n",
    "\n",
    "oldpeak = ST depression induced by exercise relative to rest;---депрессия \n",
    "вызванная физ упражнениями;\n",
    "\n",
    "the slope of the peak exercise ST segment;---Наклон пика упражнений;\n",
    "\n",
    "number of major vessels (0-3) colored by flourosopy;---Кол-во крупных сосоудов по цвету\n",
    "thal: 3 = normal; 6 = fixed defect; 7 = reversable defect;\n",
    "\n",
    "The \"goal\" field refers to the presence of heart disease in the patient. It is integer valued from 0 (no presence) to 4."
   ]
  },
  {
   "cell_type": "markdown",
   "metadata": {
    "colab_type": "text",
    "id": "30vvGKk3X2Fs"
   },
   "source": [
    "Настройка:"
   ]
  },
  {
   "cell_type": "code",
   "execution_count": 2,
   "metadata": {
    "colab": {
     "base_uri": "https://localhost:8080/",
     "height": 72
    },
    "colab_type": "code",
    "id": "Ta5y_s9nX35J",
    "outputId": "3f6c7a5e-d782-4e87-e3db-cb379d851b36"
   },
   "outputs": [
    {
     "name": "stderr",
     "output_type": "stream",
     "text": [
      "/usr/local/lib/python3.6/dist-packages/statsmodels/tools/_testing.py:19: FutureWarning: pandas.util.testing is deprecated. Use the functions in the public API at pandas.testing instead.\n",
      "  import pandas.util.testing as tm\n"
     ]
    }
   ],
   "source": [
    "from sklearn.metrics import accuracy_score, balanced_accuracy_score\n",
    "import numpy as np\n",
    "from sklearn.model_selection import train_test_split\n",
    "import pandas as pd\n",
    "\n",
    "from typing import Dict, Tuple\n",
    "from scipy import stats\n",
    "from IPython.display import Image\n",
    "from sklearn import cluster, datasets, mixture\n",
    "from sklearn.neighbors import kneighbors_graph\n",
    "from sklearn.preprocessing import StandardScaler\n",
    "from sklearn.metrics import adjusted_rand_score\n",
    "from sklearn.metrics import adjusted_mutual_info_score\n",
    "from sklearn.metrics import homogeneity_completeness_v_measure\n",
    "from sklearn.metrics import silhouette_score\n",
    "from itertools import cycle, islice\n",
    "import seaborn as sns\n",
    "import matplotlib.pyplot as plt\n",
    "%matplotlib inline \n",
    "sns.set(style=\"ticks\")"
   ]
  },
  {
   "cell_type": "code",
   "execution_count": 0,
   "metadata": {
    "colab": {},
    "colab_type": "code",
    "id": "lKwxOTI7YP0Q"
   },
   "outputs": [],
   "source": [
    "data = pd.read_csv('heart.csv')"
   ]
  },
  {
   "cell_type": "code",
   "execution_count": 5,
   "metadata": {
    "colab": {
     "base_uri": "https://localhost:8080/",
     "height": 195
    },
    "colab_type": "code",
    "id": "zdQYFGNIYiZN",
    "outputId": "d9a69bec-d748-4d73-9ec3-db1127dc2c5e"
   },
   "outputs": [
    {
     "data": {
      "text/html": [
       "<div>\n",
       "<style scoped>\n",
       "    .dataframe tbody tr th:only-of-type {\n",
       "        vertical-align: middle;\n",
       "    }\n",
       "\n",
       "    .dataframe tbody tr th {\n",
       "        vertical-align: top;\n",
       "    }\n",
       "\n",
       "    .dataframe thead th {\n",
       "        text-align: right;\n",
       "    }\n",
       "</style>\n",
       "<table border=\"1\" class=\"dataframe\">\n",
       "  <thead>\n",
       "    <tr style=\"text-align: right;\">\n",
       "      <th></th>\n",
       "      <th>age</th>\n",
       "      <th>sex</th>\n",
       "      <th>cp</th>\n",
       "      <th>trestbps</th>\n",
       "      <th>chol</th>\n",
       "      <th>fbs</th>\n",
       "      <th>restecg</th>\n",
       "      <th>thalach</th>\n",
       "      <th>exang</th>\n",
       "      <th>oldpeak</th>\n",
       "      <th>slope</th>\n",
       "      <th>ca</th>\n",
       "      <th>thal</th>\n",
       "      <th>target</th>\n",
       "    </tr>\n",
       "  </thead>\n",
       "  <tbody>\n",
       "    <tr>\n",
       "      <th>0</th>\n",
       "      <td>63</td>\n",
       "      <td>1</td>\n",
       "      <td>3</td>\n",
       "      <td>145</td>\n",
       "      <td>233</td>\n",
       "      <td>1</td>\n",
       "      <td>0</td>\n",
       "      <td>150</td>\n",
       "      <td>0</td>\n",
       "      <td>2.3</td>\n",
       "      <td>0</td>\n",
       "      <td>0</td>\n",
       "      <td>1</td>\n",
       "      <td>1</td>\n",
       "    </tr>\n",
       "    <tr>\n",
       "      <th>1</th>\n",
       "      <td>37</td>\n",
       "      <td>1</td>\n",
       "      <td>2</td>\n",
       "      <td>130</td>\n",
       "      <td>250</td>\n",
       "      <td>0</td>\n",
       "      <td>1</td>\n",
       "      <td>187</td>\n",
       "      <td>0</td>\n",
       "      <td>3.5</td>\n",
       "      <td>0</td>\n",
       "      <td>0</td>\n",
       "      <td>2</td>\n",
       "      <td>1</td>\n",
       "    </tr>\n",
       "    <tr>\n",
       "      <th>2</th>\n",
       "      <td>41</td>\n",
       "      <td>0</td>\n",
       "      <td>1</td>\n",
       "      <td>130</td>\n",
       "      <td>204</td>\n",
       "      <td>0</td>\n",
       "      <td>0</td>\n",
       "      <td>172</td>\n",
       "      <td>0</td>\n",
       "      <td>1.4</td>\n",
       "      <td>2</td>\n",
       "      <td>0</td>\n",
       "      <td>2</td>\n",
       "      <td>1</td>\n",
       "    </tr>\n",
       "    <tr>\n",
       "      <th>3</th>\n",
       "      <td>56</td>\n",
       "      <td>1</td>\n",
       "      <td>1</td>\n",
       "      <td>120</td>\n",
       "      <td>236</td>\n",
       "      <td>0</td>\n",
       "      <td>1</td>\n",
       "      <td>178</td>\n",
       "      <td>0</td>\n",
       "      <td>0.8</td>\n",
       "      <td>2</td>\n",
       "      <td>0</td>\n",
       "      <td>2</td>\n",
       "      <td>1</td>\n",
       "    </tr>\n",
       "    <tr>\n",
       "      <th>4</th>\n",
       "      <td>57</td>\n",
       "      <td>0</td>\n",
       "      <td>0</td>\n",
       "      <td>120</td>\n",
       "      <td>354</td>\n",
       "      <td>0</td>\n",
       "      <td>1</td>\n",
       "      <td>163</td>\n",
       "      <td>1</td>\n",
       "      <td>0.6</td>\n",
       "      <td>2</td>\n",
       "      <td>0</td>\n",
       "      <td>2</td>\n",
       "      <td>1</td>\n",
       "    </tr>\n",
       "  </tbody>\n",
       "</table>\n",
       "</div>"
      ],
      "text/plain": [
       "   age  sex  cp  trestbps  chol  fbs  ...  exang  oldpeak  slope  ca  thal  target\n",
       "0   63    1   3       145   233    1  ...      0      2.3      0   0     1       1\n",
       "1   37    1   2       130   250    0  ...      0      3.5      0   0     2       1\n",
       "2   41    0   1       130   204    0  ...      0      1.4      2   0     2       1\n",
       "3   56    1   1       120   236    0  ...      0      0.8      2   0     2       1\n",
       "4   57    0   0       120   354    0  ...      1      0.6      2   0     2       1\n",
       "\n",
       "[5 rows x 14 columns]"
      ]
     },
     "execution_count": 5,
     "metadata": {
      "tags": []
     },
     "output_type": "execute_result"
    }
   ],
   "source": [
    "data.head()"
   ]
  },
  {
   "cell_type": "code",
   "execution_count": 6,
   "metadata": {
    "colab": {
     "base_uri": "https://localhost:8080/",
     "height": 281
    },
    "colab_type": "code",
    "id": "2EpCpfcqae6G",
    "outputId": "b642200f-8fb9-4f67-f2d2-ab22a8733255"
   },
   "outputs": [
    {
     "data": {
      "text/plain": [
       "age           int64\n",
       "sex           int64\n",
       "cp            int64\n",
       "trestbps      int64\n",
       "chol          int64\n",
       "fbs           int64\n",
       "restecg       int64\n",
       "thalach       int64\n",
       "exang         int64\n",
       "oldpeak     float64\n",
       "slope         int64\n",
       "ca            int64\n",
       "thal          int64\n",
       "target        int64\n",
       "dtype: object"
      ]
     },
     "execution_count": 6,
     "metadata": {
      "tags": []
     },
     "output_type": "execute_result"
    }
   ],
   "source": [
    "data.dtypes"
   ]
  },
  {
   "cell_type": "code",
   "execution_count": 7,
   "metadata": {
    "colab": {
     "base_uri": "https://localhost:8080/",
     "height": 281
    },
    "colab_type": "code",
    "id": "kxsWxd0zakwH",
    "outputId": "05878223-852a-4a69-8f97-94038fe9f17b"
   },
   "outputs": [
    {
     "data": {
      "text/plain": [
       "age         0\n",
       "sex         0\n",
       "cp          0\n",
       "trestbps    0\n",
       "chol        0\n",
       "fbs         0\n",
       "restecg     0\n",
       "thalach     0\n",
       "exang       0\n",
       "oldpeak     0\n",
       "slope       0\n",
       "ca          0\n",
       "thal        0\n",
       "target      0\n",
       "dtype: int64"
      ]
     },
     "execution_count": 7,
     "metadata": {
      "tags": []
     },
     "output_type": "execute_result"
    }
   ],
   "source": [
    "data.isnull().sum()"
   ]
  },
  {
   "cell_type": "markdown",
   "metadata": {
    "colab_type": "text",
    "id": "sJiFd5ssaoFn"
   },
   "source": [
    "пропусков нет"
   ]
  },
  {
   "cell_type": "markdown",
   "metadata": {
    "colab_type": "text",
    "id": "8wMaH1OlatUN"
   },
   "source": [
    "Делим датасет на тестовую и обучающую выборки"
   ]
  },
  {
   "cell_type": "code",
   "execution_count": 0,
   "metadata": {
    "colab": {},
    "colab_type": "code",
    "id": "sz31Y_zAbURe"
   },
   "outputs": [],
   "source": [
    "col_target='target'"
   ]
  },
  {
   "cell_type": "code",
   "execution_count": 0,
   "metadata": {
    "colab": {},
    "colab_type": "code",
    "id": "8BeXJ683baFg"
   },
   "outputs": [],
   "source": [
    "x = data.drop(col_target,axis = 1).values\n",
    "y = data['target'].values\n",
    "#x_train, x_test, y_train, y_test = train_test_split(x, y, test_size=0.33, random_state=324)"
   ]
  },
  {
   "cell_type": "code",
   "execution_count": 11,
   "metadata": {
    "colab": {
     "base_uri": "https://localhost:8080/",
     "height": 140
    },
    "colab_type": "code",
    "id": "1DF8sS7tnN9u",
    "outputId": "b71cfb72-6efa-4c54-fceb-41f4ec815ea7"
   },
   "outputs": [
    {
     "data": {
      "text/plain": [
       "array([[63.,  1.,  3., ...,  0.,  0.,  1.],\n",
       "       [37.,  1.,  2., ...,  0.,  0.,  2.],\n",
       "       [41.,  0.,  1., ...,  2.,  0.,  2.],\n",
       "       ...,\n",
       "       [68.,  1.,  0., ...,  1.,  2.,  3.],\n",
       "       [57.,  1.,  0., ...,  1.,  1.,  3.],\n",
       "       [57.,  0.,  1., ...,  1.,  1.,  2.]])"
      ]
     },
     "execution_count": 11,
     "metadata": {
      "tags": []
     },
     "output_type": "execute_result"
    }
   ],
   "source": [
    "x"
   ]
  },
  {
   "cell_type": "code",
   "execution_count": 12,
   "metadata": {
    "colab": {
     "base_uri": "https://localhost:8080/",
     "height": 263
    },
    "colab_type": "code",
    "id": "fRdp6-HOnWt5",
    "outputId": "0971cafd-4218-4fd8-d7fe-371a77a9eff4"
   },
   "outputs": [
    {
     "data": {
      "text/plain": [
       "array([1, 1, 1, 1, 1, 1, 1, 1, 1, 1, 1, 1, 1, 1, 1, 1, 1, 1, 1, 1, 1, 1,\n",
       "       1, 1, 1, 1, 1, 1, 1, 1, 1, 1, 1, 1, 1, 1, 1, 1, 1, 1, 1, 1, 1, 1,\n",
       "       1, 1, 1, 1, 1, 1, 1, 1, 1, 1, 1, 1, 1, 1, 1, 1, 1, 1, 1, 1, 1, 1,\n",
       "       1, 1, 1, 1, 1, 1, 1, 1, 1, 1, 1, 1, 1, 1, 1, 1, 1, 1, 1, 1, 1, 1,\n",
       "       1, 1, 1, 1, 1, 1, 1, 1, 1, 1, 1, 1, 1, 1, 1, 1, 1, 1, 1, 1, 1, 1,\n",
       "       1, 1, 1, 1, 1, 1, 1, 1, 1, 1, 1, 1, 1, 1, 1, 1, 1, 1, 1, 1, 1, 1,\n",
       "       1, 1, 1, 1, 1, 1, 1, 1, 1, 1, 1, 1, 1, 1, 1, 1, 1, 1, 1, 1, 1, 1,\n",
       "       1, 1, 1, 1, 1, 1, 1, 1, 1, 1, 1, 0, 0, 0, 0, 0, 0, 0, 0, 0, 0, 0,\n",
       "       0, 0, 0, 0, 0, 0, 0, 0, 0, 0, 0, 0, 0, 0, 0, 0, 0, 0, 0, 0, 0, 0,\n",
       "       0, 0, 0, 0, 0, 0, 0, 0, 0, 0, 0, 0, 0, 0, 0, 0, 0, 0, 0, 0, 0, 0,\n",
       "       0, 0, 0, 0, 0, 0, 0, 0, 0, 0, 0, 0, 0, 0, 0, 0, 0, 0, 0, 0, 0, 0,\n",
       "       0, 0, 0, 0, 0, 0, 0, 0, 0, 0, 0, 0, 0, 0, 0, 0, 0, 0, 0, 0, 0, 0,\n",
       "       0, 0, 0, 0, 0, 0, 0, 0, 0, 0, 0, 0, 0, 0, 0, 0, 0, 0, 0, 0, 0, 0,\n",
       "       0, 0, 0, 0, 0, 0, 0, 0, 0, 0, 0, 0, 0, 0, 0, 0, 0])"
      ]
     },
     "execution_count": 12,
     "metadata": {
      "tags": []
     },
     "output_type": "execute_result"
    }
   ],
   "source": [
    "y"
   ]
  },
  {
   "cell_type": "code",
   "execution_count": 14,
   "metadata": {
    "colab": {
     "base_uri": "https://localhost:8080/",
     "height": 52
    },
    "colab_type": "code",
    "id": "kPIwcXpvaxQm",
    "outputId": "8c9bde33-2c5d-462e-bdd1-7d5857610df8"
   },
   "outputs": [
    {
     "name": "stdout",
     "output_type": "stream",
     "text": [
      "Dataset:  (303, 13)\n",
      "Marks:  (303,)\n"
     ]
    }
   ],
   "source": [
    "print(\"Dataset: \", x.shape)\n",
    "print(\"Marks: \", y.shape)"
   ]
  },
  {
   "cell_type": "code",
   "execution_count": 0,
   "metadata": {
    "colab": {},
    "colab_type": "code",
    "id": "rqodAiF_d1Lv"
   },
   "outputs": [],
   "source": [
    "def visualize_clusters(x, y):\n",
    "    \"\"\"\n",
    "    Визуализация результатов кластерного анализа\n",
    "    \"\"\"\n",
    "    plt.subplots(figsize=(10,7))\n",
    "    plot_num = 0\n",
    "    for X, y_pred in zip(x, y):\n",
    "        plot_num += 1\n",
    "        plt.subplot(2, 3, plot_num)\n",
    "        # Цвета точек как результат кластеризации\n",
    "        colors = np.array(list(islice(cycle(['#377eb8', '#ff7f00', '#4daf4a',\n",
    "                                             '#f781bf', '#a65628', '#984ea3',\n",
    "                                             '#999999', '#e41a1c', '#dede00']),\n",
    "                                      int(max(y_pred) + 1))))\n",
    "        # черный цвет для выделяющихся значений\n",
    "        colors = np.append(colors, [\"#000000\"])\n",
    "        plt.scatter(X[:, 0], X[:, 1], s=3, color=colors[y_pred])\n",
    "        plt.xlim(-2.5, 2.5)\n",
    "        plt.ylim(-2.5, 2.5)\n",
    "        plt.xticks(())\n",
    "        plt.yticks(())\n",
    "        plt.title(datasets_names[plot_num-1])\n",
    "    \n",
    "    plt.show()"
   ]
  },
  {
   "cell_type": "code",
   "execution_count": 0,
   "metadata": {
    "colab": {},
    "colab_type": "code",
    "id": "TLk8E7auedSO"
   },
   "outputs": [],
   "source": [
    "def do_clustering(x, method):\n",
    "    \"\"\"\n",
    "    Выполнение кластеризации для данных примера\n",
    "    \"\"\"\n",
    "    cluster_results = []\n",
    "    for X in x:\n",
    "        temp_cluster = method.fit_predict(X)\n",
    "        cluster_results.append(temp_cluster)\n",
    "    return cluster_results"
   ]
  },
  {
   "cell_type": "code",
   "execution_count": 0,
   "metadata": {
    "colab": {},
    "colab_type": "code",
    "id": "UVzpJiKsehAD"
   },
   "outputs": [],
   "source": [
    "from sklearn.cluster import KMeans, MiniBatchKMeans"
   ]
  },
  {
   "cell_type": "markdown",
   "metadata": {
    "colab_type": "text",
    "id": "EGQgXqPKfU7W"
   },
   "source": [
    "**Метрики качества кластеризации**\n",
    "\n",
    "Adjusted Rand index\n",
    "\n",
    "Adjusted Mutual Information\n",
    "\n",
    "Homogeneity, completeness, V-measure\n",
    "\n",
    "Коэффициент силуэта"
   ]
  },
  {
   "cell_type": "code",
   "execution_count": 0,
   "metadata": {
    "colab": {},
    "colab_type": "code",
    "id": "HKqjuZDBgEqb"
   },
   "outputs": [],
   "source": [
    "import warnings\n",
    "warnings.simplefilter(action='ignore', category=FutureWarning)\n",
    "\n",
    "def claster_metrics(method, cluster_datasets, cluster_true_y):\n",
    "    \"\"\"\n",
    "    Вычисление метрик кластеризации\n",
    "    \"\"\"\n",
    "    ari = []\n",
    "    ami = []\n",
    "    hl = []\n",
    "    cl = []\n",
    "    vl = []\n",
    "    sl = []\n",
    "    for X, true_y in zip(cluster_datasets, cluster_true_y):\n",
    "        temp_cluster = method.fit_predict(X)\n",
    "        ari.append(adjusted_rand_score(true_y, temp_cluster))\n",
    "        ami.append(adjusted_mutual_info_score(true_y, temp_cluster))\n",
    "    \n",
    "        h, c, v = homogeneity_completeness_v_measure(true_y, temp_cluster)\n",
    "        hl.append(h)\n",
    "        cl.append(c)\n",
    "        vl.append(v)\n",
    "    \n",
    "        sl.append(silhouette_score(X, temp_cluster))\n",
    "    \n",
    "    result = pd.DataFrame({ 'ARI':ari, 'AMI':ami, \n",
    "                           'Homogeneity':hl, \n",
    "                           'Completeness':cl, \n",
    "                           'V-measure':vl, 'Silhouette':sl})\n",
    "    return result"
   ]
  },
  {
   "cell_type": "code",
   "execution_count": 0,
   "metadata": {
    "colab": {},
    "colab_type": "code",
    "id": "RiGb93Zftxfw"
   },
   "outputs": [],
   "source": [
    "model = KMeans(n_clusters=2, random_state=1)"
   ]
  },
  {
   "cell_type": "code",
   "execution_count": 0,
   "metadata": {
    "colab": {
     "base_uri": "https://localhost:8080/",
     "height": 68
    },
    "colab_type": "code",
    "id": "9xeceR5bt5bA",
    "outputId": "9eb43ff0-d9b1-4a28-f664-0062d036802e"
   },
   "outputs": [
    {
     "data": {
      "text/plain": [
       "KMeans(algorithm='auto', copy_x=True, init='k-means++', max_iter=300,\n",
       "       n_clusters=2, n_init=10, n_jobs=None, precompute_distances='auto',\n",
       "       random_state=1, tol=0.0001, verbose=0)"
      ]
     },
     "execution_count": 89,
     "metadata": {
      "tags": []
     },
     "output_type": "execute_result"
    }
   ],
   "source": [
    "model.fit(x)"
   ]
  },
  {
   "cell_type": "code",
   "execution_count": 0,
   "metadata": {
    "colab": {},
    "colab_type": "code",
    "id": "AfFHUrZbuUab"
   },
   "outputs": [],
   "source": [
    "all_predictions = model.predict(x)"
   ]
  },
  {
   "cell_type": "code",
   "execution_count": 0,
   "metadata": {
    "colab": {
     "base_uri": "https://localhost:8080/",
     "height": 170
    },
    "colab_type": "code",
    "id": "pP8oq7gjuZ9w",
    "outputId": "a9228798-1af0-4538-a9e6-9cb7c130df47"
   },
   "outputs": [
    {
     "name": "stdout",
     "output_type": "stream",
     "text": [
      "[1 1 1 1 0 1 0 0 1 1 1 0 0 1 0 1 0 1 1 1 1 1 1 1 1 0 1 1 0 1 1 1 1 0 1 1 0\n",
      " 1 0 0 0 1 1 0 0 0 1 1 1 1 1 0 1 1 1 1 1 1 1 0 0 0 1 1 1 1 1 1 1 1 1 1 1 0\n",
      " 1 1 1 1 1 1 1 0 0 0 0 0 0 1 1 1 1 1 1 0 1 1 0 1 0 1 1 0 1 1 1 1 1 1 1 1 0\n",
      " 1 0 1 0 1 1 1 1 1 0 0 0 0 1 1 1 0 1 0 1 0 0 1 0 0 1 1 1 0 0 0 1 1 1 1 1 1\n",
      " 1 1 1 1 1 0 1 1 1 1 1 1 1 0 1 1 1 0 1 0 1 1 1 1 0 1 1 1 1 0 1 0 0 1 0 1 1\n",
      " 0 1 0 1 1 0 1 1 0 1 0 1 1 0 1 1 0 0 0 1 1 1 0 1 1 1 0 1 0 1 0 0 0 1 1 0 1\n",
      " 0 0 1 1 0 1 0 0 1 0 0 1 0 0 0 0 0 0 0 1 1 0 1 0 0 1 0 1 0 1 0 0 0 0 0 1 1\n",
      " 1 1 1 0 0 1 1 0 1 0 0 1 1 1 1 0 1 1 0 0 1 0 1 1 1 1 0 1 1 0 1 1 0 1 1 1 1\n",
      " 1 1 1 0 1 1 1]\n"
     ]
    }
   ],
   "source": [
    "print(all_predictions)"
   ]
  },
  {
   "cell_type": "code",
   "execution_count": 0,
   "metadata": {
    "colab": {
     "base_uri": "https://localhost:8080/",
     "height": 170
    },
    "colab_type": "code",
    "id": "AcsrRy58udE4",
    "outputId": "91d5a2af-81c2-4d28-e7f9-3d77e4ce9ae9"
   },
   "outputs": [
    {
     "name": "stdout",
     "output_type": "stream",
     "text": [
      "[1 1 1 1 1 1 1 1 1 1 1 1 1 1 1 1 1 1 1 1 1 1 1 1 1 1 1 1 1 1 1 1 1 1 1 1 1\n",
      " 1 1 1 1 1 1 1 1 1 1 1 1 1 1 1 1 1 1 1 1 1 1 1 1 1 1 1 1 1 1 1 1 1 1 1 1 1\n",
      " 1 1 1 1 1 1 1 1 1 1 1 1 1 1 1 1 1 1 1 1 1 1 1 1 1 1 1 1 1 1 1 1 1 1 1 1 1\n",
      " 1 1 1 1 1 1 1 1 1 1 1 1 1 1 1 1 1 1 1 1 1 1 1 1 1 1 1 1 1 1 1 1 1 1 1 1 1\n",
      " 1 1 1 1 1 1 1 1 1 1 1 1 1 1 1 1 1 0 0 0 0 0 0 0 0 0 0 0 0 0 0 0 0 0 0 0 0\n",
      " 0 0 0 0 0 0 0 0 0 0 0 0 0 0 0 0 0 0 0 0 0 0 0 0 0 0 0 0 0 0 0 0 0 0 0 0 0\n",
      " 0 0 0 0 0 0 0 0 0 0 0 0 0 0 0 0 0 0 0 0 0 0 0 0 0 0 0 0 0 0 0 0 0 0 0 0 0\n",
      " 0 0 0 0 0 0 0 0 0 0 0 0 0 0 0 0 0 0 0 0 0 0 0 0 0 0 0 0 0 0 0 0 0 0 0 0 0\n",
      " 0 0 0 0 0 0 0]\n"
     ]
    }
   ],
   "source": [
    "print(y.values)"
   ]
  },
  {
   "cell_type": "code",
   "execution_count": 0,
   "metadata": {
    "colab": {},
    "colab_type": "code",
    "id": "KPu65SGRvMfl"
   },
   "outputs": [],
   "source": [
    "from sklearn.cluster import DBSCAN"
   ]
  },
  {
   "cell_type": "code",
   "execution_count": 0,
   "metadata": {
    "colab": {},
    "colab_type": "code",
    "id": "-mXPLBjtvRVq"
   },
   "outputs": [],
   "source": [
    "dbscan = DBSCAN()"
   ]
  },
  {
   "cell_type": "code",
   "execution_count": 0,
   "metadata": {
    "colab": {
     "base_uri": "https://localhost:8080/",
     "height": 51
    },
    "colab_type": "code",
    "id": "JOukRP5uvUNz",
    "outputId": "d6da5945-82d0-4087-ab3c-eba131abfa0b"
   },
   "outputs": [
    {
     "data": {
      "text/plain": [
       "DBSCAN(algorithm='auto', eps=0.5, leaf_size=30, metric='euclidean',\n",
       "       metric_params=None, min_samples=5, n_jobs=None, p=None)"
      ]
     },
     "execution_count": 95,
     "metadata": {
      "tags": []
     },
     "output_type": "execute_result"
    }
   ],
   "source": [
    "dbscan.fit(x)"
   ]
  },
  {
   "cell_type": "markdown",
   "metadata": {
    "colab_type": "text",
    "id": "0JTVRI2LDpam"
   },
   "source": [
    "# **Метод K-средних**"
   ]
  },
  {
   "cell_type": "code",
   "execution_count": 0,
   "metadata": {
    "colab": {},
    "colab_type": "code",
    "id": "Vy9aDBlB4_YY"
   },
   "outputs": [],
   "source": [
    "import pandas as pd\n",
    "from sklearn.cluster import KMeans\n",
    "from sklearn.preprocessing import MinMaxScaler, StandardScaler"
   ]
  },
  {
   "cell_type": "code",
   "execution_count": 20,
   "metadata": {
    "colab": {
     "base_uri": "https://localhost:8080/",
     "height": 369
    },
    "colab_type": "code",
    "id": "WTxVPw7a5Smb",
    "outputId": "1d2894e1-686a-4c14-f97b-3a380cf9e3e5"
   },
   "outputs": [
    {
     "name": "stdout",
     "output_type": "stream",
     "text": [
      "     age  sex  cp  trestbps  chol  ...  slope  ca  thal  target  cluster\n",
      "0     63    1   3       145   233  ...      0   0     1       1        0\n",
      "1     37    1   2       130   250  ...      0   0     2       1        0\n",
      "2     41    0   1       130   204  ...      2   0     2       1        0\n",
      "3     56    1   1       120   236  ...      2   0     2       1        0\n",
      "4     57    0   0       120   354  ...      2   0     2       1        0\n",
      "..   ...  ...  ..       ...   ...  ...    ...  ..   ...     ...      ...\n",
      "298   57    0   0       140   241  ...      1   0     3       0        1\n",
      "299   45    1   3       110   264  ...      1   0     3       0        0\n",
      "300   68    1   0       144   193  ...      1   2     3       0        1\n",
      "301   57    1   0       130   131  ...      1   1     3       0        1\n",
      "302   57    0   1       130   236  ...      1   1     2       0        0\n",
      "\n",
      "[303 rows x 15 columns]\n",
      "[[-0.24092798 -0.08974737  0.37025174 -0.12677477 -0.06229806 -0.0341701\n",
      "   0.06200725  0.46180314 -0.43819277 -0.39449405  0.36064556 -0.30877277\n",
      "  -0.22373865]\n",
      " [ 0.45432133  0.16923791 -0.69818899  0.23906099  0.11747634  0.06443504\n",
      "  -0.11692796 -0.87082878  0.82630636  0.74390307 -0.68007448  0.58225722\n",
      "   0.42190717]]\n"
     ]
    }
   ],
   "source": [
    "# read data (drop last empty column, caused by an extra (last) colon in the header)\n",
    "data = pd.read_csv('heart.csv', sep=',')\n",
    "\n",
    "# normalize data\n",
    "scaler = StandardScaler()\n",
    "X = scaler.fit_transform(data.drop('target', 1))\n",
    "\n",
    "# clustering\n",
    "n_clusters = 2\n",
    "km = KMeans(n_clusters=n_clusters, random_state=1)\n",
    "\n",
    "# fit & predict clusters\n",
    "data['cluster'] = km.fit_predict(X)\n",
    "\n",
    "# results - we should have 2 clusters: [0,1] \n",
    "print(data)\n",
    "\n",
    "# cluster's centroids\n",
    "print(km.cluster_centers_)"
   ]
  },
  {
   "cell_type": "markdown",
   "metadata": {
    "colab_type": "text",
    "id": "5TT-rn39Eq4L"
   },
   "source": [
    "# **Алгоритм DBSCAN**"
   ]
  },
  {
   "cell_type": "code",
   "execution_count": 0,
   "metadata": {
    "colab": {},
    "colab_type": "code",
    "id": "bELV51KXEvvj"
   },
   "outputs": [],
   "source": [
    "from sklearn.cluster import DBSCAN"
   ]
  },
  {
   "cell_type": "code",
   "execution_count": 0,
   "metadata": {
    "colab": {},
    "colab_type": "code",
    "id": "zN1U_v0JGO3w"
   },
   "outputs": [],
   "source": [
    "eps = 0.25\n",
    "dbscan = DBSCAN(eps=eps)"
   ]
  },
  {
   "cell_type": "code",
   "execution_count": 0,
   "metadata": {
    "colab": {},
    "colab_type": "code",
    "id": "kvroCERfGS1B"
   },
   "outputs": [],
   "source": [
    "data['cluster'] = dbscan.fit_predict(X)"
   ]
  },
  {
   "cell_type": "code",
   "execution_count": 0,
   "metadata": {
    "colab": {},
    "colab_type": "code",
    "id": "Z9VRp0SUQpq_"
   },
   "outputs": [],
   "source": [
    "col_target='target'"
   ]
  },
  {
   "cell_type": "code",
   "execution_count": 0,
   "metadata": {
    "colab": {},
    "colab_type": "code",
    "id": "-W6HazfKQgRD"
   },
   "outputs": [],
   "source": [
    "test = data.drop(col_target,axis = 1)"
   ]
  },
  {
   "cell_type": "code",
   "execution_count": 30,
   "metadata": {
    "colab": {
     "base_uri": "https://localhost:8080/",
     "height": 263
    },
    "colab_type": "code",
    "id": "aa0P9BgPGVzG",
    "outputId": "f5b7bcee-a0d3-4875-c4b6-98638b9a0715"
   },
   "outputs": [
    {
     "name": "stdout",
     "output_type": "stream",
     "text": [
      "     age  sex  cp  trestbps  chol  ...  slope  ca  thal  target  cluster\n",
      "0     63    1   3       145   233  ...      0   0     1       1       -1\n",
      "1     37    1   2       130   250  ...      0   0     2       1       -1\n",
      "2     41    0   1       130   204  ...      2   0     2       1       -1\n",
      "3     56    1   1       120   236  ...      2   0     2       1       -1\n",
      "4     57    0   0       120   354  ...      2   0     2       1       -1\n",
      "..   ...  ...  ..       ...   ...  ...    ...  ..   ...     ...      ...\n",
      "298   57    0   0       140   241  ...      1   0     3       0       -1\n",
      "299   45    1   3       110   264  ...      1   0     3       0       -1\n",
      "300   68    1   0       144   193  ...      1   2     3       0       -1\n",
      "301   57    1   0       130   131  ...      1   1     3       0       -1\n",
      "302   57    0   1       130   236  ...      1   1     2       0       -1\n",
      "\n",
      "[303 rows x 15 columns]\n"
     ]
    }
   ],
   "source": [
    "print(data)"
   ]
  },
  {
   "cell_type": "markdown",
   "metadata": {
    "colab_type": "text",
    "id": "n9phKx87IVpA"
   },
   "source": [
    "# **Алгоритм BIRCH**"
   ]
  },
  {
   "cell_type": "code",
   "execution_count": 0,
   "metadata": {
    "colab": {},
    "colab_type": "code",
    "id": "CWaJ1ndjJVyh"
   },
   "outputs": [],
   "source": [
    "from sklearn.cluster import Birch"
   ]
  },
  {
   "cell_type": "code",
   "execution_count": 0,
   "metadata": {
    "colab": {},
    "colab_type": "code",
    "id": "QfFy-bQHLtDQ"
   },
   "outputs": [],
   "source": [
    "birch = Birch()"
   ]
  },
  {
   "cell_type": "code",
   "execution_count": 0,
   "metadata": {
    "colab": {},
    "colab_type": "code",
    "id": "ck6xV-hQL3-V"
   },
   "outputs": [],
   "source": [
    "data['cluster'] = dbscan.fit_predict(X)"
   ]
  },
  {
   "cell_type": "code",
   "execution_count": 0,
   "metadata": {
    "colab": {
     "base_uri": "https://localhost:8080/",
     "height": 263
    },
    "colab_type": "code",
    "id": "nqNhDYdfMHCn",
    "outputId": "2e0f286d-4073-451f-80a1-866b911f2060"
   },
   "outputs": [
    {
     "name": "stdout",
     "output_type": "stream",
     "text": [
      "     age  sex  cp  trestbps  chol  ...  slope  ca  thal  target  cluster\n",
      "0     63    1   3       145   233  ...      0   0     1       1        0\n",
      "1     37    1   2       130   250  ...      0   0     2       1        0\n",
      "2     41    0   1       130   204  ...      2   0     2       1        2\n",
      "3     56    1   1       120   236  ...      2   0     2       1        0\n",
      "4     57    0   0       120   354  ...      2   0     2       1        2\n",
      "..   ...  ...  ..       ...   ...  ...    ...  ..   ...     ...      ...\n",
      "298   57    0   0       140   241  ...      1   0     3       0        2\n",
      "299   45    1   3       110   264  ...      1   0     3       0        0\n",
      "300   68    1   0       144   193  ...      1   2     3       0        1\n",
      "301   57    1   0       130   131  ...      1   1     3       0        1\n",
      "302   57    0   1       130   236  ...      1   1     2       0        2\n",
      "\n",
      "[303 rows x 15 columns]\n"
     ]
    }
   ],
   "source": [
    "print(data)"
   ]
  },
  {
   "cell_type": "markdown",
   "metadata": {
    "colab_type": "text",
    "id": "3zDO-qEJWC93"
   },
   "source": [
    "# **Сравнение алгоритмов по метрикам:**"
   ]
  },
  {
   "cell_type": "code",
   "execution_count": 53,
   "metadata": {
    "colab": {
     "base_uri": "https://localhost:8080/",
     "height": 136
    },
    "colab_type": "code",
    "id": "OtYV8B3xTP10",
    "outputId": "b9898090-fbd9-4e13-e445-d438e099d073"
   },
   "outputs": [
    {
     "data": {
      "text/html": [
       "<div>\n",
       "<style scoped>\n",
       "    .dataframe tbody tr th:only-of-type {\n",
       "        vertical-align: middle;\n",
       "    }\n",
       "\n",
       "    .dataframe tbody tr th {\n",
       "        vertical-align: top;\n",
       "    }\n",
       "\n",
       "    .dataframe thead th {\n",
       "        text-align: right;\n",
       "    }\n",
       "</style>\n",
       "<table border=\"1\" class=\"dataframe\">\n",
       "  <thead>\n",
       "    <tr style=\"text-align: right;\">\n",
       "      <th></th>\n",
       "      <th>ARI</th>\n",
       "      <th>AMI</th>\n",
       "      <th>Homogenity</th>\n",
       "      <th>Completeness</th>\n",
       "      <th>V-measure</th>\n",
       "    </tr>\n",
       "  </thead>\n",
       "  <tbody>\n",
       "    <tr>\n",
       "      <th>K-means</th>\n",
       "      <td>0.020501</td>\n",
       "      <td>0.011402</td>\n",
       "      <td>0.013501</td>\n",
       "      <td>0.014202</td>\n",
       "      <td>0.013843</td>\n",
       "    </tr>\n",
       "    <tr>\n",
       "      <th>DBSCAN</th>\n",
       "      <td>0.000000</td>\n",
       "      <td>0.000000</td>\n",
       "      <td>0.000000</td>\n",
       "      <td>1.000000</td>\n",
       "      <td>0.000000</td>\n",
       "    </tr>\n",
       "    <tr>\n",
       "      <th>Birch</th>\n",
       "      <td>0.029682</td>\n",
       "      <td>0.019219</td>\n",
       "      <td>0.029011</td>\n",
       "      <td>0.019004</td>\n",
       "      <td>0.022965</td>\n",
       "    </tr>\n",
       "  </tbody>\n",
       "</table>\n",
       "</div>"
      ],
      "text/plain": [
       "              ARI       AMI  Homogenity  Completeness  V-measure\n",
       "K-means  0.020501  0.011402    0.013501      0.014202   0.013843\n",
       "DBSCAN   0.000000  0.000000    0.000000      1.000000   0.000000\n",
       "Birch    0.029682  0.019219    0.029011      0.019004   0.022965"
      ]
     },
     "execution_count": 53,
     "metadata": {
      "tags": []
     },
     "output_type": "execute_result"
    }
   ],
   "source": [
    "from sklearn import metrics\n",
    "import pandas as pd\n",
    "from sklearn.cluster import KMeans, AgglomerativeClustering, AffinityPropagation, SpectralClustering, DBSCAN, Birch\n",
    "\n",
    "data = pd.read_csv('heart.csv', sep=',')\n",
    "a = data.drop('target',axis = 1)\n",
    "b = data['target']\n",
    "\n",
    "algorithms = []\n",
    "algorithms.append(KMeans(n_clusters=2, random_state=1))\n",
    "algorithms.append(DBSCAN(eps=0.25))\n",
    "algorithms.append(Birch())\n",
    "\n",
    "data = []\n",
    "for algo in algorithms:\n",
    "    algo.fit(a)\n",
    "    data.append(({\n",
    "        'ARI': metrics.adjusted_rand_score(b, algo.labels_),\n",
    "        'AMI': metrics.adjusted_mutual_info_score(b, algo.labels_),\n",
    "        'Homogenity': metrics.homogeneity_score(b, algo.labels_),\n",
    "        'Completeness': metrics.completeness_score(b, algo.labels_),\n",
    "        'V-measure': metrics.v_measure_score(b, algo.labels_),\n",
    "        #'Silhouette': metrics.silhouette_score(a, algo.labels_)\n",
    "        }))\n",
    "\n",
    "results = pd.DataFrame(data=data, columns=['ARI', 'AMI', 'Homogenity',\n",
    "                                           'Completeness', 'V-measure', \n",
    "                                           #'Silhouette'\n",
    "                                           ],\n",
    "                       index=['K-means', 'DBSCAN', \n",
    "                              'Birch'])\n",
    "\n",
    "results"
   ]
  },
  {
   "cell_type": "markdown",
   "metadata": {
    "colab_type": "text",
    "id": "LoMCjCLWXKVX"
   },
   "source": [
    "**Вывод: по большинству метрик выигрывает метод Birch, однако качество его кластеризации не очень хорошее(согласно этим же метрикам). По полноте у DBSCAN большое преимущество, что свидетельствует о хорошем качестве кластеризации.**"
   ]
  }
 ],
 "metadata": {
  "authors": [
   {
    "name": "Наседкин Игорь Алексеевич"
   }
  ],
  "colab": {
   "collapsed_sections": [],
   "name": "MMORK2.ipynb",
   "provenance": [],
   "toc_visible": true
  },
  "group": "ИУ5-23М",
  "kernelspec": {
   "display_name": "Python 3",
   "language": "python",
   "name": "python3"
  },
  "language_info": {
   "codemirror_mode": {
    "name": "ipython",
    "version": 3
   },
   "file_extension": ".py",
   "mimetype": "text/x-python",
   "name": "python",
   "nbconvert_exporter": "python",
   "pygments_lexer": "ipython3",
   "version": "3.8.3"
  },
  "title": "Методы построения моделей машинного обучения"
 },
 "nbformat": 4,
 "nbformat_minor": 1
}
