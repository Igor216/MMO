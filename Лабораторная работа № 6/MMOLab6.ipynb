{
 "cells": [
  {
   "cell_type": "markdown",
   "metadata": {
    "colab_type": "text",
    "id": "tn566nG9d_6t"
   },
   "source": [
    "# **Ансамбли моделей машинного обучения**"
   ]
  },
  {
   "cell_type": "markdown",
   "metadata": {
    "colab_type": "text",
    "id": "6NGxaNcJd_6u"
   },
   "source": [
    "Цель лабораторной работы: изучение ансамблей моделей машинного обучения.\n",
    "Задание:\n",
    "\n",
    "1. Выберите набор данных (датасет) для решения задачи классификации или регресии.\n",
    "2. В случае необходимости проведите удаление или заполнение пропусков и кодирование категориальных признаков.\n",
    "3. С использованием метода train_test_split разделите выборку на обучающую и тестовую.\n",
    "4. Обучите две ансамблевые модели. Оцените качество моделей с помощью одной из подходящих для задачи метрик. \n",
    "Сравните качество полученных моделей.\n",
    "5. Произведите для каждой модели подбор значений одного гиперпараметра.\n",
    "В зависимости от используемой библиотеки можно применять функцию GridSearchCV, использовать перебор \n",
    "параметров в цикле, или использовать другие методы.\n",
    "6. Повторите пункт 4 для найденных оптимальных значений гиперпараметров. \n",
    "Сравните качество полученных моделей с качеством моделей, полученных в пункте 4."
   ]
  },
  {
   "cell_type": "markdown",
   "metadata": {
    "colab_type": "text",
    "id": "0JOzB4zYd_6v"
   },
   "source": [
    "1. Подготовка данных; датасет -\n",
    "https://www.kaggle.com/ronitf/heart-disease-uci/version/1\n",
    "1. age;---возраст;\n",
    "2. sex;---пол;\n",
    "3. chest pain type (4 values);---Тип боли;\n",
    "4. resting blood pressure;---Кровяное давление в покое;\n",
    "5. serum cholestoral in mg/dl;---Холестерин;\n",
    "6. fasting blood sugar > 120 mg/dl;---Сахар в крови;\n",
    "7. resting electrocardiographic results (values 0,1,2);---Электрокардиография в покое;\n",
    "8. maximum heart rate achieved;---Максимальный сердечный ритм;\n",
    "9. exercise induced angina;---Стенокардия вызванная физической нагрузкой;\n",
    "10. oldpeak = ST depression induced by exercise relative to rest;---депрессия вызванная физ упражнениями;\n",
    "11. the slope of the peak exercise ST segment;---Наклон пика упражнений;\n",
    "12. number of major vessels (0-3) colored by flourosopy;---Кол-во крупных сосоудов по цвету\n",
    "thal: 3 = normal; 6 = fixed defect; 7 = reversable defect; "
   ]
  },
  {
   "cell_type": "code",
   "execution_count": 1,
   "metadata": {
    "colab": {
     "base_uri": "https://localhost:8080/",
     "height": 51
    },
    "colab_type": "code",
    "id": "Qm1xLeGkd_6v",
    "outputId": "5449b62a-4d14-472a-92b7-b17f56c967b8"
   },
   "outputs": [
    {
     "name": "stderr",
     "output_type": "stream",
     "text": [
      "/usr/local/lib/python3.6/dist-packages/statsmodels/tools/_testing.py:19: FutureWarning: pandas.util.testing is deprecated. Use the functions in the public API at pandas.testing instead.\n",
      "  import pandas.util.testing as tm\n"
     ]
    }
   ],
   "source": [
    "import numpy as np\n",
    "import pandas as pd\n",
    "import seaborn as sns\n",
    "import matplotlib.pyplot as plt\n",
    "%matplotlib inline \n",
    "sns.set(style=\"ticks\")"
   ]
  },
  {
   "cell_type": "code",
   "execution_count": 0,
   "metadata": {
    "colab": {},
    "colab_type": "code",
    "id": "IDKY2Gq6d_6z"
   },
   "outputs": [],
   "source": [
    "data = pd.read_csv('heart.csv')"
   ]
  },
  {
   "cell_type": "code",
   "execution_count": 3,
   "metadata": {
    "colab": {
     "base_uri": "https://localhost:8080/",
     "height": 204
    },
    "colab_type": "code",
    "id": "QOoIjH5Ud_62",
    "outputId": "02da39f3-8507-428b-d80a-64ffb6535e23"
   },
   "outputs": [
    {
     "data": {
      "text/html": [
       "<div>\n",
       "<style scoped>\n",
       "    .dataframe tbody tr th:only-of-type {\n",
       "        vertical-align: middle;\n",
       "    }\n",
       "\n",
       "    .dataframe tbody tr th {\n",
       "        vertical-align: top;\n",
       "    }\n",
       "\n",
       "    .dataframe thead th {\n",
       "        text-align: right;\n",
       "    }\n",
       "</style>\n",
       "<table border=\"1\" class=\"dataframe\">\n",
       "  <thead>\n",
       "    <tr style=\"text-align: right;\">\n",
       "      <th></th>\n",
       "      <th>age</th>\n",
       "      <th>sex</th>\n",
       "      <th>cp</th>\n",
       "      <th>trestbps</th>\n",
       "      <th>chol</th>\n",
       "      <th>fbs</th>\n",
       "      <th>restecg</th>\n",
       "      <th>thalach</th>\n",
       "      <th>exang</th>\n",
       "      <th>oldpeak</th>\n",
       "      <th>slope</th>\n",
       "      <th>ca</th>\n",
       "      <th>thal</th>\n",
       "      <th>target</th>\n",
       "    </tr>\n",
       "  </thead>\n",
       "  <tbody>\n",
       "    <tr>\n",
       "      <th>0</th>\n",
       "      <td>63</td>\n",
       "      <td>1</td>\n",
       "      <td>3</td>\n",
       "      <td>145</td>\n",
       "      <td>233</td>\n",
       "      <td>1</td>\n",
       "      <td>0</td>\n",
       "      <td>150</td>\n",
       "      <td>0</td>\n",
       "      <td>2.3</td>\n",
       "      <td>0</td>\n",
       "      <td>0</td>\n",
       "      <td>1</td>\n",
       "      <td>1</td>\n",
       "    </tr>\n",
       "    <tr>\n",
       "      <th>1</th>\n",
       "      <td>37</td>\n",
       "      <td>1</td>\n",
       "      <td>2</td>\n",
       "      <td>130</td>\n",
       "      <td>250</td>\n",
       "      <td>0</td>\n",
       "      <td>1</td>\n",
       "      <td>187</td>\n",
       "      <td>0</td>\n",
       "      <td>3.5</td>\n",
       "      <td>0</td>\n",
       "      <td>0</td>\n",
       "      <td>2</td>\n",
       "      <td>1</td>\n",
       "    </tr>\n",
       "    <tr>\n",
       "      <th>2</th>\n",
       "      <td>41</td>\n",
       "      <td>0</td>\n",
       "      <td>1</td>\n",
       "      <td>130</td>\n",
       "      <td>204</td>\n",
       "      <td>0</td>\n",
       "      <td>0</td>\n",
       "      <td>172</td>\n",
       "      <td>0</td>\n",
       "      <td>1.4</td>\n",
       "      <td>2</td>\n",
       "      <td>0</td>\n",
       "      <td>2</td>\n",
       "      <td>1</td>\n",
       "    </tr>\n",
       "    <tr>\n",
       "      <th>3</th>\n",
       "      <td>56</td>\n",
       "      <td>1</td>\n",
       "      <td>1</td>\n",
       "      <td>120</td>\n",
       "      <td>236</td>\n",
       "      <td>0</td>\n",
       "      <td>1</td>\n",
       "      <td>178</td>\n",
       "      <td>0</td>\n",
       "      <td>0.8</td>\n",
       "      <td>2</td>\n",
       "      <td>0</td>\n",
       "      <td>2</td>\n",
       "      <td>1</td>\n",
       "    </tr>\n",
       "    <tr>\n",
       "      <th>4</th>\n",
       "      <td>57</td>\n",
       "      <td>0</td>\n",
       "      <td>0</td>\n",
       "      <td>120</td>\n",
       "      <td>354</td>\n",
       "      <td>0</td>\n",
       "      <td>1</td>\n",
       "      <td>163</td>\n",
       "      <td>1</td>\n",
       "      <td>0.6</td>\n",
       "      <td>2</td>\n",
       "      <td>0</td>\n",
       "      <td>2</td>\n",
       "      <td>1</td>\n",
       "    </tr>\n",
       "  </tbody>\n",
       "</table>\n",
       "</div>"
      ],
      "text/plain": [
       "   age  sex  cp  trestbps  chol  fbs  ...  exang  oldpeak  slope  ca  thal  target\n",
       "0   63    1   3       145   233    1  ...      0      2.3      0   0     1       1\n",
       "1   37    1   2       130   250    0  ...      0      3.5      0   0     2       1\n",
       "2   41    0   1       130   204    0  ...      0      1.4      2   0     2       1\n",
       "3   56    1   1       120   236    0  ...      0      0.8      2   0     2       1\n",
       "4   57    0   0       120   354    0  ...      1      0.6      2   0     2       1\n",
       "\n",
       "[5 rows x 14 columns]"
      ]
     },
     "execution_count": 3,
     "metadata": {
      "tags": []
     },
     "output_type": "execute_result"
    }
   ],
   "source": [
    "data.head()"
   ]
  },
  {
   "cell_type": "code",
   "execution_count": 4,
   "metadata": {
    "colab": {
     "base_uri": "https://localhost:8080/",
     "height": 34
    },
    "colab_type": "code",
    "id": "r7Q-JkPRd_65",
    "outputId": "6fc4666c-d81e-473d-a09f-21527da2c51b"
   },
   "outputs": [
    {
     "data": {
      "text/plain": [
       "(303, 14)"
      ]
     },
     "execution_count": 4,
     "metadata": {
      "tags": []
     },
     "output_type": "execute_result"
    }
   ],
   "source": [
    "data.shape"
   ]
  },
  {
   "cell_type": "code",
   "execution_count": 5,
   "metadata": {
    "colab": {
     "base_uri": "https://localhost:8080/",
     "height": 272
    },
    "colab_type": "code",
    "id": "Qatkhyiqd_68",
    "outputId": "22bf4178-cadc-4905-b268-3f220806c279"
   },
   "outputs": [
    {
     "data": {
      "text/plain": [
       "age         0\n",
       "sex         0\n",
       "cp          0\n",
       "trestbps    0\n",
       "chol        0\n",
       "fbs         0\n",
       "restecg     0\n",
       "thalach     0\n",
       "exang       0\n",
       "oldpeak     0\n",
       "slope       0\n",
       "ca          0\n",
       "thal        0\n",
       "target      0\n",
       "dtype: int64"
      ]
     },
     "execution_count": 5,
     "metadata": {
      "tags": []
     },
     "output_type": "execute_result"
    }
   ],
   "source": [
    "data.isnull().sum()"
   ]
  },
  {
   "cell_type": "markdown",
   "metadata": {
    "colab_type": "text",
    "id": "deMl7V2_d_6_"
   },
   "source": [
    "Датасет без пустых значений"
   ]
  },
  {
   "cell_type": "markdown",
   "metadata": {
    "colab_type": "text",
    "id": "BVo34WTPd_6_"
   },
   "source": [
    "### Feature Scaling"
   ]
  },
  {
   "cell_type": "code",
   "execution_count": 6,
   "metadata": {
    "colab": {
     "base_uri": "https://localhost:8080/",
     "height": 238
    },
    "colab_type": "code",
    "id": "omyyIrcEd_7A",
    "outputId": "4e35f244-251e-4456-87c6-5fe5c78f2a70"
   },
   "outputs": [
    {
     "data": {
      "text/plain": [
       "array([[0.70833333, 1.        , 1.        , ..., 0.        , 0.33333333,\n",
       "        1.        ],\n",
       "       [0.16666667, 1.        , 0.66666667, ..., 0.        , 0.66666667,\n",
       "        1.        ],\n",
       "       [0.25      , 0.        , 0.33333333, ..., 0.        , 0.66666667,\n",
       "        1.        ],\n",
       "       ...,\n",
       "       [0.8125    , 1.        , 0.        , ..., 0.5       , 1.        ,\n",
       "        0.        ],\n",
       "       [0.58333333, 1.        , 0.        , ..., 0.25      , 1.        ,\n",
       "        0.        ],\n",
       "       [0.58333333, 0.        , 0.33333333, ..., 0.25      , 0.66666667,\n",
       "        0.        ]])"
      ]
     },
     "execution_count": 6,
     "metadata": {
      "tags": []
     },
     "output_type": "execute_result"
    }
   ],
   "source": [
    "from sklearn.preprocessing import MinMaxScaler\n",
    "import warnings\n",
    "\n",
    "from sklearn import svm\n",
    "from sklearn.neighbors import KNeighborsClassifier\n",
    "from sklearn.ensemble import RandomForestClassifier\n",
    "from sklearn.linear_model import LogisticRegression\n",
    "from sklearn.metrics import roc_curve, auc\n",
    "import pylab as pl\n",
    "import matplotlib.pyplot as plt\n",
    "\n",
    "warnings.filterwarnings('ignore')\n",
    "\n",
    "# Create the scaler object with a range of 0-1\n",
    "scaler = MinMaxScaler(feature_range=(0, 1))\n",
    "# Fit on data, transform  data\n",
    "scaler.fit_transform(data)"
   ]
  },
  {
   "cell_type": "markdown",
   "metadata": {
    "colab_type": "text",
    "id": "iywzCcR4d_7D"
   },
   "source": [
    "Разделим датасет на тестовую и обучающую выборки"
   ]
  },
  {
   "cell_type": "code",
   "execution_count": 0,
   "metadata": {
    "colab": {},
    "colab_type": "code",
    "id": "s-bbsmdGd_7E"
   },
   "outputs": [],
   "source": [
    "X = data.drop('target',axis = 1).values\n",
    "y = data['target'].values"
   ]
  },
  {
   "cell_type": "markdown",
   "metadata": {
    "colab_type": "text",
    "id": "QzG1lPetd_7H"
   },
   "source": [
    "### Ансамблевые модели"
   ]
  },
  {
   "cell_type": "code",
   "execution_count": 0,
   "metadata": {
    "colab": {},
    "colab_type": "code",
    "id": "6JwSEHLSd_7H"
   },
   "outputs": [],
   "source": [
    "from sklearn.model_selection import train_test_split\n",
    "from sklearn.model_selection import cross_val_score\n",
    "from sklearn.ensemble import ExtraTreesClassifier, ExtraTreesRegressor\n",
    "\n",
    "from sklearn.ensemble import RandomForestClassifier, AdaBoostClassifier\n",
    "from sklearn.metrics import accuracy_score\n",
    "from sklearn.metrics import balanced_accuracy_score\n",
    "from sklearn.metrics import precision_score, recall_score, f1_score\n",
    "\n",
    "from sklearn.model_selection import GridSearchCV"
   ]
  },
  {
   "cell_type": "code",
   "execution_count": 0,
   "metadata": {
    "colab": {},
    "colab_type": "code",
    "id": "uFFSXBAEd_7K"
   },
   "outputs": [],
   "source": [
    "kfold = 5 #количество подвыборок для валидации"
   ]
  },
  {
   "cell_type": "code",
   "execution_count": 0,
   "metadata": {
    "colab": {},
    "colab_type": "code",
    "id": "gs5xj2_Ed_7M"
   },
   "outputs": [],
   "source": [
    "itog_val = {} #список для записи результатов кросс валидации разных алгоритмов"
   ]
  },
  {
   "cell_type": "code",
   "execution_count": 0,
   "metadata": {
    "colab": {},
    "colab_type": "code",
    "id": "VejZazXCd_7P"
   },
   "outputs": [],
   "source": [
    "ROCtrainTRN, ROCtestTRN, ROCtrainTRG, ROCtestTRG = train_test_split(X, y, test_size=0.20) "
   ]
  },
  {
   "cell_type": "code",
   "execution_count": 0,
   "metadata": {
    "colab": {},
    "colab_type": "code",
    "id": "fES1-wXCd_7S"
   },
   "outputs": [],
   "source": [
    "model_rfc = RandomForestClassifier(n_estimators = 75) #в параметре передаем кол-во деревьев\n",
    "model_knc = KNeighborsClassifier(n_neighbors = 20) #в параметре передаем кол-во соседей\n",
    "model_lr = LogisticRegression(penalty='l2', tol=0.01) #l1\n",
    "model_svc = svm.SVC() #по умолчанию kernel='rbf'"
   ]
  },
  {
   "cell_type": "markdown",
   "metadata": {
    "colab_type": "text",
    "id": "xmVhHJHud_7V"
   },
   "source": [
    "1. SVM - метод опорных векторов(SVC)\n",
    "2. Метод k-ближайших соседей(KNeighborsClassifier)\n",
    "3. Случайный лес(RandomForestClassifier)\n",
    "4. Логистическая регрессия ( LogisticRegression)"
   ]
  },
  {
   "cell_type": "code",
   "execution_count": 0,
   "metadata": {
    "colab": {},
    "colab_type": "code",
    "id": "23nKhC5Ud_7V"
   },
   "outputs": [],
   "source": [
    "scores = cross_val_score(model_rfc, X, y, cv = kfold)\n",
    "itog_val['RandomForestClassifier'] = scores.mean()\n",
    "scores = cross_val_score(model_knc, X, y, cv = kfold)\n",
    "itog_val['KNeighborsClassifier'] = scores.mean()\n",
    "scores = cross_val_score(model_lr, X, y, cv = kfold)\n",
    "itog_val['LogisticRegression'] = scores.mean()\n",
    "scores = cross_val_score(model_svc, X, y, cv = kfold)\n",
    "itog_val['SVC'] = scores.mean()"
   ]
  },
  {
   "cell_type": "code",
   "execution_count": 14,
   "metadata": {
    "colab": {
     "base_uri": "https://localhost:8080/",
     "height": 399
    },
    "colab_type": "code",
    "id": "FX6Bq97Nd_7X",
    "outputId": "e9eecbe1-47cd-4e35-949f-a251336d4c93"
   },
   "outputs": [
    {
     "data": {
      "text/plain": [
       "<matplotlib.axes._subplots.AxesSubplot at 0x7f5d112094a8>"
      ]
     },
     "execution_count": 14,
     "metadata": {
      "tags": []
     },
     "output_type": "execute_result"
    },
    {
     "data": {
      "image/png": "[encoded data removed]",
      "text/plain": [
       "<Figure size 432x288 with 1 Axes>"
      ]
     },
     "metadata": {
      "needs_background": "light",
      "tags": []
     },
     "output_type": "display_data"
    }
   ],
   "source": [
    "plt.style.use('bmh')\n",
    "data.from_dict(data = itog_val, orient='index').plot(kind='bar', legend=False)"
   ]
  },
  {
   "cell_type": "code",
   "execution_count": 15,
   "metadata": {
    "colab": {
     "base_uri": "https://localhost:8080/",
     "height": 405
    },
    "colab_type": "code",
    "id": "i5T8UEEDd_7a",
    "outputId": "1697ebf0-59d1-40bb-c2a4-7694dd5919c6"
   },
   "outputs": [
    {
     "data": {
      "text/plain": [
       "<Figure size 432x288 with 0 Axes>"
      ]
     },
     "metadata": {
      "tags": []
     },
     "output_type": "display_data"
    },
    {
     "data": {
      "image/png": "[encoded data removed]",
      "text/plain": [
       "<Figure size 576x432 with 1 Axes>"
      ]
     },
     "metadata": {
      "needs_background": "light",
      "tags": []
     },
     "output_type": "display_data"
    }
   ],
   "source": [
    "pl.clf()\n",
    "plt.figure(figsize=(8,6))\n",
    "#SVC\n",
    "model_svc.probability = True\n",
    "probas = model_svc.fit(ROCtrainTRN, ROCtrainTRG).predict_proba(ROCtestTRN)\n",
    "fpr, tpr, thresholds = roc_curve(ROCtestTRG, probas[:, 1])\n",
    "roc_auc  = auc(fpr, tpr)\n",
    "pl.plot(fpr, tpr, label='%s ROC (area = %0.2f)' % ('SVC', roc_auc))\n",
    "#RandomForestClassifier\n",
    "probas = model_rfc.fit(ROCtrainTRN, ROCtrainTRG).predict_proba(ROCtestTRN)\n",
    "fpr, tpr, thresholds = roc_curve(ROCtestTRG, probas[:, 1])\n",
    "roc_auc  = auc(fpr, tpr)\n",
    "pl.plot(fpr, tpr, label='%s ROC (area = %0.2f)' % ('RandonForest',roc_auc))\n",
    "#KNeighborsClassifier\n",
    "probas = model_knc.fit(ROCtrainTRN, ROCtrainTRG).predict_proba(ROCtestTRN)\n",
    "fpr, tpr, thresholds = roc_curve(ROCtestTRG, probas[:, 1])\n",
    "roc_auc  = auc(fpr, tpr)\n",
    "pl.plot(fpr, tpr, label='%s ROC (area = %0.2f)' % ('KNeighborsClassifier',roc_auc))\n",
    "#LogisticRegression\n",
    "probas = model_lr.fit(ROCtrainTRN, ROCtrainTRG).predict_proba(ROCtestTRN)\n",
    "fpr, tpr, thresholds = roc_curve(ROCtestTRG, probas[:, 1])\n",
    "roc_auc  = auc(fpr, tpr)\n",
    "pl.plot(fpr, tpr, label='%s ROC (area = %0.2f)' % ('LogisticRegression',roc_auc))\n",
    "pl.plot([0, 1], [0, 1], 'k--')\n",
    "pl.xlim([-0.1, 1.1])\n",
    "pl.ylim([-0.1, 1.1])\n",
    "pl.xlabel('False Positive Rate')\n",
    "pl.ylabel('True Positive Rate')\n",
    "pl.legend(loc=0, fontsize='small')\n",
    "pl.show()"
   ]
  },
  {
   "cell_type": "code",
   "execution_count": 0,
   "metadata": {
    "colab": {},
    "colab_type": "code",
    "id": "66xtkj4sd_7e"
   },
   "outputs": [],
   "source": [
    "# Функция train_test_split разделила исходную выборку таким образом, \n",
    "#чтобы в обучающей и тестовой частях сохранились пропорции классов.\n",
    "X_train, X_test, y_train, y_test = train_test_split(\n",
    "    X, y, test_size=0.35, random_state=1)"
   ]
  },
  {
   "cell_type": "code",
   "execution_count": 17,
   "metadata": {
    "colab": {
     "base_uri": "https://localhost:8080/",
     "height": 238
    },
    "colab_type": "code",
    "id": "pJ34bXASd_7g",
    "outputId": "4bd11e2d-d079-4b2b-93c0-b6c14b830864"
   },
   "outputs": [
    {
     "data": {
      "text/plain": [
       "array([[0.77777778, 0.        , 0.        , ..., 0.        , 0.75      ,\n",
       "        1.        ],\n",
       "       [0.61111111, 1.        , 0.33333333, ..., 1.        , 0.        ,\n",
       "        1.        ],\n",
       "       [0.38888889, 1.        , 0.        , ..., 1.        , 0.5       ,\n",
       "        1.        ],\n",
       "       ...,\n",
       "       [0.52777778, 1.        , 0.        , ..., 0.        , 0.        ,\n",
       "        1.        ],\n",
       "       [0.66666667, 1.        , 0.33333333, ..., 0.5       , 1.        ,\n",
       "        1.        ],\n",
       "       [0.38888889, 1.        , 0.33333333, ..., 0.        , 0.        ,\n",
       "        1.        ]])"
      ]
     },
     "execution_count": 17,
     "metadata": {
      "tags": []
     },
     "output_type": "execute_result"
    }
   ],
   "source": [
    "from sklearn.preprocessing import MinMaxScaler\n",
    "warnings.filterwarnings('ignore')\n",
    "\n",
    "# Create the scaler object with a range of 0-1\n",
    "scaler = MinMaxScaler(feature_range=(0, 1))\n",
    "# Fit on data, transform  data\n",
    "scaler.fit_transform(X)\n",
    "scaler.fit_transform(X_train)\n",
    "scaler.fit_transform(X_test)"
   ]
  },
  {
   "cell_type": "code",
   "execution_count": 0,
   "metadata": {
    "colab": {},
    "colab_type": "code",
    "id": "9wW-bCMsd_7j"
   },
   "outputs": [],
   "source": [
    "rfc = RandomForestClassifier().fit(X_train, y_train)\n",
    "predicted_rfc = rfc.predict(X_test)"
   ]
  },
  {
   "cell_type": "code",
   "execution_count": 19,
   "metadata": {
    "colab": {
     "base_uri": "https://localhost:8080/",
     "height": 34
    },
    "colab_type": "code",
    "id": "KWVRlbuBd_7l",
    "outputId": "bae5caa6-91d7-41c4-afb6-5c4a0843660e"
   },
   "outputs": [
    {
     "data": {
      "text/plain": [
       "0.7476635514018691"
      ]
     },
     "execution_count": 19,
     "metadata": {
      "tags": []
     },
     "output_type": "execute_result"
    }
   ],
   "source": [
    "accuracy_score(y_test, predicted_rfc)"
   ]
  },
  {
   "cell_type": "code",
   "execution_count": 20,
   "metadata": {
    "colab": {
     "base_uri": "https://localhost:8080/",
     "height": 34
    },
    "colab_type": "code",
    "id": "CViv_bFkd_7o",
    "outputId": "401c9d94-381a-487a-c959-1f74f51bc9ad"
   },
   "outputs": [
    {
     "data": {
      "text/plain": [
       "0.7484210526315789"
      ]
     },
     "execution_count": 20,
     "metadata": {
      "tags": []
     },
     "output_type": "execute_result"
    }
   ],
   "source": [
    "balanced_accuracy_score(y_test, predicted_rfc)"
   ]
  },
  {
   "cell_type": "code",
   "execution_count": 21,
   "metadata": {
    "colab": {
     "base_uri": "https://localhost:8080/",
     "height": 34
    },
    "colab_type": "code",
    "id": "1NYvVdb_d_7q",
    "outputId": "094db57b-90ca-47ea-ee93-d9c5b4c110d4"
   },
   "outputs": [
    {
     "data": {
      "text/plain": [
       "(0.7493681302533357, 0.7476635514018691)"
      ]
     },
     "execution_count": 21,
     "metadata": {
      "tags": []
     },
     "output_type": "execute_result"
    }
   ],
   "source": [
    "(precision_score(y_test, predicted_rfc, average='weighted'), \n",
    " recall_score(y_test, predicted_rfc, average='weighted'))"
   ]
  },
  {
   "cell_type": "code",
   "execution_count": 22,
   "metadata": {
    "colab": {
     "base_uri": "https://localhost:8080/",
     "height": 34
    },
    "colab_type": "code",
    "id": "srguIokfd_7s",
    "outputId": "3c591f1c-fb6b-4d73-a003-0fcf9b4f4dab"
   },
   "outputs": [
    {
     "data": {
      "text/plain": [
       "0.7479284020432736"
      ]
     },
     "execution_count": 22,
     "metadata": {
      "tags": []
     },
     "output_type": "execute_result"
    }
   ],
   "source": [
    "f1_score(y_test, predicted_rfc, average='weighted')"
   ]
  },
  {
   "cell_type": "code",
   "execution_count": 0,
   "metadata": {
    "colab": {},
    "colab_type": "code",
    "id": "BmRfsLzTd_7v"
   },
   "outputs": [],
   "source": [
    "abc = AdaBoostClassifier().fit(X_train, y_train)\n",
    "predicted_abc = abc.predict(X_test)"
   ]
  },
  {
   "cell_type": "code",
   "execution_count": 24,
   "metadata": {
    "colab": {
     "base_uri": "https://localhost:8080/",
     "height": 34
    },
    "colab_type": "code",
    "id": "1EHoyVlPd_7x",
    "outputId": "b3403e17-3015-4953-ca10-5f6e51e29d47"
   },
   "outputs": [
    {
     "data": {
      "text/plain": [
       "0.7289719626168224"
      ]
     },
     "execution_count": 24,
     "metadata": {
      "tags": []
     },
     "output_type": "execute_result"
    }
   ],
   "source": [
    "accuracy_score(y_test, predicted_abc)"
   ]
  },
  {
   "cell_type": "code",
   "execution_count": 25,
   "metadata": {
    "colab": {
     "base_uri": "https://localhost:8080/",
     "height": 34
    },
    "colab_type": "code",
    "id": "7XUvjh10d_70",
    "outputId": "f8917b59-e926-4e33-c249-74fde52befa0"
   },
   "outputs": [
    {
     "data": {
      "text/plain": [
       "0.7284210526315789"
      ]
     },
     "execution_count": 25,
     "metadata": {
      "tags": []
     },
     "output_type": "execute_result"
    }
   ],
   "source": [
    "balanced_accuracy_score(y_test, predicted_abc)"
   ]
  },
  {
   "cell_type": "code",
   "execution_count": 26,
   "metadata": {
    "colab": {
     "base_uri": "https://localhost:8080/",
     "height": 34
    },
    "colab_type": "code",
    "id": "CTYoMKMXd_73",
    "outputId": "482f4830-71c0-4f5e-b688-16af1d62eb46"
   },
   "outputs": [
    {
     "data": {
      "text/plain": [
       "(0.7293842770753162, 0.7289719626168224)"
      ]
     },
     "execution_count": 26,
     "metadata": {
      "tags": []
     },
     "output_type": "execute_result"
    }
   ],
   "source": [
    "(precision_score(y_test, predicted_abc, average='weighted'), \n",
    " recall_score(y_test, predicted_abc, average='weighted'))"
   ]
  },
  {
   "cell_type": "code",
   "execution_count": 27,
   "metadata": {
    "colab": {
     "base_uri": "https://localhost:8080/",
     "height": 34
    },
    "colab_type": "code",
    "id": "a2rV_inRd_75",
    "outputId": "641a656b-687e-4534-ffe8-cad424c264b5"
   },
   "outputs": [
    {
     "data": {
      "text/plain": [
       "0.7291144464706996"
      ]
     },
     "execution_count": 27,
     "metadata": {
      "tags": []
     },
     "output_type": "execute_result"
    }
   ],
   "source": [
    "f1_score(y_test, predicted_abc, average='weighted')"
   ]
  },
  {
   "cell_type": "code",
   "execution_count": 28,
   "metadata": {
    "colab": {
     "base_uri": "https://localhost:8080/",
     "height": 51
    },
    "colab_type": "code",
    "id": "ptj0Kpipd_78",
    "outputId": "40af4fc7-aefa-47db-9223-aed5e2f3613b"
   },
   "outputs": [
    {
     "data": {
      "text/plain": [
       "[{'n_estimators': array([ 5, 10, 15, 20, 25, 30, 35, 40, 45, 50, 55, 60, 65, 70, 75, 80, 85,\n",
       "         90, 95])}]"
      ]
     },
     "execution_count": 28,
     "metadata": {
      "tags": []
     },
     "output_type": "execute_result"
    }
   ],
   "source": [
    "rfc_n_range = np.array(range(5,100,5))\n",
    "rfc_tuned_parameters = [{'n_estimators': rfc_n_range}]\n",
    "rfc_tuned_parameters"
   ]
  },
  {
   "cell_type": "code",
   "execution_count": 29,
   "metadata": {
    "colab": {
     "base_uri": "https://localhost:8080/",
     "height": 374
    },
    "colab_type": "code",
    "id": "wmAQJTzHd_7_",
    "outputId": "b84be1c7-a6aa-43f2-d9d9-84676b17010f"
   },
   "outputs": [
    {
     "data": {
      "text/plain": [
       "GridSearchCV(cv=5, error_score=nan,\n",
       "             estimator=RandomForestClassifier(bootstrap=True, ccp_alpha=0.0,\n",
       "                                              class_weight=None,\n",
       "                                              criterion='gini', max_depth=None,\n",
       "                                              max_features='auto',\n",
       "                                              max_leaf_nodes=None,\n",
       "                                              max_samples=None,\n",
       "                                              min_impurity_decrease=0.0,\n",
       "                                              min_impurity_split=None,\n",
       "                                              min_samples_leaf=1,\n",
       "                                              min_samples_split=2,\n",
       "                                              min_weight_fraction_leaf=0.0,\n",
       "                                              n_estimators=100, n_jobs=None,\n",
       "                                              oob_score=False,\n",
       "                                              random_state=None, verbose=0,\n",
       "                                              warm_start=False),\n",
       "             iid='deprecated', n_jobs=None,\n",
       "             param_grid=[{'n_estimators': array([ 5, 10, 15, 20, 25, 30, 35, 40, 45, 50, 55, 60, 65, 70, 75, 80, 85,\n",
       "       90, 95])}],\n",
       "             pre_dispatch='2*n_jobs', refit=True, return_train_score=False,\n",
       "             scoring='accuracy', verbose=0)"
      ]
     },
     "execution_count": 29,
     "metadata": {
      "tags": []
     },
     "output_type": "execute_result"
    }
   ],
   "source": [
    "warnings.filterwarnings('ignore')\n",
    "\n",
    "gs_rfc = GridSearchCV(RandomForestClassifier(), rfc_tuned_parameters, cv=5,\n",
    "                      scoring='accuracy')\n",
    "gs_rfc.fit(X_train, y_train)"
   ]
  },
  {
   "cell_type": "code",
   "execution_count": 30,
   "metadata": {
    "colab": {
     "base_uri": "https://localhost:8080/",
     "height": 34
    },
    "colab_type": "code",
    "id": "JRS3QbYbd_8B",
    "outputId": "e37b4e88-3fdc-4024-abe7-399108c25d0c"
   },
   "outputs": [
    {
     "data": {
      "text/plain": [
       "{'n_estimators': 25}"
      ]
     },
     "execution_count": 30,
     "metadata": {
      "tags": []
     },
     "output_type": "execute_result"
    }
   ],
   "source": [
    "gs_rfc.best_params_"
   ]
  },
  {
   "cell_type": "code",
   "execution_count": 31,
   "metadata": {
    "colab": {
     "base_uri": "https://localhost:8080/",
     "height": 279
    },
    "colab_type": "code",
    "id": "XkWmbtErd_8E",
    "outputId": "6ca204c8-da59-41af-b17d-68aec528602d"
   },
   "outputs": [
    {
     "data": {
      "text/plain": [
       "[<matplotlib.lines.Line2D at 0x7f5d10b90828>]"
      ]
     },
     "execution_count": 31,
     "metadata": {
      "tags": []
     },
     "output_type": "execute_result"
    },
    {
     "data": {
      "image/png": "[encoded data removed]",
      "text/plain": [
       "<Figure size 432x288 with 1 Axes>"
      ]
     },
     "metadata": {
      "needs_background": "light",
      "tags": []
     },
     "output_type": "display_data"
    }
   ],
   "source": [
    "plt.plot(rfc_n_range, gs_rfc.cv_results_['mean_test_score'])"
   ]
  },
  {
   "cell_type": "code",
   "execution_count": 32,
   "metadata": {
    "colab": {
     "base_uri": "https://localhost:8080/",
     "height": 51
    },
    "colab_type": "code",
    "id": "qYdg5eDid_8G",
    "outputId": "49c73e32-d9f4-4df7-a4c8-de1896a4578e"
   },
   "outputs": [
    {
     "data": {
      "text/plain": [
       "[{'n_estimators': array([ 5, 10, 15, 20, 25, 30, 35, 40, 45, 50, 55, 60, 65, 70, 75, 80, 85,\n",
       "         90, 95])}]"
      ]
     },
     "execution_count": 32,
     "metadata": {
      "tags": []
     },
     "output_type": "execute_result"
    }
   ],
   "source": [
    "abc_n_range = np.array(range(5,100,5))\n",
    "abc_tuned_parameters = [{'n_estimators': abc_n_range}]\n",
    "abc_tuned_parameters"
   ]
  },
  {
   "cell_type": "code",
   "execution_count": 33,
   "metadata": {
    "colab": {
     "base_uri": "https://localhost:8080/",
     "height": 187
    },
    "colab_type": "code",
    "id": "ZG3dtWlEd_8I",
    "outputId": "a1c72c8a-e0b1-47c5-9089-d0cfabfbb5b6"
   },
   "outputs": [
    {
     "data": {
      "text/plain": [
       "GridSearchCV(cv=5, error_score=nan,\n",
       "             estimator=AdaBoostClassifier(algorithm='SAMME.R',\n",
       "                                          base_estimator=None,\n",
       "                                          learning_rate=1.0, n_estimators=50,\n",
       "                                          random_state=None),\n",
       "             iid='deprecated', n_jobs=None,\n",
       "             param_grid=[{'n_estimators': array([ 5, 10, 15, 20, 25, 30, 35, 40, 45, 50, 55, 60, 65, 70, 75, 80, 85,\n",
       "       90, 95])}],\n",
       "             pre_dispatch='2*n_jobs', refit=True, return_train_score=False,\n",
       "             scoring='accuracy', verbose=0)"
      ]
     },
     "execution_count": 33,
     "metadata": {
      "tags": []
     },
     "output_type": "execute_result"
    }
   ],
   "source": [
    "gs_abc = GridSearchCV(AdaBoostClassifier(), abc_tuned_parameters, cv=5,\n",
    "                      scoring='accuracy')\n",
    "gs_abc.fit(X_train, y_train)"
   ]
  },
  {
   "cell_type": "code",
   "execution_count": 34,
   "metadata": {
    "colab": {
     "base_uri": "https://localhost:8080/",
     "height": 34
    },
    "colab_type": "code",
    "id": "bOP-_343d_8L",
    "outputId": "1199cb53-b392-4056-e98e-e191526e30f7"
   },
   "outputs": [
    {
     "data": {
      "text/plain": [
       "{'n_estimators': 25}"
      ]
     },
     "execution_count": 34,
     "metadata": {
      "tags": []
     },
     "output_type": "execute_result"
    }
   ],
   "source": [
    "gs_abc.best_params_"
   ]
  },
  {
   "cell_type": "code",
   "execution_count": 35,
   "metadata": {
    "colab": {
     "base_uri": "https://localhost:8080/",
     "height": 282
    },
    "colab_type": "code",
    "id": "-RrbAXFsd_8N",
    "outputId": "40e577be-95cb-4b68-cc31-cfc94b3efa88"
   },
   "outputs": [
    {
     "data": {
      "text/plain": [
       "[<matplotlib.lines.Line2D at 0x7f5d10b16f28>]"
      ]
     },
     "execution_count": 35,
     "metadata": {
      "tags": []
     },
     "output_type": "execute_result"
    },
    {
     "data": {
      "image/png": "[encoded data removed]",
      "text/plain": [
       "<Figure size 432x288 with 1 Axes>"
      ]
     },
     "metadata": {
      "needs_background": "light",
      "tags": []
     },
     "output_type": "display_data"
    }
   ],
   "source": [
    "plt.plot(abc_n_range, gs_abc.cv_results_['mean_test_score'])"
   ]
  },
  {
   "cell_type": "code",
   "execution_count": 0,
   "metadata": {
    "colab": {},
    "colab_type": "code",
    "id": "hVoA6t0md_8S"
   },
   "outputs": [],
   "source": [
    "rfc_optimized = RandomForestClassifier(n_estimators=gs_rfc.best_params_['n_estimators']).fit(X_train, y_train)\n",
    "predicted_rfc_opt = rfc_optimized.predict(X_test)"
   ]
  },
  {
   "cell_type": "code",
   "execution_count": 37,
   "metadata": {
    "colab": {
     "base_uri": "https://localhost:8080/",
     "height": 34
    },
    "colab_type": "code",
    "id": "_JyMeVy8d_8U",
    "outputId": "a1be1c5d-ec56-406e-916c-01d86873caa2"
   },
   "outputs": [
    {
     "data": {
      "text/plain": [
       "0.7009345794392523"
      ]
     },
     "execution_count": 37,
     "metadata": {
      "tags": []
     },
     "output_type": "execute_result"
    }
   ],
   "source": [
    "accuracy_score(y_test, predicted_rfc_opt)"
   ]
  },
  {
   "cell_type": "code",
   "execution_count": 38,
   "metadata": {
    "colab": {
     "base_uri": "https://localhost:8080/",
     "height": 34
    },
    "colab_type": "code",
    "id": "EX_C0DtXd_8X",
    "outputId": "fe3c6bcd-7deb-4e5e-a288-8fb31cfa9fab"
   },
   "outputs": [
    {
     "data": {
      "text/plain": [
       "0.6984210526315789"
      ]
     },
     "execution_count": 38,
     "metadata": {
      "tags": []
     },
     "output_type": "execute_result"
    }
   ],
   "source": [
    "balanced_accuracy_score(y_test, predicted_rfc_opt)"
   ]
  },
  {
   "cell_type": "code",
   "execution_count": 39,
   "metadata": {
    "colab": {
     "base_uri": "https://localhost:8080/",
     "height": 34
    },
    "colab_type": "code",
    "id": "AJawlngid_8Z",
    "outputId": "606d5dd7-6f5d-4d1f-c7e4-84f842413937"
   },
   "outputs": [
    {
     "data": {
      "text/plain": [
       "(0.7004791699667353, 0.7009345794392523)"
      ]
     },
     "execution_count": 39,
     "metadata": {
      "tags": []
     },
     "output_type": "execute_result"
    }
   ],
   "source": [
    "(precision_score(y_test, predicted_rfc_opt, average='weighted'), \n",
    " recall_score(y_test, predicted_rfc_opt, average='weighted'))"
   ]
  },
  {
   "cell_type": "code",
   "execution_count": 40,
   "metadata": {
    "colab": {
     "base_uri": "https://localhost:8080/",
     "height": 34
    },
    "colab_type": "code",
    "id": "iz6I13MTd_8c",
    "outputId": "47fdc1e8-691a-4b91-ca83-8661afd702fb"
   },
   "outputs": [
    {
     "data": {
      "text/plain": [
       "0.7004610416515945"
      ]
     },
     "execution_count": 40,
     "metadata": {
      "tags": []
     },
     "output_type": "execute_result"
    }
   ],
   "source": [
    "f1_score(y_test, predicted_rfc_opt, average='weighted')"
   ]
  },
  {
   "cell_type": "code",
   "execution_count": 0,
   "metadata": {
    "colab": {},
    "colab_type": "code",
    "id": "CtTBRZOVd_8h"
   },
   "outputs": [],
   "source": [
    "abc_optimized = RandomForestClassifier(n_estimators=gs_abc.best_params_['n_estimators']).fit(X_train, y_train)\n",
    "predicted_abc_opt = abc_optimized.predict(X_test)"
   ]
  },
  {
   "cell_type": "code",
   "execution_count": 42,
   "metadata": {
    "colab": {
     "base_uri": "https://localhost:8080/",
     "height": 34
    },
    "colab_type": "code",
    "id": "UHzrAzbGd_8j",
    "outputId": "067c3ac1-808d-4b01-ec51-08ef9bcb508b"
   },
   "outputs": [
    {
     "data": {
      "text/plain": [
       "0.7383177570093458"
      ]
     },
     "execution_count": 42,
     "metadata": {
      "tags": []
     },
     "output_type": "execute_result"
    }
   ],
   "source": [
    "accuracy_score(y_test, predicted_abc_opt)"
   ]
  },
  {
   "cell_type": "code",
   "execution_count": 43,
   "metadata": {
    "colab": {
     "base_uri": "https://localhost:8080/",
     "height": 34
    },
    "colab_type": "code",
    "id": "PF3KDhl3d_8o",
    "outputId": "99918def-a9b7-440d-d0d9-1515689e2175"
   },
   "outputs": [
    {
     "data": {
      "text/plain": [
       "0.7371929824561403"
      ]
     },
     "execution_count": 43,
     "metadata": {
      "tags": []
     },
     "output_type": "execute_result"
    }
   ],
   "source": [
    "balanced_accuracy_score(y_test, predicted_abc_opt)"
   ]
  },
  {
   "cell_type": "code",
   "execution_count": 44,
   "metadata": {
    "colab": {
     "base_uri": "https://localhost:8080/",
     "height": 34
    },
    "colab_type": "code",
    "id": "UmSadG8-d_8q",
    "outputId": "334be7d2-a63c-487b-c7eb-ec52cb0bdc66"
   },
   "outputs": [
    {
     "data": {
      "text/plain": [
       "(0.7383177570093458, 0.7383177570093458)"
      ]
     },
     "execution_count": 44,
     "metadata": {
      "tags": []
     },
     "output_type": "execute_result"
    }
   ],
   "source": [
    "(precision_score(y_test, predicted_abc_opt, average='weighted'), \n",
    " recall_score(y_test, predicted_abc_opt, average='weighted'))"
   ]
  },
  {
   "cell_type": "code",
   "execution_count": 45,
   "metadata": {
    "colab": {
     "base_uri": "https://localhost:8080/",
     "height": 34
    },
    "colab_type": "code",
    "id": "EnsvRQl2d_8s",
    "outputId": "aefd0cfc-226b-4e26-bf63-032704317a43"
   },
   "outputs": [
    {
     "data": {
      "text/plain": [
       "0.7383177570093458"
      ]
     },
     "execution_count": 45,
     "metadata": {
      "tags": []
     },
     "output_type": "execute_result"
    }
   ],
   "source": [
    "f1_score(y_test, predicted_abc_opt, average='weighted')"
   ]
  },
  {
   "cell_type": "markdown",
   "metadata": {
    "colab_type": "text",
    "id": "BXwdTZCRd_8v"
   },
   "source": [
    "Результаты для разных методов примерно одинаковые."
   ]
  },
  {
   "cell_type": "code",
   "execution_count": 0,
   "metadata": {
    "colab": {},
    "colab_type": "code",
    "id": "XX8JX9QOd_8v"
   },
   "outputs": [],
   "source": []
  }
 ],
 "metadata": {
  "authors": [
   {
    "name": "Наседкин Игорь Алексеевич"
   }
  ],
  "colab": {
   "collapsed_sections": [],
   "name": "MMOLab6.ipynb",
   "provenance": [],
   "toc_visible": true
  },
  "group": "ИУ5-23М",
  "kernelspec": {
   "display_name": "Python 3",
   "language": "python",
   "name": "python3"
  },
  "lab_number": 6,
  "language_info": {
   "codemirror_mode": {
    "name": "ipython",
    "version": 3
   },
   "file_extension": ".py",
   "mimetype": "text/x-python",
   "name": "python",
   "nbconvert_exporter": "python",
   "pygments_lexer": "ipython3",
   "version": "3.8.3"
  },
  "title": "Ансамбли моделей машинного обучения"
 },
 "nbformat": 4,
 "nbformat_minor": 1
}
