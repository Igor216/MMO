{
  "nbformat": 4,
  "nbformat_minor": 0,
  "metadata": {
    "colab": {
      "name": "MMOLab2.ipynb",
      "provenance": [],
      "collapsed_sections": [],
      "toc_visible": true
    },
    "kernelspec": {
      "name": "python3",
      "display_name": "Python 3"
    }
  },
  "cells": [
    {
      "cell_type": "markdown",
      "metadata": {
        "id": "xdfh0cXMfkKR",
        "colab_type": "text"
      },
      "source": [
        "Unique values of all features:\n",
        "\n",
        "age: continuous.\n",
        "\n",
        "workclass: Private, Self-emp-not-inc, Self-emp-inc, Federal-gov, Local-gov, State-gov, Without-pay, Never-worked.\n",
        "\n",
        "fnlwgt: continuous.\n",
        "\n",
        "education: Bachelors, Some-college, 11th, HS-grad, Prof-school, Assoc-acdm, Assoc-voc, 9th, 7th-8th, 12th, Masters, 1st-4th, 10th, Doctorate, 5th-6th, Preschool.\n",
        "\n",
        "education-num: continuous.\n",
        "\n",
        "marital-status: Married-civ-spouse, Divorced, Never-married, Separated, Widowed, Married-spouse-absent, Married-AF-spouse.\n",
        "\n",
        "occupation: Tech-support, Craft-repair, Other-service, Sales, Exec-managerial, Prof-specialty, Handlers-cleaners, Machine-op-inspct, Adm-clerical, Farming-fishing, Transport-moving, Priv-house-serv, Protective-serv, Armed-Forces.\n",
        "\n",
        "relationship: Wife, Own-child, Husband, Not-in-family, Other-relative, Unmarried.\n",
        "\n",
        "race: White, Asian-Pac-Islander, Amer-Indian-Eskimo, Other, Black.\n",
        "\n",
        "sex: Female, Male.\n",
        "\n",
        "capital-gain: continuous.\n",
        "\n",
        "capital-loss: continuous.\n",
        "\n",
        "hours-per-week: continuous.\n",
        "\n",
        "native-country: United-States, Cambodia, England, Puerto-Rico, Canada, Germany, Outlying-US(Guam-USVI-etc), India, Japan, Greece, South, China, Cuba, Iran, Honduras, Philippines, Italy, Poland, Jamaica, Vietnam, Mexico, Portugal, Ireland, France, Dominican-Republic, Laos, Ecuador, Taiwan, Haiti, Columbia, Hungary, Guatemala, Nicaragua, Scotland, Thailand, Yugoslavia, El-Salvador, Trinadad&Tobago, Peru, Hong, Holand-Netherlands.\n",
        "\n",
        "salary: >50K,<=50K"
      ]
    },
    {
      "cell_type": "markdown",
      "metadata": {
        "id": "yENc-HKAe-MQ",
        "colab_type": "text"
      },
      "source": [
        "**Часть 1**"
      ]
    },
    {
      "cell_type": "code",
      "metadata": {
        "id": "qQt8U92dfyKU",
        "colab_type": "code",
        "colab": {}
      },
      "source": [
        "import numpy as np\n",
        "import pandas as pd\n",
        "pd.set_option('display.max.columns', 100)\n",
        "# to draw pictures in jupyter notebook\n",
        "%matplotlib inline \n",
        "import matplotlib.pyplot as plt\n",
        "import seaborn as sns\n",
        "# we don't like warnings\n",
        "# you can comment the following 2 lines if you'd like to\n",
        "import warnings\n",
        "warnings.filterwarnings('ignore')"
      ],
      "execution_count": 0,
      "outputs": []
    },
    {
      "cell_type": "code",
      "metadata": {
        "id": "mLCllxl8gWc3",
        "colab_type": "code",
        "outputId": "ddbf0903-0a9b-4fd7-96d5-9ee7b428e1ea",
        "colab": {
          "base_uri": "https://localhost:8080/",
          "height": 204
        }
      },
      "source": [
        "data = pd.read_csv('adult.data.csv')\n",
        "data.head()"
      ],
      "execution_count": 0,
      "outputs": [
        {
          "output_type": "execute_result",
          "data": {
            "text/html": [
              "<div>\n",
              "<style scoped>\n",
              "    .dataframe tbody tr th:only-of-type {\n",
              "        vertical-align: middle;\n",
              "    }\n",
              "\n",
              "    .dataframe tbody tr th {\n",
              "        vertical-align: top;\n",
              "    }\n",
              "\n",
              "    .dataframe thead th {\n",
              "        text-align: right;\n",
              "    }\n",
              "</style>\n",
              "<table border=\"1\" class=\"dataframe\">\n",
              "  <thead>\n",
              "    <tr style=\"text-align: right;\">\n",
              "      <th></th>\n",
              "      <th>age</th>\n",
              "      <th>workclass</th>\n",
              "      <th>fnlwgt</th>\n",
              "      <th>education</th>\n",
              "      <th>education-num</th>\n",
              "      <th>marital-status</th>\n",
              "      <th>occupation</th>\n",
              "      <th>relationship</th>\n",
              "      <th>race</th>\n",
              "      <th>sex</th>\n",
              "      <th>capital-gain</th>\n",
              "      <th>capital-loss</th>\n",
              "      <th>hours-per-week</th>\n",
              "      <th>native-country</th>\n",
              "      <th>salary</th>\n",
              "    </tr>\n",
              "  </thead>\n",
              "  <tbody>\n",
              "    <tr>\n",
              "      <th>0</th>\n",
              "      <td>39</td>\n",
              "      <td>State-gov</td>\n",
              "      <td>77516</td>\n",
              "      <td>Bachelors</td>\n",
              "      <td>13</td>\n",
              "      <td>Never-married</td>\n",
              "      <td>Adm-clerical</td>\n",
              "      <td>Not-in-family</td>\n",
              "      <td>White</td>\n",
              "      <td>Male</td>\n",
              "      <td>2174</td>\n",
              "      <td>0</td>\n",
              "      <td>40</td>\n",
              "      <td>United-States</td>\n",
              "      <td>&lt;=50K</td>\n",
              "    </tr>\n",
              "    <tr>\n",
              "      <th>1</th>\n",
              "      <td>50</td>\n",
              "      <td>Self-emp-not-inc</td>\n",
              "      <td>83311</td>\n",
              "      <td>Bachelors</td>\n",
              "      <td>13</td>\n",
              "      <td>Married-civ-spouse</td>\n",
              "      <td>Exec-managerial</td>\n",
              "      <td>Husband</td>\n",
              "      <td>White</td>\n",
              "      <td>Male</td>\n",
              "      <td>0</td>\n",
              "      <td>0</td>\n",
              "      <td>13</td>\n",
              "      <td>United-States</td>\n",
              "      <td>&lt;=50K</td>\n",
              "    </tr>\n",
              "    <tr>\n",
              "      <th>2</th>\n",
              "      <td>38</td>\n",
              "      <td>Private</td>\n",
              "      <td>215646</td>\n",
              "      <td>HS-grad</td>\n",
              "      <td>9</td>\n",
              "      <td>Divorced</td>\n",
              "      <td>Handlers-cleaners</td>\n",
              "      <td>Not-in-family</td>\n",
              "      <td>White</td>\n",
              "      <td>Male</td>\n",
              "      <td>0</td>\n",
              "      <td>0</td>\n",
              "      <td>40</td>\n",
              "      <td>United-States</td>\n",
              "      <td>&lt;=50K</td>\n",
              "    </tr>\n",
              "    <tr>\n",
              "      <th>3</th>\n",
              "      <td>53</td>\n",
              "      <td>Private</td>\n",
              "      <td>234721</td>\n",
              "      <td>11th</td>\n",
              "      <td>7</td>\n",
              "      <td>Married-civ-spouse</td>\n",
              "      <td>Handlers-cleaners</td>\n",
              "      <td>Husband</td>\n",
              "      <td>Black</td>\n",
              "      <td>Male</td>\n",
              "      <td>0</td>\n",
              "      <td>0</td>\n",
              "      <td>40</td>\n",
              "      <td>United-States</td>\n",
              "      <td>&lt;=50K</td>\n",
              "    </tr>\n",
              "    <tr>\n",
              "      <th>4</th>\n",
              "      <td>28</td>\n",
              "      <td>Private</td>\n",
              "      <td>338409</td>\n",
              "      <td>Bachelors</td>\n",
              "      <td>13</td>\n",
              "      <td>Married-civ-spouse</td>\n",
              "      <td>Prof-specialty</td>\n",
              "      <td>Wife</td>\n",
              "      <td>Black</td>\n",
              "      <td>Female</td>\n",
              "      <td>0</td>\n",
              "      <td>0</td>\n",
              "      <td>40</td>\n",
              "      <td>Cuba</td>\n",
              "      <td>&lt;=50K</td>\n",
              "    </tr>\n",
              "  </tbody>\n",
              "</table>\n",
              "</div>"
            ],
            "text/plain": [
              "   age         workclass  fnlwgt  education  education-num  \\\n",
              "0   39         State-gov   77516  Bachelors             13   \n",
              "1   50  Self-emp-not-inc   83311  Bachelors             13   \n",
              "2   38           Private  215646    HS-grad              9   \n",
              "3   53           Private  234721       11th              7   \n",
              "4   28           Private  338409  Bachelors             13   \n",
              "\n",
              "       marital-status         occupation   relationship   race     sex  \\\n",
              "0       Never-married       Adm-clerical  Not-in-family  White    Male   \n",
              "1  Married-civ-spouse    Exec-managerial        Husband  White    Male   \n",
              "2            Divorced  Handlers-cleaners  Not-in-family  White    Male   \n",
              "3  Married-civ-spouse  Handlers-cleaners        Husband  Black    Male   \n",
              "4  Married-civ-spouse     Prof-specialty           Wife  Black  Female   \n",
              "\n",
              "   capital-gain  capital-loss  hours-per-week native-country salary  \n",
              "0          2174             0              40  United-States  <=50K  \n",
              "1             0             0              13  United-States  <=50K  \n",
              "2             0             0              40  United-States  <=50K  \n",
              "3             0             0              40  United-States  <=50K  \n",
              "4             0             0              40           Cuba  <=50K  "
            ]
          },
          "metadata": {
            "tags": []
          },
          "execution_count": 4
        }
      ]
    },
    {
      "cell_type": "markdown",
      "metadata": {
        "id": "wTsDPmZ9lFz8",
        "colab_type": "text"
      },
      "source": [
        "**1. How many men and women (sex feature) are represented in this dataset?**"
      ]
    },
    {
      "cell_type": "code",
      "metadata": {
        "id": "e5P7u5jNhPPJ",
        "colab_type": "code",
        "outputId": "279e7b22-4da9-4134-9c7d-1db603f64d0a",
        "colab": {
          "base_uri": "https://localhost:8080/",
          "height": 68
        }
      },
      "source": [
        "data['sex'].value_counts()"
      ],
      "execution_count": 0,
      "outputs": [
        {
          "output_type": "execute_result",
          "data": {
            "text/plain": [
              "Male      21790\n",
              "Female    10771\n",
              "Name: sex, dtype: int64"
            ]
          },
          "metadata": {
            "tags": []
          },
          "execution_count": 5
        }
      ]
    },
    {
      "cell_type": "markdown",
      "metadata": {
        "id": "XrElXKh1lKq2",
        "colab_type": "text"
      },
      "source": [
        "**2. What is the average age (age feature) of women?**"
      ]
    },
    {
      "cell_type": "code",
      "metadata": {
        "id": "feTUOKsqjTfc",
        "colab_type": "code",
        "outputId": "6b9961d3-f600-4f6f-922d-9ce76c9df560",
        "colab": {
          "base_uri": "https://localhost:8080/",
          "height": 34
        }
      },
      "source": [
        "data.loc[data['sex'] == 'Female', 'age'].mean()"
      ],
      "execution_count": 0,
      "outputs": [
        {
          "output_type": "execute_result",
          "data": {
            "text/plain": [
              "36.85823043357163"
            ]
          },
          "metadata": {
            "tags": []
          },
          "execution_count": 6
        }
      ]
    },
    {
      "cell_type": "markdown",
      "metadata": {
        "id": "GU_Sz2QjlNSK",
        "colab_type": "text"
      },
      "source": [
        "**3. What is the proportion of German citizens (native-country feature)?**"
      ]
    },
    {
      "cell_type": "code",
      "metadata": {
        "id": "merkrohdjYx2",
        "colab_type": "code",
        "outputId": "0d715707-3f0e-4a1a-a3e0-2cba59b866b9",
        "colab": {
          "base_uri": "https://localhost:8080/",
          "height": 34
        }
      },
      "source": [
        "float((data['native-country'] == 'Germany').sum()) / data.shape[0]"
      ],
      "execution_count": 0,
      "outputs": [
        {
          "output_type": "execute_result",
          "data": {
            "text/plain": [
              "0.004207487485028101"
            ]
          },
          "metadata": {
            "tags": []
          },
          "execution_count": 7
        }
      ]
    },
    {
      "cell_type": "markdown",
      "metadata": {
        "id": "-wER8vvTlmo3",
        "colab_type": "text"
      },
      "source": [
        "**4-5. What are mean value and standard deviation of the age of those who recieve more than 50K per year (salary feature) and those who receive less than 50K per year?**"
      ]
    },
    {
      "cell_type": "code",
      "metadata": {
        "id": "dGCHqPh7jfXi",
        "colab_type": "code",
        "outputId": "0cb576b2-203a-46bd-c3b5-caad7e3eb047",
        "colab": {
          "base_uri": "https://localhost:8080/",
          "height": 34
        }
      },
      "source": [
        "ages1 = data.loc[data['salary'] == '>50K', 'age']\n",
        "ages2 = data.loc[data['salary'] == '<=50K', 'age']\n",
        "print(\"The average age of the rich: {0} +- {1} years, poor - {2} +- {3} years.\".format(\n",
        "    round(ages1.mean()), round(ages1.std(), 1),\n",
        "    round(ages2.mean()), round(ages2.std(), 1)))"
      ],
      "execution_count": 0,
      "outputs": [
        {
          "output_type": "stream",
          "text": [
            "The average age of the rich: 44 +- 10.5 years, poor - 37 +- 14.0 years.\n"
          ],
          "name": "stdout"
        }
      ]
    },
    {
      "cell_type": "markdown",
      "metadata": {
        "id": "vjihovzNrvXz",
        "colab_type": "text"
      },
      "source": [
        "**6. Is it true that people who receive more than 50k have at least high school education? (education - Bachelors, Prof-school, Assoc-acdm, Assoc-voc, Masters or Doctorate feature)**"
      ]
    },
    {
      "cell_type": "code",
      "metadata": {
        "id": "Mcy7Z36Pjs_6",
        "colab_type": "code",
        "outputId": "1cf192bd-a2b8-4de2-f243-f163ab1848c0",
        "colab": {
          "base_uri": "https://localhost:8080/",
          "height": 68
        }
      },
      "source": [
        "data.loc[data['salary'] == '>50K', 'education'].unique() # No"
      ],
      "execution_count": 0,
      "outputs": [
        {
          "output_type": "execute_result",
          "data": {
            "text/plain": [
              "array(['HS-grad', 'Masters', 'Bachelors', 'Some-college', 'Assoc-voc',\n",
              "       'Doctorate', 'Prof-school', 'Assoc-acdm', '7th-8th', '12th',\n",
              "       '10th', '11th', '9th', '5th-6th', '1st-4th'], dtype=object)"
            ]
          },
          "metadata": {
            "tags": []
          },
          "execution_count": 9
        }
      ]
    },
    {
      "cell_type": "markdown",
      "metadata": {
        "id": "fh3zvhGpsGFv",
        "colab_type": "text"
      },
      "source": [
        "**7. Display statistics of age for each race (race feature) and each gender. Use groupby() and describe(). Find the maximum age of men of Amer-Indian-Eskimo race.**"
      ]
    },
    {
      "cell_type": "code",
      "metadata": {
        "id": "btnwQkvRjxiL",
        "colab_type": "code",
        "outputId": "12619233-c6bc-42c4-d2b0-2658323d6604",
        "colab": {
          "base_uri": "https://localhost:8080/",
          "height": 1000
        }
      },
      "source": [
        "for (race, sex), sub_df in data.groupby(['race', 'sex']):\n",
        "    print(\"Race: {0}, sex: {1}\".format(race, sex))\n",
        "    print(sub_df['age'].describe())"
      ],
      "execution_count": 0,
      "outputs": [
        {
          "output_type": "stream",
          "text": [
            "Race: Amer-Indian-Eskimo, sex: Female\n",
            "count    119.000000\n",
            "mean      37.117647\n",
            "std       13.114991\n",
            "min       17.000000\n",
            "25%       27.000000\n",
            "50%       36.000000\n",
            "75%       46.000000\n",
            "max       80.000000\n",
            "Name: age, dtype: float64\n",
            "Race: Amer-Indian-Eskimo, sex: Male\n",
            "count    192.000000\n",
            "mean      37.208333\n",
            "std       12.049563\n",
            "min       17.000000\n",
            "25%       28.000000\n",
            "50%       35.000000\n",
            "75%       45.000000\n",
            "max       82.000000\n",
            "Name: age, dtype: float64\n",
            "Race: Asian-Pac-Islander, sex: Female\n",
            "count    346.000000\n",
            "mean      35.089595\n",
            "std       12.300845\n",
            "min       17.000000\n",
            "25%       25.000000\n",
            "50%       33.000000\n",
            "75%       43.750000\n",
            "max       75.000000\n",
            "Name: age, dtype: float64\n",
            "Race: Asian-Pac-Islander, sex: Male\n",
            "count    693.000000\n",
            "mean      39.073593\n",
            "std       12.883944\n",
            "min       18.000000\n",
            "25%       29.000000\n",
            "50%       37.000000\n",
            "75%       46.000000\n",
            "max       90.000000\n",
            "Name: age, dtype: float64\n",
            "Race: Black, sex: Female\n",
            "count    1555.000000\n",
            "mean       37.854019\n",
            "std        12.637197\n",
            "min        17.000000\n",
            "25%        28.000000\n",
            "50%        37.000000\n",
            "75%        46.000000\n",
            "max        90.000000\n",
            "Name: age, dtype: float64\n",
            "Race: Black, sex: Male\n",
            "count    1569.000000\n",
            "mean       37.682600\n",
            "std        12.882612\n",
            "min        17.000000\n",
            "25%        27.000000\n",
            "50%        36.000000\n",
            "75%        46.000000\n",
            "max        90.000000\n",
            "Name: age, dtype: float64\n",
            "Race: Other, sex: Female\n",
            "count    109.000000\n",
            "mean      31.678899\n",
            "std       11.631599\n",
            "min       17.000000\n",
            "25%       23.000000\n",
            "50%       29.000000\n",
            "75%       39.000000\n",
            "max       74.000000\n",
            "Name: age, dtype: float64\n",
            "Race: Other, sex: Male\n",
            "count    162.000000\n",
            "mean      34.654321\n",
            "std       11.355531\n",
            "min       17.000000\n",
            "25%       26.000000\n",
            "50%       32.000000\n",
            "75%       42.000000\n",
            "max       77.000000\n",
            "Name: age, dtype: float64\n",
            "Race: White, sex: Female\n",
            "count    8642.000000\n",
            "mean       36.811618\n",
            "std        14.329093\n",
            "min        17.000000\n",
            "25%        25.000000\n",
            "50%        35.000000\n",
            "75%        46.000000\n",
            "max        90.000000\n",
            "Name: age, dtype: float64\n",
            "Race: White, sex: Male\n",
            "count    19174.000000\n",
            "mean        39.652498\n",
            "std         13.436029\n",
            "min         17.000000\n",
            "25%         29.000000\n",
            "50%         38.000000\n",
            "75%         49.000000\n",
            "max         90.000000\n",
            "Name: age, dtype: float64\n"
          ],
          "name": "stdout"
        }
      ]
    },
    {
      "cell_type": "markdown",
      "metadata": {
        "id": "RiyGpOT6sI8E",
        "colab_type": "text"
      },
      "source": [
        "**8. Among whom the proportion of those who earn a lot(>50K) is more: among married or single men (marital-status feature)? Consider married those who have a marital-status starting with Married (Married-civ-spouse, Married-spouse-absent or Married-AF-spouse), the rest are considered bachelors.**"
      ]
    },
    {
      "cell_type": "code",
      "metadata": {
        "id": "JVvZ1ZqZj37K",
        "colab_type": "code",
        "outputId": "f7505d6c-f24f-404a-b058-35a7707cf969",
        "colab": {
          "base_uri": "https://localhost:8080/",
          "height": 68
        }
      },
      "source": [
        "data.loc[(data['sex'] == 'Male') &\n",
        "     (data['marital-status'].isin(['Never-married', \n",
        "                                   'Separated', \n",
        "                                   'Divorced',\n",
        "                                   'Widowed'])), 'salary'].value_counts()"
      ],
      "execution_count": 0,
      "outputs": [
        {
          "output_type": "execute_result",
          "data": {
            "text/plain": [
              "<=50K    7552\n",
              ">50K      697\n",
              "Name: salary, dtype: int64"
            ]
          },
          "metadata": {
            "tags": []
          },
          "execution_count": 11
        }
      ]
    },
    {
      "cell_type": "code",
      "metadata": {
        "id": "ydkLzc8Uj8ek",
        "colab_type": "code",
        "outputId": "740cb572-127c-4f6c-b64c-b9c799ad612a",
        "colab": {
          "base_uri": "https://localhost:8080/",
          "height": 68
        }
      },
      "source": [
        "data.loc[(data['sex'] == 'Male') &\n",
        "     (data['marital-status'].str.startswith('Married')), 'salary'].value_counts()"
      ],
      "execution_count": 0,
      "outputs": [
        {
          "output_type": "execute_result",
          "data": {
            "text/plain": [
              "<=50K    7576\n",
              ">50K     5965\n",
              "Name: salary, dtype: int64"
            ]
          },
          "metadata": {
            "tags": []
          },
          "execution_count": 12
        }
      ]
    },
    {
      "cell_type": "code",
      "metadata": {
        "id": "MQyU1w4ij_iG",
        "colab_type": "code",
        "outputId": "0081712d-e7fa-4243-992b-01c697b1679a",
        "colab": {
          "base_uri": "https://localhost:8080/",
          "height": 153
        }
      },
      "source": [
        "data['marital-status'].value_counts()"
      ],
      "execution_count": 0,
      "outputs": [
        {
          "output_type": "execute_result",
          "data": {
            "text/plain": [
              "Married-civ-spouse       14976\n",
              "Never-married            10683\n",
              "Divorced                  4443\n",
              "Separated                 1025\n",
              "Widowed                    993\n",
              "Married-spouse-absent      418\n",
              "Married-AF-spouse           23\n",
              "Name: marital-status, dtype: int64"
            ]
          },
          "metadata": {
            "tags": []
          },
          "execution_count": 13
        }
      ]
    },
    {
      "cell_type": "markdown",
      "metadata": {
        "id": "Qv-idkfnsaxS",
        "colab_type": "text"
      },
      "source": [
        "**9. What is the maximum number of hours a person works per week (hours-per-week feature)? How many people work such a number of hours and what is the percentage of those who earn a lot among them?**"
      ]
    },
    {
      "cell_type": "code",
      "metadata": {
        "id": "aE3QJnjXknbM",
        "colab_type": "code",
        "outputId": "ba962899-bb2f-4a68-9051-326acfad04d7",
        "colab": {
          "base_uri": "https://localhost:8080/",
          "height": 68
        }
      },
      "source": [
        "max_load = data['hours-per-week'].max()\n",
        "print(\"Max time - {0} hours./week.\".format(max_load))\n",
        "\n",
        "num_workaholics = data[data['hours-per-week'] == max_load].shape[0]\n",
        "print(\"Total number of such hard workers {0}\".format(num_workaholics))\n",
        "\n",
        "rich_share = float(data[(data['hours-per-week'] == max_load)\n",
        "                 & (data['salary'] == '>50K')].shape[0]) / num_workaholics\n",
        "print(\"Percentage of rich among them {0}%\".format(int(100 * rich_share)))"
      ],
      "execution_count": 0,
      "outputs": [
        {
          "output_type": "stream",
          "text": [
            "Max time - 99 hours./week.\n",
            "Total number of such hard workers 85\n",
            "Percentage of rich among them 29%\n"
          ],
          "name": "stdout"
        }
      ]
    },
    {
      "cell_type": "markdown",
      "metadata": {
        "id": "pJURrbcNshpS",
        "colab_type": "text"
      },
      "source": [
        "**10. Count the average time of work (hours-per-week) those who earning a little and a lot (salary) for each country (native-country).**"
      ]
    },
    {
      "cell_type": "code",
      "metadata": {
        "id": "s2kfhurLksxX",
        "colab_type": "code",
        "outputId": "7236f246-0126-4aed-aa85-f237818079db",
        "colab": {
          "base_uri": "https://localhost:8080/",
          "height": 1000
        }
      },
      "source": [
        "for (country, salary), sub_df in data.groupby(['native-country', 'salary']):\n",
        "    print(country, salary, round(sub_df['hours-per-week'].mean(), 2))"
      ],
      "execution_count": 0,
      "outputs": [
        {
          "output_type": "stream",
          "text": [
            "? <=50K 40.16\n",
            "? >50K 45.55\n",
            "Cambodia <=50K 41.42\n",
            "Cambodia >50K 40.0\n",
            "Canada <=50K 37.91\n",
            "Canada >50K 45.64\n",
            "China <=50K 37.38\n",
            "China >50K 38.9\n",
            "Columbia <=50K 38.68\n",
            "Columbia >50K 50.0\n",
            "Cuba <=50K 37.99\n",
            "Cuba >50K 42.44\n",
            "Dominican-Republic <=50K 42.34\n",
            "Dominican-Republic >50K 47.0\n",
            "Ecuador <=50K 38.04\n",
            "Ecuador >50K 48.75\n",
            "El-Salvador <=50K 36.03\n",
            "El-Salvador >50K 45.0\n",
            "England <=50K 40.48\n",
            "England >50K 44.53\n",
            "France <=50K 41.06\n",
            "France >50K 50.75\n",
            "Germany <=50K 39.14\n",
            "Germany >50K 44.98\n",
            "Greece <=50K 41.81\n",
            "Greece >50K 50.62\n",
            "Guatemala <=50K 39.36\n",
            "Guatemala >50K 36.67\n",
            "Haiti <=50K 36.33\n",
            "Haiti >50K 42.75\n",
            "Holand-Netherlands <=50K 40.0\n",
            "Honduras <=50K 34.33\n",
            "Honduras >50K 60.0\n",
            "Hong <=50K 39.14\n",
            "Hong >50K 45.0\n",
            "Hungary <=50K 31.3\n",
            "Hungary >50K 50.0\n",
            "India <=50K 38.23\n",
            "India >50K 46.48\n",
            "Iran <=50K 41.44\n",
            "Iran >50K 47.5\n",
            "Ireland <=50K 40.95\n",
            "Ireland >50K 48.0\n",
            "Italy <=50K 39.62\n",
            "Italy >50K 45.4\n",
            "Jamaica <=50K 38.24\n",
            "Jamaica >50K 41.1\n",
            "Japan <=50K 41.0\n",
            "Japan >50K 47.96\n",
            "Laos <=50K 40.38\n",
            "Laos >50K 40.0\n",
            "Mexico <=50K 40.0\n",
            "Mexico >50K 46.58\n",
            "Nicaragua <=50K 36.09\n",
            "Nicaragua >50K 37.5\n",
            "Outlying-US(Guam-USVI-etc) <=50K 41.86\n",
            "Peru <=50K 35.07\n",
            "Peru >50K 40.0\n",
            "Philippines <=50K 38.07\n",
            "Philippines >50K 43.03\n",
            "Poland <=50K 38.17\n",
            "Poland >50K 39.0\n",
            "Portugal <=50K 41.94\n",
            "Portugal >50K 41.5\n",
            "Puerto-Rico <=50K 38.47\n",
            "Puerto-Rico >50K 39.42\n",
            "Scotland <=50K 39.44\n",
            "Scotland >50K 46.67\n",
            "South <=50K 40.16\n",
            "South >50K 51.44\n",
            "Taiwan <=50K 33.77\n",
            "Taiwan >50K 46.8\n",
            "Thailand <=50K 42.87\n",
            "Thailand >50K 58.33\n",
            "Trinadad&Tobago <=50K 37.06\n",
            "Trinadad&Tobago >50K 40.0\n",
            "United-States <=50K 38.8\n",
            "United-States >50K 45.51\n",
            "Vietnam <=50K 37.19\n",
            "Vietnam >50K 39.2\n",
            "Yugoslavia <=50K 41.6\n",
            "Yugoslavia >50K 49.5\n"
          ],
          "name": "stdout"
        }
      ]
    },
    {
      "cell_type": "markdown",
      "metadata": {
        "id": "F9dMr-ziYuRK",
        "colab_type": "text"
      },
      "source": [
        "**2 часть**"
      ]
    },
    {
      "cell_type": "code",
      "metadata": {
        "id": "bLb-YGRAa1wX",
        "colab_type": "code",
        "colab": {}
      },
      "source": [
        "user_usage = pd.read_csv('user_usage.csv')\n",
        "user_device = pd.read_csv('user_device.csv')\n",
        "devices = pd.read_csv('android_devices.csv')"
      ],
      "execution_count": 0,
      "outputs": []
    },
    {
      "cell_type": "code",
      "metadata": {
        "id": "i4v4mcJjgzQ7",
        "colab_type": "code",
        "outputId": "c0bffe31-2430-4d88-fd33-a7e787303dc2",
        "colab": {
          "base_uri": "https://localhost:8080/",
          "height": 204
        }
      },
      "source": [
        "user_usage.head()"
      ],
      "execution_count": 0,
      "outputs": [
        {
          "output_type": "execute_result",
          "data": {
            "text/html": [
              "<div>\n",
              "<style scoped>\n",
              "    .dataframe tbody tr th:only-of-type {\n",
              "        vertical-align: middle;\n",
              "    }\n",
              "\n",
              "    .dataframe tbody tr th {\n",
              "        vertical-align: top;\n",
              "    }\n",
              "\n",
              "    .dataframe thead th {\n",
              "        text-align: right;\n",
              "    }\n",
              "</style>\n",
              "<table border=\"1\" class=\"dataframe\">\n",
              "  <thead>\n",
              "    <tr style=\"text-align: right;\">\n",
              "      <th></th>\n",
              "      <th>outgoing_mins_per_month</th>\n",
              "      <th>outgoing_sms_per_month</th>\n",
              "      <th>monthly_mb</th>\n",
              "      <th>use_id</th>\n",
              "    </tr>\n",
              "  </thead>\n",
              "  <tbody>\n",
              "    <tr>\n",
              "      <th>0</th>\n",
              "      <td>21.97</td>\n",
              "      <td>4.82</td>\n",
              "      <td>1557.33</td>\n",
              "      <td>22787</td>\n",
              "    </tr>\n",
              "    <tr>\n",
              "      <th>1</th>\n",
              "      <td>1710.08</td>\n",
              "      <td>136.88</td>\n",
              "      <td>7267.55</td>\n",
              "      <td>22788</td>\n",
              "    </tr>\n",
              "    <tr>\n",
              "      <th>2</th>\n",
              "      <td>1710.08</td>\n",
              "      <td>136.88</td>\n",
              "      <td>7267.55</td>\n",
              "      <td>22789</td>\n",
              "    </tr>\n",
              "    <tr>\n",
              "      <th>3</th>\n",
              "      <td>94.46</td>\n",
              "      <td>35.17</td>\n",
              "      <td>519.12</td>\n",
              "      <td>22790</td>\n",
              "    </tr>\n",
              "    <tr>\n",
              "      <th>4</th>\n",
              "      <td>71.59</td>\n",
              "      <td>79.26</td>\n",
              "      <td>1557.33</td>\n",
              "      <td>22792</td>\n",
              "    </tr>\n",
              "  </tbody>\n",
              "</table>\n",
              "</div>"
            ],
            "text/plain": [
              "   outgoing_mins_per_month  outgoing_sms_per_month  monthly_mb  use_id\n",
              "0                    21.97                    4.82     1557.33   22787\n",
              "1                  1710.08                  136.88     7267.55   22788\n",
              "2                  1710.08                  136.88     7267.55   22789\n",
              "3                    94.46                   35.17      519.12   22790\n",
              "4                    71.59                   79.26     1557.33   22792"
            ]
          },
          "metadata": {
            "tags": []
          },
          "execution_count": 17
        }
      ]
    },
    {
      "cell_type": "code",
      "metadata": {
        "id": "wCqyg06ThN2l",
        "colab_type": "code",
        "outputId": "c99e2fd0-7c78-480f-e8e6-002835d5a559",
        "colab": {
          "base_uri": "https://localhost:8080/",
          "height": 204
        }
      },
      "source": [
        "user_device.head()"
      ],
      "execution_count": 0,
      "outputs": [
        {
          "output_type": "execute_result",
          "data": {
            "text/html": [
              "<div>\n",
              "<style scoped>\n",
              "    .dataframe tbody tr th:only-of-type {\n",
              "        vertical-align: middle;\n",
              "    }\n",
              "\n",
              "    .dataframe tbody tr th {\n",
              "        vertical-align: top;\n",
              "    }\n",
              "\n",
              "    .dataframe thead th {\n",
              "        text-align: right;\n",
              "    }\n",
              "</style>\n",
              "<table border=\"1\" class=\"dataframe\">\n",
              "  <thead>\n",
              "    <tr style=\"text-align: right;\">\n",
              "      <th></th>\n",
              "      <th>use_id</th>\n",
              "      <th>user_id</th>\n",
              "      <th>platform</th>\n",
              "      <th>platform_version</th>\n",
              "      <th>device</th>\n",
              "      <th>use_type_id</th>\n",
              "    </tr>\n",
              "  </thead>\n",
              "  <tbody>\n",
              "    <tr>\n",
              "      <th>0</th>\n",
              "      <td>22782</td>\n",
              "      <td>26980</td>\n",
              "      <td>ios</td>\n",
              "      <td>10.2</td>\n",
              "      <td>iPhone7,2</td>\n",
              "      <td>2</td>\n",
              "    </tr>\n",
              "    <tr>\n",
              "      <th>1</th>\n",
              "      <td>22783</td>\n",
              "      <td>29628</td>\n",
              "      <td>android</td>\n",
              "      <td>6.0</td>\n",
              "      <td>Nexus 5</td>\n",
              "      <td>3</td>\n",
              "    </tr>\n",
              "    <tr>\n",
              "      <th>2</th>\n",
              "      <td>22784</td>\n",
              "      <td>28473</td>\n",
              "      <td>android</td>\n",
              "      <td>5.1</td>\n",
              "      <td>SM-G903F</td>\n",
              "      <td>1</td>\n",
              "    </tr>\n",
              "    <tr>\n",
              "      <th>3</th>\n",
              "      <td>22785</td>\n",
              "      <td>15200</td>\n",
              "      <td>ios</td>\n",
              "      <td>10.2</td>\n",
              "      <td>iPhone7,2</td>\n",
              "      <td>3</td>\n",
              "    </tr>\n",
              "    <tr>\n",
              "      <th>4</th>\n",
              "      <td>22786</td>\n",
              "      <td>28239</td>\n",
              "      <td>android</td>\n",
              "      <td>6.0</td>\n",
              "      <td>ONE E1003</td>\n",
              "      <td>1</td>\n",
              "    </tr>\n",
              "  </tbody>\n",
              "</table>\n",
              "</div>"
            ],
            "text/plain": [
              "   use_id  user_id platform  platform_version     device  use_type_id\n",
              "0   22782    26980      ios              10.2  iPhone7,2            2\n",
              "1   22783    29628  android               6.0    Nexus 5            3\n",
              "2   22784    28473  android               5.1   SM-G903F            1\n",
              "3   22785    15200      ios              10.2  iPhone7,2            3\n",
              "4   22786    28239  android               6.0  ONE E1003            1"
            ]
          },
          "metadata": {
            "tags": []
          },
          "execution_count": 18
        }
      ]
    },
    {
      "cell_type": "code",
      "metadata": {
        "id": "7FoP75l-hRmx",
        "colab_type": "code",
        "outputId": "72a0e316-37ce-45c6-c031-421e2d6c4de7",
        "colab": {
          "base_uri": "https://localhost:8080/",
          "height": 359
        }
      },
      "source": [
        "devices.head(10)"
      ],
      "execution_count": 0,
      "outputs": [
        {
          "output_type": "execute_result",
          "data": {
            "text/html": [
              "<div>\n",
              "<style scoped>\n",
              "    .dataframe tbody tr th:only-of-type {\n",
              "        vertical-align: middle;\n",
              "    }\n",
              "\n",
              "    .dataframe tbody tr th {\n",
              "        vertical-align: top;\n",
              "    }\n",
              "\n",
              "    .dataframe thead th {\n",
              "        text-align: right;\n",
              "    }\n",
              "</style>\n",
              "<table border=\"1\" class=\"dataframe\">\n",
              "  <thead>\n",
              "    <tr style=\"text-align: right;\">\n",
              "      <th></th>\n",
              "      <th>Retail Branding</th>\n",
              "      <th>Marketing Name</th>\n",
              "      <th>Device</th>\n",
              "      <th>Model</th>\n",
              "    </tr>\n",
              "  </thead>\n",
              "  <tbody>\n",
              "    <tr>\n",
              "      <th>0</th>\n",
              "      <td>NaN</td>\n",
              "      <td>NaN</td>\n",
              "      <td>AD681H</td>\n",
              "      <td>Smartfren Andromax AD681H</td>\n",
              "    </tr>\n",
              "    <tr>\n",
              "      <th>1</th>\n",
              "      <td>NaN</td>\n",
              "      <td>NaN</td>\n",
              "      <td>FJL21</td>\n",
              "      <td>FJL21</td>\n",
              "    </tr>\n",
              "    <tr>\n",
              "      <th>2</th>\n",
              "      <td>NaN</td>\n",
              "      <td>NaN</td>\n",
              "      <td>T31</td>\n",
              "      <td>Panasonic T31</td>\n",
              "    </tr>\n",
              "    <tr>\n",
              "      <th>3</th>\n",
              "      <td>NaN</td>\n",
              "      <td>NaN</td>\n",
              "      <td>hws7721g</td>\n",
              "      <td>MediaPad 7 Youth 2</td>\n",
              "    </tr>\n",
              "    <tr>\n",
              "      <th>4</th>\n",
              "      <td>3Q</td>\n",
              "      <td>OC1020A</td>\n",
              "      <td>OC1020A</td>\n",
              "      <td>OC1020A</td>\n",
              "    </tr>\n",
              "    <tr>\n",
              "      <th>5</th>\n",
              "      <td>7Eleven</td>\n",
              "      <td>IN265</td>\n",
              "      <td>IN265</td>\n",
              "      <td>IN265</td>\n",
              "    </tr>\n",
              "    <tr>\n",
              "      <th>6</th>\n",
              "      <td>A.O.I. ELECTRONICS FACTORY</td>\n",
              "      <td>A.O.I.</td>\n",
              "      <td>TR10CS1_11</td>\n",
              "      <td>TR10CS1</td>\n",
              "    </tr>\n",
              "    <tr>\n",
              "      <th>7</th>\n",
              "      <td>AG Mobile</td>\n",
              "      <td>AG BOOST 2</td>\n",
              "      <td>BOOST2</td>\n",
              "      <td>E4010</td>\n",
              "    </tr>\n",
              "    <tr>\n",
              "      <th>8</th>\n",
              "      <td>AG Mobile</td>\n",
              "      <td>AG Flair</td>\n",
              "      <td>AG_Flair</td>\n",
              "      <td>Flair</td>\n",
              "    </tr>\n",
              "    <tr>\n",
              "      <th>9</th>\n",
              "      <td>AG Mobile</td>\n",
              "      <td>AG Go Tab Access 2</td>\n",
              "      <td>AG_Go_Tab_Access_2</td>\n",
              "      <td>AG_Go_Tab_Access_2</td>\n",
              "    </tr>\n",
              "  </tbody>\n",
              "</table>\n",
              "</div>"
            ],
            "text/plain": [
              "              Retail Branding      Marketing Name              Device  \\\n",
              "0                         NaN                 NaN              AD681H   \n",
              "1                         NaN                 NaN               FJL21   \n",
              "2                         NaN                 NaN                 T31   \n",
              "3                         NaN                 NaN            hws7721g   \n",
              "4                          3Q             OC1020A             OC1020A   \n",
              "5                     7Eleven               IN265               IN265   \n",
              "6  A.O.I. ELECTRONICS FACTORY              A.O.I.          TR10CS1_11   \n",
              "7                   AG Mobile          AG BOOST 2              BOOST2   \n",
              "8                   AG Mobile            AG Flair            AG_Flair   \n",
              "9                   AG Mobile  AG Go Tab Access 2  AG_Go_Tab_Access_2   \n",
              "\n",
              "                       Model  \n",
              "0  Smartfren Andromax AD681H  \n",
              "1                      FJL21  \n",
              "2              Panasonic T31  \n",
              "3         MediaPad 7 Youth 2  \n",
              "4                    OC1020A  \n",
              "5                      IN265  \n",
              "6                    TR10CS1  \n",
              "7                      E4010  \n",
              "8                      Flair  \n",
              "9         AG_Go_Tab_Access_2  "
            ]
          },
          "metadata": {
            "tags": []
          },
          "execution_count": 4
        }
      ]
    },
    {
      "cell_type": "markdown",
      "metadata": {
        "id": "MKqwgo79Ydpd",
        "colab_type": "text"
      },
      "source": [
        "**inner join**"
      ]
    },
    {
      "cell_type": "code",
      "metadata": {
        "id": "ofSRjZAyQvYJ",
        "colab_type": "code",
        "outputId": "243a5d2b-3acc-4493-e468-45484a00e5e3",
        "colab": {
          "base_uri": "https://localhost:8080/",
          "height": 204
        }
      },
      "source": [
        "result = pd.merge(user_usage,\n",
        "                  user_device[['use_id', 'platform', 'device']],\n",
        "                  on='use_id')\n",
        "result.head()"
      ],
      "execution_count": 0,
      "outputs": [
        {
          "output_type": "execute_result",
          "data": {
            "text/html": [
              "<div>\n",
              "<style scoped>\n",
              "    .dataframe tbody tr th:only-of-type {\n",
              "        vertical-align: middle;\n",
              "    }\n",
              "\n",
              "    .dataframe tbody tr th {\n",
              "        vertical-align: top;\n",
              "    }\n",
              "\n",
              "    .dataframe thead th {\n",
              "        text-align: right;\n",
              "    }\n",
              "</style>\n",
              "<table border=\"1\" class=\"dataframe\">\n",
              "  <thead>\n",
              "    <tr style=\"text-align: right;\">\n",
              "      <th></th>\n",
              "      <th>outgoing_mins_per_month</th>\n",
              "      <th>outgoing_sms_per_month</th>\n",
              "      <th>monthly_mb</th>\n",
              "      <th>use_id</th>\n",
              "      <th>platform</th>\n",
              "      <th>device</th>\n",
              "    </tr>\n",
              "  </thead>\n",
              "  <tbody>\n",
              "    <tr>\n",
              "      <th>0</th>\n",
              "      <td>21.97</td>\n",
              "      <td>4.82</td>\n",
              "      <td>1557.33</td>\n",
              "      <td>22787</td>\n",
              "      <td>android</td>\n",
              "      <td>GT-I9505</td>\n",
              "    </tr>\n",
              "    <tr>\n",
              "      <th>1</th>\n",
              "      <td>1710.08</td>\n",
              "      <td>136.88</td>\n",
              "      <td>7267.55</td>\n",
              "      <td>22788</td>\n",
              "      <td>android</td>\n",
              "      <td>SM-G930F</td>\n",
              "    </tr>\n",
              "    <tr>\n",
              "      <th>2</th>\n",
              "      <td>1710.08</td>\n",
              "      <td>136.88</td>\n",
              "      <td>7267.55</td>\n",
              "      <td>22789</td>\n",
              "      <td>android</td>\n",
              "      <td>SM-G930F</td>\n",
              "    </tr>\n",
              "    <tr>\n",
              "      <th>3</th>\n",
              "      <td>94.46</td>\n",
              "      <td>35.17</td>\n",
              "      <td>519.12</td>\n",
              "      <td>22790</td>\n",
              "      <td>android</td>\n",
              "      <td>D2303</td>\n",
              "    </tr>\n",
              "    <tr>\n",
              "      <th>4</th>\n",
              "      <td>71.59</td>\n",
              "      <td>79.26</td>\n",
              "      <td>1557.33</td>\n",
              "      <td>22792</td>\n",
              "      <td>android</td>\n",
              "      <td>SM-G361F</td>\n",
              "    </tr>\n",
              "  </tbody>\n",
              "</table>\n",
              "</div>"
            ],
            "text/plain": [
              "   outgoing_mins_per_month  outgoing_sms_per_month  monthly_mb  use_id  \\\n",
              "0                    21.97                    4.82     1557.33   22787   \n",
              "1                  1710.08                  136.88     7267.55   22788   \n",
              "2                  1710.08                  136.88     7267.55   22789   \n",
              "3                    94.46                   35.17      519.12   22790   \n",
              "4                    71.59                   79.26     1557.33   22792   \n",
              "\n",
              "  platform    device  \n",
              "0  android  GT-I9505  \n",
              "1  android  SM-G930F  \n",
              "2  android  SM-G930F  \n",
              "3  android     D2303  \n",
              "4  android  SM-G361F  "
            ]
          },
          "metadata": {
            "tags": []
          },
          "execution_count": 7
        }
      ]
    },
    {
      "cell_type": "code",
      "metadata": {
        "id": "p8GnzGMXSadE",
        "colab_type": "code",
        "outputId": "2046bbdb-85e3-4d90-88fe-2e35c8710a48",
        "colab": {
          "base_uri": "https://localhost:8080/",
          "height": 68
        }
      },
      "source": [
        "print(\"user_usage dimensions: {}\".format(user_usage.shape))\n",
        "print(\"user_device dimensions: {}\".format(user_device[['use_id', 'platform', 'device']].shape))\n",
        "print(\"result dimensions: {}\".format(result.shape))"
      ],
      "execution_count": 0,
      "outputs": [
        {
          "output_type": "stream",
          "text": [
            "user_usage dimensions: (240, 4)\n",
            "user_device dimensions: (272, 3)\n",
            "result dimensions: (159, 6)\n"
          ],
          "name": "stdout"
        }
      ]
    },
    {
      "cell_type": "code",
      "metadata": {
        "id": "QndLifeWTTab",
        "colab_type": "code",
        "outputId": "6dacc86e-8d26-490e-fce3-78537c48856b",
        "colab": {
          "base_uri": "https://localhost:8080/",
          "height": 68
        }
      },
      "source": [
        "user_usage['use_id'].isin(user_device['use_id']).value_counts()"
      ],
      "execution_count": 0,
      "outputs": [
        {
          "output_type": "execute_result",
          "data": {
            "text/plain": [
              "True     159\n",
              "False     81\n",
              "Name: use_id, dtype: int64"
            ]
          },
          "metadata": {
            "tags": []
          },
          "execution_count": 9
        }
      ]
    },
    {
      "cell_type": "markdown",
      "metadata": {
        "id": "ua_prK5CYWNG",
        "colab_type": "text"
      },
      "source": [
        "**left join**"
      ]
    },
    {
      "cell_type": "code",
      "metadata": {
        "id": "1phYklhFVWAf",
        "colab_type": "code",
        "outputId": "a867f8d0-030d-4618-bc8a-132cb60c8c74",
        "colab": {
          "base_uri": "https://localhost:8080/",
          "height": 68
        }
      },
      "source": [
        "result = pd.merge(user_usage,\n",
        "                  user_device[['use_id', 'platform', 'device']],\n",
        "                  on='use_id',\n",
        "                  how='left')\n",
        "print(\"user_usage dimensions: {}\".format(user_usage.shape))\n",
        "print(\"result dimensions: {}\".format(result.shape))\n",
        "print(\"there are {} missing values in the result\".format(result['device'].isnull().sum()))"
      ],
      "execution_count": 0,
      "outputs": [
        {
          "output_type": "stream",
          "text": [
            "user_usage dimensions: (240, 4)\n",
            "result dimensions: (240, 6)\n",
            "there are 81 missing values in the result\n"
          ],
          "name": "stdout"
        }
      ]
    },
    {
      "cell_type": "code",
      "metadata": {
        "id": "UiZt1pTpWR76",
        "colab_type": "code",
        "outputId": "23d2a64c-76f8-485c-97fa-a69e4f1970d2",
        "colab": {
          "base_uri": "https://localhost:8080/",
          "height": 204
        }
      },
      "source": [
        "result.head()"
      ],
      "execution_count": 0,
      "outputs": [
        {
          "output_type": "execute_result",
          "data": {
            "text/html": [
              "<div>\n",
              "<style scoped>\n",
              "    .dataframe tbody tr th:only-of-type {\n",
              "        vertical-align: middle;\n",
              "    }\n",
              "\n",
              "    .dataframe tbody tr th {\n",
              "        vertical-align: top;\n",
              "    }\n",
              "\n",
              "    .dataframe thead th {\n",
              "        text-align: right;\n",
              "    }\n",
              "</style>\n",
              "<table border=\"1\" class=\"dataframe\">\n",
              "  <thead>\n",
              "    <tr style=\"text-align: right;\">\n",
              "      <th></th>\n",
              "      <th>outgoing_mins_per_month</th>\n",
              "      <th>outgoing_sms_per_month</th>\n",
              "      <th>monthly_mb</th>\n",
              "      <th>use_id</th>\n",
              "      <th>platform</th>\n",
              "      <th>device</th>\n",
              "    </tr>\n",
              "  </thead>\n",
              "  <tbody>\n",
              "    <tr>\n",
              "      <th>0</th>\n",
              "      <td>21.97</td>\n",
              "      <td>4.82</td>\n",
              "      <td>1557.33</td>\n",
              "      <td>22787</td>\n",
              "      <td>android</td>\n",
              "      <td>GT-I9505</td>\n",
              "    </tr>\n",
              "    <tr>\n",
              "      <th>1</th>\n",
              "      <td>1710.08</td>\n",
              "      <td>136.88</td>\n",
              "      <td>7267.55</td>\n",
              "      <td>22788</td>\n",
              "      <td>android</td>\n",
              "      <td>SM-G930F</td>\n",
              "    </tr>\n",
              "    <tr>\n",
              "      <th>2</th>\n",
              "      <td>1710.08</td>\n",
              "      <td>136.88</td>\n",
              "      <td>7267.55</td>\n",
              "      <td>22789</td>\n",
              "      <td>android</td>\n",
              "      <td>SM-G930F</td>\n",
              "    </tr>\n",
              "    <tr>\n",
              "      <th>3</th>\n",
              "      <td>94.46</td>\n",
              "      <td>35.17</td>\n",
              "      <td>519.12</td>\n",
              "      <td>22790</td>\n",
              "      <td>android</td>\n",
              "      <td>D2303</td>\n",
              "    </tr>\n",
              "    <tr>\n",
              "      <th>4</th>\n",
              "      <td>71.59</td>\n",
              "      <td>79.26</td>\n",
              "      <td>1557.33</td>\n",
              "      <td>22792</td>\n",
              "      <td>android</td>\n",
              "      <td>SM-G361F</td>\n",
              "    </tr>\n",
              "  </tbody>\n",
              "</table>\n",
              "</div>"
            ],
            "text/plain": [
              "   outgoing_mins_per_month  outgoing_sms_per_month  monthly_mb  use_id  \\\n",
              "0                    21.97                    4.82     1557.33   22787   \n",
              "1                  1710.08                  136.88     7267.55   22788   \n",
              "2                  1710.08                  136.88     7267.55   22789   \n",
              "3                    94.46                   35.17      519.12   22790   \n",
              "4                    71.59                   79.26     1557.33   22792   \n",
              "\n",
              "  platform    device  \n",
              "0  android  GT-I9505  \n",
              "1  android  SM-G930F  \n",
              "2  android  SM-G930F  \n",
              "3  android     D2303  \n",
              "4  android  SM-G361F  "
            ]
          },
          "metadata": {
            "tags": []
          },
          "execution_count": 11
        }
      ]
    },
    {
      "cell_type": "code",
      "metadata": {
        "id": "SyQ3Ij34WU20",
        "colab_type": "code",
        "outputId": "b58ae2b0-93ec-45e0-ff12-6fb8a72de478",
        "colab": {
          "base_uri": "https://localhost:8080/",
          "height": 204
        }
      },
      "source": [
        "result.tail()"
      ],
      "execution_count": 0,
      "outputs": [
        {
          "output_type": "execute_result",
          "data": {
            "text/html": [
              "<div>\n",
              "<style scoped>\n",
              "    .dataframe tbody tr th:only-of-type {\n",
              "        vertical-align: middle;\n",
              "    }\n",
              "\n",
              "    .dataframe tbody tr th {\n",
              "        vertical-align: top;\n",
              "    }\n",
              "\n",
              "    .dataframe thead th {\n",
              "        text-align: right;\n",
              "    }\n",
              "</style>\n",
              "<table border=\"1\" class=\"dataframe\">\n",
              "  <thead>\n",
              "    <tr style=\"text-align: right;\">\n",
              "      <th></th>\n",
              "      <th>outgoing_mins_per_month</th>\n",
              "      <th>outgoing_sms_per_month</th>\n",
              "      <th>monthly_mb</th>\n",
              "      <th>use_id</th>\n",
              "      <th>platform</th>\n",
              "      <th>device</th>\n",
              "    </tr>\n",
              "  </thead>\n",
              "  <tbody>\n",
              "    <tr>\n",
              "      <th>235</th>\n",
              "      <td>260.66</td>\n",
              "      <td>68.44</td>\n",
              "      <td>896.96</td>\n",
              "      <td>25008</td>\n",
              "      <td>NaN</td>\n",
              "      <td>NaN</td>\n",
              "    </tr>\n",
              "    <tr>\n",
              "      <th>236</th>\n",
              "      <td>97.12</td>\n",
              "      <td>36.50</td>\n",
              "      <td>2815.00</td>\n",
              "      <td>25040</td>\n",
              "      <td>NaN</td>\n",
              "      <td>NaN</td>\n",
              "    </tr>\n",
              "    <tr>\n",
              "      <th>237</th>\n",
              "      <td>355.93</td>\n",
              "      <td>12.37</td>\n",
              "      <td>6828.09</td>\n",
              "      <td>25046</td>\n",
              "      <td>NaN</td>\n",
              "      <td>NaN</td>\n",
              "    </tr>\n",
              "    <tr>\n",
              "      <th>238</th>\n",
              "      <td>632.06</td>\n",
              "      <td>120.46</td>\n",
              "      <td>1453.16</td>\n",
              "      <td>25058</td>\n",
              "      <td>NaN</td>\n",
              "      <td>NaN</td>\n",
              "    </tr>\n",
              "    <tr>\n",
              "      <th>239</th>\n",
              "      <td>488.70</td>\n",
              "      <td>906.92</td>\n",
              "      <td>3089.85</td>\n",
              "      <td>25220</td>\n",
              "      <td>NaN</td>\n",
              "      <td>NaN</td>\n",
              "    </tr>\n",
              "  </tbody>\n",
              "</table>\n",
              "</div>"
            ],
            "text/plain": [
              "     outgoing_mins_per_month  outgoing_sms_per_month  monthly_mb  use_id  \\\n",
              "235                   260.66                   68.44      896.96   25008   \n",
              "236                    97.12                   36.50     2815.00   25040   \n",
              "237                   355.93                   12.37     6828.09   25046   \n",
              "238                   632.06                  120.46     1453.16   25058   \n",
              "239                   488.70                  906.92     3089.85   25220   \n",
              "\n",
              "    platform device  \n",
              "235      NaN    NaN  \n",
              "236      NaN    NaN  \n",
              "237      NaN    NaN  \n",
              "238      NaN    NaN  \n",
              "239      NaN    NaN  "
            ]
          },
          "metadata": {
            "tags": []
          },
          "execution_count": 12
        }
      ]
    },
    {
      "cell_type": "markdown",
      "metadata": {
        "id": "YJnRMqMvYiLk",
        "colab_type": "text"
      },
      "source": [
        "**right join**"
      ]
    },
    {
      "cell_type": "code",
      "metadata": {
        "id": "pm6628ftXGEC",
        "colab_type": "code",
        "outputId": "3150a3ac-b4b4-4daa-ea64-16b796117f71",
        "colab": {
          "base_uri": "https://localhost:8080/",
          "height": 85
        }
      },
      "source": [
        "result = pd.merge(user_usage,\n",
        "                  user_device[['use_id', 'platform', 'device']],\n",
        "                  on='use_id',\n",
        "                  how='right')\n",
        "print(\"user_device dimensions: {}\".format(user_device.shape))\n",
        "print(\"result dimensions: {}\".format(result.shape))\n",
        "print(\"there are {} missing values in the 'monthly_mb' column in the result\".format(result['monthly_mb'].isnull().sum()))\n",
        "print(\"there are {} missing values in the 'platform' column in the result\".format(result['platform'].isnull().sum()))"
      ],
      "execution_count": 0,
      "outputs": [
        {
          "output_type": "stream",
          "text": [
            "user_device dimensions: (272, 6)\n",
            "result dimensions: (272, 6)\n",
            "there are 113 missing values in the 'monthly_mb' column in the result\n",
            "there are 0 missing values in the 'platform' column in the result\n"
          ],
          "name": "stdout"
        }
      ]
    },
    {
      "cell_type": "markdown",
      "metadata": {
        "id": "KGFsh324axNy",
        "colab_type": "text"
      },
      "source": [
        "**Full outer join**"
      ]
    },
    {
      "cell_type": "code",
      "metadata": {
        "id": "K-w4Ri_8ZrPO",
        "colab_type": "code",
        "outputId": "5c10ae73-96fd-4964-c8d9-6ae753f60f2a",
        "colab": {
          "base_uri": "https://localhost:8080/",
          "height": 68
        }
      },
      "source": [
        "print(\"There are {} unique values of use_id in our dataframes\".format(\n",
        "    pd.concat([user_usage['use_id'], user_device['use_id']]).unique().shape[0]))\n",
        "result = pd.merge(user_usage,\n",
        "                  user_device[['use_id', 'platform', 'device']],\n",
        "                  on='use_id',\n",
        "                  how='outer')\n",
        "print(\"Outer merge has {} rows\".format(result.shape))\n",
        "print(\"There are {} rows with no missing values\".format(\n",
        "    (result.apply(lambda x: x.isnull().sum(), axis = 1) == 0).sum()))"
      ],
      "execution_count": 0,
      "outputs": [
        {
          "output_type": "stream",
          "text": [
            "There are 353 unique values of use_id in our dataframes\n",
            "Outer merge has (353, 6) rows\n",
            "There are 159 rows with no missing values\n"
          ],
          "name": "stdout"
        }
      ]
    },
    {
      "cell_type": "markdown",
      "metadata": {
        "id": "0AUjPGRxb-uP",
        "colab_type": "text"
      },
      "source": [
        "**Использование индикатора**"
      ]
    },
    {
      "cell_type": "code",
      "metadata": {
        "id": "IMx3wFF6cC2C",
        "colab_type": "code",
        "colab": {}
      },
      "source": [
        "result = pd.merge(user_usage,\n",
        "                 user_device[['use_id', 'platform', 'device']],\n",
        "                 on='use_id', \n",
        "                 how='outer', \n",
        "                 indicator=True)"
      ],
      "execution_count": 0,
      "outputs": []
    },
    {
      "cell_type": "code",
      "metadata": {
        "id": "3Pu_1AikchhZ",
        "colab_type": "code",
        "outputId": "469e13c2-153e-47b6-c094-040efd83af52",
        "colab": {
          "base_uri": "https://localhost:8080/",
          "height": 235
        }
      },
      "source": [
        "result.iloc[[0, 1, 200, 201, 350, 351]]"
      ],
      "execution_count": 0,
      "outputs": [
        {
          "output_type": "execute_result",
          "data": {
            "text/html": [
              "<div>\n",
              "<style scoped>\n",
              "    .dataframe tbody tr th:only-of-type {\n",
              "        vertical-align: middle;\n",
              "    }\n",
              "\n",
              "    .dataframe tbody tr th {\n",
              "        vertical-align: top;\n",
              "    }\n",
              "\n",
              "    .dataframe thead th {\n",
              "        text-align: right;\n",
              "    }\n",
              "</style>\n",
              "<table border=\"1\" class=\"dataframe\">\n",
              "  <thead>\n",
              "    <tr style=\"text-align: right;\">\n",
              "      <th></th>\n",
              "      <th>outgoing_mins_per_month</th>\n",
              "      <th>outgoing_sms_per_month</th>\n",
              "      <th>monthly_mb</th>\n",
              "      <th>use_id</th>\n",
              "      <th>platform</th>\n",
              "      <th>device</th>\n",
              "    </tr>\n",
              "  </thead>\n",
              "  <tbody>\n",
              "    <tr>\n",
              "      <th>0</th>\n",
              "      <td>21.97</td>\n",
              "      <td>4.82</td>\n",
              "      <td>1557.33</td>\n",
              "      <td>22787</td>\n",
              "      <td>android</td>\n",
              "      <td>GT-I9505</td>\n",
              "    </tr>\n",
              "    <tr>\n",
              "      <th>1</th>\n",
              "      <td>1710.08</td>\n",
              "      <td>136.88</td>\n",
              "      <td>7267.55</td>\n",
              "      <td>22788</td>\n",
              "      <td>android</td>\n",
              "      <td>SM-G930F</td>\n",
              "    </tr>\n",
              "    <tr>\n",
              "      <th>200</th>\n",
              "      <td>28.79</td>\n",
              "      <td>29.42</td>\n",
              "      <td>3114.67</td>\n",
              "      <td>23988</td>\n",
              "      <td>NaN</td>\n",
              "      <td>NaN</td>\n",
              "    </tr>\n",
              "    <tr>\n",
              "      <th>201</th>\n",
              "      <td>616.56</td>\n",
              "      <td>99.85</td>\n",
              "      <td>5414.14</td>\n",
              "      <td>24006</td>\n",
              "      <td>NaN</td>\n",
              "      <td>NaN</td>\n",
              "    </tr>\n",
              "    <tr>\n",
              "      <th>350</th>\n",
              "      <td>NaN</td>\n",
              "      <td>NaN</td>\n",
              "      <td>NaN</td>\n",
              "      <td>23050</td>\n",
              "      <td>ios</td>\n",
              "      <td>iPhone7,2</td>\n",
              "    </tr>\n",
              "    <tr>\n",
              "      <th>351</th>\n",
              "      <td>NaN</td>\n",
              "      <td>NaN</td>\n",
              "      <td>NaN</td>\n",
              "      <td>23051</td>\n",
              "      <td>ios</td>\n",
              "      <td>iPhone7,2</td>\n",
              "    </tr>\n",
              "  </tbody>\n",
              "</table>\n",
              "</div>"
            ],
            "text/plain": [
              "     outgoing_mins_per_month  outgoing_sms_per_month  monthly_mb  use_id  \\\n",
              "0                      21.97                    4.82     1557.33   22787   \n",
              "1                    1710.08                  136.88     7267.55   22788   \n",
              "200                    28.79                   29.42     3114.67   23988   \n",
              "201                   616.56                   99.85     5414.14   24006   \n",
              "350                      NaN                     NaN         NaN   23050   \n",
              "351                      NaN                     NaN         NaN   23051   \n",
              "\n",
              "    platform     device  \n",
              "0    android   GT-I9505  \n",
              "1    android   SM-G930F  \n",
              "200      NaN        NaN  \n",
              "201      NaN        NaN  \n",
              "350      ios  iPhone7,2  \n",
              "351      ios  iPhone7,2  "
            ]
          },
          "metadata": {
            "tags": []
          },
          "execution_count": 16
        }
      ]
    },
    {
      "cell_type": "markdown",
      "metadata": {
        "id": "02oWM2-cdHh5",
        "colab_type": "text"
      },
      "source": [
        "**Final merge**"
      ]
    },
    {
      "cell_type": "code",
      "metadata": {
        "id": "T34TjRGbdKCb",
        "colab_type": "code",
        "outputId": "4e2b3088-d320-41e8-d651-6876adee8f64",
        "colab": {
          "base_uri": "https://localhost:8080/",
          "height": 238
        }
      },
      "source": [
        "result = pd.merge(user_usage,\n",
        "                 user_device[['use_id', 'platform', 'device']],\n",
        "                 on='use_id',\n",
        "                 how='left')\n",
        "devices.rename(columns={\"Retail Branding\": \"manufacturer\"}, inplace=True)\n",
        "result = pd.merge(result, \n",
        "                  devices[['manufacturer', 'Model']],\n",
        "                  left_on='device',\n",
        "                  right_on='Model',\n",
        "                  how='left')\n",
        "print(result.head())"
      ],
      "execution_count": 0,
      "outputs": [
        {
          "output_type": "stream",
          "text": [
            "   outgoing_mins_per_month  outgoing_sms_per_month  monthly_mb  use_id  \\\n",
            "0                    21.97                    4.82     1557.33   22787   \n",
            "1                  1710.08                  136.88     7267.55   22788   \n",
            "2                  1710.08                  136.88     7267.55   22789   \n",
            "3                    94.46                   35.17      519.12   22790   \n",
            "4                    71.59                   79.26     1557.33   22792   \n",
            "\n",
            "  platform    device manufacturer     Model  \n",
            "0  android  GT-I9505      Samsung  GT-I9505  \n",
            "1  android  SM-G930F      Samsung  SM-G930F  \n",
            "2  android  SM-G930F      Samsung  SM-G930F  \n",
            "3  android     D2303         Sony     D2303  \n",
            "4  android  SM-G361F      Samsung  SM-G361F  \n"
          ],
          "name": "stdout"
        }
      ]
    },
    {
      "cell_type": "markdown",
      "metadata": {
        "id": "Iq5AdWoQezbx",
        "colab_type": "text"
      },
      "source": [
        "**Агрегирование**"
      ]
    },
    {
      "cell_type": "code",
      "metadata": {
        "id": "d6FhoIWAe2Yh",
        "colab_type": "code",
        "outputId": "496419ea-9dc2-44f3-aff2-3766e4219644",
        "colab": {
          "base_uri": "https://localhost:8080/",
          "height": 421
        }
      },
      "source": [
        "result.groupby(\"manufacturer\").agg({\n",
        "        \"outgoing_mins_per_month\": \"mean\",\n",
        "        \"outgoing_sms_per_month\": \"mean\",\n",
        "        \"monthly_mb\": \"mean\",\n",
        "        \"use_id\": \"count\"\n",
        "    })"
      ],
      "execution_count": 0,
      "outputs": [
        {
          "output_type": "execute_result",
          "data": {
            "text/html": [
              "<div>\n",
              "<style scoped>\n",
              "    .dataframe tbody tr th:only-of-type {\n",
              "        vertical-align: middle;\n",
              "    }\n",
              "\n",
              "    .dataframe tbody tr th {\n",
              "        vertical-align: top;\n",
              "    }\n",
              "\n",
              "    .dataframe thead th {\n",
              "        text-align: right;\n",
              "    }\n",
              "</style>\n",
              "<table border=\"1\" class=\"dataframe\">\n",
              "  <thead>\n",
              "    <tr style=\"text-align: right;\">\n",
              "      <th></th>\n",
              "      <th>outgoing_mins_per_month</th>\n",
              "      <th>outgoing_sms_per_month</th>\n",
              "      <th>monthly_mb</th>\n",
              "      <th>use_id</th>\n",
              "    </tr>\n",
              "    <tr>\n",
              "      <th>manufacturer</th>\n",
              "      <th></th>\n",
              "      <th></th>\n",
              "      <th></th>\n",
              "      <th></th>\n",
              "    </tr>\n",
              "  </thead>\n",
              "  <tbody>\n",
              "    <tr>\n",
              "      <th>HTC</th>\n",
              "      <td>299.842955</td>\n",
              "      <td>93.059318</td>\n",
              "      <td>5144.077955</td>\n",
              "      <td>44</td>\n",
              "    </tr>\n",
              "    <tr>\n",
              "      <th>Huawei</th>\n",
              "      <td>81.526667</td>\n",
              "      <td>9.500000</td>\n",
              "      <td>1561.226667</td>\n",
              "      <td>3</td>\n",
              "    </tr>\n",
              "    <tr>\n",
              "      <th>LGE</th>\n",
              "      <td>111.530000</td>\n",
              "      <td>12.760000</td>\n",
              "      <td>1557.330000</td>\n",
              "      <td>2</td>\n",
              "    </tr>\n",
              "    <tr>\n",
              "      <th>Lava</th>\n",
              "      <td>60.650000</td>\n",
              "      <td>261.900000</td>\n",
              "      <td>12458.670000</td>\n",
              "      <td>2</td>\n",
              "    </tr>\n",
              "    <tr>\n",
              "      <th>Lenovo</th>\n",
              "      <td>215.920000</td>\n",
              "      <td>12.930000</td>\n",
              "      <td>1557.330000</td>\n",
              "      <td>2</td>\n",
              "    </tr>\n",
              "    <tr>\n",
              "      <th>Motorola</th>\n",
              "      <td>95.127500</td>\n",
              "      <td>65.666250</td>\n",
              "      <td>3946.500000</td>\n",
              "      <td>16</td>\n",
              "    </tr>\n",
              "    <tr>\n",
              "      <th>OnePlus</th>\n",
              "      <td>354.855000</td>\n",
              "      <td>48.330000</td>\n",
              "      <td>6575.410000</td>\n",
              "      <td>6</td>\n",
              "    </tr>\n",
              "    <tr>\n",
              "      <th>Samsung</th>\n",
              "      <td>191.010093</td>\n",
              "      <td>92.390463</td>\n",
              "      <td>4017.318889</td>\n",
              "      <td>108</td>\n",
              "    </tr>\n",
              "    <tr>\n",
              "      <th>Sony</th>\n",
              "      <td>177.315625</td>\n",
              "      <td>40.176250</td>\n",
              "      <td>3212.000625</td>\n",
              "      <td>16</td>\n",
              "    </tr>\n",
              "    <tr>\n",
              "      <th>Vodafone</th>\n",
              "      <td>42.750000</td>\n",
              "      <td>46.830000</td>\n",
              "      <td>5191.120000</td>\n",
              "      <td>1</td>\n",
              "    </tr>\n",
              "    <tr>\n",
              "      <th>ZTE</th>\n",
              "      <td>42.750000</td>\n",
              "      <td>46.830000</td>\n",
              "      <td>5191.120000</td>\n",
              "      <td>1</td>\n",
              "    </tr>\n",
              "  </tbody>\n",
              "</table>\n",
              "</div>"
            ],
            "text/plain": [
              "              outgoing_mins_per_month  outgoing_sms_per_month    monthly_mb  \\\n",
              "manufacturer                                                                  \n",
              "HTC                        299.842955               93.059318   5144.077955   \n",
              "Huawei                      81.526667                9.500000   1561.226667   \n",
              "LGE                        111.530000               12.760000   1557.330000   \n",
              "Lava                        60.650000              261.900000  12458.670000   \n",
              "Lenovo                     215.920000               12.930000   1557.330000   \n",
              "Motorola                    95.127500               65.666250   3946.500000   \n",
              "OnePlus                    354.855000               48.330000   6575.410000   \n",
              "Samsung                    191.010093               92.390463   4017.318889   \n",
              "Sony                       177.315625               40.176250   3212.000625   \n",
              "Vodafone                    42.750000               46.830000   5191.120000   \n",
              "ZTE                         42.750000               46.830000   5191.120000   \n",
              "\n",
              "              use_id  \n",
              "manufacturer          \n",
              "HTC               44  \n",
              "Huawei             3  \n",
              "LGE                2  \n",
              "Lava               2  \n",
              "Lenovo             2  \n",
              "Motorola          16  \n",
              "OnePlus            6  \n",
              "Samsung          108  \n",
              "Sony              16  \n",
              "Vodafone           1  \n",
              "ZTE                1  "
            ]
          },
          "metadata": {
            "tags": []
          },
          "execution_count": 18
        }
      ]
    },
    {
      "cell_type": "markdown",
      "metadata": {
        "id": "dW1ghGp7nNjE",
        "colab_type": "text"
      },
      "source": [
        "**Агрегирование из другой статьи**"
      ]
    },
    {
      "cell_type": "code",
      "metadata": {
        "id": "3T8AmchxnKkr",
        "colab_type": "code",
        "colab": {}
      },
      "source": [
        "import pandas as pd\n",
        "import dateutil\n",
        "# Load data from csv file\n",
        "data = pd.read_csv('phone_data.csv')\n",
        "# Convert date from string to date times\n",
        "data['date'] = data['date'].apply(dateutil.parser.parse, dayfirst=True)"
      ],
      "execution_count": 0,
      "outputs": []
    },
    {
      "cell_type": "code",
      "metadata": {
        "id": "a__M1Cp1oAvr",
        "colab_type": "code",
        "outputId": "740735cb-c190-4486-b4fa-146a32e089be",
        "colab": {
          "base_uri": "https://localhost:8080/",
          "height": 34
        }
      },
      "source": [
        "# How many rows the dataset\n",
        "data['item'].count()"
      ],
      "execution_count": 0,
      "outputs": [
        {
          "output_type": "execute_result",
          "data": {
            "text/plain": [
              "830"
            ]
          },
          "metadata": {
            "tags": []
          },
          "execution_count": 21
        }
      ]
    },
    {
      "cell_type": "code",
      "metadata": {
        "id": "m9WIHa2BoFZu",
        "colab_type": "code",
        "outputId": "5eddd733-39d3-44d9-d847-061db1e39914",
        "colab": {
          "base_uri": "https://localhost:8080/",
          "height": 34
        }
      },
      "source": [
        "# What was the longest phone call / data entry?\n",
        "data['duration'].max()"
      ],
      "execution_count": 0,
      "outputs": [
        {
          "output_type": "execute_result",
          "data": {
            "text/plain": [
              "10528.0"
            ]
          },
          "metadata": {
            "tags": []
          },
          "execution_count": 22
        }
      ]
    },
    {
      "cell_type": "code",
      "metadata": {
        "id": "QMFa1_ljoOC_",
        "colab_type": "code",
        "outputId": "9fa26be4-a3a2-417f-a6d0-5c1e1f491dd6",
        "colab": {
          "base_uri": "https://localhost:8080/",
          "height": 34
        }
      },
      "source": [
        "# How many seconds of phone calls are recorded in total?\n",
        "data['duration'][data['item'] == 'call'].sum()"
      ],
      "execution_count": 0,
      "outputs": [
        {
          "output_type": "execute_result",
          "data": {
            "text/plain": [
              "92321.0"
            ]
          },
          "metadata": {
            "tags": []
          },
          "execution_count": 23
        }
      ]
    },
    {
      "cell_type": "code",
      "metadata": {
        "id": "50Qa79Uaobcy",
        "colab_type": "code",
        "outputId": "712890c1-1445-4ea1-8a94-cdcd2a8df73c",
        "colab": {
          "base_uri": "https://localhost:8080/",
          "height": 119
        }
      },
      "source": [
        "# How many entries are there for each month?\n",
        "data['month'].value_counts()"
      ],
      "execution_count": 0,
      "outputs": [
        {
          "output_type": "execute_result",
          "data": {
            "text/plain": [
              "2014-11    230\n",
              "2015-01    205\n",
              "2014-12    157\n",
              "2015-02    137\n",
              "2015-03    101\n",
              "Name: month, dtype: int64"
            ]
          },
          "metadata": {
            "tags": []
          },
          "execution_count": 24
        }
      ]
    },
    {
      "cell_type": "code",
      "metadata": {
        "id": "KYGt_wZdohTA",
        "colab_type": "code",
        "outputId": "16c61fb8-3677-4b2b-ac2b-77c411a81471",
        "colab": {
          "base_uri": "https://localhost:8080/",
          "height": 34
        }
      },
      "source": [
        "# Number of non-null unique network entries\n",
        "data['network'].nunique()"
      ],
      "execution_count": 0,
      "outputs": [
        {
          "output_type": "execute_result",
          "data": {
            "text/plain": [
              "9"
            ]
          },
          "metadata": {
            "tags": []
          },
          "execution_count": 25
        }
      ]
    },
    {
      "cell_type": "markdown",
      "metadata": {
        "id": "5nbMDDsXqKVL",
        "colab_type": "text"
      },
      "source": [
        "**test**"
      ]
    },
    {
      "cell_type": "code",
      "metadata": {
        "id": "gdlPSktcqOCe",
        "colab_type": "code",
        "outputId": "72b0f883-7540-4328-b70c-ae3bcfb7fc2b",
        "colab": {
          "base_uri": "https://localhost:8080/",
          "height": 235
        }
      },
      "source": [
        "# Get the first entry for each month\n",
        "data.groupby('month').first()"
      ],
      "execution_count": 0,
      "outputs": [
        {
          "output_type": "execute_result",
          "data": {
            "text/html": [
              "<div>\n",
              "<style scoped>\n",
              "    .dataframe tbody tr th:only-of-type {\n",
              "        vertical-align: middle;\n",
              "    }\n",
              "\n",
              "    .dataframe tbody tr th {\n",
              "        vertical-align: top;\n",
              "    }\n",
              "\n",
              "    .dataframe thead th {\n",
              "        text-align: right;\n",
              "    }\n",
              "</style>\n",
              "<table border=\"1\" class=\"dataframe\">\n",
              "  <thead>\n",
              "    <tr style=\"text-align: right;\">\n",
              "      <th></th>\n",
              "      <th>index</th>\n",
              "      <th>date</th>\n",
              "      <th>duration</th>\n",
              "      <th>item</th>\n",
              "      <th>network</th>\n",
              "      <th>network_type</th>\n",
              "    </tr>\n",
              "    <tr>\n",
              "      <th>month</th>\n",
              "      <th></th>\n",
              "      <th></th>\n",
              "      <th></th>\n",
              "      <th></th>\n",
              "      <th></th>\n",
              "      <th></th>\n",
              "    </tr>\n",
              "  </thead>\n",
              "  <tbody>\n",
              "    <tr>\n",
              "      <th>2014-11</th>\n",
              "      <td>0</td>\n",
              "      <td>2014-10-15 06:58:00</td>\n",
              "      <td>34.429</td>\n",
              "      <td>data</td>\n",
              "      <td>data</td>\n",
              "      <td>data</td>\n",
              "    </tr>\n",
              "    <tr>\n",
              "      <th>2014-12</th>\n",
              "      <td>228</td>\n",
              "      <td>2014-11-13 06:58:00</td>\n",
              "      <td>34.429</td>\n",
              "      <td>data</td>\n",
              "      <td>data</td>\n",
              "      <td>data</td>\n",
              "    </tr>\n",
              "    <tr>\n",
              "      <th>2015-01</th>\n",
              "      <td>381</td>\n",
              "      <td>2014-12-13 06:58:00</td>\n",
              "      <td>34.429</td>\n",
              "      <td>data</td>\n",
              "      <td>data</td>\n",
              "      <td>data</td>\n",
              "    </tr>\n",
              "    <tr>\n",
              "      <th>2015-02</th>\n",
              "      <td>577</td>\n",
              "      <td>2015-01-13 06:58:00</td>\n",
              "      <td>34.429</td>\n",
              "      <td>data</td>\n",
              "      <td>data</td>\n",
              "      <td>data</td>\n",
              "    </tr>\n",
              "    <tr>\n",
              "      <th>2015-03</th>\n",
              "      <td>729</td>\n",
              "      <td>2015-02-12 20:15:00</td>\n",
              "      <td>69.000</td>\n",
              "      <td>call</td>\n",
              "      <td>landline</td>\n",
              "      <td>landline</td>\n",
              "    </tr>\n",
              "  </tbody>\n",
              "</table>\n",
              "</div>"
            ],
            "text/plain": [
              "         index                date  duration  item   network network_type\n",
              "month                                                                    \n",
              "2014-11      0 2014-10-15 06:58:00    34.429  data      data         data\n",
              "2014-12    228 2014-11-13 06:58:00    34.429  data      data         data\n",
              "2015-01    381 2014-12-13 06:58:00    34.429  data      data         data\n",
              "2015-02    577 2015-01-13 06:58:00    34.429  data      data         data\n",
              "2015-03    729 2015-02-12 20:15:00    69.000  call  landline     landline"
            ]
          },
          "metadata": {
            "tags": []
          },
          "execution_count": 26
        }
      ]
    },
    {
      "cell_type": "code",
      "metadata": {
        "id": "ZZweJ8AcqPus",
        "colab_type": "code",
        "outputId": "eff6a45b-ad1b-4ae8-9f61-16b949810f9b",
        "colab": {
          "base_uri": "https://localhost:8080/",
          "height": 136
        }
      },
      "source": [
        "# Get the sum of the durations per month\n",
        "data.groupby('month')['duration'].sum()\n"
      ],
      "execution_count": 0,
      "outputs": [
        {
          "output_type": "execute_result",
          "data": {
            "text/plain": [
              "month\n",
              "2014-11    26639.441\n",
              "2014-12    14641.870\n",
              "2015-01    18223.299\n",
              "2015-02    15522.299\n",
              "2015-03    22750.441\n",
              "Name: duration, dtype: float64"
            ]
          },
          "metadata": {
            "tags": []
          },
          "execution_count": 27
        }
      ]
    },
    {
      "cell_type": "code",
      "metadata": {
        "id": "9kJdBUYVqcAM",
        "colab_type": "code",
        "outputId": "350c3dce-e290-49be-b0ba-04079f269e37",
        "colab": {
          "base_uri": "https://localhost:8080/",
          "height": 136
        }
      },
      "source": [
        "# Get the number of dates / entries in each month\n",
        "data.groupby('month')['date'].count()"
      ],
      "execution_count": 0,
      "outputs": [
        {
          "output_type": "execute_result",
          "data": {
            "text/plain": [
              "month\n",
              "2014-11    230\n",
              "2014-12    157\n",
              "2015-01    205\n",
              "2015-02    137\n",
              "2015-03    101\n",
              "Name: date, dtype: int64"
            ]
          },
          "metadata": {
            "tags": []
          },
          "execution_count": 28
        }
      ]
    },
    {
      "cell_type": "code",
      "metadata": {
        "id": "PYGmQ6B7quYH",
        "colab_type": "code",
        "outputId": "5e14c9fe-adc4-495f-c5e7-2f03284c6971",
        "colab": {
          "base_uri": "https://localhost:8080/",
          "height": 153
        }
      },
      "source": [
        "# What is the sum of durations, for calls only, to each network\n",
        "data[data['item'] == 'call'].groupby('network')['duration'].sum()"
      ],
      "execution_count": 0,
      "outputs": [
        {
          "output_type": "execute_result",
          "data": {
            "text/plain": [
              "network\n",
              "Meteor        7200.0\n",
              "Tesco        13828.0\n",
              "Three        36464.0\n",
              "Vodafone     14621.0\n",
              "landline     18433.0\n",
              "voicemail     1775.0\n",
              "Name: duration, dtype: float64"
            ]
          },
          "metadata": {
            "tags": []
          },
          "execution_count": 29
        }
      ]
    },
    {
      "cell_type": "code",
      "metadata": {
        "id": "xlCSm2NKq_td",
        "colab_type": "code",
        "outputId": "46bf2188-f854-44c8-9751-abbda00e4276",
        "colab": {
          "base_uri": "https://localhost:8080/",
          "height": 306
        }
      },
      "source": [
        "# How many calls, sms, and data entries are in each month?\n",
        "data.groupby(['month', 'item'])['date'].count()"
      ],
      "execution_count": 0,
      "outputs": [
        {
          "output_type": "execute_result",
          "data": {
            "text/plain": [
              "month    item\n",
              "2014-11  call    107\n",
              "         data     29\n",
              "         sms      94\n",
              "2014-12  call     79\n",
              "         data     30\n",
              "         sms      48\n",
              "2015-01  call     88\n",
              "         data     31\n",
              "         sms      86\n",
              "2015-02  call     67\n",
              "         data     31\n",
              "         sms      39\n",
              "2015-03  call     47\n",
              "         data     29\n",
              "         sms      25\n",
              "Name: date, dtype: int64"
            ]
          },
          "metadata": {
            "tags": []
          },
          "execution_count": 30
        }
      ]
    },
    {
      "cell_type": "code",
      "metadata": {
        "id": "TccO5G8wrICH",
        "colab_type": "code",
        "outputId": "73a873cd-b88d-41cd-9543-d3e33103a56c",
        "colab": {
          "base_uri": "https://localhost:8080/",
          "height": 459
        }
      },
      "source": [
        "# How many calls, texts, and data are sent per month, split by network_type?\n",
        "data.groupby(['month', 'network_type'])['date'].count()"
      ],
      "execution_count": 0,
      "outputs": [
        {
          "output_type": "execute_result",
          "data": {
            "text/plain": [
              "month    network_type\n",
              "2014-11  data             29\n",
              "         landline          5\n",
              "         mobile          189\n",
              "         special           1\n",
              "         voicemail         6\n",
              "2014-12  data             30\n",
              "         landline          7\n",
              "         mobile          108\n",
              "         voicemail         8\n",
              "         world             4\n",
              "2015-01  data             31\n",
              "         landline         11\n",
              "         mobile          160\n",
              "         voicemail         3\n",
              "2015-02  data             31\n",
              "         landline          8\n",
              "         mobile           90\n",
              "         special           2\n",
              "         voicemail         6\n",
              "2015-03  data             29\n",
              "         landline         11\n",
              "         mobile           54\n",
              "         voicemail         4\n",
              "         world             3\n",
              "Name: date, dtype: int64"
            ]
          },
          "metadata": {
            "tags": []
          },
          "execution_count": 31
        }
      ]
    },
    {
      "cell_type": "code",
      "metadata": {
        "id": "NNfbS76gr1KD",
        "colab_type": "code",
        "outputId": "135bd256-035c-45a1-96ff-f2abf493e3f7",
        "colab": {
          "base_uri": "https://localhost:8080/",
          "height": 204
        }
      },
      "source": [
        "data.groupby('month', as_index=False).agg({\"duration\": \"sum\"})"
      ],
      "execution_count": 0,
      "outputs": [
        {
          "output_type": "execute_result",
          "data": {
            "text/html": [
              "<div>\n",
              "<style scoped>\n",
              "    .dataframe tbody tr th:only-of-type {\n",
              "        vertical-align: middle;\n",
              "    }\n",
              "\n",
              "    .dataframe tbody tr th {\n",
              "        vertical-align: top;\n",
              "    }\n",
              "\n",
              "    .dataframe thead th {\n",
              "        text-align: right;\n",
              "    }\n",
              "</style>\n",
              "<table border=\"1\" class=\"dataframe\">\n",
              "  <thead>\n",
              "    <tr style=\"text-align: right;\">\n",
              "      <th></th>\n",
              "      <th>month</th>\n",
              "      <th>duration</th>\n",
              "    </tr>\n",
              "  </thead>\n",
              "  <tbody>\n",
              "    <tr>\n",
              "      <th>0</th>\n",
              "      <td>2014-11</td>\n",
              "      <td>26639.441</td>\n",
              "    </tr>\n",
              "    <tr>\n",
              "      <th>1</th>\n",
              "      <td>2014-12</td>\n",
              "      <td>14641.870</td>\n",
              "    </tr>\n",
              "    <tr>\n",
              "      <th>2</th>\n",
              "      <td>2015-01</td>\n",
              "      <td>18223.299</td>\n",
              "    </tr>\n",
              "    <tr>\n",
              "      <th>3</th>\n",
              "      <td>2015-02</td>\n",
              "      <td>15522.299</td>\n",
              "    </tr>\n",
              "    <tr>\n",
              "      <th>4</th>\n",
              "      <td>2015-03</td>\n",
              "      <td>22750.441</td>\n",
              "    </tr>\n",
              "  </tbody>\n",
              "</table>\n",
              "</div>"
            ],
            "text/plain": [
              "     month   duration\n",
              "0  2014-11  26639.441\n",
              "1  2014-12  14641.870\n",
              "2  2015-01  18223.299\n",
              "3  2015-02  15522.299\n",
              "4  2015-03  22750.441"
            ]
          },
          "metadata": {
            "tags": []
          },
          "execution_count": 34
        }
      ]
    },
    {
      "cell_type": "code",
      "metadata": {
        "id": "a3flTWZ-s3V4",
        "colab_type": "code",
        "outputId": "b232c84d-abf8-445b-b39b-f65a8caf65ce",
        "colab": {
          "base_uri": "https://localhost:8080/",
          "height": 545
        }
      },
      "source": [
        "# Group the data frame by month and item and extract a number of stats from each group\n",
        "data.groupby(\n",
        "   ['month', 'item']\n",
        ").agg(\n",
        "    {\n",
        "         'duration':sum,    # Sum duration per group\n",
        "         'network_type': \"count\",  # get the count of networks\n",
        "         'date': 'first'  # get the first date per group\n",
        "    }\n",
        ")"
      ],
      "execution_count": 0,
      "outputs": [
        {
          "output_type": "execute_result",
          "data": {
            "text/html": [
              "<div>\n",
              "<style scoped>\n",
              "    .dataframe tbody tr th:only-of-type {\n",
              "        vertical-align: middle;\n",
              "    }\n",
              "\n",
              "    .dataframe tbody tr th {\n",
              "        vertical-align: top;\n",
              "    }\n",
              "\n",
              "    .dataframe thead th {\n",
              "        text-align: right;\n",
              "    }\n",
              "</style>\n",
              "<table border=\"1\" class=\"dataframe\">\n",
              "  <thead>\n",
              "    <tr style=\"text-align: right;\">\n",
              "      <th></th>\n",
              "      <th></th>\n",
              "      <th>duration</th>\n",
              "      <th>network_type</th>\n",
              "      <th>date</th>\n",
              "    </tr>\n",
              "    <tr>\n",
              "      <th>month</th>\n",
              "      <th>item</th>\n",
              "      <th></th>\n",
              "      <th></th>\n",
              "      <th></th>\n",
              "    </tr>\n",
              "  </thead>\n",
              "  <tbody>\n",
              "    <tr>\n",
              "      <th rowspan=\"3\" valign=\"top\">2014-11</th>\n",
              "      <th>call</th>\n",
              "      <td>25547.000</td>\n",
              "      <td>107</td>\n",
              "      <td>2014-10-15 06:58:00</td>\n",
              "    </tr>\n",
              "    <tr>\n",
              "      <th>data</th>\n",
              "      <td>998.441</td>\n",
              "      <td>29</td>\n",
              "      <td>2014-10-15 06:58:00</td>\n",
              "    </tr>\n",
              "    <tr>\n",
              "      <th>sms</th>\n",
              "      <td>94.000</td>\n",
              "      <td>94</td>\n",
              "      <td>2014-10-16 22:18:00</td>\n",
              "    </tr>\n",
              "    <tr>\n",
              "      <th rowspan=\"3\" valign=\"top\">2014-12</th>\n",
              "      <th>call</th>\n",
              "      <td>13561.000</td>\n",
              "      <td>79</td>\n",
              "      <td>2014-11-14 17:24:00</td>\n",
              "    </tr>\n",
              "    <tr>\n",
              "      <th>data</th>\n",
              "      <td>1032.870</td>\n",
              "      <td>30</td>\n",
              "      <td>2014-11-13 06:58:00</td>\n",
              "    </tr>\n",
              "    <tr>\n",
              "      <th>sms</th>\n",
              "      <td>48.000</td>\n",
              "      <td>48</td>\n",
              "      <td>2014-11-14 17:28:00</td>\n",
              "    </tr>\n",
              "    <tr>\n",
              "      <th rowspan=\"3\" valign=\"top\">2015-01</th>\n",
              "      <th>call</th>\n",
              "      <td>17070.000</td>\n",
              "      <td>88</td>\n",
              "      <td>2014-12-15 20:03:00</td>\n",
              "    </tr>\n",
              "    <tr>\n",
              "      <th>data</th>\n",
              "      <td>1067.299</td>\n",
              "      <td>31</td>\n",
              "      <td>2014-12-13 06:58:00</td>\n",
              "    </tr>\n",
              "    <tr>\n",
              "      <th>sms</th>\n",
              "      <td>86.000</td>\n",
              "      <td>86</td>\n",
              "      <td>2014-12-15 19:56:00</td>\n",
              "    </tr>\n",
              "    <tr>\n",
              "      <th rowspan=\"3\" valign=\"top\">2015-02</th>\n",
              "      <th>call</th>\n",
              "      <td>14416.000</td>\n",
              "      <td>67</td>\n",
              "      <td>2015-01-15 10:36:00</td>\n",
              "    </tr>\n",
              "    <tr>\n",
              "      <th>data</th>\n",
              "      <td>1067.299</td>\n",
              "      <td>31</td>\n",
              "      <td>2015-01-13 06:58:00</td>\n",
              "    </tr>\n",
              "    <tr>\n",
              "      <th>sms</th>\n",
              "      <td>39.000</td>\n",
              "      <td>39</td>\n",
              "      <td>2015-01-15 12:23:00</td>\n",
              "    </tr>\n",
              "    <tr>\n",
              "      <th rowspan=\"3\" valign=\"top\">2015-03</th>\n",
              "      <th>call</th>\n",
              "      <td>21727.000</td>\n",
              "      <td>47</td>\n",
              "      <td>2015-02-12 20:15:00</td>\n",
              "    </tr>\n",
              "    <tr>\n",
              "      <th>data</th>\n",
              "      <td>998.441</td>\n",
              "      <td>29</td>\n",
              "      <td>2015-02-13 06:58:00</td>\n",
              "    </tr>\n",
              "    <tr>\n",
              "      <th>sms</th>\n",
              "      <td>25.000</td>\n",
              "      <td>25</td>\n",
              "      <td>2015-02-19 18:46:00</td>\n",
              "    </tr>\n",
              "  </tbody>\n",
              "</table>\n",
              "</div>"
            ],
            "text/plain": [
              "               duration  network_type                date\n",
              "month   item                                             \n",
              "2014-11 call  25547.000           107 2014-10-15 06:58:00\n",
              "        data    998.441            29 2014-10-15 06:58:00\n",
              "        sms      94.000            94 2014-10-16 22:18:00\n",
              "2014-12 call  13561.000            79 2014-11-14 17:24:00\n",
              "        data   1032.870            30 2014-11-13 06:58:00\n",
              "        sms      48.000            48 2014-11-14 17:28:00\n",
              "2015-01 call  17070.000            88 2014-12-15 20:03:00\n",
              "        data   1067.299            31 2014-12-13 06:58:00\n",
              "        sms      86.000            86 2014-12-15 19:56:00\n",
              "2015-02 call  14416.000            67 2015-01-15 10:36:00\n",
              "        data   1067.299            31 2015-01-13 06:58:00\n",
              "        sms      39.000            39 2015-01-15 12:23:00\n",
              "2015-03 call  21727.000            47 2015-02-12 20:15:00\n",
              "        data    998.441            29 2015-02-13 06:58:00\n",
              "        sms      25.000            25 2015-02-19 18:46:00"
            ]
          },
          "metadata": {
            "tags": []
          },
          "execution_count": 35
        }
      ]
    },
    {
      "cell_type": "code",
      "metadata": {
        "id": "MTgTpZmxtK_Y",
        "colab_type": "code",
        "outputId": "636f3e1b-dd70-464e-f309-126312ba3b91",
        "colab": {
          "base_uri": "https://localhost:8080/",
          "height": 576
        }
      },
      "source": [
        "# Group the data frame by month and item and extract a number of stats from each group\n",
        "data.groupby(\n",
        "    ['month', 'item']\n",
        ").agg(\n",
        "    {\n",
        "        # Find the min, max, and sum of the duration column\n",
        "        'duration': [min, max, sum],\n",
        "        # find the number of network type entries\n",
        "        'network_type': \"count\",\n",
        "        # minimum, first, and number of unique dates\n",
        "        'date': [min, 'first', 'nunique']\n",
        "    }\n",
        ")"
      ],
      "execution_count": 0,
      "outputs": [
        {
          "output_type": "execute_result",
          "data": {
            "text/html": [
              "<div>\n",
              "<style scoped>\n",
              "    .dataframe tbody tr th:only-of-type {\n",
              "        vertical-align: middle;\n",
              "    }\n",
              "\n",
              "    .dataframe tbody tr th {\n",
              "        vertical-align: top;\n",
              "    }\n",
              "\n",
              "    .dataframe thead tr th {\n",
              "        text-align: left;\n",
              "    }\n",
              "\n",
              "    .dataframe thead tr:last-of-type th {\n",
              "        text-align: right;\n",
              "    }\n",
              "</style>\n",
              "<table border=\"1\" class=\"dataframe\">\n",
              "  <thead>\n",
              "    <tr>\n",
              "      <th></th>\n",
              "      <th></th>\n",
              "      <th colspan=\"3\" halign=\"left\">duration</th>\n",
              "      <th>network_type</th>\n",
              "      <th colspan=\"3\" halign=\"left\">date</th>\n",
              "    </tr>\n",
              "    <tr>\n",
              "      <th></th>\n",
              "      <th></th>\n",
              "      <th>min</th>\n",
              "      <th>max</th>\n",
              "      <th>sum</th>\n",
              "      <th>count</th>\n",
              "      <th>min</th>\n",
              "      <th>first</th>\n",
              "      <th>nunique</th>\n",
              "    </tr>\n",
              "    <tr>\n",
              "      <th>month</th>\n",
              "      <th>item</th>\n",
              "      <th></th>\n",
              "      <th></th>\n",
              "      <th></th>\n",
              "      <th></th>\n",
              "      <th></th>\n",
              "      <th></th>\n",
              "      <th></th>\n",
              "    </tr>\n",
              "  </thead>\n",
              "  <tbody>\n",
              "    <tr>\n",
              "      <th rowspan=\"3\" valign=\"top\">2014-11</th>\n",
              "      <th>call</th>\n",
              "      <td>1.000</td>\n",
              "      <td>1940.000</td>\n",
              "      <td>25547.000</td>\n",
              "      <td>107</td>\n",
              "      <td>2014-10-15 06:58:00</td>\n",
              "      <td>2014-10-15 06:58:00</td>\n",
              "      <td>104</td>\n",
              "    </tr>\n",
              "    <tr>\n",
              "      <th>data</th>\n",
              "      <td>34.429</td>\n",
              "      <td>34.429</td>\n",
              "      <td>998.441</td>\n",
              "      <td>29</td>\n",
              "      <td>2014-10-15 06:58:00</td>\n",
              "      <td>2014-10-15 06:58:00</td>\n",
              "      <td>29</td>\n",
              "    </tr>\n",
              "    <tr>\n",
              "      <th>sms</th>\n",
              "      <td>1.000</td>\n",
              "      <td>1.000</td>\n",
              "      <td>94.000</td>\n",
              "      <td>94</td>\n",
              "      <td>2014-10-16 22:18:00</td>\n",
              "      <td>2014-10-16 22:18:00</td>\n",
              "      <td>79</td>\n",
              "    </tr>\n",
              "    <tr>\n",
              "      <th rowspan=\"3\" valign=\"top\">2014-12</th>\n",
              "      <th>call</th>\n",
              "      <td>2.000</td>\n",
              "      <td>2120.000</td>\n",
              "      <td>13561.000</td>\n",
              "      <td>79</td>\n",
              "      <td>2014-11-14 17:24:00</td>\n",
              "      <td>2014-11-14 17:24:00</td>\n",
              "      <td>76</td>\n",
              "    </tr>\n",
              "    <tr>\n",
              "      <th>data</th>\n",
              "      <td>34.429</td>\n",
              "      <td>34.429</td>\n",
              "      <td>1032.870</td>\n",
              "      <td>30</td>\n",
              "      <td>2014-11-13 06:58:00</td>\n",
              "      <td>2014-11-13 06:58:00</td>\n",
              "      <td>30</td>\n",
              "    </tr>\n",
              "    <tr>\n",
              "      <th>sms</th>\n",
              "      <td>1.000</td>\n",
              "      <td>1.000</td>\n",
              "      <td>48.000</td>\n",
              "      <td>48</td>\n",
              "      <td>2014-11-14 17:28:00</td>\n",
              "      <td>2014-11-14 17:28:00</td>\n",
              "      <td>41</td>\n",
              "    </tr>\n",
              "    <tr>\n",
              "      <th rowspan=\"3\" valign=\"top\">2015-01</th>\n",
              "      <th>call</th>\n",
              "      <td>2.000</td>\n",
              "      <td>1859.000</td>\n",
              "      <td>17070.000</td>\n",
              "      <td>88</td>\n",
              "      <td>2014-12-15 20:03:00</td>\n",
              "      <td>2014-12-15 20:03:00</td>\n",
              "      <td>84</td>\n",
              "    </tr>\n",
              "    <tr>\n",
              "      <th>data</th>\n",
              "      <td>34.429</td>\n",
              "      <td>34.429</td>\n",
              "      <td>1067.299</td>\n",
              "      <td>31</td>\n",
              "      <td>2014-12-13 06:58:00</td>\n",
              "      <td>2014-12-13 06:58:00</td>\n",
              "      <td>31</td>\n",
              "    </tr>\n",
              "    <tr>\n",
              "      <th>sms</th>\n",
              "      <td>1.000</td>\n",
              "      <td>1.000</td>\n",
              "      <td>86.000</td>\n",
              "      <td>86</td>\n",
              "      <td>2014-12-15 19:56:00</td>\n",
              "      <td>2014-12-15 19:56:00</td>\n",
              "      <td>58</td>\n",
              "    </tr>\n",
              "    <tr>\n",
              "      <th rowspan=\"3\" valign=\"top\">2015-02</th>\n",
              "      <th>call</th>\n",
              "      <td>1.000</td>\n",
              "      <td>1863.000</td>\n",
              "      <td>14416.000</td>\n",
              "      <td>67</td>\n",
              "      <td>2015-01-15 10:36:00</td>\n",
              "      <td>2015-01-15 10:36:00</td>\n",
              "      <td>67</td>\n",
              "    </tr>\n",
              "    <tr>\n",
              "      <th>data</th>\n",
              "      <td>34.429</td>\n",
              "      <td>34.429</td>\n",
              "      <td>1067.299</td>\n",
              "      <td>31</td>\n",
              "      <td>2015-01-13 06:58:00</td>\n",
              "      <td>2015-01-13 06:58:00</td>\n",
              "      <td>31</td>\n",
              "    </tr>\n",
              "    <tr>\n",
              "      <th>sms</th>\n",
              "      <td>1.000</td>\n",
              "      <td>1.000</td>\n",
              "      <td>39.000</td>\n",
              "      <td>39</td>\n",
              "      <td>2015-01-15 12:23:00</td>\n",
              "      <td>2015-01-15 12:23:00</td>\n",
              "      <td>27</td>\n",
              "    </tr>\n",
              "    <tr>\n",
              "      <th rowspan=\"3\" valign=\"top\">2015-03</th>\n",
              "      <th>call</th>\n",
              "      <td>2.000</td>\n",
              "      <td>10528.000</td>\n",
              "      <td>21727.000</td>\n",
              "      <td>47</td>\n",
              "      <td>2015-02-12 20:15:00</td>\n",
              "      <td>2015-02-12 20:15:00</td>\n",
              "      <td>47</td>\n",
              "    </tr>\n",
              "    <tr>\n",
              "      <th>data</th>\n",
              "      <td>34.429</td>\n",
              "      <td>34.429</td>\n",
              "      <td>998.441</td>\n",
              "      <td>29</td>\n",
              "      <td>2015-02-13 06:58:00</td>\n",
              "      <td>2015-02-13 06:58:00</td>\n",
              "      <td>29</td>\n",
              "    </tr>\n",
              "    <tr>\n",
              "      <th>sms</th>\n",
              "      <td>1.000</td>\n",
              "      <td>1.000</td>\n",
              "      <td>25.000</td>\n",
              "      <td>25</td>\n",
              "      <td>2015-02-19 18:46:00</td>\n",
              "      <td>2015-02-19 18:46:00</td>\n",
              "      <td>17</td>\n",
              "    </tr>\n",
              "  </tbody>\n",
              "</table>\n",
              "</div>"
            ],
            "text/plain": [
              "             duration                       network_type                date  \\\n",
              "                  min        max        sum        count                 min   \n",
              "month   item                                                                   \n",
              "2014-11 call    1.000   1940.000  25547.000          107 2014-10-15 06:58:00   \n",
              "        data   34.429     34.429    998.441           29 2014-10-15 06:58:00   \n",
              "        sms     1.000      1.000     94.000           94 2014-10-16 22:18:00   \n",
              "2014-12 call    2.000   2120.000  13561.000           79 2014-11-14 17:24:00   \n",
              "        data   34.429     34.429   1032.870           30 2014-11-13 06:58:00   \n",
              "        sms     1.000      1.000     48.000           48 2014-11-14 17:28:00   \n",
              "2015-01 call    2.000   1859.000  17070.000           88 2014-12-15 20:03:00   \n",
              "        data   34.429     34.429   1067.299           31 2014-12-13 06:58:00   \n",
              "        sms     1.000      1.000     86.000           86 2014-12-15 19:56:00   \n",
              "2015-02 call    1.000   1863.000  14416.000           67 2015-01-15 10:36:00   \n",
              "        data   34.429     34.429   1067.299           31 2015-01-13 06:58:00   \n",
              "        sms     1.000      1.000     39.000           39 2015-01-15 12:23:00   \n",
              "2015-03 call    2.000  10528.000  21727.000           47 2015-02-12 20:15:00   \n",
              "        data   34.429     34.429    998.441           29 2015-02-13 06:58:00   \n",
              "        sms     1.000      1.000     25.000           25 2015-02-19 18:46:00   \n",
              "\n",
              "                                          \n",
              "                           first nunique  \n",
              "month   item                              \n",
              "2014-11 call 2014-10-15 06:58:00     104  \n",
              "        data 2014-10-15 06:58:00      29  \n",
              "        sms  2014-10-16 22:18:00      79  \n",
              "2014-12 call 2014-11-14 17:24:00      76  \n",
              "        data 2014-11-13 06:58:00      30  \n",
              "        sms  2014-11-14 17:28:00      41  \n",
              "2015-01 call 2014-12-15 20:03:00      84  \n",
              "        data 2014-12-13 06:58:00      31  \n",
              "        sms  2014-12-15 19:56:00      58  \n",
              "2015-02 call 2015-01-15 10:36:00      67  \n",
              "        data 2015-01-13 06:58:00      31  \n",
              "        sms  2015-01-15 12:23:00      27  \n",
              "2015-03 call 2015-02-12 20:15:00      47  \n",
              "        data 2015-02-13 06:58:00      29  \n",
              "        sms  2015-02-19 18:46:00      17  "
            ]
          },
          "metadata": {
            "tags": []
          },
          "execution_count": 38
        }
      ]
    },
    {
      "cell_type": "code",
      "metadata": {
        "id": "umeE50Ztv-gM",
        "colab_type": "code",
        "outputId": "f16a39b6-3434-476f-d90d-634c1c034dd4",
        "colab": {
          "base_uri": "https://localhost:8080/",
          "height": 235
        }
      },
      "source": [
        "data[data['item'] == 'call'].groupby('month').agg(\n",
        "    # Get max of the duration column for each group\n",
        "    max_duration=('duration', max),\n",
        "    # Get min of the duration column for each group\n",
        "    min_duration=('duration', min),\n",
        "    # Get sum of the duration column for each group\n",
        "    total_duration=('duration', sum),\n",
        "    # Apply a lambda to date column\n",
        "    num_days=(\"date\", lambda x: (max(x) - min(x)).days)    \n",
        ")"
      ],
      "execution_count": 0,
      "outputs": [
        {
          "output_type": "execute_result",
          "data": {
            "text/html": [
              "<div>\n",
              "<style scoped>\n",
              "    .dataframe tbody tr th:only-of-type {\n",
              "        vertical-align: middle;\n",
              "    }\n",
              "\n",
              "    .dataframe tbody tr th {\n",
              "        vertical-align: top;\n",
              "    }\n",
              "\n",
              "    .dataframe thead th {\n",
              "        text-align: right;\n",
              "    }\n",
              "</style>\n",
              "<table border=\"1\" class=\"dataframe\">\n",
              "  <thead>\n",
              "    <tr style=\"text-align: right;\">\n",
              "      <th></th>\n",
              "      <th>max_duration</th>\n",
              "      <th>min_duration</th>\n",
              "      <th>total_duration</th>\n",
              "      <th>num_days</th>\n",
              "    </tr>\n",
              "    <tr>\n",
              "      <th>month</th>\n",
              "      <th></th>\n",
              "      <th></th>\n",
              "      <th></th>\n",
              "      <th></th>\n",
              "    </tr>\n",
              "  </thead>\n",
              "  <tbody>\n",
              "    <tr>\n",
              "      <th>2014-11</th>\n",
              "      <td>1940.0</td>\n",
              "      <td>1.0</td>\n",
              "      <td>25547.0</td>\n",
              "      <td>28</td>\n",
              "    </tr>\n",
              "    <tr>\n",
              "      <th>2014-12</th>\n",
              "      <td>2120.0</td>\n",
              "      <td>2.0</td>\n",
              "      <td>13561.0</td>\n",
              "      <td>30</td>\n",
              "    </tr>\n",
              "    <tr>\n",
              "      <th>2015-01</th>\n",
              "      <td>1859.0</td>\n",
              "      <td>2.0</td>\n",
              "      <td>17070.0</td>\n",
              "      <td>30</td>\n",
              "    </tr>\n",
              "    <tr>\n",
              "      <th>2015-02</th>\n",
              "      <td>1863.0</td>\n",
              "      <td>1.0</td>\n",
              "      <td>14416.0</td>\n",
              "      <td>25</td>\n",
              "    </tr>\n",
              "    <tr>\n",
              "      <th>2015-03</th>\n",
              "      <td>10528.0</td>\n",
              "      <td>2.0</td>\n",
              "      <td>21727.0</td>\n",
              "      <td>19</td>\n",
              "    </tr>\n",
              "  </tbody>\n",
              "</table>\n",
              "</div>"
            ],
            "text/plain": [
              "         max_duration  min_duration  total_duration  num_days\n",
              "month                                                        \n",
              "2014-11        1940.0           1.0         25547.0        28\n",
              "2014-12        2120.0           2.0         13561.0        30\n",
              "2015-01        1859.0           2.0         17070.0        30\n",
              "2015-02        1863.0           1.0         14416.0        25\n",
              "2015-03       10528.0           2.0         21727.0        19"
            ]
          },
          "metadata": {
            "tags": []
          },
          "execution_count": 39
        }
      ]
    },
    {
      "cell_type": "code",
      "metadata": {
        "id": "MQvQmmNgwSWW",
        "colab_type": "code",
        "outputId": "ce180b5b-5d94-47c3-af3c-7eaf1cd1f328",
        "colab": {
          "base_uri": "https://localhost:8080/",
          "height": 235
        }
      },
      "source": [
        "data[data['item'] == 'call'].groupby('month').agg(\n",
        "    max_duration=pd.NamedAgg(column='duration', aggfunc=max),\n",
        "    min_duration=pd.NamedAgg(column='duration', aggfunc=min),\n",
        "    total_duration=pd.NamedAgg(column='duration', aggfunc=sum),\n",
        "    num_days=pd.NamedAgg(\n",
        "        column=\"date\", \n",
        "        aggfunc=lambda x: (max(x) - min(x)).days)    \n",
        ")"
      ],
      "execution_count": 0,
      "outputs": [
        {
          "output_type": "execute_result",
          "data": {
            "text/html": [
              "<div>\n",
              "<style scoped>\n",
              "    .dataframe tbody tr th:only-of-type {\n",
              "        vertical-align: middle;\n",
              "    }\n",
              "\n",
              "    .dataframe tbody tr th {\n",
              "        vertical-align: top;\n",
              "    }\n",
              "\n",
              "    .dataframe thead th {\n",
              "        text-align: right;\n",
              "    }\n",
              "</style>\n",
              "<table border=\"1\" class=\"dataframe\">\n",
              "  <thead>\n",
              "    <tr style=\"text-align: right;\">\n",
              "      <th></th>\n",
              "      <th>max_duration</th>\n",
              "      <th>min_duration</th>\n",
              "      <th>total_duration</th>\n",
              "      <th>num_days</th>\n",
              "    </tr>\n",
              "    <tr>\n",
              "      <th>month</th>\n",
              "      <th></th>\n",
              "      <th></th>\n",
              "      <th></th>\n",
              "      <th></th>\n",
              "    </tr>\n",
              "  </thead>\n",
              "  <tbody>\n",
              "    <tr>\n",
              "      <th>2014-11</th>\n",
              "      <td>1940.0</td>\n",
              "      <td>1.0</td>\n",
              "      <td>25547.0</td>\n",
              "      <td>28</td>\n",
              "    </tr>\n",
              "    <tr>\n",
              "      <th>2014-12</th>\n",
              "      <td>2120.0</td>\n",
              "      <td>2.0</td>\n",
              "      <td>13561.0</td>\n",
              "      <td>30</td>\n",
              "    </tr>\n",
              "    <tr>\n",
              "      <th>2015-01</th>\n",
              "      <td>1859.0</td>\n",
              "      <td>2.0</td>\n",
              "      <td>17070.0</td>\n",
              "      <td>30</td>\n",
              "    </tr>\n",
              "    <tr>\n",
              "      <th>2015-02</th>\n",
              "      <td>1863.0</td>\n",
              "      <td>1.0</td>\n",
              "      <td>14416.0</td>\n",
              "      <td>25</td>\n",
              "    </tr>\n",
              "    <tr>\n",
              "      <th>2015-03</th>\n",
              "      <td>10528.0</td>\n",
              "      <td>2.0</td>\n",
              "      <td>21727.0</td>\n",
              "      <td>19</td>\n",
              "    </tr>\n",
              "  </tbody>\n",
              "</table>\n",
              "</div>"
            ],
            "text/plain": [
              "         max_duration  min_duration  total_duration  num_days\n",
              "month                                                        \n",
              "2014-11        1940.0           1.0         25547.0        28\n",
              "2014-12        2120.0           2.0         13561.0        30\n",
              "2015-01        1859.0           2.0         17070.0        30\n",
              "2015-02        1863.0           1.0         14416.0        25\n",
              "2015-03       10528.0           2.0         21727.0        19"
            ]
          },
          "metadata": {
            "tags": []
          },
          "execution_count": 40
        }
      ]
    },
    {
      "cell_type": "code",
      "metadata": {
        "id": "XHf_nFUQwkwJ",
        "colab_type": "code",
        "outputId": "9336ca6c-d8ea-43e2-8070-f0fbb60bb358",
        "colab": {
          "base_uri": "https://localhost:8080/",
          "height": 266
        }
      },
      "source": [
        "# Define the aggregation calculations\n",
        "aggregations = {\n",
        "    # work on the \"duration\" column\n",
        "    'duration': { \n",
        "        # get the sum, and call this result 'total_duration'\n",
        "        'total_duration': 'sum',  \n",
        "        # get mean, call result 'average_duration'\n",
        "        'average_duration': 'mean', \n",
        "        'num_calls': 'count'\n",
        "    },\n",
        "    # Now work on the \"date\" column\n",
        "    'date': {     \n",
        "        # Find the max, call the result \"max_date\" \n",
        "        'max_date': 'max',           \n",
        "        'min_date': 'min',\n",
        "        # Calculate the date range per group\n",
        "        'num_days': lambda x: max(x) - min(x)  \n",
        "    },\n",
        "     # Calculate two results for the 'network' column with a list\n",
        "    'network': [\"count\", \"max\"] \n",
        "}\n",
        "# Perform groupby aggregation by \"month\", \n",
        "# but only on the rows that are of type \"call\"\n",
        "data[data['item'] == 'call'].groupby('month').agg(aggregations)"
      ],
      "execution_count": 0,
      "outputs": [
        {
          "output_type": "execute_result",
          "data": {
            "text/html": [
              "<div>\n",
              "<style scoped>\n",
              "    .dataframe tbody tr th:only-of-type {\n",
              "        vertical-align: middle;\n",
              "    }\n",
              "\n",
              "    .dataframe tbody tr th {\n",
              "        vertical-align: top;\n",
              "    }\n",
              "\n",
              "    .dataframe thead tr th {\n",
              "        text-align: left;\n",
              "    }\n",
              "\n",
              "    .dataframe thead tr:last-of-type th {\n",
              "        text-align: right;\n",
              "    }\n",
              "</style>\n",
              "<table border=\"1\" class=\"dataframe\">\n",
              "  <thead>\n",
              "    <tr>\n",
              "      <th></th>\n",
              "      <th colspan=\"3\" halign=\"left\">duration</th>\n",
              "      <th colspan=\"3\" halign=\"left\">date</th>\n",
              "      <th colspan=\"2\" halign=\"left\">network</th>\n",
              "    </tr>\n",
              "    <tr>\n",
              "      <th></th>\n",
              "      <th>total_duration</th>\n",
              "      <th>average_duration</th>\n",
              "      <th>num_calls</th>\n",
              "      <th>max_date</th>\n",
              "      <th>min_date</th>\n",
              "      <th>num_days</th>\n",
              "      <th>count</th>\n",
              "      <th>max</th>\n",
              "    </tr>\n",
              "    <tr>\n",
              "      <th>month</th>\n",
              "      <th></th>\n",
              "      <th></th>\n",
              "      <th></th>\n",
              "      <th></th>\n",
              "      <th></th>\n",
              "      <th></th>\n",
              "      <th></th>\n",
              "      <th></th>\n",
              "    </tr>\n",
              "  </thead>\n",
              "  <tbody>\n",
              "    <tr>\n",
              "      <th>2014-11</th>\n",
              "      <td>25547.0</td>\n",
              "      <td>238.757009</td>\n",
              "      <td>107</td>\n",
              "      <td>2014-11-12 19:01:00</td>\n",
              "      <td>2014-10-15 06:58:00</td>\n",
              "      <td>28 days 12:03:00</td>\n",
              "      <td>107</td>\n",
              "      <td>voicemail</td>\n",
              "    </tr>\n",
              "    <tr>\n",
              "      <th>2014-12</th>\n",
              "      <td>13561.0</td>\n",
              "      <td>171.658228</td>\n",
              "      <td>79</td>\n",
              "      <td>2014-12-14 19:54:00</td>\n",
              "      <td>2014-11-14 17:24:00</td>\n",
              "      <td>30 days 02:30:00</td>\n",
              "      <td>79</td>\n",
              "      <td>voicemail</td>\n",
              "    </tr>\n",
              "    <tr>\n",
              "      <th>2015-01</th>\n",
              "      <td>17070.0</td>\n",
              "      <td>193.977273</td>\n",
              "      <td>88</td>\n",
              "      <td>2015-01-14 20:47:00</td>\n",
              "      <td>2014-12-15 20:03:00</td>\n",
              "      <td>30 days 00:44:00</td>\n",
              "      <td>88</td>\n",
              "      <td>voicemail</td>\n",
              "    </tr>\n",
              "    <tr>\n",
              "      <th>2015-02</th>\n",
              "      <td>14416.0</td>\n",
              "      <td>215.164179</td>\n",
              "      <td>67</td>\n",
              "      <td>2015-02-09 17:54:00</td>\n",
              "      <td>2015-01-15 10:36:00</td>\n",
              "      <td>25 days 07:18:00</td>\n",
              "      <td>67</td>\n",
              "      <td>voicemail</td>\n",
              "    </tr>\n",
              "    <tr>\n",
              "      <th>2015-03</th>\n",
              "      <td>21727.0</td>\n",
              "      <td>462.276596</td>\n",
              "      <td>47</td>\n",
              "      <td>2015-03-04 12:29:00</td>\n",
              "      <td>2015-02-12 20:15:00</td>\n",
              "      <td>19 days 16:14:00</td>\n",
              "      <td>47</td>\n",
              "      <td>voicemail</td>\n",
              "    </tr>\n",
              "  </tbody>\n",
              "</table>\n",
              "</div>"
            ],
            "text/plain": [
              "              duration                                           date  \\\n",
              "        total_duration average_duration num_calls            max_date   \n",
              "month                                                                   \n",
              "2014-11        25547.0       238.757009       107 2014-11-12 19:01:00   \n",
              "2014-12        13561.0       171.658228        79 2014-12-14 19:54:00   \n",
              "2015-01        17070.0       193.977273        88 2015-01-14 20:47:00   \n",
              "2015-02        14416.0       215.164179        67 2015-02-09 17:54:00   \n",
              "2015-03        21727.0       462.276596        47 2015-03-04 12:29:00   \n",
              "\n",
              "                                             network             \n",
              "                   min_date         num_days   count        max  \n",
              "month                                                            \n",
              "2014-11 2014-10-15 06:58:00 28 days 12:03:00     107  voicemail  \n",
              "2014-12 2014-11-14 17:24:00 30 days 02:30:00      79  voicemail  \n",
              "2015-01 2014-12-15 20:03:00 30 days 00:44:00      88  voicemail  \n",
              "2015-02 2015-01-15 10:36:00 25 days 07:18:00      67  voicemail  \n",
              "2015-03 2015-02-12 20:15:00 19 days 16:14:00      47  voicemail  "
            ]
          },
          "metadata": {
            "tags": []
          },
          "execution_count": 46
        }
      ]
    },
    {
      "cell_type": "markdown",
      "metadata": {
        "id": "KnmS_AH6yzGO",
        "colab_type": "text"
      },
      "source": [
        "**PandaSQL**"
      ]
    },
    {
      "cell_type": "code",
      "metadata": {
        "id": "NXgykOXjzSiH",
        "colab_type": "code",
        "outputId": "c1bbde2c-71ad-4699-8672-ac7fc93aa342",
        "colab": {
          "base_uri": "https://localhost:8080/",
          "height": 272
        }
      },
      "source": [
        "pip install pandasql"
      ],
      "execution_count": 0,
      "outputs": [
        {
          "output_type": "stream",
          "text": [
            "Collecting pandasql\n",
            "  Downloading https://files.pythonhosted.org/packages/6b/c4/ee4096ffa2eeeca0c749b26f0371bd26aa5c8b611c43de99a4f86d3de0a7/pandasql-0.7.3.tar.gz\n",
            "Requirement already satisfied: numpy in /usr/local/lib/python3.6/dist-packages (from pandasql) (1.17.5)\n",
            "Requirement already satisfied: pandas in /usr/local/lib/python3.6/dist-packages (from pandasql) (0.25.3)\n",
            "Requirement already satisfied: sqlalchemy in /usr/local/lib/python3.6/dist-packages (from pandasql) (1.3.13)\n",
            "Requirement already satisfied: pytz>=2017.2 in /usr/local/lib/python3.6/dist-packages (from pandas->pandasql) (2018.9)\n",
            "Requirement already satisfied: python-dateutil>=2.6.1 in /usr/local/lib/python3.6/dist-packages (from pandas->pandasql) (2.6.1)\n",
            "Requirement already satisfied: six>=1.5 in /usr/local/lib/python3.6/dist-packages (from python-dateutil>=2.6.1->pandas->pandasql) (1.12.0)\n",
            "Building wheels for collected packages: pandasql\n",
            "  Building wheel for pandasql (setup.py) ... \u001b[?25l\u001b[?25hdone\n",
            "  Created wheel for pandasql: filename=pandasql-0.7.3-cp36-none-any.whl size=26819 sha256=c26bd04ff0623c4d8f8bdfead2428a4b15e0fda4261b462b79deb9ee844a1a8a\n",
            "  Stored in directory: /root/.cache/pip/wheels/53/6c/18/b87a2e5fa8a82e9c026311de56210b8d1c01846e18a9607fc9\n",
            "Successfully built pandasql\n",
            "Installing collected packages: pandasql\n",
            "Successfully installed pandasql-0.7.3\n"
          ],
          "name": "stdout"
        }
      ]
    },
    {
      "cell_type": "code",
      "metadata": {
        "id": "ookdrPJty2wM",
        "colab_type": "code",
        "colab": {}
      },
      "source": [
        "%matplotlib inline\n",
        "import pandas as pd\n",
        "import pandasql as ps\n",
        "from datetime import datetime\n",
        "import seaborn\n",
        "import matplotlib.pyplot as plt\n",
        "\n",
        "%config InlineBackend.figure_format = 'svg'\n",
        "from pylab import rcParams\n",
        "rcParams['figure.figsize'] = 8, 5"
      ],
      "execution_count": 0,
      "outputs": []
    },
    {
      "cell_type": "code",
      "metadata": {
        "id": "RvNETf3NzZQK",
        "colab_type": "code",
        "outputId": "6a79667c-73a7-454d-9117-2d277283dd03",
        "colab": {
          "base_uri": "https://localhost:8080/",
          "height": 34
        }
      },
      "source": [
        "pd.__version__"
      ],
      "execution_count": 0,
      "outputs": [
        {
          "output_type": "execute_result",
          "data": {
            "text/plain": [
              "'0.25.3'"
            ]
          },
          "metadata": {
            "tags": []
          },
          "execution_count": 50
        }
      ]
    },
    {
      "cell_type": "code",
      "metadata": {
        "id": "fXEhjDSvzhwT",
        "colab_type": "code",
        "colab": {}
      },
      "source": [
        "project_submissions = pd.read_csv('project_submissions.csv')\n",
        "daily_engagements = pd.read_csv('daily_engagement.csv')\n",
        "enrollments = pd.read_csv('enrollments.csv')"
      ],
      "execution_count": 0,
      "outputs": []
    },
    {
      "cell_type": "code",
      "metadata": {
        "id": "HA1OavX-eDLJ",
        "colab_type": "code",
        "outputId": "009fd9dd-ded6-4b79-e481-92fe25b3af61",
        "colab": {
          "base_uri": "https://localhost:8080/",
          "height": 34
        }
      },
      "source": [
        "\n"
      ],
      "execution_count": 0,
      "outputs": [
        {
          "output_type": "execute_result",
          "data": {
            "text/plain": [
              "(136240, 7)"
            ]
          },
          "metadata": {
            "tags": []
          },
          "execution_count": 129
        }
      ]
    },
    {
      "cell_type": "markdown",
      "metadata": {
        "id": "ekCGsssI0a9k",
        "colab_type": "text"
      },
      "source": [
        "**Simple SQL query**\n",
        "\n",
        "getting accounts and date with maximum total time spent on Udacity"
      ]
    },
    {
      "cell_type": "code",
      "metadata": {
        "id": "6FXSi6Qi0wom",
        "colab_type": "code",
        "colab": {}
      },
      "source": [
        "# pandasql code\n",
        "def example1_pandasql(daily_engagements):\n",
        "    simple_query = '''\n",
        "        SELECT \n",
        "            acct, \n",
        "            total_minutes_visited,\n",
        "            utc_date\n",
        "        FROM daily_engagements \n",
        "        ORDER BY total_minutes_visited desc\n",
        "        LIMIT 10\n",
        "        '''\n",
        "    return ps.sqldf(simple_query, locals())\n",
        "\n",
        "# pandas code\n",
        "def example1_pandas(daily_engagements):\n",
        "    return daily_engagements[['acct', 'total_minutes_visited', 'utc_date']].sort_values(by ='total_minutes_visited', ascending = False)[:10]"
      ],
      "execution_count": 0,
      "outputs": []
    },
    {
      "cell_type": "code",
      "metadata": {
        "id": "XyYiEsuF0yxP",
        "colab_type": "code",
        "outputId": "0010b68f-5091-49e0-d39a-8b401e8015e7",
        "colab": {
          "base_uri": "https://localhost:8080/",
          "height": 359
        }
      },
      "source": [
        "example1_pandasql(daily_engagements)"
      ],
      "execution_count": 0,
      "outputs": [
        {
          "output_type": "execute_result",
          "data": {
            "text/html": [
              "<div>\n",
              "<style scoped>\n",
              "    .dataframe tbody tr th:only-of-type {\n",
              "        vertical-align: middle;\n",
              "    }\n",
              "\n",
              "    .dataframe tbody tr th {\n",
              "        vertical-align: top;\n",
              "    }\n",
              "\n",
              "    .dataframe thead th {\n",
              "        text-align: right;\n",
              "    }\n",
              "</style>\n",
              "<table border=\"1\" class=\"dataframe\">\n",
              "  <thead>\n",
              "    <tr style=\"text-align: right;\">\n",
              "      <th></th>\n",
              "      <th>acct</th>\n",
              "      <th>total_minutes_visited</th>\n",
              "      <th>utc_date</th>\n",
              "    </tr>\n",
              "  </thead>\n",
              "  <tbody>\n",
              "    <tr>\n",
              "      <th>0</th>\n",
              "      <td>317</td>\n",
              "      <td>1030.883197</td>\n",
              "      <td>2015-07-11</td>\n",
              "    </tr>\n",
              "    <tr>\n",
              "      <th>1</th>\n",
              "      <td>328</td>\n",
              "      <td>945.538914</td>\n",
              "      <td>2015-07-09</td>\n",
              "    </tr>\n",
              "    <tr>\n",
              "      <th>2</th>\n",
              "      <td>198</td>\n",
              "      <td>876.512846</td>\n",
              "      <td>2014-12-30</td>\n",
              "    </tr>\n",
              "    <tr>\n",
              "      <th>3</th>\n",
              "      <td>163</td>\n",
              "      <td>872.633923</td>\n",
              "      <td>2015-07-10</td>\n",
              "    </tr>\n",
              "    <tr>\n",
              "      <th>4</th>\n",
              "      <td>573</td>\n",
              "      <td>866.405226</td>\n",
              "      <td>2015-07-11</td>\n",
              "    </tr>\n",
              "    <tr>\n",
              "      <th>5</th>\n",
              "      <td>303</td>\n",
              "      <td>856.634726</td>\n",
              "      <td>2015-05-14</td>\n",
              "    </tr>\n",
              "    <tr>\n",
              "      <th>6</th>\n",
              "      <td>619</td>\n",
              "      <td>853.253236</td>\n",
              "      <td>2015-07-10</td>\n",
              "    </tr>\n",
              "    <tr>\n",
              "      <th>7</th>\n",
              "      <td>163</td>\n",
              "      <td>850.519340</td>\n",
              "      <td>2015-07-09</td>\n",
              "    </tr>\n",
              "    <tr>\n",
              "      <th>8</th>\n",
              "      <td>108</td>\n",
              "      <td>820.879483</td>\n",
              "      <td>2015-02-20</td>\n",
              "    </tr>\n",
              "    <tr>\n",
              "      <th>9</th>\n",
              "      <td>278</td>\n",
              "      <td>816.895443</td>\n",
              "      <td>2015-07-09</td>\n",
              "    </tr>\n",
              "  </tbody>\n",
              "</table>\n",
              "</div>"
            ],
            "text/plain": [
              "   acct  total_minutes_visited    utc_date\n",
              "0   317            1030.883197  2015-07-11\n",
              "1   328             945.538914  2015-07-09\n",
              "2   198             876.512846  2014-12-30\n",
              "3   163             872.633923  2015-07-10\n",
              "4   573             866.405226  2015-07-11\n",
              "5   303             856.634726  2015-05-14\n",
              "6   619             853.253236  2015-07-10\n",
              "7   163             850.519340  2015-07-09\n",
              "8   108             820.879483  2015-02-20\n",
              "9   278             816.895443  2015-07-09"
            ]
          },
          "metadata": {
            "tags": []
          },
          "execution_count": 55
        }
      ]
    },
    {
      "cell_type": "code",
      "metadata": {
        "id": "p3tp3adc03Bc",
        "colab_type": "code",
        "outputId": "5fadbbc7-3e7f-4b0b-b64e-9f2eaa8b3277",
        "colab": {
          "base_uri": "https://localhost:8080/",
          "height": 359
        }
      },
      "source": [
        "example1_pandas(daily_engagements)"
      ],
      "execution_count": 0,
      "outputs": [
        {
          "output_type": "execute_result",
          "data": {
            "text/html": [
              "<div>\n",
              "<style scoped>\n",
              "    .dataframe tbody tr th:only-of-type {\n",
              "        vertical-align: middle;\n",
              "    }\n",
              "\n",
              "    .dataframe tbody tr th {\n",
              "        vertical-align: top;\n",
              "    }\n",
              "\n",
              "    .dataframe thead th {\n",
              "        text-align: right;\n",
              "    }\n",
              "</style>\n",
              "<table border=\"1\" class=\"dataframe\">\n",
              "  <thead>\n",
              "    <tr style=\"text-align: right;\">\n",
              "      <th></th>\n",
              "      <th>acct</th>\n",
              "      <th>total_minutes_visited</th>\n",
              "      <th>utc_date</th>\n",
              "    </tr>\n",
              "  </thead>\n",
              "  <tbody>\n",
              "    <tr>\n",
              "      <th>54536</th>\n",
              "      <td>317</td>\n",
              "      <td>1030.883197</td>\n",
              "      <td>2015-07-11</td>\n",
              "    </tr>\n",
              "    <tr>\n",
              "      <th>56403</th>\n",
              "      <td>328</td>\n",
              "      <td>945.538914</td>\n",
              "      <td>2015-07-09</td>\n",
              "    </tr>\n",
              "    <tr>\n",
              "      <th>33728</th>\n",
              "      <td>198</td>\n",
              "      <td>876.512846</td>\n",
              "      <td>2014-12-30</td>\n",
              "    </tr>\n",
              "    <tr>\n",
              "      <th>27699</th>\n",
              "      <td>163</td>\n",
              "      <td>872.633923</td>\n",
              "      <td>2015-07-10</td>\n",
              "    </tr>\n",
              "    <tr>\n",
              "      <th>97492</th>\n",
              "      <td>573</td>\n",
              "      <td>866.405226</td>\n",
              "      <td>2015-07-11</td>\n",
              "    </tr>\n",
              "    <tr>\n",
              "      <th>51779</th>\n",
              "      <td>303</td>\n",
              "      <td>856.634726</td>\n",
              "      <td>2015-05-14</td>\n",
              "    </tr>\n",
              "    <tr>\n",
              "      <th>105968</th>\n",
              "      <td>619</td>\n",
              "      <td>853.253236</td>\n",
              "      <td>2015-07-10</td>\n",
              "    </tr>\n",
              "    <tr>\n",
              "      <th>27698</th>\n",
              "      <td>163</td>\n",
              "      <td>850.519340</td>\n",
              "      <td>2015-07-09</td>\n",
              "    </tr>\n",
              "    <tr>\n",
              "      <th>18394</th>\n",
              "      <td>108</td>\n",
              "      <td>820.879483</td>\n",
              "      <td>2015-02-20</td>\n",
              "    </tr>\n",
              "    <tr>\n",
              "      <th>47372</th>\n",
              "      <td>278</td>\n",
              "      <td>816.895443</td>\n",
              "      <td>2015-07-09</td>\n",
              "    </tr>\n",
              "  </tbody>\n",
              "</table>\n",
              "</div>"
            ],
            "text/plain": [
              "        acct  total_minutes_visited    utc_date\n",
              "54536    317            1030.883197  2015-07-11\n",
              "56403    328             945.538914  2015-07-09\n",
              "33728    198             876.512846  2014-12-30\n",
              "27699    163             872.633923  2015-07-10\n",
              "97492    573             866.405226  2015-07-11\n",
              "51779    303             856.634726  2015-05-14\n",
              "105968   619             853.253236  2015-07-10\n",
              "27698    163             850.519340  2015-07-09\n",
              "18394    108             820.879483  2015-02-20\n",
              "47372    278             816.895443  2015-07-09"
            ]
          },
          "metadata": {
            "tags": []
          },
          "execution_count": 56
        }
      ]
    },
    {
      "cell_type": "markdown",
      "metadata": {
        "id": "aSkeQBpp1LJF",
        "colab_type": "text"
      },
      "source": [
        "**SQL query with aggregating functions**\n",
        "\n",
        "Let's see whether there's weekly seasonality: on average students spent more time on weekends then on weekdays"
      ]
    },
    {
      "cell_type": "code",
      "metadata": {
        "id": "mPl6hPtJ1x3n",
        "colab_type": "code",
        "colab": {}
      },
      "source": [
        "daily_engagements['weekday'] = list(map(lambda x: datetime.strptime(x, '%Y-%m-%d').strftime('%A'), daily_engagements.utc_date))"
      ],
      "execution_count": 0,
      "outputs": []
    },
    {
      "cell_type": "code",
      "metadata": {
        "id": "k2dVyH5I12q2",
        "colab_type": "code",
        "outputId": "2185c57d-ee99-4a1e-decc-5952cd714c2d",
        "colab": {
          "base_uri": "https://localhost:8080/",
          "height": 204
        }
      },
      "source": [
        "daily_engagements.head()"
      ],
      "execution_count": 0,
      "outputs": [
        {
          "output_type": "execute_result",
          "data": {
            "text/html": [
              "<div>\n",
              "<style scoped>\n",
              "    .dataframe tbody tr th:only-of-type {\n",
              "        vertical-align: middle;\n",
              "    }\n",
              "\n",
              "    .dataframe tbody tr th {\n",
              "        vertical-align: top;\n",
              "    }\n",
              "\n",
              "    .dataframe thead th {\n",
              "        text-align: right;\n",
              "    }\n",
              "</style>\n",
              "<table border=\"1\" class=\"dataframe\">\n",
              "  <thead>\n",
              "    <tr style=\"text-align: right;\">\n",
              "      <th></th>\n",
              "      <th>acct</th>\n",
              "      <th>utc_date</th>\n",
              "      <th>num_courses_visited</th>\n",
              "      <th>total_minutes_visited</th>\n",
              "      <th>lessons_completed</th>\n",
              "      <th>projects_completed</th>\n",
              "      <th>weekday</th>\n",
              "    </tr>\n",
              "  </thead>\n",
              "  <tbody>\n",
              "    <tr>\n",
              "      <th>0</th>\n",
              "      <td>0</td>\n",
              "      <td>2015-01-09</td>\n",
              "      <td>1.0</td>\n",
              "      <td>11.679374</td>\n",
              "      <td>0.0</td>\n",
              "      <td>0.0</td>\n",
              "      <td>Friday</td>\n",
              "    </tr>\n",
              "    <tr>\n",
              "      <th>1</th>\n",
              "      <td>0</td>\n",
              "      <td>2015-01-10</td>\n",
              "      <td>2.0</td>\n",
              "      <td>37.284887</td>\n",
              "      <td>0.0</td>\n",
              "      <td>0.0</td>\n",
              "      <td>Saturday</td>\n",
              "    </tr>\n",
              "    <tr>\n",
              "      <th>2</th>\n",
              "      <td>0</td>\n",
              "      <td>2015-01-11</td>\n",
              "      <td>2.0</td>\n",
              "      <td>53.633746</td>\n",
              "      <td>0.0</td>\n",
              "      <td>0.0</td>\n",
              "      <td>Sunday</td>\n",
              "    </tr>\n",
              "    <tr>\n",
              "      <th>3</th>\n",
              "      <td>0</td>\n",
              "      <td>2015-01-12</td>\n",
              "      <td>1.0</td>\n",
              "      <td>33.489270</td>\n",
              "      <td>0.0</td>\n",
              "      <td>0.0</td>\n",
              "      <td>Monday</td>\n",
              "    </tr>\n",
              "    <tr>\n",
              "      <th>4</th>\n",
              "      <td>0</td>\n",
              "      <td>2015-01-13</td>\n",
              "      <td>1.0</td>\n",
              "      <td>64.779678</td>\n",
              "      <td>0.0</td>\n",
              "      <td>0.0</td>\n",
              "      <td>Tuesday</td>\n",
              "    </tr>\n",
              "  </tbody>\n",
              "</table>\n",
              "</div>"
            ],
            "text/plain": [
              "   acct    utc_date  num_courses_visited  total_minutes_visited  \\\n",
              "0     0  2015-01-09                  1.0              11.679374   \n",
              "1     0  2015-01-10                  2.0              37.284887   \n",
              "2     0  2015-01-11                  2.0              53.633746   \n",
              "3     0  2015-01-12                  1.0              33.489270   \n",
              "4     0  2015-01-13                  1.0              64.779678   \n",
              "\n",
              "   lessons_completed  projects_completed   weekday  \n",
              "0                0.0                 0.0    Friday  \n",
              "1                0.0                 0.0  Saturday  \n",
              "2                0.0                 0.0    Sunday  \n",
              "3                0.0                 0.0    Monday  \n",
              "4                0.0                 0.0   Tuesday  "
            ]
          },
          "metadata": {
            "tags": []
          },
          "execution_count": 111
        }
      ]
    },
    {
      "cell_type": "code",
      "metadata": {
        "id": "FR6zB5xc1_6V",
        "colab_type": "code",
        "colab": {}
      },
      "source": [
        "# pandasql code\n",
        "def example2_pandasql(daily_engagements):\n",
        "    aggr_query = '''\n",
        "        SELECT \n",
        "            avg(total_minutes_visited) as total_minutes_visited,\n",
        "            weekday\n",
        "        FROM daily_engagements \n",
        "        GROUP BY weekday\n",
        "        '''\n",
        "    return ps.sqldf(aggr_query, locals()).set_index('weekday')\n",
        "\n",
        "# pandas code\n",
        "def example2_pandas(daily_engagements):\n",
        "    return pd.DataFrame(daily_engagements.groupby('weekday').total_minutes_visited.mean())"
      ],
      "execution_count": 0,
      "outputs": []
    },
    {
      "cell_type": "code",
      "metadata": {
        "id": "iFJqZRwU7YJO",
        "colab_type": "code",
        "colab": {}
      },
      "source": [
        "weekday_engagement=example2_pandasql(daily_engagements)"
      ],
      "execution_count": 0,
      "outputs": []
    },
    {
      "cell_type": "code",
      "metadata": {
        "id": "chzi-K_V7fcs",
        "colab_type": "code",
        "outputId": "26430c94-ef6d-4881-c0be-f541dbc4a5b2",
        "colab": {
          "base_uri": "https://localhost:8080/",
          "height": 297
        }
      },
      "source": [
        "example2_pandas(daily_engagements)"
      ],
      "execution_count": 0,
      "outputs": [
        {
          "output_type": "execute_result",
          "data": {
            "text/html": [
              "<div>\n",
              "<style scoped>\n",
              "    .dataframe tbody tr th:only-of-type {\n",
              "        vertical-align: middle;\n",
              "    }\n",
              "\n",
              "    .dataframe tbody tr th {\n",
              "        vertical-align: top;\n",
              "    }\n",
              "\n",
              "    .dataframe thead th {\n",
              "        text-align: right;\n",
              "    }\n",
              "</style>\n",
              "<table border=\"1\" class=\"dataframe\">\n",
              "  <thead>\n",
              "    <tr style=\"text-align: right;\">\n",
              "      <th></th>\n",
              "      <th>total_minutes_visited</th>\n",
              "    </tr>\n",
              "    <tr>\n",
              "      <th>weekday</th>\n",
              "      <th></th>\n",
              "    </tr>\n",
              "  </thead>\n",
              "  <tbody>\n",
              "    <tr>\n",
              "      <th>Friday</th>\n",
              "      <td>23.156233</td>\n",
              "    </tr>\n",
              "    <tr>\n",
              "      <th>Monday</th>\n",
              "      <td>26.418982</td>\n",
              "    </tr>\n",
              "    <tr>\n",
              "      <th>Saturday</th>\n",
              "      <td>21.725677</td>\n",
              "    </tr>\n",
              "    <tr>\n",
              "      <th>Sunday</th>\n",
              "      <td>23.539406</td>\n",
              "    </tr>\n",
              "    <tr>\n",
              "      <th>Thursday</th>\n",
              "      <td>24.685176</td>\n",
              "    </tr>\n",
              "    <tr>\n",
              "      <th>Tuesday</th>\n",
              "      <td>26.857676</td>\n",
              "    </tr>\n",
              "    <tr>\n",
              "      <th>Wednesday</th>\n",
              "      <td>25.362789</td>\n",
              "    </tr>\n",
              "  </tbody>\n",
              "</table>\n",
              "</div>"
            ],
            "text/plain": [
              "           total_minutes_visited\n",
              "weekday                         \n",
              "Friday                 23.156233\n",
              "Monday                 26.418982\n",
              "Saturday               21.725677\n",
              "Sunday                 23.539406\n",
              "Thursday               24.685176\n",
              "Tuesday                26.857676\n",
              "Wednesday              25.362789"
            ]
          },
          "metadata": {
            "tags": []
          },
          "execution_count": 114
        }
      ]
    },
    {
      "cell_type": "code",
      "metadata": {
        "id": "_8sPOcEn7opA",
        "colab_type": "code",
        "outputId": "1ce708f2-c435-4a13-a02c-daf93d3bc149",
        "colab": {
          "base_uri": "https://localhost:8080/",
          "height": 532
        }
      },
      "source": [
        "week_order = ['Monday', 'Tuesday', 'Wednesday', 'Thursday', 'Friday', 'Saturday', 'Sunday']\n",
        "weekday_engagement.loc[week_order].plot(kind = 'bar', rot = 45, title = 'Total time spent on Udacity by weekday')"
      ],
      "execution_count": 0,
      "outputs": [
        {
          "output_type": "execute_result",
          "data": {
            "text/plain": [
              "<matplotlib.axes._subplots.AxesSubplot at 0x7f3aecb0fc50>"
            ]
          },
          "metadata": {
            "tags": []
          },
          "execution_count": 115
        },
        {
          "output_type": "display_data",
          "data": {
            "text/plain": [
              "<Figure size 576x360 with 1 Axes>"
            ],
            "image/svg+xml": "<?xml version=\"1.0\" encoding=\"utf-8\" standalone=\"no\"?>\n<!DOCTYPE svg PUBLIC \"-//W3C//DTD SVG 1.1//EN\"\n  \"http://www.w3.org/Graphics/SVG/1.1/DTD/svg11.dtd\">\n<!-- Created with matplotlib (https://matplotlib.org/) -->\n<svg height=\"370.188892pt\" version=\"1.1\" viewBox=\"0 0 480.525 370.188892\" width=\"480.525pt\" xmlns=\"http://www.w3.org/2000/svg\" xmlns:xlink=\"http://www.w3.org/1999/xlink\">\n <defs>\n  <style type=\"text/css\">\n*{stroke-linecap:butt;stroke-linejoin:round;}\n  </style>\n </defs>\n <g id=\"figure_1\">\n  <g id=\"patch_1\">\n   <path d=\"M 0 370.188892 \nL 480.525 370.188892 \nL 480.525 0 \nL 0 0 \nz\n\" style=\"fill:none;\"/>\n  </g>\n  <g id=\"axes_1\">\n   <g id=\"patch_2\">\n    <path d=\"M 26.925 294.118125 \nL 473.325 294.118125 \nL 473.325 22.318125 \nL 26.925 22.318125 \nz\n\" style=\"fill:#ffffff;\"/>\n   </g>\n   <g id=\"patch_3\">\n    <path clip-path=\"url(#pb2e0ee99e3)\" d=\"M 42.867857 294.118125 \nL 74.753571 294.118125 \nL 74.753571 39.48916 \nL 42.867857 39.48916 \nz\n\" style=\"fill:#1f77b4;\"/>\n   </g>\n   <g id=\"patch_4\">\n    <path clip-path=\"url(#pb2e0ee99e3)\" d=\"M 106.639286 294.118125 \nL 138.525 294.118125 \nL 138.525 35.260982 \nL 106.639286 35.260982 \nz\n\" style=\"fill:#1f77b4;\"/>\n   </g>\n   <g id=\"patch_5\">\n    <path clip-path=\"url(#pb2e0ee99e3)\" d=\"M 170.410714 294.118125 \nL 202.296429 294.118125 \nL 202.296429 49.668865 \nL 170.410714 49.668865 \nz\n\" style=\"fill:#1f77b4;\"/>\n   </g>\n   <g id=\"patch_6\">\n    <path clip-path=\"url(#pb2e0ee99e3)\" d=\"M 234.182143 294.118125 \nL 266.067857 294.118125 \nL 266.067857 56.199774 \nL 234.182143 56.199774 \nz\n\" style=\"fill:#1f77b4;\"/>\n   </g>\n   <g id=\"patch_7\">\n    <path clip-path=\"url(#pb2e0ee99e3)\" d=\"M 297.953571 294.118125 \nL 329.839286 294.118125 \nL 329.839286 70.935882 \nL 297.953571 70.935882 \nz\n\" style=\"fill:#1f77b4;\"/>\n   </g>\n   <g id=\"patch_8\">\n    <path clip-path=\"url(#pb2e0ee99e3)\" d=\"M 361.725 294.118125 \nL 393.610714 294.118125 \nL 393.610714 84.723738 \nL 361.725 84.723738 \nz\n\" style=\"fill:#1f77b4;\"/>\n   </g>\n   <g id=\"patch_9\">\n    <path clip-path=\"url(#pb2e0ee99e3)\" d=\"M 425.496429 294.118125 \nL 457.382143 294.118125 \nL 457.382143 67.242824 \nL 425.496429 67.242824 \nz\n\" style=\"fill:#1f77b4;\"/>\n   </g>\n   <g id=\"matplotlib.axis_1\">\n    <g id=\"xtick_1\">\n     <g id=\"line2d_1\">\n      <defs>\n       <path d=\"M 0 0 \nL 0 3.5 \n\" id=\"mc37a8425c2\" style=\"stroke:#000000;stroke-width:0.8;\"/>\n      </defs>\n      <g>\n       <use style=\"stroke:#000000;stroke-width:0.8;\" x=\"58.810714\" xlink:href=\"#mc37a8425c2\" y=\"294.118125\"/>\n      </g>\n     </g>\n     <g id=\"text_1\">\n      <!-- Monday -->\n      <defs>\n       <path d=\"M 9.8125 72.90625 \nL 24.515625 72.90625 \nL 43.109375 23.296875 \nL 61.8125 72.90625 \nL 76.515625 72.90625 \nL 76.515625 0 \nL 66.890625 0 \nL 66.890625 64.015625 \nL 48.09375 14.015625 \nL 38.1875 14.015625 \nL 19.390625 64.015625 \nL 19.390625 0 \nL 9.8125 0 \nz\n\" id=\"DejaVuSans-77\"/>\n       <path d=\"M 30.609375 48.390625 \nQ 23.390625 48.390625 19.1875 42.75 \nQ 14.984375 37.109375 14.984375 27.296875 \nQ 14.984375 17.484375 19.15625 11.84375 \nQ 23.34375 6.203125 30.609375 6.203125 \nQ 37.796875 6.203125 41.984375 11.859375 \nQ 46.1875 17.53125 46.1875 27.296875 \nQ 46.1875 37.015625 41.984375 42.703125 \nQ 37.796875 48.390625 30.609375 48.390625 \nz\nM 30.609375 56 \nQ 42.328125 56 49.015625 48.375 \nQ 55.71875 40.765625 55.71875 27.296875 \nQ 55.71875 13.875 49.015625 6.21875 \nQ 42.328125 -1.421875 30.609375 -1.421875 \nQ 18.84375 -1.421875 12.171875 6.21875 \nQ 5.515625 13.875 5.515625 27.296875 \nQ 5.515625 40.765625 12.171875 48.375 \nQ 18.84375 56 30.609375 56 \nz\n\" id=\"DejaVuSans-111\"/>\n       <path d=\"M 54.890625 33.015625 \nL 54.890625 0 \nL 45.90625 0 \nL 45.90625 32.71875 \nQ 45.90625 40.484375 42.875 44.328125 \nQ 39.84375 48.1875 33.796875 48.1875 \nQ 26.515625 48.1875 22.3125 43.546875 \nQ 18.109375 38.921875 18.109375 30.90625 \nL 18.109375 0 \nL 9.078125 0 \nL 9.078125 54.6875 \nL 18.109375 54.6875 \nL 18.109375 46.1875 \nQ 21.34375 51.125 25.703125 53.5625 \nQ 30.078125 56 35.796875 56 \nQ 45.21875 56 50.046875 50.171875 \nQ 54.890625 44.34375 54.890625 33.015625 \nz\n\" id=\"DejaVuSans-110\"/>\n       <path d=\"M 45.40625 46.390625 \nL 45.40625 75.984375 \nL 54.390625 75.984375 \nL 54.390625 0 \nL 45.40625 0 \nL 45.40625 8.203125 \nQ 42.578125 3.328125 38.25 0.953125 \nQ 33.9375 -1.421875 27.875 -1.421875 \nQ 17.96875 -1.421875 11.734375 6.484375 \nQ 5.515625 14.40625 5.515625 27.296875 \nQ 5.515625 40.1875 11.734375 48.09375 \nQ 17.96875 56 27.875 56 \nQ 33.9375 56 38.25 53.625 \nQ 42.578125 51.265625 45.40625 46.390625 \nz\nM 14.796875 27.296875 \nQ 14.796875 17.390625 18.875 11.75 \nQ 22.953125 6.109375 30.078125 6.109375 \nQ 37.203125 6.109375 41.296875 11.75 \nQ 45.40625 17.390625 45.40625 27.296875 \nQ 45.40625 37.203125 41.296875 42.84375 \nQ 37.203125 48.484375 30.078125 48.484375 \nQ 22.953125 48.484375 18.875 42.84375 \nQ 14.796875 37.203125 14.796875 27.296875 \nz\n\" id=\"DejaVuSans-100\"/>\n       <path d=\"M 34.28125 27.484375 \nQ 23.390625 27.484375 19.1875 25 \nQ 14.984375 22.515625 14.984375 16.5 \nQ 14.984375 11.71875 18.140625 8.90625 \nQ 21.296875 6.109375 26.703125 6.109375 \nQ 34.1875 6.109375 38.703125 11.40625 \nQ 43.21875 16.703125 43.21875 25.484375 \nL 43.21875 27.484375 \nz\nM 52.203125 31.203125 \nL 52.203125 0 \nL 43.21875 0 \nL 43.21875 8.296875 \nQ 40.140625 3.328125 35.546875 0.953125 \nQ 30.953125 -1.421875 24.3125 -1.421875 \nQ 15.921875 -1.421875 10.953125 3.296875 \nQ 6 8.015625 6 15.921875 \nQ 6 25.140625 12.171875 29.828125 \nQ 18.359375 34.515625 30.609375 34.515625 \nL 43.21875 34.515625 \nL 43.21875 35.40625 \nQ 43.21875 41.609375 39.140625 45 \nQ 35.0625 48.390625 27.6875 48.390625 \nQ 23 48.390625 18.546875 47.265625 \nQ 14.109375 46.140625 10.015625 43.890625 \nL 10.015625 52.203125 \nQ 14.9375 54.109375 19.578125 55.046875 \nQ 24.21875 56 28.609375 56 \nQ 40.484375 56 46.34375 49.84375 \nQ 52.203125 43.703125 52.203125 31.203125 \nz\n\" id=\"DejaVuSans-97\"/>\n       <path d=\"M 32.171875 -5.078125 \nQ 28.375 -14.84375 24.75 -17.8125 \nQ 21.140625 -20.796875 15.09375 -20.796875 \nL 7.90625 -20.796875 \nL 7.90625 -13.28125 \nL 13.1875 -13.28125 \nQ 16.890625 -13.28125 18.9375 -11.515625 \nQ 21 -9.765625 23.484375 -3.21875 \nL 25.09375 0.875 \nL 2.984375 54.6875 \nL 12.5 54.6875 \nL 29.59375 11.921875 \nL 46.6875 54.6875 \nL 56.203125 54.6875 \nz\n\" id=\"DejaVuSans-121\"/>\n      </defs>\n      <g transform=\"translate(46.80371 334.407386)rotate(-45)scale(0.1 -0.1)\">\n       <use xlink:href=\"#DejaVuSans-77\"/>\n       <use x=\"86.279297\" xlink:href=\"#DejaVuSans-111\"/>\n       <use x=\"147.460938\" xlink:href=\"#DejaVuSans-110\"/>\n       <use x=\"210.839844\" xlink:href=\"#DejaVuSans-100\"/>\n       <use x=\"274.316406\" xlink:href=\"#DejaVuSans-97\"/>\n       <use x=\"335.595703\" xlink:href=\"#DejaVuSans-121\"/>\n      </g>\n     </g>\n    </g>\n    <g id=\"xtick_2\">\n     <g id=\"line2d_2\">\n      <g>\n       <use style=\"stroke:#000000;stroke-width:0.8;\" x=\"122.582143\" xlink:href=\"#mc37a8425c2\" y=\"294.118125\"/>\n      </g>\n     </g>\n     <g id=\"text_2\">\n      <!-- Tuesday -->\n      <defs>\n       <path d=\"M -0.296875 72.90625 \nL 61.375 72.90625 \nL 61.375 64.59375 \nL 35.5 64.59375 \nL 35.5 0 \nL 25.59375 0 \nL 25.59375 64.59375 \nL -0.296875 64.59375 \nz\n\" id=\"DejaVuSans-84\"/>\n       <path d=\"M 8.5 21.578125 \nL 8.5 54.6875 \nL 17.484375 54.6875 \nL 17.484375 21.921875 \nQ 17.484375 14.15625 20.5 10.265625 \nQ 23.53125 6.390625 29.59375 6.390625 \nQ 36.859375 6.390625 41.078125 11.03125 \nQ 45.3125 15.671875 45.3125 23.6875 \nL 45.3125 54.6875 \nL 54.296875 54.6875 \nL 54.296875 0 \nL 45.3125 0 \nL 45.3125 8.40625 \nQ 42.046875 3.421875 37.71875 1 \nQ 33.40625 -1.421875 27.6875 -1.421875 \nQ 18.265625 -1.421875 13.375 4.4375 \nQ 8.5 10.296875 8.5 21.578125 \nz\nM 31.109375 56 \nz\n\" id=\"DejaVuSans-117\"/>\n       <path d=\"M 56.203125 29.59375 \nL 56.203125 25.203125 \nL 14.890625 25.203125 \nQ 15.484375 15.921875 20.484375 11.0625 \nQ 25.484375 6.203125 34.421875 6.203125 \nQ 39.59375 6.203125 44.453125 7.46875 \nQ 49.3125 8.734375 54.109375 11.28125 \nL 54.109375 2.78125 \nQ 49.265625 0.734375 44.1875 -0.34375 \nQ 39.109375 -1.421875 33.890625 -1.421875 \nQ 20.796875 -1.421875 13.15625 6.1875 \nQ 5.515625 13.8125 5.515625 26.8125 \nQ 5.515625 40.234375 12.765625 48.109375 \nQ 20.015625 56 32.328125 56 \nQ 43.359375 56 49.78125 48.890625 \nQ 56.203125 41.796875 56.203125 29.59375 \nz\nM 47.21875 32.234375 \nQ 47.125 39.59375 43.09375 43.984375 \nQ 39.0625 48.390625 32.421875 48.390625 \nQ 24.90625 48.390625 20.390625 44.140625 \nQ 15.875 39.890625 15.1875 32.171875 \nz\n\" id=\"DejaVuSans-101\"/>\n       <path d=\"M 44.28125 53.078125 \nL 44.28125 44.578125 \nQ 40.484375 46.53125 36.375 47.5 \nQ 32.28125 48.484375 27.875 48.484375 \nQ 21.1875 48.484375 17.84375 46.4375 \nQ 14.5 44.390625 14.5 40.28125 \nQ 14.5 37.15625 16.890625 35.375 \nQ 19.28125 33.59375 26.515625 31.984375 \nL 29.59375 31.296875 \nQ 39.15625 29.25 43.1875 25.515625 \nQ 47.21875 21.78125 47.21875 15.09375 \nQ 47.21875 7.46875 41.1875 3.015625 \nQ 35.15625 -1.421875 24.609375 -1.421875 \nQ 20.21875 -1.421875 15.453125 -0.5625 \nQ 10.6875 0.296875 5.421875 2 \nL 5.421875 11.28125 \nQ 10.40625 8.6875 15.234375 7.390625 \nQ 20.0625 6.109375 24.8125 6.109375 \nQ 31.15625 6.109375 34.5625 8.28125 \nQ 37.984375 10.453125 37.984375 14.40625 \nQ 37.984375 18.0625 35.515625 20.015625 \nQ 33.0625 21.96875 24.703125 23.78125 \nL 21.578125 24.515625 \nQ 13.234375 26.265625 9.515625 29.90625 \nQ 5.8125 33.546875 5.8125 39.890625 \nQ 5.8125 47.609375 11.28125 51.796875 \nQ 16.75 56 26.8125 56 \nQ 31.78125 56 36.171875 55.265625 \nQ 40.578125 54.546875 44.28125 53.078125 \nz\n\" id=\"DejaVuSans-115\"/>\n      </defs>\n      <g transform=\"translate(109.620544 336.316575)rotate(-45)scale(0.1 -0.1)\">\n       <use xlink:href=\"#DejaVuSans-84\"/>\n       <use x=\"60.849609\" xlink:href=\"#DejaVuSans-117\"/>\n       <use x=\"124.228516\" xlink:href=\"#DejaVuSans-101\"/>\n       <use x=\"185.751953\" xlink:href=\"#DejaVuSans-115\"/>\n       <use x=\"237.851562\" xlink:href=\"#DejaVuSans-100\"/>\n       <use x=\"301.328125\" xlink:href=\"#DejaVuSans-97\"/>\n       <use x=\"362.607422\" xlink:href=\"#DejaVuSans-121\"/>\n      </g>\n     </g>\n    </g>\n    <g id=\"xtick_3\">\n     <g id=\"line2d_3\">\n      <g>\n       <use style=\"stroke:#000000;stroke-width:0.8;\" x=\"186.353571\" xlink:href=\"#mc37a8425c2\" y=\"294.118125\"/>\n      </g>\n     </g>\n     <g id=\"text_3\">\n      <!-- Wednesday -->\n      <defs>\n       <path d=\"M 3.328125 72.90625 \nL 13.28125 72.90625 \nL 28.609375 11.28125 \nL 43.890625 72.90625 \nL 54.984375 72.90625 \nL 70.3125 11.28125 \nL 85.59375 72.90625 \nL 95.609375 72.90625 \nL 77.296875 0 \nL 64.890625 0 \nL 49.515625 63.28125 \nL 33.984375 0 \nL 21.578125 0 \nz\n\" id=\"DejaVuSans-87\"/>\n      </defs>\n      <g transform=\"translate(167.630157 347.840206)rotate(-45)scale(0.1 -0.1)\">\n       <use xlink:href=\"#DejaVuSans-87\"/>\n       <use x=\"98.798828\" xlink:href=\"#DejaVuSans-101\"/>\n       <use x=\"160.322266\" xlink:href=\"#DejaVuSans-100\"/>\n       <use x=\"223.798828\" xlink:href=\"#DejaVuSans-110\"/>\n       <use x=\"287.177734\" xlink:href=\"#DejaVuSans-101\"/>\n       <use x=\"348.701172\" xlink:href=\"#DejaVuSans-115\"/>\n       <use x=\"400.800781\" xlink:href=\"#DejaVuSans-100\"/>\n       <use x=\"464.277344\" xlink:href=\"#DejaVuSans-97\"/>\n       <use x=\"525.556641\" xlink:href=\"#DejaVuSans-121\"/>\n      </g>\n     </g>\n    </g>\n    <g id=\"xtick_4\">\n     <g id=\"line2d_4\">\n      <g>\n       <use style=\"stroke:#000000;stroke-width:0.8;\" x=\"250.125\" xlink:href=\"#mc37a8425c2\" y=\"294.118125\"/>\n      </g>\n     </g>\n     <g id=\"text_4\">\n      <!-- Thursday -->\n      <defs>\n       <path d=\"M 54.890625 33.015625 \nL 54.890625 0 \nL 45.90625 0 \nL 45.90625 32.71875 \nQ 45.90625 40.484375 42.875 44.328125 \nQ 39.84375 48.1875 33.796875 48.1875 \nQ 26.515625 48.1875 22.3125 43.546875 \nQ 18.109375 38.921875 18.109375 30.90625 \nL 18.109375 0 \nL 9.078125 0 \nL 9.078125 75.984375 \nL 18.109375 75.984375 \nL 18.109375 46.1875 \nQ 21.34375 51.125 25.703125 53.5625 \nQ 30.078125 56 35.796875 56 \nQ 45.21875 56 50.046875 50.171875 \nQ 54.890625 44.34375 54.890625 33.015625 \nz\n\" id=\"DejaVuSans-104\"/>\n       <path d=\"M 41.109375 46.296875 \nQ 39.59375 47.171875 37.8125 47.578125 \nQ 36.03125 48 33.890625 48 \nQ 26.265625 48 22.1875 43.046875 \nQ 18.109375 38.09375 18.109375 28.8125 \nL 18.109375 0 \nL 9.078125 0 \nL 9.078125 54.6875 \nL 18.109375 54.6875 \nL 18.109375 46.1875 \nQ 20.953125 51.171875 25.484375 53.578125 \nQ 30.03125 56 36.53125 56 \nQ 37.453125 56 38.578125 55.875 \nQ 39.703125 55.765625 41.0625 55.515625 \nz\n\" id=\"DejaVuSans-114\"/>\n      </defs>\n      <g transform=\"translate(235.636493 339.370392)rotate(-45)scale(0.1 -0.1)\">\n       <use xlink:href=\"#DejaVuSans-84\"/>\n       <use x=\"61.083984\" xlink:href=\"#DejaVuSans-104\"/>\n       <use x=\"124.462891\" xlink:href=\"#DejaVuSans-117\"/>\n       <use x=\"187.841797\" xlink:href=\"#DejaVuSans-114\"/>\n       <use x=\"228.955078\" xlink:href=\"#DejaVuSans-115\"/>\n       <use x=\"281.054688\" xlink:href=\"#DejaVuSans-100\"/>\n       <use x=\"344.53125\" xlink:href=\"#DejaVuSans-97\"/>\n       <use x=\"405.810547\" xlink:href=\"#DejaVuSans-121\"/>\n      </g>\n     </g>\n    </g>\n    <g id=\"xtick_5\">\n     <g id=\"line2d_5\">\n      <g>\n       <use style=\"stroke:#000000;stroke-width:0.8;\" x=\"313.896429\" xlink:href=\"#mc37a8425c2\" y=\"294.118125\"/>\n      </g>\n     </g>\n     <g id=\"text_5\">\n      <!-- Friday -->\n      <defs>\n       <path d=\"M 9.8125 72.90625 \nL 51.703125 72.90625 \nL 51.703125 64.59375 \nL 19.671875 64.59375 \nL 19.671875 43.109375 \nL 48.578125 43.109375 \nL 48.578125 34.8125 \nL 19.671875 34.8125 \nL 19.671875 0 \nL 9.8125 0 \nz\n\" id=\"DejaVuSans-70\"/>\n       <path d=\"M 9.421875 54.6875 \nL 18.40625 54.6875 \nL 18.40625 0 \nL 9.421875 0 \nz\nM 9.421875 75.984375 \nL 18.40625 75.984375 \nL 18.40625 64.59375 \nL 9.421875 64.59375 \nz\n\" id=\"DejaVuSans-105\"/>\n      </defs>\n      <g transform=\"translate(304.878607 328.42902)rotate(-45)scale(0.1 -0.1)\">\n       <use xlink:href=\"#DejaVuSans-70\"/>\n       <use x=\"57.410156\" xlink:href=\"#DejaVuSans-114\"/>\n       <use x=\"98.523438\" xlink:href=\"#DejaVuSans-105\"/>\n       <use x=\"126.306641\" xlink:href=\"#DejaVuSans-100\"/>\n       <use x=\"189.783203\" xlink:href=\"#DejaVuSans-97\"/>\n       <use x=\"251.0625\" xlink:href=\"#DejaVuSans-121\"/>\n      </g>\n     </g>\n    </g>\n    <g id=\"xtick_6\">\n     <g id=\"line2d_6\">\n      <g>\n       <use style=\"stroke:#000000;stroke-width:0.8;\" x=\"377.667857\" xlink:href=\"#mc37a8425c2\" y=\"294.118125\"/>\n      </g>\n     </g>\n     <g id=\"text_6\">\n      <!-- Saturday -->\n      <defs>\n       <path d=\"M 53.515625 70.515625 \nL 53.515625 60.890625 \nQ 47.90625 63.578125 42.921875 64.890625 \nQ 37.9375 66.21875 33.296875 66.21875 \nQ 25.25 66.21875 20.875 63.09375 \nQ 16.5 59.96875 16.5 54.203125 \nQ 16.5 49.359375 19.40625 46.890625 \nQ 22.3125 44.4375 30.421875 42.921875 \nL 36.375 41.703125 \nQ 47.40625 39.59375 52.65625 34.296875 \nQ 57.90625 29 57.90625 20.125 \nQ 57.90625 9.515625 50.796875 4.046875 \nQ 43.703125 -1.421875 29.984375 -1.421875 \nQ 24.8125 -1.421875 18.96875 -0.25 \nQ 13.140625 0.921875 6.890625 3.21875 \nL 6.890625 13.375 \nQ 12.890625 10.015625 18.65625 8.296875 \nQ 24.421875 6.59375 29.984375 6.59375 \nQ 38.421875 6.59375 43.015625 9.90625 \nQ 47.609375 13.234375 47.609375 19.390625 \nQ 47.609375 24.75 44.3125 27.78125 \nQ 41.015625 30.8125 33.5 32.328125 \nL 27.484375 33.5 \nQ 16.453125 35.6875 11.515625 40.375 \nQ 6.59375 45.0625 6.59375 53.421875 \nQ 6.59375 63.09375 13.40625 68.65625 \nQ 20.21875 74.21875 32.171875 74.21875 \nQ 37.3125 74.21875 42.625 73.28125 \nQ 47.953125 72.359375 53.515625 70.515625 \nz\n\" id=\"DejaVuSans-83\"/>\n       <path d=\"M 18.3125 70.21875 \nL 18.3125 54.6875 \nL 36.8125 54.6875 \nL 36.8125 47.703125 \nL 18.3125 47.703125 \nL 18.3125 18.015625 \nQ 18.3125 11.328125 20.140625 9.421875 \nQ 21.96875 7.515625 27.59375 7.515625 \nL 36.8125 7.515625 \nL 36.8125 0 \nL 27.59375 0 \nQ 17.1875 0 13.234375 3.875 \nQ 9.28125 7.765625 9.28125 18.015625 \nL 9.28125 47.703125 \nL 2.6875 47.703125 \nL 2.6875 54.6875 \nL 9.28125 54.6875 \nL 9.28125 70.21875 \nz\n\" id=\"DejaVuSans-116\"/>\n      </defs>\n      <g transform=\"translate(363.624606 338.47988)rotate(-45)scale(0.1 -0.1)\">\n       <use xlink:href=\"#DejaVuSans-83\"/>\n       <use x=\"63.476562\" xlink:href=\"#DejaVuSans-97\"/>\n       <use x=\"124.755859\" xlink:href=\"#DejaVuSans-116\"/>\n       <use x=\"163.964844\" xlink:href=\"#DejaVuSans-117\"/>\n       <use x=\"227.34375\" xlink:href=\"#DejaVuSans-114\"/>\n       <use x=\"268.441406\" xlink:href=\"#DejaVuSans-100\"/>\n       <use x=\"331.917969\" xlink:href=\"#DejaVuSans-97\"/>\n       <use x=\"393.197266\" xlink:href=\"#DejaVuSans-121\"/>\n      </g>\n     </g>\n    </g>\n    <g id=\"xtick_7\">\n     <g id=\"line2d_7\">\n      <g>\n       <use style=\"stroke:#000000;stroke-width:0.8;\" x=\"441.439286\" xlink:href=\"#mc37a8425c2\" y=\"294.118125\"/>\n      </g>\n     </g>\n     <g id=\"text_7\">\n      <!-- Sunday -->\n      <g transform=\"translate(430.160933 332.950084)rotate(-45)scale(0.1 -0.1)\">\n       <use xlink:href=\"#DejaVuSans-83\"/>\n       <use x=\"63.476562\" xlink:href=\"#DejaVuSans-117\"/>\n       <use x=\"126.855469\" xlink:href=\"#DejaVuSans-110\"/>\n       <use x=\"190.234375\" xlink:href=\"#DejaVuSans-100\"/>\n       <use x=\"253.710938\" xlink:href=\"#DejaVuSans-97\"/>\n       <use x=\"314.990234\" xlink:href=\"#DejaVuSans-121\"/>\n      </g>\n     </g>\n    </g>\n    <g id=\"text_8\">\n     <!-- weekday -->\n     <defs>\n      <path d=\"M 4.203125 54.6875 \nL 13.1875 54.6875 \nL 24.421875 12.015625 \nL 35.59375 54.6875 \nL 46.1875 54.6875 \nL 57.421875 12.015625 \nL 68.609375 54.6875 \nL 77.59375 54.6875 \nL 63.28125 0 \nL 52.6875 0 \nL 40.921875 44.828125 \nL 29.109375 0 \nL 18.5 0 \nz\n\" id=\"DejaVuSans-119\"/>\n      <path d=\"M 9.078125 75.984375 \nL 18.109375 75.984375 \nL 18.109375 31.109375 \nL 44.921875 54.6875 \nL 56.390625 54.6875 \nL 27.390625 29.109375 \nL 57.625 0 \nL 45.90625 0 \nL 18.109375 26.703125 \nL 18.109375 0 \nL 9.078125 0 \nz\n\" id=\"DejaVuSans-107\"/>\n     </defs>\n     <g transform=\"translate(227.789844 360.909204)scale(0.1 -0.1)\">\n      <use xlink:href=\"#DejaVuSans-119\"/>\n      <use x=\"81.787109\" xlink:href=\"#DejaVuSans-101\"/>\n      <use x=\"143.310547\" xlink:href=\"#DejaVuSans-101\"/>\n      <use x=\"204.833984\" xlink:href=\"#DejaVuSans-107\"/>\n      <use x=\"262.744141\" xlink:href=\"#DejaVuSans-100\"/>\n      <use x=\"326.220703\" xlink:href=\"#DejaVuSans-97\"/>\n      <use x=\"387.5\" xlink:href=\"#DejaVuSans-121\"/>\n     </g>\n    </g>\n   </g>\n   <g id=\"matplotlib.axis_2\">\n    <g id=\"ytick_1\">\n     <g id=\"line2d_8\">\n      <defs>\n       <path d=\"M 0 0 \nL -3.5 0 \n\" id=\"m0bedb0ba02\" style=\"stroke:#000000;stroke-width:0.8;\"/>\n      </defs>\n      <g>\n       <use style=\"stroke:#000000;stroke-width:0.8;\" x=\"26.925\" xlink:href=\"#m0bedb0ba02\" y=\"294.118125\"/>\n      </g>\n     </g>\n     <g id=\"text_9\">\n      <!-- 0 -->\n      <defs>\n       <path d=\"M 31.78125 66.40625 \nQ 24.171875 66.40625 20.328125 58.90625 \nQ 16.5 51.421875 16.5 36.375 \nQ 16.5 21.390625 20.328125 13.890625 \nQ 24.171875 6.390625 31.78125 6.390625 \nQ 39.453125 6.390625 43.28125 13.890625 \nQ 47.125 21.390625 47.125 36.375 \nQ 47.125 51.421875 43.28125 58.90625 \nQ 39.453125 66.40625 31.78125 66.40625 \nz\nM 31.78125 74.21875 \nQ 44.046875 74.21875 50.515625 64.515625 \nQ 56.984375 54.828125 56.984375 36.375 \nQ 56.984375 17.96875 50.515625 8.265625 \nQ 44.046875 -1.421875 31.78125 -1.421875 \nQ 19.53125 -1.421875 13.0625 8.265625 \nQ 6.59375 17.96875 6.59375 36.375 \nQ 6.59375 54.828125 13.0625 64.515625 \nQ 19.53125 74.21875 31.78125 74.21875 \nz\n\" id=\"DejaVuSans-48\"/>\n      </defs>\n      <g transform=\"translate(13.5625 297.917344)scale(0.1 -0.1)\">\n       <use xlink:href=\"#DejaVuSans-48\"/>\n      </g>\n     </g>\n    </g>\n    <g id=\"ytick_2\">\n     <g id=\"line2d_9\">\n      <g>\n       <use style=\"stroke:#000000;stroke-width:0.8;\" x=\"26.925\" xlink:href=\"#m0bedb0ba02\" y=\"245.927592\"/>\n      </g>\n     </g>\n     <g id=\"text_10\">\n      <!-- 5 -->\n      <defs>\n       <path d=\"M 10.796875 72.90625 \nL 49.515625 72.90625 \nL 49.515625 64.59375 \nL 19.828125 64.59375 \nL 19.828125 46.734375 \nQ 21.96875 47.46875 24.109375 47.828125 \nQ 26.265625 48.1875 28.421875 48.1875 \nQ 40.625 48.1875 47.75 41.5 \nQ 54.890625 34.8125 54.890625 23.390625 \nQ 54.890625 11.625 47.5625 5.09375 \nQ 40.234375 -1.421875 26.90625 -1.421875 \nQ 22.3125 -1.421875 17.546875 -0.640625 \nQ 12.796875 0.140625 7.71875 1.703125 \nL 7.71875 11.625 \nQ 12.109375 9.234375 16.796875 8.0625 \nQ 21.484375 6.890625 26.703125 6.890625 \nQ 35.15625 6.890625 40.078125 11.328125 \nQ 45.015625 15.765625 45.015625 23.390625 \nQ 45.015625 31 40.078125 35.4375 \nQ 35.15625 39.890625 26.703125 39.890625 \nQ 22.75 39.890625 18.8125 39.015625 \nQ 14.890625 38.140625 10.796875 36.28125 \nz\n\" id=\"DejaVuSans-53\"/>\n      </defs>\n      <g transform=\"translate(13.5625 249.726811)scale(0.1 -0.1)\">\n       <use xlink:href=\"#DejaVuSans-53\"/>\n      </g>\n     </g>\n    </g>\n    <g id=\"ytick_3\">\n     <g id=\"line2d_10\">\n      <g>\n       <use style=\"stroke:#000000;stroke-width:0.8;\" x=\"26.925\" xlink:href=\"#m0bedb0ba02\" y=\"197.73706\"/>\n      </g>\n     </g>\n     <g id=\"text_11\">\n      <!-- 10 -->\n      <defs>\n       <path d=\"M 12.40625 8.296875 \nL 28.515625 8.296875 \nL 28.515625 63.921875 \nL 10.984375 60.40625 \nL 10.984375 69.390625 \nL 28.421875 72.90625 \nL 38.28125 72.90625 \nL 38.28125 8.296875 \nL 54.390625 8.296875 \nL 54.390625 0 \nL 12.40625 0 \nz\n\" id=\"DejaVuSans-49\"/>\n      </defs>\n      <g transform=\"translate(7.2 201.536279)scale(0.1 -0.1)\">\n       <use xlink:href=\"#DejaVuSans-49\"/>\n       <use x=\"63.623047\" xlink:href=\"#DejaVuSans-48\"/>\n      </g>\n     </g>\n    </g>\n    <g id=\"ytick_4\">\n     <g id=\"line2d_11\">\n      <g>\n       <use style=\"stroke:#000000;stroke-width:0.8;\" x=\"26.925\" xlink:href=\"#m0bedb0ba02\" y=\"149.546527\"/>\n      </g>\n     </g>\n     <g id=\"text_12\">\n      <!-- 15 -->\n      <g transform=\"translate(7.2 153.345746)scale(0.1 -0.1)\">\n       <use xlink:href=\"#DejaVuSans-49\"/>\n       <use x=\"63.623047\" xlink:href=\"#DejaVuSans-53\"/>\n      </g>\n     </g>\n    </g>\n    <g id=\"ytick_5\">\n     <g id=\"line2d_12\">\n      <g>\n       <use style=\"stroke:#000000;stroke-width:0.8;\" x=\"26.925\" xlink:href=\"#m0bedb0ba02\" y=\"101.355995\"/>\n      </g>\n     </g>\n     <g id=\"text_13\">\n      <!-- 20 -->\n      <defs>\n       <path d=\"M 19.1875 8.296875 \nL 53.609375 8.296875 \nL 53.609375 0 \nL 7.328125 0 \nL 7.328125 8.296875 \nQ 12.9375 14.109375 22.625 23.890625 \nQ 32.328125 33.6875 34.8125 36.53125 \nQ 39.546875 41.84375 41.421875 45.53125 \nQ 43.3125 49.21875 43.3125 52.78125 \nQ 43.3125 58.59375 39.234375 62.25 \nQ 35.15625 65.921875 28.609375 65.921875 \nQ 23.96875 65.921875 18.8125 64.3125 \nQ 13.671875 62.703125 7.8125 59.421875 \nL 7.8125 69.390625 \nQ 13.765625 71.78125 18.9375 73 \nQ 24.125 74.21875 28.421875 74.21875 \nQ 39.75 74.21875 46.484375 68.546875 \nQ 53.21875 62.890625 53.21875 53.421875 \nQ 53.21875 48.921875 51.53125 44.890625 \nQ 49.859375 40.875 45.40625 35.40625 \nQ 44.1875 33.984375 37.640625 27.21875 \nQ 31.109375 20.453125 19.1875 8.296875 \nz\n\" id=\"DejaVuSans-50\"/>\n      </defs>\n      <g transform=\"translate(7.2 105.155213)scale(0.1 -0.1)\">\n       <use xlink:href=\"#DejaVuSans-50\"/>\n       <use x=\"63.623047\" xlink:href=\"#DejaVuSans-48\"/>\n      </g>\n     </g>\n    </g>\n    <g id=\"ytick_6\">\n     <g id=\"line2d_13\">\n      <g>\n       <use style=\"stroke:#000000;stroke-width:0.8;\" x=\"26.925\" xlink:href=\"#m0bedb0ba02\" y=\"53.165462\"/>\n      </g>\n     </g>\n     <g id=\"text_14\">\n      <!-- 25 -->\n      <g transform=\"translate(7.2 56.964681)scale(0.1 -0.1)\">\n       <use xlink:href=\"#DejaVuSans-50\"/>\n       <use x=\"63.623047\" xlink:href=\"#DejaVuSans-53\"/>\n      </g>\n     </g>\n    </g>\n   </g>\n   <g id=\"patch_10\">\n    <path d=\"M 26.925 294.118125 \nL 26.925 22.318125 \n\" style=\"fill:none;stroke:#000000;stroke-linecap:square;stroke-linejoin:miter;stroke-width:0.8;\"/>\n   </g>\n   <g id=\"patch_11\">\n    <path d=\"M 473.325 294.118125 \nL 473.325 22.318125 \n\" style=\"fill:none;stroke:#000000;stroke-linecap:square;stroke-linejoin:miter;stroke-width:0.8;\"/>\n   </g>\n   <g id=\"patch_12\">\n    <path d=\"M 26.925 294.118125 \nL 473.325 294.118125 \n\" style=\"fill:none;stroke:#000000;stroke-linecap:square;stroke-linejoin:miter;stroke-width:0.8;\"/>\n   </g>\n   <g id=\"patch_13\">\n    <path d=\"M 26.925 22.318125 \nL 473.325 22.318125 \n\" style=\"fill:none;stroke:#000000;stroke-linecap:square;stroke-linejoin:miter;stroke-width:0.8;\"/>\n   </g>\n   <g id=\"text_15\">\n    <!-- Total time spent on Udacity by weekday -->\n    <defs>\n     <path d=\"M 9.421875 75.984375 \nL 18.40625 75.984375 \nL 18.40625 0 \nL 9.421875 0 \nz\n\" id=\"DejaVuSans-108\"/>\n     <path id=\"DejaVuSans-32\"/>\n     <path d=\"M 52 44.1875 \nQ 55.375 50.25 60.0625 53.125 \nQ 64.75 56 71.09375 56 \nQ 79.640625 56 84.28125 50.015625 \nQ 88.921875 44.046875 88.921875 33.015625 \nL 88.921875 0 \nL 79.890625 0 \nL 79.890625 32.71875 \nQ 79.890625 40.578125 77.09375 44.375 \nQ 74.3125 48.1875 68.609375 48.1875 \nQ 61.625 48.1875 57.5625 43.546875 \nQ 53.515625 38.921875 53.515625 30.90625 \nL 53.515625 0 \nL 44.484375 0 \nL 44.484375 32.71875 \nQ 44.484375 40.625 41.703125 44.40625 \nQ 38.921875 48.1875 33.109375 48.1875 \nQ 26.21875 48.1875 22.15625 43.53125 \nQ 18.109375 38.875 18.109375 30.90625 \nL 18.109375 0 \nL 9.078125 0 \nL 9.078125 54.6875 \nL 18.109375 54.6875 \nL 18.109375 46.1875 \nQ 21.1875 51.21875 25.484375 53.609375 \nQ 29.78125 56 35.6875 56 \nQ 41.65625 56 45.828125 52.96875 \nQ 50 49.953125 52 44.1875 \nz\n\" id=\"DejaVuSans-109\"/>\n     <path d=\"M 18.109375 8.203125 \nL 18.109375 -20.796875 \nL 9.078125 -20.796875 \nL 9.078125 54.6875 \nL 18.109375 54.6875 \nL 18.109375 46.390625 \nQ 20.953125 51.265625 25.265625 53.625 \nQ 29.59375 56 35.59375 56 \nQ 45.5625 56 51.78125 48.09375 \nQ 58.015625 40.1875 58.015625 27.296875 \nQ 58.015625 14.40625 51.78125 6.484375 \nQ 45.5625 -1.421875 35.59375 -1.421875 \nQ 29.59375 -1.421875 25.265625 0.953125 \nQ 20.953125 3.328125 18.109375 8.203125 \nz\nM 48.6875 27.296875 \nQ 48.6875 37.203125 44.609375 42.84375 \nQ 40.53125 48.484375 33.40625 48.484375 \nQ 26.265625 48.484375 22.1875 42.84375 \nQ 18.109375 37.203125 18.109375 27.296875 \nQ 18.109375 17.390625 22.1875 11.75 \nQ 26.265625 6.109375 33.40625 6.109375 \nQ 40.53125 6.109375 44.609375 11.75 \nQ 48.6875 17.390625 48.6875 27.296875 \nz\n\" id=\"DejaVuSans-112\"/>\n     <path d=\"M 8.6875 72.90625 \nL 18.609375 72.90625 \nL 18.609375 28.609375 \nQ 18.609375 16.890625 22.84375 11.734375 \nQ 27.09375 6.59375 36.625 6.59375 \nQ 46.09375 6.59375 50.34375 11.734375 \nQ 54.59375 16.890625 54.59375 28.609375 \nL 54.59375 72.90625 \nL 64.5 72.90625 \nL 64.5 27.390625 \nQ 64.5 13.140625 57.4375 5.859375 \nQ 50.390625 -1.421875 36.625 -1.421875 \nQ 22.796875 -1.421875 15.734375 5.859375 \nQ 8.6875 13.140625 8.6875 27.390625 \nz\n\" id=\"DejaVuSans-85\"/>\n     <path d=\"M 48.78125 52.59375 \nL 48.78125 44.1875 \nQ 44.96875 46.296875 41.140625 47.34375 \nQ 37.3125 48.390625 33.40625 48.390625 \nQ 24.65625 48.390625 19.8125 42.84375 \nQ 14.984375 37.3125 14.984375 27.296875 \nQ 14.984375 17.28125 19.8125 11.734375 \nQ 24.65625 6.203125 33.40625 6.203125 \nQ 37.3125 6.203125 41.140625 7.25 \nQ 44.96875 8.296875 48.78125 10.40625 \nL 48.78125 2.09375 \nQ 45.015625 0.34375 40.984375 -0.53125 \nQ 36.96875 -1.421875 32.421875 -1.421875 \nQ 20.0625 -1.421875 12.78125 6.34375 \nQ 5.515625 14.109375 5.515625 27.296875 \nQ 5.515625 40.671875 12.859375 48.328125 \nQ 20.21875 56 33.015625 56 \nQ 37.15625 56 41.109375 55.140625 \nQ 45.0625 54.296875 48.78125 52.59375 \nz\n\" id=\"DejaVuSans-99\"/>\n     <path d=\"M 48.6875 27.296875 \nQ 48.6875 37.203125 44.609375 42.84375 \nQ 40.53125 48.484375 33.40625 48.484375 \nQ 26.265625 48.484375 22.1875 42.84375 \nQ 18.109375 37.203125 18.109375 27.296875 \nQ 18.109375 17.390625 22.1875 11.75 \nQ 26.265625 6.109375 33.40625 6.109375 \nQ 40.53125 6.109375 44.609375 11.75 \nQ 48.6875 17.390625 48.6875 27.296875 \nz\nM 18.109375 46.390625 \nQ 20.953125 51.265625 25.265625 53.625 \nQ 29.59375 56 35.59375 56 \nQ 45.5625 56 51.78125 48.09375 \nQ 58.015625 40.1875 58.015625 27.296875 \nQ 58.015625 14.40625 51.78125 6.484375 \nQ 45.5625 -1.421875 35.59375 -1.421875 \nQ 29.59375 -1.421875 25.265625 0.953125 \nQ 20.953125 3.328125 18.109375 8.203125 \nL 18.109375 0 \nL 9.078125 0 \nL 9.078125 75.984375 \nL 18.109375 75.984375 \nz\n\" id=\"DejaVuSans-98\"/>\n    </defs>\n    <g transform=\"translate(128.948438 16.318125)scale(0.12 -0.12)\">\n     <use xlink:href=\"#DejaVuSans-84\"/>\n     <use x=\"60.818359\" xlink:href=\"#DejaVuSans-111\"/>\n     <use x=\"122\" xlink:href=\"#DejaVuSans-116\"/>\n     <use x=\"161.208984\" xlink:href=\"#DejaVuSans-97\"/>\n     <use x=\"222.488281\" xlink:href=\"#DejaVuSans-108\"/>\n     <use x=\"250.271484\" xlink:href=\"#DejaVuSans-32\"/>\n     <use x=\"282.058594\" xlink:href=\"#DejaVuSans-116\"/>\n     <use x=\"321.267578\" xlink:href=\"#DejaVuSans-105\"/>\n     <use x=\"349.050781\" xlink:href=\"#DejaVuSans-109\"/>\n     <use x=\"446.462891\" xlink:href=\"#DejaVuSans-101\"/>\n     <use x=\"507.986328\" xlink:href=\"#DejaVuSans-32\"/>\n     <use x=\"539.773438\" xlink:href=\"#DejaVuSans-115\"/>\n     <use x=\"591.873047\" xlink:href=\"#DejaVuSans-112\"/>\n     <use x=\"655.349609\" xlink:href=\"#DejaVuSans-101\"/>\n     <use x=\"716.873047\" xlink:href=\"#DejaVuSans-110\"/>\n     <use x=\"780.251953\" xlink:href=\"#DejaVuSans-116\"/>\n     <use x=\"819.460938\" xlink:href=\"#DejaVuSans-32\"/>\n     <use x=\"851.248047\" xlink:href=\"#DejaVuSans-111\"/>\n     <use x=\"912.429688\" xlink:href=\"#DejaVuSans-110\"/>\n     <use x=\"975.808594\" xlink:href=\"#DejaVuSans-32\"/>\n     <use x=\"1007.595703\" xlink:href=\"#DejaVuSans-85\"/>\n     <use x=\"1080.789062\" xlink:href=\"#DejaVuSans-100\"/>\n     <use x=\"1144.265625\" xlink:href=\"#DejaVuSans-97\"/>\n     <use x=\"1205.544922\" xlink:href=\"#DejaVuSans-99\"/>\n     <use x=\"1260.525391\" xlink:href=\"#DejaVuSans-105\"/>\n     <use x=\"1288.308594\" xlink:href=\"#DejaVuSans-116\"/>\n     <use x=\"1327.517578\" xlink:href=\"#DejaVuSans-121\"/>\n     <use x=\"1386.697266\" xlink:href=\"#DejaVuSans-32\"/>\n     <use x=\"1418.484375\" xlink:href=\"#DejaVuSans-98\"/>\n     <use x=\"1481.960938\" xlink:href=\"#DejaVuSans-121\"/>\n     <use x=\"1541.140625\" xlink:href=\"#DejaVuSans-32\"/>\n     <use x=\"1572.927734\" xlink:href=\"#DejaVuSans-119\"/>\n     <use x=\"1654.714844\" xlink:href=\"#DejaVuSans-101\"/>\n     <use x=\"1716.238281\" xlink:href=\"#DejaVuSans-101\"/>\n     <use x=\"1777.761719\" xlink:href=\"#DejaVuSans-107\"/>\n     <use x=\"1835.671875\" xlink:href=\"#DejaVuSans-100\"/>\n     <use x=\"1899.148438\" xlink:href=\"#DejaVuSans-97\"/>\n     <use x=\"1960.427734\" xlink:href=\"#DejaVuSans-121\"/>\n    </g>\n   </g>\n   <g id=\"legend_1\">\n    <g id=\"patch_14\">\n     <path d=\"M 327.876562 45.274375 \nL 466.325 45.274375 \nQ 468.325 45.274375 468.325 43.274375 \nL 468.325 29.318125 \nQ 468.325 27.318125 466.325 27.318125 \nL 327.876562 27.318125 \nQ 325.876562 27.318125 325.876562 29.318125 \nL 325.876562 43.274375 \nQ 325.876562 45.274375 327.876562 45.274375 \nz\n\" style=\"fill:#ffffff;opacity:0.8;stroke:#cccccc;stroke-linejoin:miter;\"/>\n    </g>\n    <g id=\"patch_15\">\n     <path d=\"M 329.876562 38.916562 \nL 349.876562 38.916562 \nL 349.876562 31.916562 \nL 329.876562 31.916562 \nz\n\" style=\"fill:#1f77b4;\"/>\n    </g>\n    <g id=\"text_16\">\n     <!-- total_minutes_visited -->\n     <defs>\n      <path d=\"M 50.984375 -16.609375 \nL 50.984375 -23.578125 \nL -0.984375 -23.578125 \nL -0.984375 -16.609375 \nz\n\" id=\"DejaVuSans-95\"/>\n      <path d=\"M 2.984375 54.6875 \nL 12.5 54.6875 \nL 29.59375 8.796875 \nL 46.6875 54.6875 \nL 56.203125 54.6875 \nL 35.6875 0 \nL 23.484375 0 \nz\n\" id=\"DejaVuSans-118\"/>\n     </defs>\n     <g transform=\"translate(357.876562 38.916562)scale(0.1 -0.1)\">\n      <use xlink:href=\"#DejaVuSans-116\"/>\n      <use x=\"39.208984\" xlink:href=\"#DejaVuSans-111\"/>\n      <use x=\"100.390625\" xlink:href=\"#DejaVuSans-116\"/>\n      <use x=\"139.599609\" xlink:href=\"#DejaVuSans-97\"/>\n      <use x=\"200.878906\" xlink:href=\"#DejaVuSans-108\"/>\n      <use x=\"228.662109\" xlink:href=\"#DejaVuSans-95\"/>\n      <use x=\"278.662109\" xlink:href=\"#DejaVuSans-109\"/>\n      <use x=\"376.074219\" xlink:href=\"#DejaVuSans-105\"/>\n      <use x=\"403.857422\" xlink:href=\"#DejaVuSans-110\"/>\n      <use x=\"467.236328\" xlink:href=\"#DejaVuSans-117\"/>\n      <use x=\"530.615234\" xlink:href=\"#DejaVuSans-116\"/>\n      <use x=\"569.824219\" xlink:href=\"#DejaVuSans-101\"/>\n      <use x=\"631.347656\" xlink:href=\"#DejaVuSans-115\"/>\n      <use x=\"683.447266\" xlink:href=\"#DejaVuSans-95\"/>\n      <use x=\"733.447266\" xlink:href=\"#DejaVuSans-118\"/>\n      <use x=\"792.626953\" xlink:href=\"#DejaVuSans-105\"/>\n      <use x=\"820.410156\" xlink:href=\"#DejaVuSans-115\"/>\n      <use x=\"872.509766\" xlink:href=\"#DejaVuSans-105\"/>\n      <use x=\"900.292969\" xlink:href=\"#DejaVuSans-116\"/>\n      <use x=\"939.501953\" xlink:href=\"#DejaVuSans-101\"/>\n      <use x=\"1001.025391\" xlink:href=\"#DejaVuSans-100\"/>\n     </g>\n    </g>\n   </g>\n  </g>\n </g>\n <defs>\n  <clipPath id=\"pb2e0ee99e3\">\n   <rect height=\"271.8\" width=\"446.4\" x=\"26.925\" y=\"22.318125\"/>\n  </clipPath>\n </defs>\n</svg>\n"
          },
          "metadata": {
            "tags": []
          }
        }
      ]
    },
    {
      "cell_type": "code",
      "metadata": {
        "id": "SMwRHC-k56nq",
        "colab_type": "code",
        "colab": {}
      },
      "source": [
        "# pandasql code\n",
        "def example3_pandasql(enrollments, daily_engagements):\n",
        "    join_query = '''\n",
        "        SELECT \n",
        "            avg(avg_acct_total_minutes) as avg_total_minutes, \n",
        "            status\n",
        "        FROM\n",
        "            (SELECT \n",
        "                avg(total_minutes_visited) as avg_acct_total_minutes, \n",
        "                status, \n",
        "                account_key\n",
        "            FROM\n",
        "                (SELECT \n",
        "                    e.account_key, \n",
        "                    e.status,\n",
        "                    de.total_minutes_visited,\n",
        "                    (cast(strftime('%s',de.utc_date) as interger) - cast(strftime('%s',e.join_date) as interger))/(24*60*60) as days_since_joining,\n",
        "                    (cast(strftime('%s',e.cancel_date) as interger) - cast(strftime('%s', de.utc_date) as interger))/(24*60*60) as days_before_cancel\n",
        "                FROM enrollments as e JOIN daily_engagements as de ON (e.account_key = de.acct)\n",
        "                WHERE (is_udacity = 0) AND (days_since_joining < 7) AND (days_since_joining >= 0)\n",
        "                    AND ((days_before_cancel >= 0) OR (status = 'current'))\n",
        "                )\n",
        "            GROUP BY status, account_key)\n",
        "        GROUP BY status\n",
        "    '''\n",
        "    return ps.sqldf(join_query, locals()).set_index('status')\n",
        "\n",
        "# pandas code\n",
        "def example3_pandas(enrollments, daily_engagements):\n",
        "    join_df = pd.merge(daily_engagements, \n",
        "                   enrollments[enrollments.is_udacity == 0], \n",
        "                   how = 'inner', \n",
        "                   right_on ='account_key', \n",
        "                   left_on = 'acct')\n",
        "    join_df = join_df[['account_key', 'status', 'total_minutes_visited', 'utc_date', 'join_date', 'cancel_date']]\n",
        "\n",
        "    join_df['days_since_joining'] = map(lambda x: x.days, \n",
        "                                        pd.to_datetime(join_df.utc_date) - pd.to_datetime(join_df.join_date))\n",
        "\n",
        "    join_df['before_cancel'] = (pd.to_datetime(join_df.utc_date) <= pd.to_datetime(join_df.cancel_date))\n",
        "    join_df = join_df[join_df.before_cancel | (join_df.status == 'current')]\n",
        "\n",
        "    join_df = join_df[(join_df.days_since_joining < 7) & (join_df.days_since_joining >= 0)]\n",
        "    avg_account_total_minutes = pd.DataFrame(join_df.groupby(['account_key', 'status'], as_index = False)\n",
        "                                                     .total_minutes_visited.mean())\n",
        "    avg_total_minutes= pd.DataFrame(avg_account_total_minutes.groupby('status').total_minutes_visited.mean())\n",
        "    avg_total_minutes.columns = ['avg_total_minutes']\n",
        "    return avg_total_minutes"
      ],
      "execution_count": 0,
      "outputs": []
    },
    {
      "cell_type": "code",
      "metadata": {
        "id": "_PZNOnw758Z1",
        "colab_type": "code",
        "outputId": "6b481ca3-e25b-46d6-ff04-6563f80555f6",
        "colab": {
          "base_uri": "https://localhost:8080/",
          "height": 142
        }
      },
      "source": [
        "example3_pandasql(enrollments, daily_engagements)\n"
      ],
      "execution_count": 0,
      "outputs": [
        {
          "output_type": "execute_result",
          "data": {
            "text/html": [
              "<div>\n",
              "<style scoped>\n",
              "    .dataframe tbody tr th:only-of-type {\n",
              "        vertical-align: middle;\n",
              "    }\n",
              "\n",
              "    .dataframe tbody tr th {\n",
              "        vertical-align: top;\n",
              "    }\n",
              "\n",
              "    .dataframe thead th {\n",
              "        text-align: right;\n",
              "    }\n",
              "</style>\n",
              "<table border=\"1\" class=\"dataframe\">\n",
              "  <thead>\n",
              "    <tr style=\"text-align: right;\">\n",
              "      <th></th>\n",
              "      <th>avg_total_minutes</th>\n",
              "    </tr>\n",
              "    <tr>\n",
              "      <th>status</th>\n",
              "      <th></th>\n",
              "    </tr>\n",
              "  </thead>\n",
              "  <tbody>\n",
              "    <tr>\n",
              "      <th>canceled</th>\n",
              "      <td>30.884667</td>\n",
              "    </tr>\n",
              "    <tr>\n",
              "      <th>current</th>\n",
              "      <td>47.307307</td>\n",
              "    </tr>\n",
              "  </tbody>\n",
              "</table>\n",
              "</div>"
            ],
            "text/plain": [
              "          avg_total_minutes\n",
              "status                     \n",
              "canceled          30.884667\n",
              "current           47.307307"
            ]
          },
          "metadata": {
            "tags": []
          },
          "execution_count": 116
        }
      ]
    },
    {
      "cell_type": "code",
      "metadata": {
        "id": "V1gcEqqL6-PI",
        "colab_type": "code",
        "outputId": "24c8c5e5-48fe-4a33-cafa-0232797f90c1",
        "colab": {
          "base_uri": "https://localhost:8080/",
          "height": 357
        }
      },
      "source": [
        "\n",
        "example3_pandas(enrollments, daily_engagements)"
      ],
      "execution_count": 0,
      "outputs": [
        {
          "output_type": "error",
          "ename": "TypeError",
          "evalue": "ignored",
          "traceback": [
            "\u001b[0;31m---------------------------------------------------------------------------\u001b[0m",
            "\u001b[0;31mTypeError\u001b[0m                                 Traceback (most recent call last)",
            "\u001b[0;32m<ipython-input-119-8df8f28679c6>\u001b[0m in \u001b[0;36m<module>\u001b[0;34m()\u001b[0m\n\u001b[1;32m      1\u001b[0m \u001b[0;34m\u001b[0m\u001b[0m\n\u001b[0;32m----> 2\u001b[0;31m \u001b[0mexample3_pandas\u001b[0m\u001b[0;34m(\u001b[0m\u001b[0menrollments\u001b[0m\u001b[0;34m,\u001b[0m \u001b[0mdaily_engagements\u001b[0m\u001b[0;34m)\u001b[0m\u001b[0;34m\u001b[0m\u001b[0;34m\u001b[0m\u001b[0m\n\u001b[0m",
            "\u001b[0;32m<ipython-input-118-4ec444d28239>\u001b[0m in \u001b[0;36mexample3_pandas\u001b[0;34m(enrollments, daily_engagements)\u001b[0m\n\u001b[1;32m     40\u001b[0m     \u001b[0mjoin_df\u001b[0m \u001b[0;34m=\u001b[0m \u001b[0mjoin_df\u001b[0m\u001b[0;34m[\u001b[0m\u001b[0mjoin_df\u001b[0m\u001b[0;34m.\u001b[0m\u001b[0mbefore_cancel\u001b[0m \u001b[0;34m|\u001b[0m \u001b[0;34m(\u001b[0m\u001b[0mjoin_df\u001b[0m\u001b[0;34m.\u001b[0m\u001b[0mstatus\u001b[0m \u001b[0;34m==\u001b[0m \u001b[0;34m'current'\u001b[0m\u001b[0;34m)\u001b[0m\u001b[0;34m]\u001b[0m\u001b[0;34m\u001b[0m\u001b[0;34m\u001b[0m\u001b[0m\n\u001b[1;32m     41\u001b[0m \u001b[0;34m\u001b[0m\u001b[0m\n\u001b[0;32m---> 42\u001b[0;31m     \u001b[0mjoin_df\u001b[0m \u001b[0;34m=\u001b[0m \u001b[0mjoin_df\u001b[0m\u001b[0;34m[\u001b[0m\u001b[0;34m(\u001b[0m\u001b[0mjoin_df\u001b[0m\u001b[0;34m.\u001b[0m\u001b[0mdays_since_joining\u001b[0m \u001b[0;34m<\u001b[0m \u001b[0;36m7\u001b[0m\u001b[0;34m)\u001b[0m \u001b[0;34m&\u001b[0m \u001b[0;34m(\u001b[0m\u001b[0mjoin_df\u001b[0m\u001b[0;34m.\u001b[0m\u001b[0mdays_since_joining\u001b[0m \u001b[0;34m>=\u001b[0m \u001b[0;36m0\u001b[0m\u001b[0;34m)\u001b[0m\u001b[0;34m]\u001b[0m\u001b[0;34m\u001b[0m\u001b[0;34m\u001b[0m\u001b[0m\n\u001b[0m\u001b[1;32m     43\u001b[0m     avg_account_total_minutes = pd.DataFrame(join_df.groupby(['account_key', 'status'], as_index = False)\n\u001b[1;32m     44\u001b[0m                                                      .total_minutes_visited.mean())\n",
            "\u001b[0;32m/usr/local/lib/python3.6/dist-packages/pandas/core/ops/__init__.py\u001b[0m in \u001b[0;36mwrapper\u001b[0;34m(self, other, axis)\u001b[0m\n\u001b[1;32m   1227\u001b[0m \u001b[0;34m\u001b[0m\u001b[0m\n\u001b[1;32m   1228\u001b[0m             \u001b[0;32mwith\u001b[0m \u001b[0mnp\u001b[0m\u001b[0;34m.\u001b[0m\u001b[0merrstate\u001b[0m\u001b[0;34m(\u001b[0m\u001b[0mall\u001b[0m\u001b[0;34m=\u001b[0m\u001b[0;34m\"ignore\"\u001b[0m\u001b[0;34m)\u001b[0m\u001b[0;34m:\u001b[0m\u001b[0;34m\u001b[0m\u001b[0;34m\u001b[0m\u001b[0m\n\u001b[0;32m-> 1229\u001b[0;31m                 \u001b[0mres\u001b[0m \u001b[0;34m=\u001b[0m \u001b[0mna_op\u001b[0m\u001b[0;34m(\u001b[0m\u001b[0mvalues\u001b[0m\u001b[0;34m,\u001b[0m \u001b[0mother\u001b[0m\u001b[0;34m)\u001b[0m\u001b[0;34m\u001b[0m\u001b[0;34m\u001b[0m\u001b[0m\n\u001b[0m\u001b[1;32m   1230\u001b[0m             \u001b[0;32mif\u001b[0m \u001b[0mis_scalar\u001b[0m\u001b[0;34m(\u001b[0m\u001b[0mres\u001b[0m\u001b[0;34m)\u001b[0m\u001b[0;34m:\u001b[0m\u001b[0;34m\u001b[0m\u001b[0;34m\u001b[0m\u001b[0m\n\u001b[1;32m   1231\u001b[0m                 raise TypeError(\n",
            "\u001b[0;32m/usr/local/lib/python3.6/dist-packages/pandas/core/ops/__init__.py\u001b[0m in \u001b[0;36mna_op\u001b[0;34m(x, y)\u001b[0m\n\u001b[1;32m   1089\u001b[0m \u001b[0;34m\u001b[0m\u001b[0m\n\u001b[1;32m   1090\u001b[0m         \u001b[0;32mif\u001b[0m \u001b[0mis_object_dtype\u001b[0m\u001b[0;34m(\u001b[0m\u001b[0mx\u001b[0m\u001b[0;34m.\u001b[0m\u001b[0mdtype\u001b[0m\u001b[0;34m)\u001b[0m\u001b[0;34m:\u001b[0m\u001b[0;34m\u001b[0m\u001b[0;34m\u001b[0m\u001b[0m\n\u001b[0;32m-> 1091\u001b[0;31m             \u001b[0mresult\u001b[0m \u001b[0;34m=\u001b[0m \u001b[0m_comp_method_OBJECT_ARRAY\u001b[0m\u001b[0;34m(\u001b[0m\u001b[0mop\u001b[0m\u001b[0;34m,\u001b[0m \u001b[0mx\u001b[0m\u001b[0;34m,\u001b[0m \u001b[0my\u001b[0m\u001b[0;34m)\u001b[0m\u001b[0;34m\u001b[0m\u001b[0;34m\u001b[0m\u001b[0m\n\u001b[0m\u001b[1;32m   1092\u001b[0m \u001b[0;34m\u001b[0m\u001b[0m\n\u001b[1;32m   1093\u001b[0m         \u001b[0;32melif\u001b[0m \u001b[0mis_datetimelike_v_numeric\u001b[0m\u001b[0;34m(\u001b[0m\u001b[0mx\u001b[0m\u001b[0;34m,\u001b[0m \u001b[0my\u001b[0m\u001b[0;34m)\u001b[0m\u001b[0;34m:\u001b[0m\u001b[0;34m\u001b[0m\u001b[0;34m\u001b[0m\u001b[0m\n",
            "\u001b[0;32m/usr/local/lib/python3.6/dist-packages/pandas/core/ops/__init__.py\u001b[0m in \u001b[0;36m_comp_method_OBJECT_ARRAY\u001b[0;34m(op, x, y)\u001b[0m\n\u001b[1;32m   1067\u001b[0m         \u001b[0mresult\u001b[0m \u001b[0;34m=\u001b[0m \u001b[0mlibops\u001b[0m\u001b[0;34m.\u001b[0m\u001b[0mvec_compare\u001b[0m\u001b[0;34m(\u001b[0m\u001b[0mx\u001b[0m\u001b[0;34m,\u001b[0m \u001b[0my\u001b[0m\u001b[0;34m,\u001b[0m \u001b[0mop\u001b[0m\u001b[0;34m)\u001b[0m\u001b[0;34m\u001b[0m\u001b[0;34m\u001b[0m\u001b[0m\n\u001b[1;32m   1068\u001b[0m     \u001b[0;32melse\u001b[0m\u001b[0;34m:\u001b[0m\u001b[0;34m\u001b[0m\u001b[0;34m\u001b[0m\u001b[0m\n\u001b[0;32m-> 1069\u001b[0;31m         \u001b[0mresult\u001b[0m \u001b[0;34m=\u001b[0m \u001b[0mlibops\u001b[0m\u001b[0;34m.\u001b[0m\u001b[0mscalar_compare\u001b[0m\u001b[0;34m(\u001b[0m\u001b[0mx\u001b[0m\u001b[0;34m,\u001b[0m \u001b[0my\u001b[0m\u001b[0;34m,\u001b[0m \u001b[0mop\u001b[0m\u001b[0;34m)\u001b[0m\u001b[0;34m\u001b[0m\u001b[0;34m\u001b[0m\u001b[0m\n\u001b[0m\u001b[1;32m   1070\u001b[0m     \u001b[0;32mreturn\u001b[0m \u001b[0mresult\u001b[0m\u001b[0;34m\u001b[0m\u001b[0;34m\u001b[0m\u001b[0m\n\u001b[1;32m   1071\u001b[0m \u001b[0;34m\u001b[0m\u001b[0m\n",
            "\u001b[0;32mpandas/_libs/ops.pyx\u001b[0m in \u001b[0;36mpandas._libs.ops.scalar_compare\u001b[0;34m()\u001b[0m\n",
            "\u001b[0;31mTypeError\u001b[0m: '<' not supported between instances of 'map' and 'int'"
          ]
        }
      ]
    },
    {
      "cell_type": "code",
      "metadata": {
        "id": "460H3moi6Bv-",
        "colab_type": "code",
        "colab": {}
      },
      "source": [
        "import time\n",
        "\n",
        "def count_mean_time(func, params, N =5):\n",
        "    total_time = 0\n",
        "    for i in range(N):\n",
        "        time1 = time.time()\n",
        "        if len(params) == 1:\n",
        "            tmp_df = func(params[0])\n",
        "        elif len(params) == 2:\n",
        "            tmp_df = func(params[0], params[1])\n",
        "        time2 = time.time()\n",
        "        total_time += (time2 - time1)\n",
        "    return total_time/N"
      ],
      "execution_count": 0,
      "outputs": []
    },
    {
      "cell_type": "code",
      "metadata": {
        "id": "TvEvJ_7c8BNW",
        "colab_type": "code",
        "outputId": "b4986bd5-9e48-4b00-afe5-ae7c9e96b8f9",
        "colab": {
          "base_uri": "https://localhost:8080/",
          "height": 1000
        }
      },
      "source": [
        "ex1_times = []\n",
        "for count in range(1000, 137000, 1000):\n",
        "    pandasql_time = count_mean_time(example1_pandasql, [daily_engagements[:count]])\n",
        "    pandas_time = count_mean_time(example1_pandas, [daily_engagements[:count]])\n",
        "    ex1_times.append({'count': count, 'pandasql_time': pandasql_time, 'pandas_time': pandas_time})\n",
        "    print(count)"
      ],
      "execution_count": 0,
      "outputs": [
        {
          "output_type": "stream",
          "text": [
            "1000\n",
            "2000\n",
            "3000\n",
            "4000\n",
            "5000\n",
            "6000\n",
            "7000\n",
            "8000\n",
            "9000\n",
            "10000\n",
            "11000\n",
            "12000\n",
            "13000\n",
            "14000\n",
            "15000\n",
            "16000\n",
            "17000\n",
            "18000\n",
            "19000\n",
            "20000\n",
            "21000\n",
            "22000\n",
            "23000\n",
            "24000\n",
            "25000\n",
            "26000\n",
            "27000\n",
            "28000\n",
            "29000\n",
            "30000\n",
            "31000\n",
            "32000\n",
            "33000\n",
            "34000\n",
            "35000\n",
            "36000\n",
            "37000\n",
            "38000\n",
            "39000\n",
            "40000\n",
            "41000\n",
            "42000\n",
            "43000\n",
            "44000\n",
            "45000\n",
            "46000\n",
            "47000\n",
            "48000\n",
            "49000\n",
            "50000\n",
            "51000\n",
            "52000\n",
            "53000\n",
            "54000\n",
            "55000\n",
            "56000\n",
            "57000\n",
            "58000\n",
            "59000\n",
            "60000\n",
            "61000\n",
            "62000\n",
            "63000\n",
            "64000\n",
            "65000\n",
            "66000\n",
            "67000\n",
            "68000\n",
            "69000\n",
            "70000\n",
            "71000\n",
            "72000\n",
            "73000\n",
            "74000\n",
            "75000\n",
            "76000\n",
            "77000\n",
            "78000\n",
            "79000\n",
            "80000\n",
            "81000\n",
            "82000\n",
            "83000\n",
            "84000\n",
            "85000\n",
            "86000\n",
            "87000\n",
            "88000\n",
            "89000\n",
            "90000\n",
            "91000\n",
            "92000\n",
            "93000\n",
            "94000\n",
            "95000\n",
            "96000\n",
            "97000\n",
            "98000\n",
            "99000\n",
            "100000\n",
            "101000\n",
            "102000\n",
            "103000\n",
            "104000\n",
            "105000\n",
            "106000\n",
            "107000\n",
            "108000\n",
            "109000\n",
            "110000\n",
            "111000\n",
            "112000\n",
            "113000\n",
            "114000\n",
            "115000\n",
            "116000\n",
            "117000\n",
            "118000\n",
            "119000\n",
            "120000\n",
            "121000\n",
            "122000\n",
            "123000\n",
            "124000\n",
            "125000\n",
            "126000\n",
            "127000\n",
            "128000\n",
            "129000\n",
            "130000\n",
            "131000\n",
            "132000\n",
            "133000\n",
            "134000\n",
            "135000\n",
            "136000\n"
          ],
          "name": "stdout"
        }
      ]
    },
    {
      "cell_type": "code",
      "metadata": {
        "id": "gog00kW59w1p",
        "colab_type": "code",
        "colab": {}
      },
      "source": [
        "ex1_times_df = pd.DataFrame(ex1_times)\n",
        "ex1_times_df.columns = ['number of rows in daily_engagements', 'pandas time', 'pandasql time']\n",
        "ex1_times_df = ex1_times_df.set_index('number of rows in daily_engagements')"
      ],
      "execution_count": 0,
      "outputs": []
    },
    {
      "cell_type": "code",
      "metadata": {
        "id": "D4HaJp-g90yc",
        "colab_type": "code",
        "outputId": "43d8b44a-1cca-40b8-82dc-c17aedcf9bfb",
        "colab": {
          "base_uri": "https://localhost:8080/",
          "height": 479
        }
      },
      "source": [
        "ax = ex1_times_df.plot(title = 'Example #1 time elapsed (seconds)', subplots = True)"
      ],
      "execution_count": 0,
      "outputs": [
        {
          "output_type": "display_data",
          "data": {
            "text/plain": [
              "<Figure size 576x360 with 2 Axes>"
            ],
            "image/svg+xml": "<?xml version=\"1.0\" encoding=\"utf-8\" standalone=\"no\"?>\n<!DOCTYPE svg PUBLIC \"-//W3C//DTD SVG 1.1//EN\"\n  \"http://www.w3.org/Graphics/SVG/1.1/DTD/svg11.dtd\">\n<!-- Created with matplotlib (https://matplotlib.org/) -->\n<svg height=\"343.625252pt\" version=\"1.1\" viewBox=\"0 0 496.428125 343.625252\" width=\"496.428125pt\" xmlns=\"http://www.w3.org/2000/svg\" xmlns:xlink=\"http://www.w3.org/1999/xlink\">\n <defs>\n  <style type=\"text/css\">\n*{stroke-linecap:butt;stroke-linejoin:round;}\n  </style>\n </defs>\n <g id=\"figure_1\">\n  <g id=\"patch_1\">\n   <path d=\"M 0 343.625252 \nL 496.428125 343.625252 \nL 496.428125 0 \nL 0 0 \nz\n\" style=\"fill:none;\"/>\n  </g>\n  <g id=\"axes_1\">\n   <g id=\"patch_2\">\n    <path d=\"M 42.828125 154.472727 \nL 489.228125 154.472727 \nL 489.228125 43.2 \nL 42.828125 43.2 \nz\n\" style=\"fill:#ffffff;\"/>\n   </g>\n   <g id=\"matplotlib.axis_1\">\n    <g id=\"xtick_1\">\n     <g id=\"line2d_1\">\n      <defs>\n       <path d=\"M 0 0 \nL 0 3.5 \n\" id=\"md44b90c6a0\" style=\"stroke:#000000;stroke-width:0.8;\"/>\n      </defs>\n      <g>\n       <use style=\"stroke:#000000;stroke-width:0.8;\" x=\"105.654792\" xlink:href=\"#md44b90c6a0\" y=\"154.472727\"/>\n      </g>\n     </g>\n    </g>\n    <g id=\"xtick_2\">\n     <g id=\"line2d_2\">\n      <g>\n       <use style=\"stroke:#000000;stroke-width:0.8;\" x=\"171.788125\" xlink:href=\"#md44b90c6a0\" y=\"154.472727\"/>\n      </g>\n     </g>\n    </g>\n    <g id=\"xtick_3\">\n     <g id=\"line2d_3\">\n      <g>\n       <use style=\"stroke:#000000;stroke-width:0.8;\" x=\"237.921458\" xlink:href=\"#md44b90c6a0\" y=\"154.472727\"/>\n      </g>\n     </g>\n    </g>\n    <g id=\"xtick_4\">\n     <g id=\"line2d_4\">\n      <g>\n       <use style=\"stroke:#000000;stroke-width:0.8;\" x=\"304.054792\" xlink:href=\"#md44b90c6a0\" y=\"154.472727\"/>\n      </g>\n     </g>\n    </g>\n    <g id=\"xtick_5\">\n     <g id=\"line2d_5\">\n      <g>\n       <use style=\"stroke:#000000;stroke-width:0.8;\" x=\"370.188125\" xlink:href=\"#md44b90c6a0\" y=\"154.472727\"/>\n      </g>\n     </g>\n    </g>\n    <g id=\"xtick_6\">\n     <g id=\"line2d_6\">\n      <g>\n       <use style=\"stroke:#000000;stroke-width:0.8;\" x=\"436.321458\" xlink:href=\"#md44b90c6a0\" y=\"154.472727\"/>\n      </g>\n     </g>\n    </g>\n   </g>\n   <g id=\"matplotlib.axis_2\">\n    <g id=\"ytick_1\">\n     <g id=\"line2d_7\">\n      <defs>\n       <path d=\"M 0 0 \nL -3.5 0 \n\" id=\"mc0fd8da5d6\" style=\"stroke:#000000;stroke-width:0.8;\"/>\n      </defs>\n      <g>\n       <use style=\"stroke:#000000;stroke-width:0.8;\" x=\"42.828125\" xlink:href=\"#mc0fd8da5d6\" y=\"150.765471\"/>\n      </g>\n     </g>\n     <g id=\"text_1\">\n      <!-- 0.0 -->\n      <defs>\n       <path d=\"M 31.78125 66.40625 \nQ 24.171875 66.40625 20.328125 58.90625 \nQ 16.5 51.421875 16.5 36.375 \nQ 16.5 21.390625 20.328125 13.890625 \nQ 24.171875 6.390625 31.78125 6.390625 \nQ 39.453125 6.390625 43.28125 13.890625 \nQ 47.125 21.390625 47.125 36.375 \nQ 47.125 51.421875 43.28125 58.90625 \nQ 39.453125 66.40625 31.78125 66.40625 \nz\nM 31.78125 74.21875 \nQ 44.046875 74.21875 50.515625 64.515625 \nQ 56.984375 54.828125 56.984375 36.375 \nQ 56.984375 17.96875 50.515625 8.265625 \nQ 44.046875 -1.421875 31.78125 -1.421875 \nQ 19.53125 -1.421875 13.0625 8.265625 \nQ 6.59375 17.96875 6.59375 36.375 \nQ 6.59375 54.828125 13.0625 64.515625 \nQ 19.53125 74.21875 31.78125 74.21875 \nz\n\" id=\"DejaVuSans-48\"/>\n       <path d=\"M 10.6875 12.40625 \nL 21 12.40625 \nL 21 0 \nL 10.6875 0 \nz\n\" id=\"DejaVuSans-46\"/>\n      </defs>\n      <g transform=\"translate(19.925 154.564689)scale(0.1 -0.1)\">\n       <use xlink:href=\"#DejaVuSans-48\"/>\n       <use x=\"63.623047\" xlink:href=\"#DejaVuSans-46\"/>\n       <use x=\"95.410156\" xlink:href=\"#DejaVuSans-48\"/>\n      </g>\n     </g>\n    </g>\n    <g id=\"ytick_2\">\n     <g id=\"line2d_8\">\n      <g>\n       <use style=\"stroke:#000000;stroke-width:0.8;\" x=\"42.828125\" xlink:href=\"#mc0fd8da5d6\" y=\"112.105039\"/>\n      </g>\n     </g>\n     <g id=\"text_2\">\n      <!-- 0.5 -->\n      <defs>\n       <path d=\"M 10.796875 72.90625 \nL 49.515625 72.90625 \nL 49.515625 64.59375 \nL 19.828125 64.59375 \nL 19.828125 46.734375 \nQ 21.96875 47.46875 24.109375 47.828125 \nQ 26.265625 48.1875 28.421875 48.1875 \nQ 40.625 48.1875 47.75 41.5 \nQ 54.890625 34.8125 54.890625 23.390625 \nQ 54.890625 11.625 47.5625 5.09375 \nQ 40.234375 -1.421875 26.90625 -1.421875 \nQ 22.3125 -1.421875 17.546875 -0.640625 \nQ 12.796875 0.140625 7.71875 1.703125 \nL 7.71875 11.625 \nQ 12.109375 9.234375 16.796875 8.0625 \nQ 21.484375 6.890625 26.703125 6.890625 \nQ 35.15625 6.890625 40.078125 11.328125 \nQ 45.015625 15.765625 45.015625 23.390625 \nQ 45.015625 31 40.078125 35.4375 \nQ 35.15625 39.890625 26.703125 39.890625 \nQ 22.75 39.890625 18.8125 39.015625 \nQ 14.890625 38.140625 10.796875 36.28125 \nz\n\" id=\"DejaVuSans-53\"/>\n      </defs>\n      <g transform=\"translate(19.925 115.904258)scale(0.1 -0.1)\">\n       <use xlink:href=\"#DejaVuSans-48\"/>\n       <use x=\"63.623047\" xlink:href=\"#DejaVuSans-46\"/>\n       <use x=\"95.410156\" xlink:href=\"#DejaVuSans-53\"/>\n      </g>\n     </g>\n    </g>\n    <g id=\"ytick_3\">\n     <g id=\"line2d_9\">\n      <g>\n       <use style=\"stroke:#000000;stroke-width:0.8;\" x=\"42.828125\" xlink:href=\"#mc0fd8da5d6\" y=\"73.444608\"/>\n      </g>\n     </g>\n     <g id=\"text_3\">\n      <!-- 1.0 -->\n      <defs>\n       <path d=\"M 12.40625 8.296875 \nL 28.515625 8.296875 \nL 28.515625 63.921875 \nL 10.984375 60.40625 \nL 10.984375 69.390625 \nL 28.421875 72.90625 \nL 38.28125 72.90625 \nL 38.28125 8.296875 \nL 54.390625 8.296875 \nL 54.390625 0 \nL 12.40625 0 \nz\n\" id=\"DejaVuSans-49\"/>\n      </defs>\n      <g transform=\"translate(19.925 77.243826)scale(0.1 -0.1)\">\n       <use xlink:href=\"#DejaVuSans-49\"/>\n       <use x=\"63.623047\" xlink:href=\"#DejaVuSans-46\"/>\n       <use x=\"95.410156\" xlink:href=\"#DejaVuSans-48\"/>\n      </g>\n     </g>\n    </g>\n   </g>\n   <g id=\"line2d_10\">\n    <path clip-path=\"url(#pb862c4830e)\" d=\"M 42.828125 149.414876 \nL 46.134792 148.97447 \nL 52.748125 147.829047 \nL 56.054792 145.571965 \nL 59.361458 146.505665 \nL 62.668125 144.686537 \nL 75.894792 142.055846 \nL 79.201458 141.212922 \nL 82.508125 140.724538 \nL 85.814792 139.011358 \nL 89.121458 139.412029 \nL 92.428125 137.694023 \nL 95.734792 137.175955 \nL 99.041458 137.43416 \nL 102.348125 134.342733 \nL 105.654792 135.147033 \nL 112.268125 133.825635 \nL 115.574792 132.933176 \nL 118.881458 132.623167 \nL 122.188125 130.803921 \nL 125.494792 131.21093 \nL 128.801458 129.421707 \nL 132.108125 129.6734 \nL 135.414792 128.15742 \nL 142.028125 126.973246 \nL 145.334792 126.101461 \nL 148.641458 125.444027 \nL 151.948125 124.508361 \nL 155.254792 122.666064 \nL 158.561458 123.459214 \nL 161.868125 122.760892 \nL 165.174792 120.91937 \nL 168.481458 121.299228 \nL 175.094792 118.765699 \nL 178.401458 118.689866 \nL 181.708125 117.712158 \nL 185.014792 117.334393 \nL 188.321458 115.923281 \nL 191.628125 114.741685 \nL 194.934792 115.24593 \nL 198.241458 113.233307 \nL 201.548125 113.734684 \nL 204.854792 111.17062 \nL 208.161458 112.335558 \nL 211.468125 109.789132 \nL 214.774792 111.132987 \nL 218.081458 107.761334 \nL 221.388125 108.450284 \nL 224.694792 108.890737 \nL 228.001458 105.812502 \nL 231.308125 105.274935 \nL 234.614792 105.017759 \nL 241.228125 103.46179 \nL 247.841458 102.516063 \nL 251.148125 100.942132 \nL 254.454792 101.046616 \nL 257.761458 100.340665 \nL 261.068125 98.503117 \nL 264.374792 97.533122 \nL 267.681458 98.587025 \nL 270.988125 96.732063 \nL 274.294792 95.376089 \nL 277.601458 95.482085 \nL 280.908125 94.79843 \nL 284.214792 93.531086 \nL 287.521458 92.952671 \nL 290.828125 92.240257 \nL 297.441458 90.540154 \nL 300.748125 88.841545 \nL 304.054792 89.75298 \nL 307.361458 87.97561 \nL 310.668125 88.021745 \nL 317.281458 85.06786 \nL 320.588125 86.541322 \nL 323.894792 84.607327 \nL 327.201458 83.691073 \nL 330.508125 84.183406 \nL 333.814792 82.195017 \nL 337.121458 81.859656 \nL 340.428125 81.094855 \nL 343.734792 81.560531 \nL 350.348125 77.48063 \nL 353.654792 77.605629 \nL 356.961458 77.191551 \nL 360.268125 76.32419 \nL 363.574792 73.971767 \nL 366.881458 75.870187 \nL 370.188125 74.852361 \nL 373.494792 73.088814 \nL 376.801458 73.453043 \nL 380.108125 71.505362 \nL 383.414792 72.008985 \nL 386.721458 70.704945 \nL 390.028125 70.613888 \nL 393.334792 68.783696 \nL 396.641458 69.193161 \nL 399.948125 67.088807 \nL 403.254792 67.749209 \nL 406.561458 66.052874 \nL 409.868125 67.047354 \nL 413.174792 64.518972 \nL 416.481458 65.49237 \nL 419.788125 63.565727 \nL 423.094792 64.54609 \nL 426.401458 62.094071 \nL 429.708125 62.774866 \nL 433.014792 61.596042 \nL 436.321458 59.714524 \nL 439.628125 60.744247 \nL 442.934792 59.713701 \nL 446.241458 56.540229 \nL 449.548125 57.88102 \nL 452.854792 56.470221 \nL 456.161458 55.394345 \nL 459.468125 53.825505 \nL 462.774792 54.588533 \nL 466.081458 53.230266 \nL 469.388125 51.719506 \nL 472.694792 53.046859 \nL 476.001458 52.401437 \nL 479.308125 50.708675 \nL 482.614792 50.764573 \nL 485.921458 49.923562 \nL 489.228125 48.257851 \nL 489.228125 48.257851 \n\" style=\"fill:none;stroke:#1f77b4;stroke-linecap:square;stroke-width:1.5;\"/>\n   </g>\n   <g id=\"patch_3\">\n    <path d=\"M 42.828125 154.472727 \nL 42.828125 43.2 \n\" style=\"fill:none;stroke:#000000;stroke-linecap:square;stroke-linejoin:miter;stroke-width:0.8;\"/>\n   </g>\n   <g id=\"patch_4\">\n    <path d=\"M 489.228125 154.472727 \nL 489.228125 43.2 \n\" style=\"fill:none;stroke:#000000;stroke-linecap:square;stroke-linejoin:miter;stroke-width:0.8;\"/>\n   </g>\n   <g id=\"patch_5\">\n    <path d=\"M 42.828125 154.472727 \nL 489.228125 154.472727 \n\" style=\"fill:none;stroke:#000000;stroke-linecap:square;stroke-linejoin:miter;stroke-width:0.8;\"/>\n   </g>\n   <g id=\"patch_6\">\n    <path d=\"M 42.828125 43.2 \nL 489.228125 43.2 \n\" style=\"fill:none;stroke:#000000;stroke-linecap:square;stroke-linejoin:miter;stroke-width:0.8;\"/>\n   </g>\n   <g id=\"legend_1\">\n    <g id=\"patch_7\">\n     <path d=\"M 49.828125 65.878125 \nL 144.098437 65.878125 \nQ 146.098437 65.878125 146.098437 63.878125 \nL 146.098437 50.2 \nQ 146.098437 48.2 144.098437 48.2 \nL 49.828125 48.2 \nQ 47.828125 48.2 47.828125 50.2 \nL 47.828125 63.878125 \nQ 47.828125 65.878125 49.828125 65.878125 \nz\n\" style=\"fill:#ffffff;opacity:0.8;stroke:#cccccc;stroke-linejoin:miter;\"/>\n    </g>\n    <g id=\"line2d_11\">\n     <path d=\"M 51.828125 56.298437 \nL 71.828125 56.298437 \n\" style=\"fill:none;stroke:#1f77b4;stroke-linecap:square;stroke-width:1.5;\"/>\n    </g>\n    <g id=\"line2d_12\"/>\n    <g id=\"text_4\">\n     <!-- pandas time -->\n     <defs>\n      <path d=\"M 18.109375 8.203125 \nL 18.109375 -20.796875 \nL 9.078125 -20.796875 \nL 9.078125 54.6875 \nL 18.109375 54.6875 \nL 18.109375 46.390625 \nQ 20.953125 51.265625 25.265625 53.625 \nQ 29.59375 56 35.59375 56 \nQ 45.5625 56 51.78125 48.09375 \nQ 58.015625 40.1875 58.015625 27.296875 \nQ 58.015625 14.40625 51.78125 6.484375 \nQ 45.5625 -1.421875 35.59375 -1.421875 \nQ 29.59375 -1.421875 25.265625 0.953125 \nQ 20.953125 3.328125 18.109375 8.203125 \nz\nM 48.6875 27.296875 \nQ 48.6875 37.203125 44.609375 42.84375 \nQ 40.53125 48.484375 33.40625 48.484375 \nQ 26.265625 48.484375 22.1875 42.84375 \nQ 18.109375 37.203125 18.109375 27.296875 \nQ 18.109375 17.390625 22.1875 11.75 \nQ 26.265625 6.109375 33.40625 6.109375 \nQ 40.53125 6.109375 44.609375 11.75 \nQ 48.6875 17.390625 48.6875 27.296875 \nz\n\" id=\"DejaVuSans-112\"/>\n      <path d=\"M 34.28125 27.484375 \nQ 23.390625 27.484375 19.1875 25 \nQ 14.984375 22.515625 14.984375 16.5 \nQ 14.984375 11.71875 18.140625 8.90625 \nQ 21.296875 6.109375 26.703125 6.109375 \nQ 34.1875 6.109375 38.703125 11.40625 \nQ 43.21875 16.703125 43.21875 25.484375 \nL 43.21875 27.484375 \nz\nM 52.203125 31.203125 \nL 52.203125 0 \nL 43.21875 0 \nL 43.21875 8.296875 \nQ 40.140625 3.328125 35.546875 0.953125 \nQ 30.953125 -1.421875 24.3125 -1.421875 \nQ 15.921875 -1.421875 10.953125 3.296875 \nQ 6 8.015625 6 15.921875 \nQ 6 25.140625 12.171875 29.828125 \nQ 18.359375 34.515625 30.609375 34.515625 \nL 43.21875 34.515625 \nL 43.21875 35.40625 \nQ 43.21875 41.609375 39.140625 45 \nQ 35.0625 48.390625 27.6875 48.390625 \nQ 23 48.390625 18.546875 47.265625 \nQ 14.109375 46.140625 10.015625 43.890625 \nL 10.015625 52.203125 \nQ 14.9375 54.109375 19.578125 55.046875 \nQ 24.21875 56 28.609375 56 \nQ 40.484375 56 46.34375 49.84375 \nQ 52.203125 43.703125 52.203125 31.203125 \nz\n\" id=\"DejaVuSans-97\"/>\n      <path d=\"M 54.890625 33.015625 \nL 54.890625 0 \nL 45.90625 0 \nL 45.90625 32.71875 \nQ 45.90625 40.484375 42.875 44.328125 \nQ 39.84375 48.1875 33.796875 48.1875 \nQ 26.515625 48.1875 22.3125 43.546875 \nQ 18.109375 38.921875 18.109375 30.90625 \nL 18.109375 0 \nL 9.078125 0 \nL 9.078125 54.6875 \nL 18.109375 54.6875 \nL 18.109375 46.1875 \nQ 21.34375 51.125 25.703125 53.5625 \nQ 30.078125 56 35.796875 56 \nQ 45.21875 56 50.046875 50.171875 \nQ 54.890625 44.34375 54.890625 33.015625 \nz\n\" id=\"DejaVuSans-110\"/>\n      <path d=\"M 45.40625 46.390625 \nL 45.40625 75.984375 \nL 54.390625 75.984375 \nL 54.390625 0 \nL 45.40625 0 \nL 45.40625 8.203125 \nQ 42.578125 3.328125 38.25 0.953125 \nQ 33.9375 -1.421875 27.875 -1.421875 \nQ 17.96875 -1.421875 11.734375 6.484375 \nQ 5.515625 14.40625 5.515625 27.296875 \nQ 5.515625 40.1875 11.734375 48.09375 \nQ 17.96875 56 27.875 56 \nQ 33.9375 56 38.25 53.625 \nQ 42.578125 51.265625 45.40625 46.390625 \nz\nM 14.796875 27.296875 \nQ 14.796875 17.390625 18.875 11.75 \nQ 22.953125 6.109375 30.078125 6.109375 \nQ 37.203125 6.109375 41.296875 11.75 \nQ 45.40625 17.390625 45.40625 27.296875 \nQ 45.40625 37.203125 41.296875 42.84375 \nQ 37.203125 48.484375 30.078125 48.484375 \nQ 22.953125 48.484375 18.875 42.84375 \nQ 14.796875 37.203125 14.796875 27.296875 \nz\n\" id=\"DejaVuSans-100\"/>\n      <path d=\"M 44.28125 53.078125 \nL 44.28125 44.578125 \nQ 40.484375 46.53125 36.375 47.5 \nQ 32.28125 48.484375 27.875 48.484375 \nQ 21.1875 48.484375 17.84375 46.4375 \nQ 14.5 44.390625 14.5 40.28125 \nQ 14.5 37.15625 16.890625 35.375 \nQ 19.28125 33.59375 26.515625 31.984375 \nL 29.59375 31.296875 \nQ 39.15625 29.25 43.1875 25.515625 \nQ 47.21875 21.78125 47.21875 15.09375 \nQ 47.21875 7.46875 41.1875 3.015625 \nQ 35.15625 -1.421875 24.609375 -1.421875 \nQ 20.21875 -1.421875 15.453125 -0.5625 \nQ 10.6875 0.296875 5.421875 2 \nL 5.421875 11.28125 \nQ 10.40625 8.6875 15.234375 7.390625 \nQ 20.0625 6.109375 24.8125 6.109375 \nQ 31.15625 6.109375 34.5625 8.28125 \nQ 37.984375 10.453125 37.984375 14.40625 \nQ 37.984375 18.0625 35.515625 20.015625 \nQ 33.0625 21.96875 24.703125 23.78125 \nL 21.578125 24.515625 \nQ 13.234375 26.265625 9.515625 29.90625 \nQ 5.8125 33.546875 5.8125 39.890625 \nQ 5.8125 47.609375 11.28125 51.796875 \nQ 16.75 56 26.8125 56 \nQ 31.78125 56 36.171875 55.265625 \nQ 40.578125 54.546875 44.28125 53.078125 \nz\n\" id=\"DejaVuSans-115\"/>\n      <path id=\"DejaVuSans-32\"/>\n      <path d=\"M 18.3125 70.21875 \nL 18.3125 54.6875 \nL 36.8125 54.6875 \nL 36.8125 47.703125 \nL 18.3125 47.703125 \nL 18.3125 18.015625 \nQ 18.3125 11.328125 20.140625 9.421875 \nQ 21.96875 7.515625 27.59375 7.515625 \nL 36.8125 7.515625 \nL 36.8125 0 \nL 27.59375 0 \nQ 17.1875 0 13.234375 3.875 \nQ 9.28125 7.765625 9.28125 18.015625 \nL 9.28125 47.703125 \nL 2.6875 47.703125 \nL 2.6875 54.6875 \nL 9.28125 54.6875 \nL 9.28125 70.21875 \nz\n\" id=\"DejaVuSans-116\"/>\n      <path d=\"M 9.421875 54.6875 \nL 18.40625 54.6875 \nL 18.40625 0 \nL 9.421875 0 \nz\nM 9.421875 75.984375 \nL 18.40625 75.984375 \nL 18.40625 64.59375 \nL 9.421875 64.59375 \nz\n\" id=\"DejaVuSans-105\"/>\n      <path d=\"M 52 44.1875 \nQ 55.375 50.25 60.0625 53.125 \nQ 64.75 56 71.09375 56 \nQ 79.640625 56 84.28125 50.015625 \nQ 88.921875 44.046875 88.921875 33.015625 \nL 88.921875 0 \nL 79.890625 0 \nL 79.890625 32.71875 \nQ 79.890625 40.578125 77.09375 44.375 \nQ 74.3125 48.1875 68.609375 48.1875 \nQ 61.625 48.1875 57.5625 43.546875 \nQ 53.515625 38.921875 53.515625 30.90625 \nL 53.515625 0 \nL 44.484375 0 \nL 44.484375 32.71875 \nQ 44.484375 40.625 41.703125 44.40625 \nQ 38.921875 48.1875 33.109375 48.1875 \nQ 26.21875 48.1875 22.15625 43.53125 \nQ 18.109375 38.875 18.109375 30.90625 \nL 18.109375 0 \nL 9.078125 0 \nL 9.078125 54.6875 \nL 18.109375 54.6875 \nL 18.109375 46.1875 \nQ 21.1875 51.21875 25.484375 53.609375 \nQ 29.78125 56 35.6875 56 \nQ 41.65625 56 45.828125 52.96875 \nQ 50 49.953125 52 44.1875 \nz\n\" id=\"DejaVuSans-109\"/>\n      <path d=\"M 56.203125 29.59375 \nL 56.203125 25.203125 \nL 14.890625 25.203125 \nQ 15.484375 15.921875 20.484375 11.0625 \nQ 25.484375 6.203125 34.421875 6.203125 \nQ 39.59375 6.203125 44.453125 7.46875 \nQ 49.3125 8.734375 54.109375 11.28125 \nL 54.109375 2.78125 \nQ 49.265625 0.734375 44.1875 -0.34375 \nQ 39.109375 -1.421875 33.890625 -1.421875 \nQ 20.796875 -1.421875 13.15625 6.1875 \nQ 5.515625 13.8125 5.515625 26.8125 \nQ 5.515625 40.234375 12.765625 48.109375 \nQ 20.015625 56 32.328125 56 \nQ 43.359375 56 49.78125 48.890625 \nQ 56.203125 41.796875 56.203125 29.59375 \nz\nM 47.21875 32.234375 \nQ 47.125 39.59375 43.09375 43.984375 \nQ 39.0625 48.390625 32.421875 48.390625 \nQ 24.90625 48.390625 20.390625 44.140625 \nQ 15.875 39.890625 15.1875 32.171875 \nz\n\" id=\"DejaVuSans-101\"/>\n     </defs>\n     <g transform=\"translate(79.828125 59.798437)scale(0.1 -0.1)\">\n      <use xlink:href=\"#DejaVuSans-112\"/>\n      <use x=\"63.476562\" xlink:href=\"#DejaVuSans-97\"/>\n      <use x=\"124.755859\" xlink:href=\"#DejaVuSans-110\"/>\n      <use x=\"188.134766\" xlink:href=\"#DejaVuSans-100\"/>\n      <use x=\"251.611328\" xlink:href=\"#DejaVuSans-97\"/>\n      <use x=\"312.890625\" xlink:href=\"#DejaVuSans-115\"/>\n      <use x=\"364.990234\" xlink:href=\"#DejaVuSans-32\"/>\n      <use x=\"396.777344\" xlink:href=\"#DejaVuSans-116\"/>\n      <use x=\"435.986328\" xlink:href=\"#DejaVuSans-105\"/>\n      <use x=\"463.769531\" xlink:href=\"#DejaVuSans-109\"/>\n      <use x=\"561.181641\" xlink:href=\"#DejaVuSans-101\"/>\n     </g>\n    </g>\n   </g>\n  </g>\n  <g id=\"axes_2\">\n   <g id=\"patch_8\">\n    <path d=\"M 42.828125 288 \nL 489.228125 288 \nL 489.228125 176.727273 \nL 42.828125 176.727273 \nz\n\" style=\"fill:#ffffff;\"/>\n   </g>\n   <g id=\"matplotlib.axis_3\">\n    <g id=\"xtick_7\">\n     <g id=\"line2d_13\">\n      <g>\n       <use style=\"stroke:#000000;stroke-width:0.8;\" x=\"105.654792\" xlink:href=\"#md44b90c6a0\" y=\"288\"/>\n      </g>\n     </g>\n     <g id=\"text_5\">\n      <!-- 20000 -->\n      <defs>\n       <path d=\"M 19.1875 8.296875 \nL 53.609375 8.296875 \nL 53.609375 0 \nL 7.328125 0 \nL 7.328125 8.296875 \nQ 12.9375 14.109375 22.625 23.890625 \nQ 32.328125 33.6875 34.8125 36.53125 \nQ 39.546875 41.84375 41.421875 45.53125 \nQ 43.3125 49.21875 43.3125 52.78125 \nQ 43.3125 58.59375 39.234375 62.25 \nQ 35.15625 65.921875 28.609375 65.921875 \nQ 23.96875 65.921875 18.8125 64.3125 \nQ 13.671875 62.703125 7.8125 59.421875 \nL 7.8125 69.390625 \nQ 13.765625 71.78125 18.9375 73 \nQ 24.125 74.21875 28.421875 74.21875 \nQ 39.75 74.21875 46.484375 68.546875 \nQ 53.21875 62.890625 53.21875 53.421875 \nQ 53.21875 48.921875 51.53125 44.890625 \nQ 49.859375 40.875 45.40625 35.40625 \nQ 44.1875 33.984375 37.640625 27.21875 \nQ 31.109375 20.453125 19.1875 8.296875 \nz\n\" id=\"DejaVuSans-50\"/>\n      </defs>\n      <g transform=\"translate(77.064515 317.48669)rotate(-30)scale(0.1 -0.1)\">\n       <use xlink:href=\"#DejaVuSans-50\"/>\n       <use x=\"63.623047\" xlink:href=\"#DejaVuSans-48\"/>\n       <use x=\"127.246094\" xlink:href=\"#DejaVuSans-48\"/>\n       <use x=\"190.869141\" xlink:href=\"#DejaVuSans-48\"/>\n       <use x=\"254.492188\" xlink:href=\"#DejaVuSans-48\"/>\n      </g>\n     </g>\n    </g>\n    <g id=\"xtick_8\">\n     <g id=\"line2d_14\">\n      <g>\n       <use style=\"stroke:#000000;stroke-width:0.8;\" x=\"171.788125\" xlink:href=\"#md44b90c6a0\" y=\"288\"/>\n      </g>\n     </g>\n     <g id=\"text_6\">\n      <!-- 40000 -->\n      <defs>\n       <path d=\"M 37.796875 64.3125 \nL 12.890625 25.390625 \nL 37.796875 25.390625 \nz\nM 35.203125 72.90625 \nL 47.609375 72.90625 \nL 47.609375 25.390625 \nL 58.015625 25.390625 \nL 58.015625 17.1875 \nL 47.609375 17.1875 \nL 47.609375 0 \nL 37.796875 0 \nL 37.796875 17.1875 \nL 4.890625 17.1875 \nL 4.890625 26.703125 \nz\n\" id=\"DejaVuSans-52\"/>\n      </defs>\n      <g transform=\"translate(143.197848 317.48669)rotate(-30)scale(0.1 -0.1)\">\n       <use xlink:href=\"#DejaVuSans-52\"/>\n       <use x=\"63.623047\" xlink:href=\"#DejaVuSans-48\"/>\n       <use x=\"127.246094\" xlink:href=\"#DejaVuSans-48\"/>\n       <use x=\"190.869141\" xlink:href=\"#DejaVuSans-48\"/>\n       <use x=\"254.492188\" xlink:href=\"#DejaVuSans-48\"/>\n      </g>\n     </g>\n    </g>\n    <g id=\"xtick_9\">\n     <g id=\"line2d_15\">\n      <g>\n       <use style=\"stroke:#000000;stroke-width:0.8;\" x=\"237.921458\" xlink:href=\"#md44b90c6a0\" y=\"288\"/>\n      </g>\n     </g>\n     <g id=\"text_7\">\n      <!-- 60000 -->\n      <defs>\n       <path d=\"M 33.015625 40.375 \nQ 26.375 40.375 22.484375 35.828125 \nQ 18.609375 31.296875 18.609375 23.390625 \nQ 18.609375 15.53125 22.484375 10.953125 \nQ 26.375 6.390625 33.015625 6.390625 \nQ 39.65625 6.390625 43.53125 10.953125 \nQ 47.40625 15.53125 47.40625 23.390625 \nQ 47.40625 31.296875 43.53125 35.828125 \nQ 39.65625 40.375 33.015625 40.375 \nz\nM 52.59375 71.296875 \nL 52.59375 62.3125 \nQ 48.875 64.0625 45.09375 64.984375 \nQ 41.3125 65.921875 37.59375 65.921875 \nQ 27.828125 65.921875 22.671875 59.328125 \nQ 17.53125 52.734375 16.796875 39.40625 \nQ 19.671875 43.65625 24.015625 45.921875 \nQ 28.375 48.1875 33.59375 48.1875 \nQ 44.578125 48.1875 50.953125 41.515625 \nQ 57.328125 34.859375 57.328125 23.390625 \nQ 57.328125 12.15625 50.6875 5.359375 \nQ 44.046875 -1.421875 33.015625 -1.421875 \nQ 20.359375 -1.421875 13.671875 8.265625 \nQ 6.984375 17.96875 6.984375 36.375 \nQ 6.984375 53.65625 15.1875 63.9375 \nQ 23.390625 74.21875 37.203125 74.21875 \nQ 40.921875 74.21875 44.703125 73.484375 \nQ 48.484375 72.75 52.59375 71.296875 \nz\n\" id=\"DejaVuSans-54\"/>\n      </defs>\n      <g transform=\"translate(209.331181 317.48669)rotate(-30)scale(0.1 -0.1)\">\n       <use xlink:href=\"#DejaVuSans-54\"/>\n       <use x=\"63.623047\" xlink:href=\"#DejaVuSans-48\"/>\n       <use x=\"127.246094\" xlink:href=\"#DejaVuSans-48\"/>\n       <use x=\"190.869141\" xlink:href=\"#DejaVuSans-48\"/>\n       <use x=\"254.492188\" xlink:href=\"#DejaVuSans-48\"/>\n      </g>\n     </g>\n    </g>\n    <g id=\"xtick_10\">\n     <g id=\"line2d_16\">\n      <g>\n       <use style=\"stroke:#000000;stroke-width:0.8;\" x=\"304.054792\" xlink:href=\"#md44b90c6a0\" y=\"288\"/>\n      </g>\n     </g>\n     <g id=\"text_8\">\n      <!-- 80000 -->\n      <defs>\n       <path d=\"M 31.78125 34.625 \nQ 24.75 34.625 20.71875 30.859375 \nQ 16.703125 27.09375 16.703125 20.515625 \nQ 16.703125 13.921875 20.71875 10.15625 \nQ 24.75 6.390625 31.78125 6.390625 \nQ 38.8125 6.390625 42.859375 10.171875 \nQ 46.921875 13.96875 46.921875 20.515625 \nQ 46.921875 27.09375 42.890625 30.859375 \nQ 38.875 34.625 31.78125 34.625 \nz\nM 21.921875 38.8125 \nQ 15.578125 40.375 12.03125 44.71875 \nQ 8.5 49.078125 8.5 55.328125 \nQ 8.5 64.0625 14.71875 69.140625 \nQ 20.953125 74.21875 31.78125 74.21875 \nQ 42.671875 74.21875 48.875 69.140625 \nQ 55.078125 64.0625 55.078125 55.328125 \nQ 55.078125 49.078125 51.53125 44.71875 \nQ 48 40.375 41.703125 38.8125 \nQ 48.828125 37.15625 52.796875 32.3125 \nQ 56.78125 27.484375 56.78125 20.515625 \nQ 56.78125 9.90625 50.3125 4.234375 \nQ 43.84375 -1.421875 31.78125 -1.421875 \nQ 19.734375 -1.421875 13.25 4.234375 \nQ 6.78125 9.90625 6.78125 20.515625 \nQ 6.78125 27.484375 10.78125 32.3125 \nQ 14.796875 37.15625 21.921875 38.8125 \nz\nM 18.3125 54.390625 \nQ 18.3125 48.734375 21.84375 45.5625 \nQ 25.390625 42.390625 31.78125 42.390625 \nQ 38.140625 42.390625 41.71875 45.5625 \nQ 45.3125 48.734375 45.3125 54.390625 \nQ 45.3125 60.0625 41.71875 63.234375 \nQ 38.140625 66.40625 31.78125 66.40625 \nQ 25.390625 66.40625 21.84375 63.234375 \nQ 18.3125 60.0625 18.3125 54.390625 \nz\n\" id=\"DejaVuSans-56\"/>\n      </defs>\n      <g transform=\"translate(275.464515 317.48669)rotate(-30)scale(0.1 -0.1)\">\n       <use xlink:href=\"#DejaVuSans-56\"/>\n       <use x=\"63.623047\" xlink:href=\"#DejaVuSans-48\"/>\n       <use x=\"127.246094\" xlink:href=\"#DejaVuSans-48\"/>\n       <use x=\"190.869141\" xlink:href=\"#DejaVuSans-48\"/>\n       <use x=\"254.492188\" xlink:href=\"#DejaVuSans-48\"/>\n      </g>\n     </g>\n    </g>\n    <g id=\"xtick_11\">\n     <g id=\"line2d_17\">\n      <g>\n       <use style=\"stroke:#000000;stroke-width:0.8;\" x=\"370.188125\" xlink:href=\"#md44b90c6a0\" y=\"288\"/>\n      </g>\n     </g>\n     <g id=\"text_9\">\n      <!-- 100000 -->\n      <g transform=\"translate(336.087761 320.66794)rotate(-30)scale(0.1 -0.1)\">\n       <use xlink:href=\"#DejaVuSans-49\"/>\n       <use x=\"63.623047\" xlink:href=\"#DejaVuSans-48\"/>\n       <use x=\"127.246094\" xlink:href=\"#DejaVuSans-48\"/>\n       <use x=\"190.869141\" xlink:href=\"#DejaVuSans-48\"/>\n       <use x=\"254.492188\" xlink:href=\"#DejaVuSans-48\"/>\n       <use x=\"318.115234\" xlink:href=\"#DejaVuSans-48\"/>\n      </g>\n     </g>\n    </g>\n    <g id=\"xtick_12\">\n     <g id=\"line2d_18\">\n      <g>\n       <use style=\"stroke:#000000;stroke-width:0.8;\" x=\"436.321458\" xlink:href=\"#md44b90c6a0\" y=\"288\"/>\n      </g>\n     </g>\n     <g id=\"text_10\">\n      <!-- 120000 -->\n      <g transform=\"translate(402.221095 320.66794)rotate(-30)scale(0.1 -0.1)\">\n       <use xlink:href=\"#DejaVuSans-49\"/>\n       <use x=\"63.623047\" xlink:href=\"#DejaVuSans-50\"/>\n       <use x=\"127.246094\" xlink:href=\"#DejaVuSans-48\"/>\n       <use x=\"190.869141\" xlink:href=\"#DejaVuSans-48\"/>\n       <use x=\"254.492188\" xlink:href=\"#DejaVuSans-48\"/>\n       <use x=\"318.115234\" xlink:href=\"#DejaVuSans-48\"/>\n      </g>\n     </g>\n    </g>\n    <g id=\"text_11\">\n     <!-- number of rows in daily_engagements -->\n     <defs>\n      <path d=\"M 8.5 21.578125 \nL 8.5 54.6875 \nL 17.484375 54.6875 \nL 17.484375 21.921875 \nQ 17.484375 14.15625 20.5 10.265625 \nQ 23.53125 6.390625 29.59375 6.390625 \nQ 36.859375 6.390625 41.078125 11.03125 \nQ 45.3125 15.671875 45.3125 23.6875 \nL 45.3125 54.6875 \nL 54.296875 54.6875 \nL 54.296875 0 \nL 45.3125 0 \nL 45.3125 8.40625 \nQ 42.046875 3.421875 37.71875 1 \nQ 33.40625 -1.421875 27.6875 -1.421875 \nQ 18.265625 -1.421875 13.375 4.4375 \nQ 8.5 10.296875 8.5 21.578125 \nz\nM 31.109375 56 \nz\n\" id=\"DejaVuSans-117\"/>\n      <path d=\"M 48.6875 27.296875 \nQ 48.6875 37.203125 44.609375 42.84375 \nQ 40.53125 48.484375 33.40625 48.484375 \nQ 26.265625 48.484375 22.1875 42.84375 \nQ 18.109375 37.203125 18.109375 27.296875 \nQ 18.109375 17.390625 22.1875 11.75 \nQ 26.265625 6.109375 33.40625 6.109375 \nQ 40.53125 6.109375 44.609375 11.75 \nQ 48.6875 17.390625 48.6875 27.296875 \nz\nM 18.109375 46.390625 \nQ 20.953125 51.265625 25.265625 53.625 \nQ 29.59375 56 35.59375 56 \nQ 45.5625 56 51.78125 48.09375 \nQ 58.015625 40.1875 58.015625 27.296875 \nQ 58.015625 14.40625 51.78125 6.484375 \nQ 45.5625 -1.421875 35.59375 -1.421875 \nQ 29.59375 -1.421875 25.265625 0.953125 \nQ 20.953125 3.328125 18.109375 8.203125 \nL 18.109375 0 \nL 9.078125 0 \nL 9.078125 75.984375 \nL 18.109375 75.984375 \nz\n\" id=\"DejaVuSans-98\"/>\n      <path d=\"M 41.109375 46.296875 \nQ 39.59375 47.171875 37.8125 47.578125 \nQ 36.03125 48 33.890625 48 \nQ 26.265625 48 22.1875 43.046875 \nQ 18.109375 38.09375 18.109375 28.8125 \nL 18.109375 0 \nL 9.078125 0 \nL 9.078125 54.6875 \nL 18.109375 54.6875 \nL 18.109375 46.1875 \nQ 20.953125 51.171875 25.484375 53.578125 \nQ 30.03125 56 36.53125 56 \nQ 37.453125 56 38.578125 55.875 \nQ 39.703125 55.765625 41.0625 55.515625 \nz\n\" id=\"DejaVuSans-114\"/>\n      <path d=\"M 30.609375 48.390625 \nQ 23.390625 48.390625 19.1875 42.75 \nQ 14.984375 37.109375 14.984375 27.296875 \nQ 14.984375 17.484375 19.15625 11.84375 \nQ 23.34375 6.203125 30.609375 6.203125 \nQ 37.796875 6.203125 41.984375 11.859375 \nQ 46.1875 17.53125 46.1875 27.296875 \nQ 46.1875 37.015625 41.984375 42.703125 \nQ 37.796875 48.390625 30.609375 48.390625 \nz\nM 30.609375 56 \nQ 42.328125 56 49.015625 48.375 \nQ 55.71875 40.765625 55.71875 27.296875 \nQ 55.71875 13.875 49.015625 6.21875 \nQ 42.328125 -1.421875 30.609375 -1.421875 \nQ 18.84375 -1.421875 12.171875 6.21875 \nQ 5.515625 13.875 5.515625 27.296875 \nQ 5.515625 40.765625 12.171875 48.375 \nQ 18.84375 56 30.609375 56 \nz\n\" id=\"DejaVuSans-111\"/>\n      <path d=\"M 37.109375 75.984375 \nL 37.109375 68.5 \nL 28.515625 68.5 \nQ 23.6875 68.5 21.796875 66.546875 \nQ 19.921875 64.59375 19.921875 59.515625 \nL 19.921875 54.6875 \nL 34.71875 54.6875 \nL 34.71875 47.703125 \nL 19.921875 47.703125 \nL 19.921875 0 \nL 10.890625 0 \nL 10.890625 47.703125 \nL 2.296875 47.703125 \nL 2.296875 54.6875 \nL 10.890625 54.6875 \nL 10.890625 58.5 \nQ 10.890625 67.625 15.140625 71.796875 \nQ 19.390625 75.984375 28.609375 75.984375 \nz\n\" id=\"DejaVuSans-102\"/>\n      <path d=\"M 4.203125 54.6875 \nL 13.1875 54.6875 \nL 24.421875 12.015625 \nL 35.59375 54.6875 \nL 46.1875 54.6875 \nL 57.421875 12.015625 \nL 68.609375 54.6875 \nL 77.59375 54.6875 \nL 63.28125 0 \nL 52.6875 0 \nL 40.921875 44.828125 \nL 29.109375 0 \nL 18.5 0 \nz\n\" id=\"DejaVuSans-119\"/>\n      <path d=\"M 9.421875 75.984375 \nL 18.40625 75.984375 \nL 18.40625 0 \nL 9.421875 0 \nz\n\" id=\"DejaVuSans-108\"/>\n      <path d=\"M 32.171875 -5.078125 \nQ 28.375 -14.84375 24.75 -17.8125 \nQ 21.140625 -20.796875 15.09375 -20.796875 \nL 7.90625 -20.796875 \nL 7.90625 -13.28125 \nL 13.1875 -13.28125 \nQ 16.890625 -13.28125 18.9375 -11.515625 \nQ 21 -9.765625 23.484375 -3.21875 \nL 25.09375 0.875 \nL 2.984375 54.6875 \nL 12.5 54.6875 \nL 29.59375 11.921875 \nL 46.6875 54.6875 \nL 56.203125 54.6875 \nz\n\" id=\"DejaVuSans-121\"/>\n      <path d=\"M 50.984375 -16.609375 \nL 50.984375 -23.578125 \nL -0.984375 -23.578125 \nL -0.984375 -16.609375 \nz\n\" id=\"DejaVuSans-95\"/>\n      <path d=\"M 45.40625 27.984375 \nQ 45.40625 37.75 41.375 43.109375 \nQ 37.359375 48.484375 30.078125 48.484375 \nQ 22.859375 48.484375 18.828125 43.109375 \nQ 14.796875 37.75 14.796875 27.984375 \nQ 14.796875 18.265625 18.828125 12.890625 \nQ 22.859375 7.515625 30.078125 7.515625 \nQ 37.359375 7.515625 41.375 12.890625 \nQ 45.40625 18.265625 45.40625 27.984375 \nz\nM 54.390625 6.78125 \nQ 54.390625 -7.171875 48.1875 -13.984375 \nQ 42 -20.796875 29.203125 -20.796875 \nQ 24.46875 -20.796875 20.265625 -20.09375 \nQ 16.0625 -19.390625 12.109375 -17.921875 \nL 12.109375 -9.1875 \nQ 16.0625 -11.328125 19.921875 -12.34375 \nQ 23.78125 -13.375 27.78125 -13.375 \nQ 36.625 -13.375 41.015625 -8.765625 \nQ 45.40625 -4.15625 45.40625 5.171875 \nL 45.40625 9.625 \nQ 42.625 4.78125 38.28125 2.390625 \nQ 33.9375 0 27.875 0 \nQ 17.828125 0 11.671875 7.65625 \nQ 5.515625 15.328125 5.515625 27.984375 \nQ 5.515625 40.671875 11.671875 48.328125 \nQ 17.828125 56 27.875 56 \nQ 33.9375 56 38.28125 53.609375 \nQ 42.625 51.21875 45.40625 46.390625 \nL 45.40625 54.6875 \nL 54.390625 54.6875 \nz\n\" id=\"DejaVuSans-103\"/>\n     </defs>\n     <g transform=\"translate(170.082812 334.06744)scale(0.1 -0.1)\">\n      <use xlink:href=\"#DejaVuSans-110\"/>\n      <use x=\"63.378906\" xlink:href=\"#DejaVuSans-117\"/>\n      <use x=\"126.757812\" xlink:href=\"#DejaVuSans-109\"/>\n      <use x=\"224.169922\" xlink:href=\"#DejaVuSans-98\"/>\n      <use x=\"287.646484\" xlink:href=\"#DejaVuSans-101\"/>\n      <use x=\"349.169922\" xlink:href=\"#DejaVuSans-114\"/>\n      <use x=\"390.283203\" xlink:href=\"#DejaVuSans-32\"/>\n      <use x=\"422.070312\" xlink:href=\"#DejaVuSans-111\"/>\n      <use x=\"483.251953\" xlink:href=\"#DejaVuSans-102\"/>\n      <use x=\"518.457031\" xlink:href=\"#DejaVuSans-32\"/>\n      <use x=\"550.244141\" xlink:href=\"#DejaVuSans-114\"/>\n      <use x=\"591.326172\" xlink:href=\"#DejaVuSans-111\"/>\n      <use x=\"652.507812\" xlink:href=\"#DejaVuSans-119\"/>\n      <use x=\"734.294922\" xlink:href=\"#DejaVuSans-115\"/>\n      <use x=\"786.394531\" xlink:href=\"#DejaVuSans-32\"/>\n      <use x=\"818.181641\" xlink:href=\"#DejaVuSans-105\"/>\n      <use x=\"845.964844\" xlink:href=\"#DejaVuSans-110\"/>\n      <use x=\"909.34375\" xlink:href=\"#DejaVuSans-32\"/>\n      <use x=\"941.130859\" xlink:href=\"#DejaVuSans-100\"/>\n      <use x=\"1004.607422\" xlink:href=\"#DejaVuSans-97\"/>\n      <use x=\"1065.886719\" xlink:href=\"#DejaVuSans-105\"/>\n      <use x=\"1093.669922\" xlink:href=\"#DejaVuSans-108\"/>\n      <use x=\"1121.453125\" xlink:href=\"#DejaVuSans-121\"/>\n      <use x=\"1180.632812\" xlink:href=\"#DejaVuSans-95\"/>\n      <use x=\"1230.632812\" xlink:href=\"#DejaVuSans-101\"/>\n      <use x=\"1292.15625\" xlink:href=\"#DejaVuSans-110\"/>\n      <use x=\"1355.535156\" xlink:href=\"#DejaVuSans-103\"/>\n      <use x=\"1419.011719\" xlink:href=\"#DejaVuSans-97\"/>\n      <use x=\"1480.291016\" xlink:href=\"#DejaVuSans-103\"/>\n      <use x=\"1543.767578\" xlink:href=\"#DejaVuSans-101\"/>\n      <use x=\"1605.291016\" xlink:href=\"#DejaVuSans-109\"/>\n      <use x=\"1702.703125\" xlink:href=\"#DejaVuSans-101\"/>\n      <use x=\"1764.226562\" xlink:href=\"#DejaVuSans-110\"/>\n      <use x=\"1827.605469\" xlink:href=\"#DejaVuSans-116\"/>\n      <use x=\"1866.814453\" xlink:href=\"#DejaVuSans-115\"/>\n     </g>\n    </g>\n   </g>\n   <g id=\"matplotlib.axis_4\">\n    <g id=\"ytick_4\">\n     <g id=\"line2d_19\">\n      <g>\n       <use style=\"stroke:#000000;stroke-width:0.8;\" x=\"42.828125\" xlink:href=\"#mc0fd8da5d6\" y=\"260.992808\"/>\n      </g>\n     </g>\n     <g id=\"text_12\">\n      <!-- 0.005 -->\n      <g transform=\"translate(7.2 264.792027)scale(0.1 -0.1)\">\n       <use xlink:href=\"#DejaVuSans-48\"/>\n       <use x=\"63.623047\" xlink:href=\"#DejaVuSans-46\"/>\n       <use x=\"95.410156\" xlink:href=\"#DejaVuSans-48\"/>\n       <use x=\"159.033203\" xlink:href=\"#DejaVuSans-48\"/>\n       <use x=\"222.65625\" xlink:href=\"#DejaVuSans-53\"/>\n      </g>\n     </g>\n    </g>\n    <g id=\"ytick_5\">\n     <g id=\"line2d_20\">\n      <g>\n       <use style=\"stroke:#000000;stroke-width:0.8;\" x=\"42.828125\" xlink:href=\"#mc0fd8da5d6\" y=\"227.769156\"/>\n      </g>\n     </g>\n     <g id=\"text_13\">\n      <!-- 0.010 -->\n      <g transform=\"translate(7.2 231.568374)scale(0.1 -0.1)\">\n       <use xlink:href=\"#DejaVuSans-48\"/>\n       <use x=\"63.623047\" xlink:href=\"#DejaVuSans-46\"/>\n       <use x=\"95.410156\" xlink:href=\"#DejaVuSans-48\"/>\n       <use x=\"159.033203\" xlink:href=\"#DejaVuSans-49\"/>\n       <use x=\"222.65625\" xlink:href=\"#DejaVuSans-48\"/>\n      </g>\n     </g>\n    </g>\n    <g id=\"ytick_6\">\n     <g id=\"line2d_21\">\n      <g>\n       <use style=\"stroke:#000000;stroke-width:0.8;\" x=\"42.828125\" xlink:href=\"#mc0fd8da5d6\" y=\"194.545504\"/>\n      </g>\n     </g>\n     <g id=\"text_14\">\n      <!-- 0.015 -->\n      <g transform=\"translate(7.2 198.344722)scale(0.1 -0.1)\">\n       <use xlink:href=\"#DejaVuSans-48\"/>\n       <use x=\"63.623047\" xlink:href=\"#DejaVuSans-46\"/>\n       <use x=\"95.410156\" xlink:href=\"#DejaVuSans-48\"/>\n       <use x=\"159.033203\" xlink:href=\"#DejaVuSans-49\"/>\n       <use x=\"222.65625\" xlink:href=\"#DejaVuSans-53\"/>\n      </g>\n     </g>\n    </g>\n   </g>\n   <g id=\"line2d_22\">\n    <path clip-path=\"url(#pe6ac8ca7da)\" d=\"M 42.828125 282.942149 \nL 46.134792 282.563518 \nL 49.441458 282.338241 \nL 52.748125 281.879132 \nL 56.054792 280.890258 \nL 62.668125 280.141869 \nL 65.974792 278.639071 \nL 69.281458 277.261427 \nL 72.588125 277.347609 \nL 75.894792 277.697089 \nL 79.201458 276.887549 \nL 82.508125 275.411366 \nL 85.814792 275.205417 \nL 89.121458 275.176267 \nL 92.428125 273.997919 \nL 95.734792 273.087622 \nL 99.041458 272.676357 \nL 108.961458 271.059494 \nL 112.268125 263.423202 \nL 115.574792 270.480618 \nL 118.881458 269.570638 \nL 122.188125 268.293751 \nL 125.494792 268.243055 \nL 128.801458 267.769054 \nL 132.108125 265.870517 \nL 135.414792 264.511567 \nL 138.721458 265.834396 \nL 142.028125 265.06763 \nL 145.334792 264.1567 \nL 148.641458 261.024999 \nL 151.948125 258.319139 \nL 155.254792 257.685132 \nL 158.561458 258.451898 \nL 161.868125 259.46105 \nL 165.174792 257.796027 \nL 168.481458 256.763428 \nL 171.788125 255.214371 \nL 175.094792 254.904179 \nL 178.401458 254.307559 \nL 181.708125 254.314213 \nL 185.014792 253.779695 \nL 188.321458 250.39135 \nL 191.628125 249.702844 \nL 194.934792 250.891965 \nL 198.241458 248.942099 \nL 201.548125 247.783078 \nL 204.854792 248.464929 \nL 208.161458 247.342346 \nL 214.774792 246.419058 \nL 218.081458 244.443527 \nL 221.388125 242.950868 \nL 224.694792 241.829869 \nL 228.001458 242.353298 \nL 231.308125 241.151503 \nL 234.614792 223.346374 \nL 237.921458 239.535591 \nL 241.228125 240.079298 \nL 244.534792 239.797622 \nL 251.148125 238.036279 \nL 254.454792 235.72299 \nL 257.761458 235.124786 \nL 261.068125 231.989917 \nL 264.374792 233.589353 \nL 267.681458 232.728801 \nL 270.988125 231.220933 \nL 274.294792 230.098033 \nL 277.601458 230.509932 \nL 280.908125 225.80953 \nL 284.214792 230.128133 \nL 287.521458 230.596431 \nL 290.828125 226.578197 \nL 294.134792 226.453994 \nL 297.441458 224.534861 \nL 300.748125 225.810164 \nL 307.361458 226.675469 \nL 310.668125 221.326484 \nL 313.974792 223.375207 \nL 317.281458 219.507157 \nL 320.588125 220.803372 \nL 323.894792 218.958698 \nL 327.201458 215.716102 \nL 330.508125 221.094236 \nL 337.121458 214.306773 \nL 340.428125 211.287553 \nL 343.734792 217.451781 \nL 347.041458 213.788414 \nL 350.348125 214.286178 \nL 353.654792 211.752049 \nL 356.961458 207.775321 \nL 360.268125 207.810808 \nL 363.574792 211.797674 \nL 366.881458 210.539164 \nL 373.494792 210.591444 \nL 376.801458 208.854497 \nL 380.108125 204.825174 \nL 383.414792 205.460132 \nL 386.721458 202.022676 \nL 390.028125 201.870273 \nL 393.334792 201.114914 \nL 396.641458 198.596943 \nL 399.948125 198.617538 \nL 406.561458 196.478831 \nL 409.868125 201.332586 \nL 413.174792 200.933044 \nL 416.481458 199.847849 \nL 419.788125 197.418278 \nL 423.094792 197.895447 \nL 426.401458 196.579588 \nL 429.708125 196.852709 \nL 433.014792 193.678234 \nL 436.321458 191.519883 \nL 439.628125 193.272989 \nL 442.934792 191.239475 \nL 446.241458 189.765193 \nL 449.548125 190.519285 \nL 452.854792 191.042397 \nL 456.161458 188.214868 \nL 459.468125 188.311823 \nL 462.774792 187.723758 \nL 466.081458 184.925062 \nL 469.388125 184.57273 \nL 472.694792 184.550868 \nL 476.001458 185.42346 \nL 479.308125 185.412687 \nL 482.614792 182.049373 \nL 485.921458 183.741328 \nL 489.228125 181.785124 \nL 489.228125 181.785124 \n\" style=\"fill:none;stroke:#ff7f0e;stroke-linecap:square;stroke-width:1.5;\"/>\n   </g>\n   <g id=\"patch_9\">\n    <path d=\"M 42.828125 288 \nL 42.828125 176.727273 \n\" style=\"fill:none;stroke:#000000;stroke-linecap:square;stroke-linejoin:miter;stroke-width:0.8;\"/>\n   </g>\n   <g id=\"patch_10\">\n    <path d=\"M 489.228125 288 \nL 489.228125 176.727273 \n\" style=\"fill:none;stroke:#000000;stroke-linecap:square;stroke-linejoin:miter;stroke-width:0.8;\"/>\n   </g>\n   <g id=\"patch_11\">\n    <path d=\"M 42.828125 288 \nL 489.228125 288 \n\" style=\"fill:none;stroke:#000000;stroke-linecap:square;stroke-linejoin:miter;stroke-width:0.8;\"/>\n   </g>\n   <g id=\"patch_12\">\n    <path d=\"M 42.828125 176.727273 \nL 489.228125 176.727273 \n\" style=\"fill:none;stroke:#000000;stroke-linecap:square;stroke-linejoin:miter;stroke-width:0.8;\"/>\n   </g>\n   <g id=\"legend_2\">\n    <g id=\"patch_13\">\n     <path d=\"M 49.828125 199.405398 \nL 153.225 199.405398 \nQ 155.225 199.405398 155.225 197.405398 \nL 155.225 183.727273 \nQ 155.225 181.727273 153.225 181.727273 \nL 49.828125 181.727273 \nQ 47.828125 181.727273 47.828125 183.727273 \nL 47.828125 197.405398 \nQ 47.828125 199.405398 49.828125 199.405398 \nz\n\" style=\"fill:#ffffff;opacity:0.8;stroke:#cccccc;stroke-linejoin:miter;\"/>\n    </g>\n    <g id=\"line2d_23\">\n     <path d=\"M 51.828125 189.82571 \nL 71.828125 189.82571 \n\" style=\"fill:none;stroke:#ff7f0e;stroke-linecap:square;stroke-width:1.5;\"/>\n    </g>\n    <g id=\"line2d_24\"/>\n    <g id=\"text_15\">\n     <!-- pandasql time -->\n     <defs>\n      <path d=\"M 14.796875 27.296875 \nQ 14.796875 17.390625 18.875 11.75 \nQ 22.953125 6.109375 30.078125 6.109375 \nQ 37.203125 6.109375 41.296875 11.75 \nQ 45.40625 17.390625 45.40625 27.296875 \nQ 45.40625 37.203125 41.296875 42.84375 \nQ 37.203125 48.484375 30.078125 48.484375 \nQ 22.953125 48.484375 18.875 42.84375 \nQ 14.796875 37.203125 14.796875 27.296875 \nz\nM 45.40625 8.203125 \nQ 42.578125 3.328125 38.25 0.953125 \nQ 33.9375 -1.421875 27.875 -1.421875 \nQ 17.96875 -1.421875 11.734375 6.484375 \nQ 5.515625 14.40625 5.515625 27.296875 \nQ 5.515625 40.1875 11.734375 48.09375 \nQ 17.96875 56 27.875 56 \nQ 33.9375 56 38.25 53.625 \nQ 42.578125 51.265625 45.40625 46.390625 \nL 45.40625 54.6875 \nL 54.390625 54.6875 \nL 54.390625 -20.796875 \nL 45.40625 -20.796875 \nz\n\" id=\"DejaVuSans-113\"/>\n     </defs>\n     <g transform=\"translate(79.828125 193.32571)scale(0.1 -0.1)\">\n      <use xlink:href=\"#DejaVuSans-112\"/>\n      <use x=\"63.476562\" xlink:href=\"#DejaVuSans-97\"/>\n      <use x=\"124.755859\" xlink:href=\"#DejaVuSans-110\"/>\n      <use x=\"188.134766\" xlink:href=\"#DejaVuSans-100\"/>\n      <use x=\"251.611328\" xlink:href=\"#DejaVuSans-97\"/>\n      <use x=\"312.890625\" xlink:href=\"#DejaVuSans-115\"/>\n      <use x=\"364.990234\" xlink:href=\"#DejaVuSans-113\"/>\n      <use x=\"428.466797\" xlink:href=\"#DejaVuSans-108\"/>\n      <use x=\"456.25\" xlink:href=\"#DejaVuSans-32\"/>\n      <use x=\"488.037109\" xlink:href=\"#DejaVuSans-116\"/>\n      <use x=\"527.246094\" xlink:href=\"#DejaVuSans-105\"/>\n      <use x=\"555.029297\" xlink:href=\"#DejaVuSans-109\"/>\n      <use x=\"652.441406\" xlink:href=\"#DejaVuSans-101\"/>\n     </g>\n    </g>\n   </g>\n  </g>\n  <g id=\"text_16\">\n   <!-- Example #1 time elapsed (seconds) -->\n   <defs>\n    <path d=\"M 9.8125 72.90625 \nL 55.90625 72.90625 \nL 55.90625 64.59375 \nL 19.671875 64.59375 \nL 19.671875 43.015625 \nL 54.390625 43.015625 \nL 54.390625 34.71875 \nL 19.671875 34.71875 \nL 19.671875 8.296875 \nL 56.78125 8.296875 \nL 56.78125 0 \nL 9.8125 0 \nz\n\" id=\"DejaVuSans-69\"/>\n    <path d=\"M 54.890625 54.6875 \nL 35.109375 28.078125 \nL 55.90625 0 \nL 45.3125 0 \nL 29.390625 21.484375 \nL 13.484375 0 \nL 2.875 0 \nL 24.125 28.609375 \nL 4.6875 54.6875 \nL 15.28125 54.6875 \nL 29.78125 35.203125 \nL 44.28125 54.6875 \nz\n\" id=\"DejaVuSans-120\"/>\n    <path d=\"M 51.125 44 \nL 36.921875 44 \nL 32.8125 27.6875 \nL 47.125 27.6875 \nz\nM 43.796875 71.78125 \nL 38.71875 51.515625 \nL 52.984375 51.515625 \nL 58.109375 71.78125 \nL 65.921875 71.78125 \nL 60.890625 51.515625 \nL 76.125 51.515625 \nL 76.125 44 \nL 58.984375 44 \nL 54.984375 27.6875 \nL 70.515625 27.6875 \nL 70.515625 20.21875 \nL 53.078125 20.21875 \nL 48 0 \nL 40.1875 0 \nL 45.21875 20.21875 \nL 30.90625 20.21875 \nL 25.875 0 \nL 18.015625 0 \nL 23.09375 20.21875 \nL 7.71875 20.21875 \nL 7.71875 27.6875 \nL 24.90625 27.6875 \nL 29 44 \nL 13.28125 44 \nL 13.28125 51.515625 \nL 30.90625 51.515625 \nL 35.890625 71.78125 \nz\n\" id=\"DejaVuSans-35\"/>\n    <path d=\"M 31 75.875 \nQ 24.46875 64.65625 21.28125 53.65625 \nQ 18.109375 42.671875 18.109375 31.390625 \nQ 18.109375 20.125 21.3125 9.0625 \nQ 24.515625 -2 31 -13.1875 \nL 23.1875 -13.1875 \nQ 15.875 -1.703125 12.234375 9.375 \nQ 8.59375 20.453125 8.59375 31.390625 \nQ 8.59375 42.28125 12.203125 53.3125 \nQ 15.828125 64.359375 23.1875 75.875 \nz\n\" id=\"DejaVuSans-40\"/>\n    <path d=\"M 48.78125 52.59375 \nL 48.78125 44.1875 \nQ 44.96875 46.296875 41.140625 47.34375 \nQ 37.3125 48.390625 33.40625 48.390625 \nQ 24.65625 48.390625 19.8125 42.84375 \nQ 14.984375 37.3125 14.984375 27.296875 \nQ 14.984375 17.28125 19.8125 11.734375 \nQ 24.65625 6.203125 33.40625 6.203125 \nQ 37.3125 6.203125 41.140625 7.25 \nQ 44.96875 8.296875 48.78125 10.40625 \nL 48.78125 2.09375 \nQ 45.015625 0.34375 40.984375 -0.53125 \nQ 36.96875 -1.421875 32.421875 -1.421875 \nQ 20.0625 -1.421875 12.78125 6.34375 \nQ 5.515625 14.109375 5.515625 27.296875 \nQ 5.515625 40.671875 12.859375 48.328125 \nQ 20.21875 56 33.015625 56 \nQ 37.15625 56 41.109375 55.140625 \nQ 45.0625 54.296875 48.78125 52.59375 \nz\n\" id=\"DejaVuSans-99\"/>\n    <path d=\"M 8.015625 75.875 \nL 15.828125 75.875 \nQ 23.140625 64.359375 26.78125 53.3125 \nQ 30.421875 42.28125 30.421875 31.390625 \nQ 30.421875 20.453125 26.78125 9.375 \nQ 23.140625 -1.703125 15.828125 -13.1875 \nL 8.015625 -13.1875 \nQ 14.5 -2 17.703125 9.0625 \nQ 20.90625 20.125 20.90625 31.390625 \nQ 20.90625 42.671875 17.703125 53.65625 \nQ 14.5 64.65625 8.015625 75.875 \nz\n\" id=\"DejaVuSans-41\"/>\n   </defs>\n   <g transform=\"translate(150.090313 16.318125)scale(0.12 -0.12)\">\n    <use xlink:href=\"#DejaVuSans-69\"/>\n    <use x=\"63.183594\" xlink:href=\"#DejaVuSans-120\"/>\n    <use x=\"122.363281\" xlink:href=\"#DejaVuSans-97\"/>\n    <use x=\"183.642578\" xlink:href=\"#DejaVuSans-109\"/>\n    <use x=\"281.054688\" xlink:href=\"#DejaVuSans-112\"/>\n    <use x=\"344.53125\" xlink:href=\"#DejaVuSans-108\"/>\n    <use x=\"372.314453\" xlink:href=\"#DejaVuSans-101\"/>\n    <use x=\"433.837891\" xlink:href=\"#DejaVuSans-32\"/>\n    <use x=\"465.625\" xlink:href=\"#DejaVuSans-35\"/>\n    <use x=\"549.414062\" xlink:href=\"#DejaVuSans-49\"/>\n    <use x=\"613.037109\" xlink:href=\"#DejaVuSans-32\"/>\n    <use x=\"644.824219\" xlink:href=\"#DejaVuSans-116\"/>\n    <use x=\"684.033203\" xlink:href=\"#DejaVuSans-105\"/>\n    <use x=\"711.816406\" xlink:href=\"#DejaVuSans-109\"/>\n    <use x=\"809.228516\" xlink:href=\"#DejaVuSans-101\"/>\n    <use x=\"870.751953\" xlink:href=\"#DejaVuSans-32\"/>\n    <use x=\"902.539062\" xlink:href=\"#DejaVuSans-101\"/>\n    <use x=\"964.0625\" xlink:href=\"#DejaVuSans-108\"/>\n    <use x=\"991.845703\" xlink:href=\"#DejaVuSans-97\"/>\n    <use x=\"1053.125\" xlink:href=\"#DejaVuSans-112\"/>\n    <use x=\"1116.601562\" xlink:href=\"#DejaVuSans-115\"/>\n    <use x=\"1168.701172\" xlink:href=\"#DejaVuSans-101\"/>\n    <use x=\"1230.224609\" xlink:href=\"#DejaVuSans-100\"/>\n    <use x=\"1293.701172\" xlink:href=\"#DejaVuSans-32\"/>\n    <use x=\"1325.488281\" xlink:href=\"#DejaVuSans-40\"/>\n    <use x=\"1364.501953\" xlink:href=\"#DejaVuSans-115\"/>\n    <use x=\"1416.601562\" xlink:href=\"#DejaVuSans-101\"/>\n    <use x=\"1478.125\" xlink:href=\"#DejaVuSans-99\"/>\n    <use x=\"1533.105469\" xlink:href=\"#DejaVuSans-111\"/>\n    <use x=\"1594.287109\" xlink:href=\"#DejaVuSans-110\"/>\n    <use x=\"1657.666016\" xlink:href=\"#DejaVuSans-100\"/>\n    <use x=\"1721.142578\" xlink:href=\"#DejaVuSans-115\"/>\n    <use x=\"1773.242188\" xlink:href=\"#DejaVuSans-41\"/>\n   </g>\n  </g>\n </g>\n <defs>\n  <clipPath id=\"pb862c4830e\">\n   <rect height=\"111.272727\" width=\"446.4\" x=\"42.828125\" y=\"43.2\"/>\n  </clipPath>\n  <clipPath id=\"pe6ac8ca7da\">\n   <rect height=\"111.272727\" width=\"446.4\" x=\"42.828125\" y=\"176.727273\"/>\n  </clipPath>\n </defs>\n</svg>\n"
          },
          "metadata": {
            "tags": []
          }
        }
      ]
    },
    {
      "cell_type": "code",
      "metadata": {
        "id": "7nUerizI-pWH",
        "colab_type": "code",
        "outputId": "d5aa8d46-a531-4a22-e7d6-4f0ad748bf3e",
        "colab": {
          "base_uri": "https://localhost:8080/",
          "height": 34
        }
      },
      "source": [
        "all_users = enrollments.account_key.unique().tolist()\n",
        "len(all_users)"
      ],
      "execution_count": 0,
      "outputs": [
        {
          "output_type": "execute_result",
          "data": {
            "text/plain": [
              "1302"
            ]
          },
          "metadata": {
            "tags": []
          },
          "execution_count": 95
        }
      ]
    },
    {
      "cell_type": "code",
      "metadata": {
        "id": "f3bnonkM-q81",
        "colab_type": "code",
        "colab": {}
      },
      "source": [
        "#ex3_times = []\n",
        "#for users_count in range(10, 1310, 10):\n",
        "#    users = all_users[:users_count]\n",
        "#    enrollments_sample = enrollments[enrollments.account_key.isin(users)]\n",
        "#    daily_engagements_sample = daily_engagements[daily_engagements.acct.isin(users)]\n",
        "#    count = daily_engagements_sample.shape[0]\n",
        "#    pandasql_time = count_mean_time(example3_pandasql, [enrollments_sample, daily_engagements_sample])\n",
        "#    pandas_time = count_mean_time(example3_pandas, [enrollments_sample, daily_engagements_sample])\n",
        "#    ex3_times.append({'count': count, 'pandasql_time': pandasql_time, 'pandas_time': pandas_time})\n",
        "\n",
        "#    ex3_times_df = pd.DataFrame(ex3_times).set_index('count')\n",
        "\n",
        "    \n",
        "#ax = ex3_times_df.plot(title = 'Example #3 time elapsed')\n",
        "#ax.set_xlabel('number of rows in daily_engagements')\n",
        "#ax.set_ylabel('time, seconds')"
      ],
      "execution_count": 0,
      "outputs": []
    }
  ]
}