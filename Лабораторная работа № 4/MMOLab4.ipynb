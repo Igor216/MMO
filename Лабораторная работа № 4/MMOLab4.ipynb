{
  "nbformat": 4,
  "nbformat_minor": 0,
  "metadata": {
    "colab": {
      "name": "MMOLab4.ipynb",
      "provenance": [],
      "collapsed_sections": []
    },
    "kernelspec": {
      "name": "python3",
      "display_name": "Python 3"
    }
  },
  "cells": [
    {
      "cell_type": "markdown",
      "metadata": {
        "id": "J3CJQ5grOF7W",
        "colab_type": "text"
      },
      "source": [
        "# **Лабораторная работа № 4**"
      ]
    },
    {
      "cell_type": "code",
      "metadata": {
        "id": "ue9FVCHifuxs",
        "colab_type": "code",
        "colab": {}
      },
      "source": [
        "import numpy as np\n",
        "import pandas as pd\n",
        "import seaborn as sns\n",
        "import matplotlib.pyplot as plt\n",
        "%matplotlib inline \n",
        "sns.set(style=\"ticks\")\n",
        "#from sklearn.datasets import load_wine\n",
        "#data2 = load_wine()\n",
        "def make_dataframe(ds_function):\n",
        "    ds = ds_function()\n",
        "    df = pd.DataFrame(data= np.c_[ds['data'], ds['target']],\n",
        "                     columns= list(ds['feature_names']) + ['target'])\n",
        "    return df"
      ],
      "execution_count": 0,
      "outputs": []
    },
    {
      "cell_type": "code",
      "metadata": {
        "id": "UZHR5GMTlQcT",
        "colab_type": "code",
        "colab": {}
      },
      "source": [
        "#\n",
        "#data1.head()"
      ],
      "execution_count": 0,
      "outputs": []
    },
    {
      "cell_type": "code",
      "metadata": {
        "id": "jGGr4oyU3QyR",
        "colab_type": "code",
        "colab": {}
      },
      "source": [
        "#for col in data1.columns:\n",
        "#    temp_null_count = data1[data1[col].isnull()].shape[0]\n",
        "#    print('{} - {}'.format(col, temp_null_count))"
      ],
      "execution_count": 0,
      "outputs": []
    },
    {
      "cell_type": "code",
      "metadata": {
        "id": "7bxcaLoL4Vzj",
        "colab_type": "code",
        "colab": {}
      },
      "source": [
        "#data = pd.read_csv(\"diabetes.csv\")\n",
        "#X=data.iloc[0:,0:8]\n",
        "#X.head()\n",
        "#y=data.iloc[0:,-1]\n",
        "#y.head()\n",
        "#x_train, x_test, y_train, y_test = train_test_split(x, y, test_size=0.33, random_state=324)"
      ],
      "execution_count": 0,
      "outputs": []
    },
    {
      "cell_type": "code",
      "metadata": {
        "id": "eOCQdeBP74GO",
        "colab_type": "code",
        "colab": {}
      },
      "source": [
        "from sklearn.datasets import fetch_california_housing"
      ],
      "execution_count": 0,
      "outputs": []
    },
    {
      "cell_type": "markdown",
      "metadata": {
        "id": "8LatBZxvP6Il",
        "colab_type": "text"
      },
      "source": [
        "# **Датасет данных о жилье в Калифорнии(пропуски отсутствуют, нет категориальных признаков для кодирования):**"
      ]
    },
    {
      "cell_type": "code",
      "metadata": {
        "id": "oA8mVqRp8XTL",
        "colab_type": "code",
        "colab": {}
      },
      "source": [
        "data = fetch_california_housing()"
      ],
      "execution_count": 0,
      "outputs": []
    },
    {
      "cell_type": "code",
      "metadata": {
        "id": "e5x2Tz3W8l31",
        "colab_type": "code",
        "colab": {}
      },
      "source": [
        "#data.head()"
      ],
      "execution_count": 0,
      "outputs": []
    },
    {
      "cell_type": "code",
      "metadata": {
        "id": "OZno0zWOFF-X",
        "colab_type": "code",
        "outputId": "b6c1b1bb-b478-4960-fd1d-7561c730673d",
        "colab": {
          "base_uri": "https://localhost:8080/",
          "height": 85
        }
      },
      "source": [
        "for x in data:\n",
        "    print(x)"
      ],
      "execution_count": 0,
      "outputs": [
        {
          "output_type": "stream",
          "text": [
            "data\n",
            "target\n",
            "feature_names\n",
            "DESCR\n"
          ],
          "name": "stdout"
        }
      ]
    },
    {
      "cell_type": "markdown",
      "metadata": {
        "id": "-H6HtgZVPyee",
        "colab_type": "text"
      },
      "source": [
        "# **Разбиение выборки:**"
      ]
    },
    {
      "cell_type": "code",
      "metadata": {
        "id": "QXnCnGGI82dW",
        "colab_type": "code",
        "colab": {}
      },
      "source": [
        "from sklearn.model_selection import train_test_split\n",
        "#x=data.iloc[0:,0:8]\n",
        "x=data.data\n",
        "#x.head()\n",
        "#y=data.iloc[0:,-1]\n",
        "y=data.target\n",
        "#y.head()\n",
        "x_train, x_test, y_train, y_test = train_test_split(x, y, test_size=0.33, random_state=324)"
      ],
      "execution_count": 0,
      "outputs": []
    },
    {
      "cell_type": "markdown",
      "metadata": {
        "id": "NexkgezQ-R2b",
        "colab_type": "text"
      },
      "source": [
        "# **Обучение модели ближайших соседей с произвольно заданным гиперпараметром:**"
      ]
    },
    {
      "cell_type": "code",
      "metadata": {
        "id": "QjFjPO37-SUb",
        "colab_type": "code",
        "colab": {}
      },
      "source": [
        "#print(x_train.head())\n",
        "#print(x_test.head())"
      ],
      "execution_count": 0,
      "outputs": []
    },
    {
      "cell_type": "code",
      "metadata": {
        "id": "tKV4fgVVDPKZ",
        "colab_type": "code",
        "outputId": "2626eb49-52c6-45ff-f46c-ff12624fd01c",
        "colab": {
          "base_uri": "https://localhost:8080/",
          "height": 68
        }
      },
      "source": [
        "from sklearn.neighbors import KNeighborsRegressor\n",
        "KNeighborsRegressorObj = KNeighborsRegressor()\n",
        "KNeighborsRegressorObj"
      ],
      "execution_count": 0,
      "outputs": [
        {
          "output_type": "execute_result",
          "data": {
            "text/plain": [
              "KNeighborsRegressor(algorithm='auto', leaf_size=30, metric='minkowski',\n",
              "                    metric_params=None, n_jobs=None, n_neighbors=5, p=2,\n",
              "                    weights='uniform')"
            ]
          },
          "metadata": {
            "tags": []
          },
          "execution_count": 41
        }
      ]
    },
    {
      "cell_type": "code",
      "metadata": {
        "id": "k7NryFglD22G",
        "colab_type": "code",
        "colab": {}
      },
      "source": [
        "KNeighborsRegressorObj.fit(x_train, y_train)\n",
        "target2_1=KNeighborsRegressorObj.predict(x_test)"
      ],
      "execution_count": 0,
      "outputs": []
    },
    {
      "cell_type": "code",
      "metadata": {
        "id": "OJa-o14Md8Iz",
        "colab_type": "code",
        "outputId": "ebde78a8-a4d9-4f0f-ef2c-ec0e08c17df0",
        "colab": {
          "base_uri": "https://localhost:8080/",
          "height": 34
        }
      },
      "source": [
        "len(target2_1), target2_1"
      ],
      "execution_count": 0,
      "outputs": [
        {
          "output_type": "execute_result",
          "data": {
            "text/plain": [
              "(6812, array([2.0076, 1.8152, 1.9406, ..., 1.2766, 2.2372, 1.547 ]))"
            ]
          },
          "metadata": {
            "tags": []
          },
          "execution_count": 43
        }
      ]
    },
    {
      "cell_type": "markdown",
      "metadata": {
        "id": "bNsWuNhkfraZ",
        "colab_type": "text"
      },
      "source": [
        "# **Оценка качества модели с использованием подходящих метрик:**"
      ]
    },
    {
      "cell_type": "code",
      "metadata": {
        "id": "IxZywvLmeaRv",
        "colab_type": "code",
        "outputId": "a5765197-32aa-42ca-f8ea-8485c24ee6b6",
        "colab": {
          "base_uri": "https://localhost:8080/",
          "height": 34
        }
      },
      "source": [
        "from sklearn.metrics import mean_absolute_error, mean_squared_error, mean_squared_log_error, median_absolute_error, r2_score \n",
        "#from sklearn.metrics import roc_curve, roc_auc_score\n",
        "mean_absolute_error(y_test, target2_1)"
      ],
      "execution_count": 0,
      "outputs": [
        {
          "output_type": "execute_result",
          "data": {
            "text/plain": [
              "0.82001825631239"
            ]
          },
          "metadata": {
            "tags": []
          },
          "execution_count": 44
        }
      ]
    },
    {
      "cell_type": "code",
      "metadata": {
        "id": "iyVu7c4Me9E3",
        "colab_type": "code",
        "outputId": "af8bf25c-416f-44e4-d2d1-a46705a216e5",
        "colab": {
          "base_uri": "https://localhost:8080/",
          "height": 34
        }
      },
      "source": [
        "mean_squared_error(y_test, target2_1)"
      ],
      "execution_count": 0,
      "outputs": [
        {
          "output_type": "execute_result",
          "data": {
            "text/plain": [
              "1.1360970590205923"
            ]
          },
          "metadata": {
            "tags": []
          },
          "execution_count": 45
        }
      ]
    },
    {
      "cell_type": "code",
      "metadata": {
        "id": "9gpfhIaGf1UF",
        "colab_type": "code",
        "outputId": "ac11c22c-fe1a-4ba7-e7b9-a14ee0e21b86",
        "colab": {
          "base_uri": "https://localhost:8080/",
          "height": 34
        }
      },
      "source": [
        "median_absolute_error(y_test, target2_1)"
      ],
      "execution_count": 0,
      "outputs": [
        {
          "output_type": "execute_result",
          "data": {
            "text/plain": [
              "0.656401"
            ]
          },
          "metadata": {
            "tags": []
          },
          "execution_count": 46
        }
      ]
    },
    {
      "cell_type": "code",
      "metadata": {
        "id": "khnZRuXHgBoR",
        "colab_type": "code",
        "outputId": "96970dde-6c8f-40b9-fde2-802a06fc25ed",
        "colab": {
          "base_uri": "https://localhost:8080/",
          "height": 34
        }
      },
      "source": [
        "r2_score(y_test, target2_1)"
      ],
      "execution_count": 0,
      "outputs": [
        {
          "output_type": "execute_result",
          "data": {
            "text/plain": [
              "0.146285549833991"
            ]
          },
          "metadata": {
            "tags": []
          },
          "execution_count": 47
        }
      ]
    },
    {
      "cell_type": "markdown",
      "metadata": {
        "id": "N1M7Texxh72p",
        "colab_type": "text"
      },
      "source": [
        "# **Кросс-валидация**"
      ]
    },
    {
      "cell_type": "code",
      "metadata": {
        "id": "bhb71eFuh_4H",
        "colab_type": "code",
        "colab": {}
      },
      "source": [
        "from sklearn.model_selection import cross_val_score, cross_validate\n",
        "scores = cross_val_score(KNeighborsRegressor(n_neighbors=5), data.data, data.target, cv=3)\n",
        "#scores\n",
        "#np.mean(scores)"
      ],
      "execution_count": 0,
      "outputs": []
    },
    {
      "cell_type": "code",
      "metadata": {
        "id": "1Zaz74HUlf5w",
        "colab_type": "code",
        "outputId": "a89fb71b-4113-433c-836e-09d215771801",
        "colab": {
          "base_uri": "https://localhost:8080/",
          "height": 34
        }
      },
      "source": [
        "scores"
      ],
      "execution_count": 77,
      "outputs": [
        {
          "output_type": "execute_result",
          "data": {
            "text/plain": [
              "array([ 0.08942206,  0.07663073, -0.00727265])"
            ]
          },
          "metadata": {
            "tags": []
          },
          "execution_count": 77
        }
      ]
    },
    {
      "cell_type": "code",
      "metadata": {
        "id": "d36NoGTAliDf",
        "colab_type": "code",
        "outputId": "0a962ee1-1696-40e6-a9f8-e4776d0b8783",
        "colab": {
          "base_uri": "https://localhost:8080/",
          "height": 34
        }
      },
      "source": [
        "np.mean(scores)"
      ],
      "execution_count": 78,
      "outputs": [
        {
          "output_type": "execute_result",
          "data": {
            "text/plain": [
              "0.05292671098955367"
            ]
          },
          "metadata": {
            "tags": []
          },
          "execution_count": 78
        }
      ]
    },
    {
      "cell_type": "code",
      "metadata": {
        "id": "-On4rvrHJ7PO",
        "colab_type": "code",
        "colab": {
          "base_uri": "https://localhost:8080/",
          "height": 255
        },
        "outputId": "86dcfe58-f5f9-407c-f07c-2e1b7cf7cdc6"
      },
      "source": [
        "#explained_variance\n",
        "#max_error\n",
        "#Добавим несколько метрик\n",
        "scoring = {'neg_mean_absolute_error', \n",
        "           'neg_mean_squared_error',\n",
        "           'neg_median_absolute_error',\n",
        "           'r2',\n",
        "           'max_error',\n",
        "           'explained_variance'}\n",
        "scores = cross_validate(KNeighborsRegressor(n_neighbors=5), \n",
        "                        data.data, data.target, scoring=scoring, \n",
        "                        cv=3, return_train_score=True)\n",
        "scores"
      ],
      "execution_count": 79,
      "outputs": [
        {
          "output_type": "execute_result",
          "data": {
            "text/plain": [
              "{'fit_time': array([0.02059913, 0.01460958, 0.01455784]),\n",
              " 'score_time': array([0.04011416, 0.03742957, 0.03828692]),\n",
              " 'test_explained_variance': array([0.09405041, 0.07825933, 0.05755802]),\n",
              " 'test_max_error': array([-4.04721, -3.95981, -4.33741]),\n",
              " 'test_neg_mean_absolute_error': array([-0.87302279, -0.79852741, -0.9249041 ]),\n",
              " 'test_neg_mean_squared_error': array([-1.22757547, -1.10340978, -1.43734607]),\n",
              " 'test_neg_median_absolute_error': array([-0.724501, -0.6243  , -0.7331  ]),\n",
              " 'test_r2': array([ 0.08942206,  0.07663073, -0.00727265]),\n",
              " 'train_explained_variance': array([0.4389807 , 0.44965018, 0.45702522]),\n",
              " 'train_max_error': array([-3.199808, -3.512408, -3.295008]),\n",
              " 'train_neg_mean_absolute_error': array([-0.6615114 , -0.68106424, -0.63019527]),\n",
              " 'train_neg_mean_squared_error': array([-0.73995729, -0.77259246, -0.69325153]),\n",
              " 'train_neg_median_absolute_error': array([-0.5273, -0.5494, -0.4904]),\n",
              " 'train_r2': array([0.43776925, 0.4479288 , 0.45539965])}"
            ]
          },
          "metadata": {
            "tags": []
          },
          "execution_count": 79
        }
      ]
    },
    {
      "cell_type": "markdown",
      "metadata": {
        "id": "uEr0hpZbN1-2",
        "colab_type": "text"
      },
      "source": [
        "# **Стратегия 1:**"
      ]
    },
    {
      "cell_type": "code",
      "metadata": {
        "id": "z7QB4cccoSqV",
        "colab_type": "code",
        "outputId": "5c798295-0ccc-482f-89c0-e5b8bcb8dc20",
        "colab": {
          "base_uri": "https://localhost:8080/",
          "height": 255
        }
      },
      "source": [
        "#K-Fold\n",
        "from sklearn.model_selection import KFold, RepeatedKFold, LeaveOneOut, LeavePOut, ShuffleSplit, StratifiedKFold\n",
        "kf = KFold(n_splits=5)\n",
        "scores = cross_validate(KNeighborsRegressor(n_neighbors=5), \n",
        "                         data.data, data.target, scoring=scoring, \n",
        "                         cv=kf, return_train_score=True)\n",
        "scores"
      ],
      "execution_count": 80,
      "outputs": [
        {
          "output_type": "execute_result",
          "data": {
            "text/plain": [
              "{'fit_time': array([0.03301859, 0.01943374, 0.02062464, 0.0199368 , 0.01965833]),\n",
              " 'score_time': array([0.0273335 , 0.02370882, 0.13579059, 0.02444959, 0.02442241]),\n",
              " 'test_explained_variance': array([ 0.08611725,  0.09408026,  0.13821535, -0.01643905,  0.13420392]),\n",
              " 'test_max_error': array([-3.83401, -4.04721, -3.9868 , -3.91961, -4.34241]),\n",
              " 'test_neg_mean_absolute_error': array([-0.86581377, -0.7749557 , -0.88992606, -0.88476702, -0.93090844]),\n",
              " 'test_neg_mean_squared_error': array([-1.12793334, -1.08765125, -1.39321723, -1.23392298, -1.44103421]),\n",
              " 'test_neg_median_absolute_error': array([-0.7757, -0.5784, -0.6762, -0.7645, -0.7321]),\n",
              " 'test_r2': array([-0.0499511 ,  0.07083077,  0.03149977, -0.05177241,  0.01106559]),\n",
              " 'train_explained_variance': array([0.45104821, 0.46043257, 0.45277795, 0.47567216, 0.45748092]),\n",
              " 'train_max_error': array([-3.395808, -3.452408, -3.512408, -3.452408, -3.395808]),\n",
              " 'train_neg_mean_absolute_error': array([-0.66201964, -0.66290899, -0.63746003, -0.64833978, -0.63364302]),\n",
              " 'train_neg_mean_squared_error': array([-0.74283576, -0.7393373 , -0.70180463, -0.71265573, -0.70082914]),\n",
              " 'train_neg_median_absolute_error': array([-0.5266  , -0.5291  , -0.501201, -0.5144  , -0.4921  ]),\n",
              " 'train_r2': array([0.44951963, 0.45880618, 0.45084177, 0.47368489, 0.45616596])}"
            ]
          },
          "metadata": {
            "tags": []
          },
          "execution_count": 80
        }
      ]
    },
    {
      "cell_type": "code",
      "metadata": {
        "id": "p4ilIJuNEr9g",
        "colab_type": "code",
        "colab": {}
      },
      "source": [
        "#kf = LeaveOneOut()"
      ],
      "execution_count": 0,
      "outputs": []
    },
    {
      "cell_type": "code",
      "metadata": {
        "id": "Bb_b9TONDEU_",
        "colab_type": "code",
        "colab": {}
      },
      "source": [
        "#kf = LeavePOut(2)\n",
        "#scores = cross_val_score(KNeighborsRegressor(n_neighbors=2), \n",
        "#                         data.data, data.target, scoring='neg_mean_absolute_error', \n",
        "#                         cv=kf)\n",
        "#scores"
      ],
      "execution_count": 0,
      "outputs": []
    },
    {
      "cell_type": "markdown",
      "metadata": {
        "id": "2yK40ZLaN8sR",
        "colab_type": "text"
      },
      "source": [
        "# **Стратегия 2:**"
      ]
    },
    {
      "cell_type": "code",
      "metadata": {
        "id": "Nj_YAlJ4E1RA",
        "colab_type": "code",
        "colab": {
          "base_uri": "https://localhost:8080/",
          "height": 255
        },
        "outputId": "a79525cf-34a0-45cb-9913-47ae39dbe519"
      },
      "source": [
        "kf = ShuffleSplit(n_splits=5, test_size=0.25)\n",
        "scores = cross_validate(KNeighborsRegressor(n_neighbors=5), \n",
        "                         data.data, data.target, scoring=scoring, \n",
        "                         cv=kf, return_train_score=True)\n",
        "scores"
      ],
      "execution_count": 81,
      "outputs": [
        {
          "output_type": "execute_result",
          "data": {
            "text/plain": [
              "{'fit_time': array([0.02485085, 0.01900673, 0.01945448, 0.02046108, 0.01931548]),\n",
              " 'score_time': array([0.02912545, 0.02912283, 0.02868509, 0.02853417, 0.03168583]),\n",
              " 'test_explained_variance': array([0.13594097, 0.13847265, 0.14608201, 0.12522304, 0.15411858]),\n",
              " 'test_max_error': array([-4.17581, -4.00781, -3.92221, -4.17401, -3.94501]),\n",
              " 'test_neg_mean_absolute_error': array([-0.8367783 , -0.83489776, -0.82009248, -0.83760976, -0.82979485]),\n",
              " 'test_neg_mean_squared_error': array([-1.1689623 , -1.17981427, -1.12594811, -1.19815902, -1.15452878]),\n",
              " 'test_neg_median_absolute_error': array([-0.6658  , -0.6606  , -0.6673  , -0.6536  , -0.661598]),\n",
              " 'test_r2': array([0.1327442 , 0.13510542, 0.14302162, 0.12066656, 0.14933073]),\n",
              " 'train_explained_variance': array([0.45254202, 0.44933859, 0.44999685, 0.45081511, 0.45157425]),\n",
              " 'train_max_error': array([-3.480008, -3.452408, -3.452408, -3.457408, -3.452408]),\n",
              " 'train_neg_mean_absolute_error': array([-0.6560425 , -0.65519779, -0.65850667, -0.65558237, -0.65295885]),\n",
              " 'train_neg_mean_squared_error': array([-0.72815517, -0.72942896, -0.73771273, -0.72792547, -0.72768498]),\n",
              " 'train_neg_median_absolute_error': array([-0.5236, -0.5225, -0.5214, -0.5194, -0.5178]),\n",
              " 'train_r2': array([0.45090414, 0.44767233, 0.44841677, 0.44900279, 0.44988072])}"
            ]
          },
          "metadata": {
            "tags": []
          },
          "execution_count": 81
        }
      ]
    },
    {
      "cell_type": "markdown",
      "metadata": {
        "id": "ofkagPUCO3me",
        "colab_type": "text"
      },
      "source": [
        "# **Стратегия 3:**"
      ]
    },
    {
      "cell_type": "code",
      "metadata": {
        "id": "uSZS5yTQE7wS",
        "colab_type": "code",
        "colab": {
          "base_uri": "https://localhost:8080/",
          "height": 255
        },
        "outputId": "01cbb9d4-73cb-458e-c780-f7c1849a6d1c"
      },
      "source": [
        "skf = StratifiedKFold(n_splits=3)\n",
        "scores = cross_validate(KNeighborsRegressor(n_neighbors=5), \n",
        "                         data.data, data.target, scoring=scoring, \n",
        "                         cv=kf, return_train_score=True)\n",
        "scores"
      ],
      "execution_count": 82,
      "outputs": [
        {
          "output_type": "execute_result",
          "data": {
            "text/plain": [
              "{'fit_time': array([0.0220511 , 0.01954985, 0.02040076, 0.01952934, 0.01926112]),\n",
              " 'score_time': array([0.03333974, 0.02903891, 0.02912569, 0.02949739, 0.02892232]),\n",
              " 'test_explained_variance': array([0.13822771, 0.16750964, 0.16106668, 0.15542754, 0.14842437]),\n",
              " 'test_max_error': array([-3.95961, -3.7574 , -4.34741, -4.02601, -4.19861]),\n",
              " 'test_neg_mean_absolute_error': array([-0.83357843, -0.82667521, -0.81878238, -0.80976838, -0.81899329]),\n",
              " 'test_neg_mean_squared_error': array([-1.17316112, -1.15360182, -1.13768852, -1.10057008, -1.13360017]),\n",
              " 'test_neg_median_absolute_error': array([-0.667701, -0.658401, -0.6416  , -0.6559  , -0.658198]),\n",
              " 'test_r2': array([0.13659913, 0.16255585, 0.15776543, 0.15381193, 0.14463861]),\n",
              " 'train_explained_variance': array([0.44746549, 0.44125961, 0.4425836 , 0.44239222, 0.44776412]),\n",
              " 'train_max_error': array([-3.382408, -3.452408, -3.395808, -3.528408, -3.462408]),\n",
              " 'train_neg_mean_absolute_error': array([-0.65700164, -0.65951543, -0.66132916, -0.66601055, -0.66141178]),\n",
              " 'train_neg_mean_squared_error': array([-0.73330957, -0.73798363, -0.74079879, -0.75020402, -0.73866955]),\n",
              " 'train_neg_median_absolute_error': array([-0.519 , -0.5227, -0.5235, -0.5293, -0.5278]),\n",
              " 'train_r2': array([0.4454824 , 0.43922391, 0.44092892, 0.44087664, 0.44612142])}"
            ]
          },
          "metadata": {
            "tags": []
          },
          "execution_count": 82
        }
      ]
    },
    {
      "cell_type": "code",
      "metadata": {
        "id": "6O5GRMC7n5Lc",
        "colab_type": "code",
        "outputId": "ffd06735-282c-4404-811e-d23aaadfb894",
        "colab": {
          "base_uri": "https://localhost:8080/",
          "height": 833
        }
      },
      "source": [
        "import sklearn\n",
        "sorted(sklearn.metrics.SCORERS.keys())"
      ],
      "execution_count": 0,
      "outputs": [
        {
          "output_type": "execute_result",
          "data": {
            "text/plain": [
              "['accuracy',\n",
              " 'adjusted_mutual_info_score',\n",
              " 'adjusted_rand_score',\n",
              " 'average_precision',\n",
              " 'balanced_accuracy',\n",
              " 'completeness_score',\n",
              " 'explained_variance',\n",
              " 'f1',\n",
              " 'f1_macro',\n",
              " 'f1_micro',\n",
              " 'f1_samples',\n",
              " 'f1_weighted',\n",
              " 'fowlkes_mallows_score',\n",
              " 'homogeneity_score',\n",
              " 'jaccard',\n",
              " 'jaccard_macro',\n",
              " 'jaccard_micro',\n",
              " 'jaccard_samples',\n",
              " 'jaccard_weighted',\n",
              " 'max_error',\n",
              " 'mutual_info_score',\n",
              " 'neg_brier_score',\n",
              " 'neg_log_loss',\n",
              " 'neg_mean_absolute_error',\n",
              " 'neg_mean_gamma_deviance',\n",
              " 'neg_mean_poisson_deviance',\n",
              " 'neg_mean_squared_error',\n",
              " 'neg_mean_squared_log_error',\n",
              " 'neg_median_absolute_error',\n",
              " 'neg_root_mean_squared_error',\n",
              " 'normalized_mutual_info_score',\n",
              " 'precision',\n",
              " 'precision_macro',\n",
              " 'precision_micro',\n",
              " 'precision_samples',\n",
              " 'precision_weighted',\n",
              " 'r2',\n",
              " 'recall',\n",
              " 'recall_macro',\n",
              " 'recall_micro',\n",
              " 'recall_samples',\n",
              " 'recall_weighted',\n",
              " 'roc_auc',\n",
              " 'roc_auc_ovo',\n",
              " 'roc_auc_ovo_weighted',\n",
              " 'roc_auc_ovr',\n",
              " 'roc_auc_ovr_weighted',\n",
              " 'v_measure_score']"
            ]
          },
          "metadata": {
            "tags": []
          },
          "execution_count": 53
        }
      ]
    },
    {
      "cell_type": "markdown",
      "metadata": {
        "id": "bzXy-ED5FMU7",
        "colab_type": "text"
      },
      "source": [
        "# **Подбор гиперпараметра с GriDSearchCV**"
      ]
    },
    {
      "cell_type": "code",
      "metadata": {
        "id": "DqBUpjTeUSCi",
        "colab_type": "code",
        "colab": {
          "base_uri": "https://localhost:8080/",
          "height": 34
        },
        "outputId": "7639aa5c-ab20-4bf2-82ea-2d070c1aa547"
      },
      "source": [
        "n_range = np.array(range(5,55,5))\n",
        "tuned_parameters = [{'n_neighbors': n_range}]\n",
        "tuned_parameters"
      ],
      "execution_count": 83,
      "outputs": [
        {
          "output_type": "execute_result",
          "data": {
            "text/plain": [
              "[{'n_neighbors': array([ 5, 10, 15, 20, 25, 30, 35, 40, 45, 50])}]"
            ]
          },
          "metadata": {
            "tags": []
          },
          "execution_count": 83
        }
      ]
    },
    {
      "cell_type": "code",
      "metadata": {
        "id": "e-Ti7ML4ga2w",
        "colab_type": "code",
        "colab": {
          "base_uri": "https://localhost:8080/",
          "height": 34
        },
        "outputId": "664dce08-f703-4cd4-cd65-f81b1e85519a"
      },
      "source": [
        "#test=ShuffleSplit()\n",
        "#test"
      ],
      "execution_count": 111,
      "outputs": [
        {
          "output_type": "execute_result",
          "data": {
            "text/plain": [
              "ShuffleSplit(n_splits=10, random_state=None, test_size=None, train_size=None)"
            ]
          },
          "metadata": {
            "tags": []
          },
          "execution_count": 111
        }
      ]
    },
    {
      "cell_type": "code",
      "metadata": {
        "id": "MU74PJW-UlLI",
        "colab_type": "code",
        "colab": {
          "base_uri": "https://localhost:8080/",
          "height": 221
        },
        "outputId": "db5119e8-3229-4103-8e43-64b2cbf80981"
      },
      "source": [
        "from sklearn.model_selection import GridSearchCV, RandomizedSearchCV\n",
        "from sklearn.model_selection import learning_curve, validation_curve\n",
        "\n",
        "#clf_gs = GridSearchCV(KNeighborsRegressor(), tuned_parameters, cv=LeaveOneOut(), scoring='neg_mean_absolute_error')\n",
        "#clf_gs.fit(data.data, data.target)\n",
        "clf_rs = RandomizedSearchCV(KNeighborsRegressor(), tuned_parameters, cv=ShuffleSplit(), scoring='neg_mean_absolute_error')\n",
        "clf_rs.fit(data.data, data.target)"
      ],
      "execution_count": 99,
      "outputs": [
        {
          "output_type": "execute_result",
          "data": {
            "text/plain": [
              "RandomizedSearchCV(cv=ShuffleSplit(n_splits=10, random_state=None, test_size=None, train_size=None),\n",
              "                   error_score=nan,\n",
              "                   estimator=KNeighborsRegressor(algorithm='auto', leaf_size=30,\n",
              "                                                 metric='minkowski',\n",
              "                                                 metric_params=None,\n",
              "                                                 n_jobs=None, n_neighbors=5,\n",
              "                                                 p=2, weights='uniform'),\n",
              "                   iid='deprecated', n_iter=10, n_jobs=None,\n",
              "                   param_distributions=[{'n_neighbors': array([ 5, 10, 15, 20, 25, 30, 35, 40, 45, 50])}],\n",
              "                   pre_dispatch='2*n_jobs', random_state=None, refit=True,\n",
              "                   return_train_score=False, scoring='neg_mean_absolute_error',\n",
              "                   verbose=0)"
            ]
          },
          "metadata": {
            "tags": []
          },
          "execution_count": 99
        }
      ]
    },
    {
      "cell_type": "code",
      "metadata": {
        "id": "-KzP_95qXvoA",
        "colab_type": "code",
        "colab": {
          "base_uri": "https://localhost:8080/",
          "height": 34
        },
        "outputId": "50ea22d7-60ed-40a1-b0d4-85ee790bffbd"
      },
      "source": [
        "clf_rs.best_params_"
      ],
      "execution_count": 107,
      "outputs": [
        {
          "output_type": "execute_result",
          "data": {
            "text/plain": [
              "{'n_neighbors': 5}"
            ]
          },
          "metadata": {
            "tags": []
          },
          "execution_count": 107
        }
      ]
    },
    {
      "cell_type": "code",
      "metadata": {
        "id": "F8FxjzTwYmlA",
        "colab_type": "code",
        "colab": {
          "base_uri": "https://localhost:8080/",
          "height": 204
        },
        "outputId": "3a651038-5656-42b5-c80d-6994aa89fca1"
      },
      "source": [
        "clf_gs = GridSearchCV(KNeighborsRegressor(), tuned_parameters, cv=ShuffleSplit(), scoring='neg_mean_absolute_error')\n",
        "clf_gs.fit(data.data, data.target)"
      ],
      "execution_count": 101,
      "outputs": [
        {
          "output_type": "execute_result",
          "data": {
            "text/plain": [
              "GridSearchCV(cv=ShuffleSplit(n_splits=10, random_state=None, test_size=None, train_size=None),\n",
              "             error_score=nan,\n",
              "             estimator=KNeighborsRegressor(algorithm='auto', leaf_size=30,\n",
              "                                           metric='minkowski',\n",
              "                                           metric_params=None, n_jobs=None,\n",
              "                                           n_neighbors=5, p=2,\n",
              "                                           weights='uniform'),\n",
              "             iid='deprecated', n_jobs=None,\n",
              "             param_grid=[{'n_neighbors': array([ 5, 10, 15, 20, 25, 30, 35, 40, 45, 50])}],\n",
              "             pre_dispatch='2*n_jobs', refit=True, return_train_score=False,\n",
              "             scoring='neg_mean_absolute_error', verbose=0)"
            ]
          },
          "metadata": {
            "tags": []
          },
          "execution_count": 101
        }
      ]
    },
    {
      "cell_type": "code",
      "metadata": {
        "id": "wDChDwNufz1D",
        "colab_type": "code",
        "colab": {
          "base_uri": "https://localhost:8080/",
          "height": 833
        },
        "outputId": "c3590b46-7e6a-4221-83f9-20280bc96adb"
      },
      "source": [
        "clf_gs.cv_results_"
      ],
      "execution_count": 109,
      "outputs": [
        {
          "output_type": "execute_result",
          "data": {
            "text/plain": [
              "{'mean_fit_time': array([0.02351162, 0.02266765, 0.02260883, 0.02307355, 0.02268093,\n",
              "        0.02268136, 0.02261248, 0.02272775, 0.02263823, 0.02278049]),\n",
              " 'mean_score_time': array([0.01279907, 0.01530466, 0.01707008, 0.01960509, 0.02129235,\n",
              "        0.02387059, 0.02496018, 0.02808068, 0.02937937, 0.03181584]),\n",
              " 'mean_test_score': array([-0.81203015, -0.81503612, -0.8230933 , -0.83207381, -0.84000791,\n",
              "        -0.846717  , -0.85183971, -0.85686798, -0.86108694, -0.863922  ]),\n",
              " 'param_n_neighbors': masked_array(data=[5, 10, 15, 20, 25, 30, 35, 40, 45, 50],\n",
              "              mask=[False, False, False, False, False, False, False, False,\n",
              "                    False, False],\n",
              "        fill_value='?',\n",
              "             dtype=object),\n",
              " 'params': [{'n_neighbors': 5},\n",
              "  {'n_neighbors': 10},\n",
              "  {'n_neighbors': 15},\n",
              "  {'n_neighbors': 20},\n",
              "  {'n_neighbors': 25},\n",
              "  {'n_neighbors': 30},\n",
              "  {'n_neighbors': 35},\n",
              "  {'n_neighbors': 40},\n",
              "  {'n_neighbors': 45},\n",
              "  {'n_neighbors': 50}],\n",
              " 'rank_test_score': array([ 1,  2,  3,  4,  5,  6,  7,  8,  9, 10], dtype=int32),\n",
              " 'split0_test_score': array([-0.8204379 , -0.8144728 , -0.82442798, -0.83384151, -0.84408377,\n",
              "        -0.85088312, -0.85790902, -0.86335614, -0.86538739, -0.86709766]),\n",
              " 'split1_test_score': array([-0.8132376 , -0.82517394, -0.83646746, -0.84484002, -0.85354687,\n",
              "        -0.86184336, -0.86750736, -0.87176307, -0.87639178, -0.87954024]),\n",
              " 'split2_test_score': array([-0.77656432, -0.78454806, -0.7986453 , -0.80949349, -0.81804306,\n",
              "        -0.82517943, -0.82896983, -0.83525805, -0.84008578, -0.84269529]),\n",
              " 'split3_test_score': array([-0.81509895, -0.82747879, -0.83711943, -0.84747662, -0.85568191,\n",
              "        -0.86228979, -0.86774153, -0.87112331, -0.87479035, -0.87778043]),\n",
              " 'split4_test_score': array([-0.81860875, -0.81666236, -0.81827355, -0.82565653, -0.83014141,\n",
              "        -0.83881223, -0.84274031, -0.84874638, -0.85390569, -0.85658187]),\n",
              " 'split5_test_score': array([-0.82433839, -0.82244156, -0.82784972, -0.8372571 , -0.84616749,\n",
              "        -0.85107147, -0.85597538, -0.8621645 , -0.86794017, -0.87198665]),\n",
              " 'split6_test_score': array([-0.81934245, -0.81974171, -0.82132706, -0.83047181, -0.83815918,\n",
              "        -0.84354891, -0.84882261, -0.85230448, -0.85496734, -0.85767652]),\n",
              " 'split7_test_score': array([-0.80237355, -0.80526664, -0.81919044, -0.82717728, -0.83563199,\n",
              "        -0.84261306, -0.8478305 , -0.85320056, -0.85890744, -0.86393131]),\n",
              " 'split8_test_score': array([-0.81986751, -0.8218043 , -0.82610359, -0.83596837, -0.84252003,\n",
              "        -0.84829952, -0.85426183, -0.85813786, -0.862585  , -0.86398928]),\n",
              " 'split9_test_score': array([-0.81043207, -0.81277105, -0.82152852, -0.82855533, -0.83610337,\n",
              "        -0.84262911, -0.84663877, -0.85262543, -0.85590841, -0.85794077]),\n",
              " 'std_fit_time': array([0.00164925, 0.00042376, 0.00052891, 0.00103466, 0.00040232,\n",
              "        0.00043602, 0.00039983, 0.00044322, 0.00039219, 0.00051819]),\n",
              " 'std_score_time': array([0.00023189, 0.00040602, 0.00013945, 0.00060906, 0.00029574,\n",
              "        0.00161806, 0.00020324, 0.00161472, 0.00044112, 0.00178795]),\n",
              " 'std_test_score': array([0.01320931, 0.01188883, 0.01025086, 0.01017524, 0.01052357,\n",
              "        0.01039271, 0.01102818, 0.01040223, 0.0102536 , 0.01044196])}"
            ]
          },
          "metadata": {
            "tags": []
          },
          "execution_count": 109
        }
      ]
    },
    {
      "cell_type": "code",
      "metadata": {
        "id": "tyICoIiTf_cV",
        "colab_type": "code",
        "colab": {
          "base_uri": "https://localhost:8080/",
          "height": 68
        },
        "outputId": "564150a1-c42c-4ed3-d2fe-0780eb6ed001"
      },
      "source": [
        "clf_gs.best_estimator_"
      ],
      "execution_count": 110,
      "outputs": [
        {
          "output_type": "execute_result",
          "data": {
            "text/plain": [
              "KNeighborsRegressor(algorithm='auto', leaf_size=30, metric='minkowski',\n",
              "                    metric_params=None, n_jobs=None, n_neighbors=5, p=2,\n",
              "                    weights='uniform')"
            ]
          },
          "metadata": {
            "tags": []
          },
          "execution_count": 110
        }
      ]
    },
    {
      "cell_type": "code",
      "metadata": {
        "id": "EC-O_fnnY3J7",
        "colab_type": "code",
        "colab": {
          "base_uri": "https://localhost:8080/",
          "height": 34
        },
        "outputId": "f1d7a33a-314e-434a-fefc-f6d966abb0a3"
      },
      "source": [
        "clf_gs.best_params_"
      ],
      "execution_count": 106,
      "outputs": [
        {
          "output_type": "execute_result",
          "data": {
            "text/plain": [
              "{'n_neighbors': 5}"
            ]
          },
          "metadata": {
            "tags": []
          },
          "execution_count": 106
        }
      ]
    },
    {
      "cell_type": "code",
      "metadata": {
        "id": "B3CP0or9ZPpc",
        "colab_type": "code",
        "colab": {
          "base_uri": "https://localhost:8080/",
          "height": 287
        },
        "outputId": "022a17af-5fad-434e-b9ab-b562a3435737"
      },
      "source": [
        "plt.plot(n_range, clf_gs.cv_results_['mean_test_score'])"
      ],
      "execution_count": 103,
      "outputs": [
        {
          "output_type": "execute_result",
          "data": {
            "text/plain": [
              "[<matplotlib.lines.Line2D at 0x7f59bdcd5198>]"
            ]
          },
          "metadata": {
            "tags": []
          },
          "execution_count": 103
        },
        {
          "output_type": "display_data",
          "data": {
            "image/png": "[encoded data removed]",
            "text/plain": [
              "<Figure size 432x288 with 1 Axes>"
            ]
          },
          "metadata": {
            "tags": []
          }
        }
      ]
    },
    {
      "cell_type": "code",
      "metadata": {
        "id": "ZpZ6He7hZbKB",
        "colab_type": "code",
        "colab": {
          "base_uri": "https://localhost:8080/",
          "height": 285
        },
        "outputId": "a90acb83-2403-4005-d5c8-41c4b86667e2"
      },
      "source": [
        "plt.plot(n_range, clf_rs.cv_results_['mean_test_score'])"
      ],
      "execution_count": 104,
      "outputs": [
        {
          "output_type": "execute_result",
          "data": {
            "text/plain": [
              "[<matplotlib.lines.Line2D at 0x7f59bdd99550>]"
            ]
          },
          "metadata": {
            "tags": []
          },
          "execution_count": 104
        },
        {
          "output_type": "display_data",
          "data": {
            "image/png": "[encoded data removed]",
            "text/plain": [
              "<Figure size 432x288 with 1 Axes>"
            ]
          },
          "metadata": {
            "tags": []
          }
        }
      ]
    },
    {
      "cell_type": "code",
      "metadata": {
        "id": "ZVrkNGuuaOGh",
        "colab_type": "code",
        "colab": {
          "base_uri": "https://localhost:8080/",
          "height": 34
        },
        "outputId": "ea2ee46f-e12a-48af-e382-908e5e8fd967"
      },
      "source": [
        "clf_gs.best_estimator_.fit(x_train, y_train)\n",
        "target2_1 = clf_gs.best_estimator_.predict(x_test)\n",
        "mean_absolute_error(y_test, target2_1)"
      ],
      "execution_count": 105,
      "outputs": [
        {
          "output_type": "execute_result",
          "data": {
            "text/plain": [
              "0.82001825631239"
            ]
          },
          "metadata": {
            "tags": []
          },
          "execution_count": 105
        }
      ]
    },
    {
      "cell_type": "markdown",
      "metadata": {
        "id": "9MWF-mRbb5lk",
        "colab_type": "text"
      },
      "source": [
        "# **Качество модели с подобранным гиперпараметром такое же, как и с взятым произвольно гиперпараметром, так как мы угадали лучшее значение гиперпараметра изначально**"
      ]
    },
    {
      "cell_type": "markdown",
      "metadata": {
        "id": "oShtVEESdyo1",
        "colab_type": "text"
      },
      "source": [
        "# **Кривые обучения и валидации**"
      ]
    },
    {
      "cell_type": "code",
      "metadata": {
        "id": "L-SbuST3hYzz",
        "colab_type": "code",
        "colab": {}
      },
      "source": [
        "from sklearn.model_selection import learning_curve, validation_curve"
      ],
      "execution_count": 0,
      "outputs": []
    },
    {
      "cell_type": "code",
      "metadata": {
        "id": "cf1O20qvhaSa",
        "colab_type": "code",
        "colab": {}
      },
      "source": [
        "def plot_learning_curve(estimator, title, X, y, ylim=None, cv=None,\n",
        "                        n_jobs=None, train_sizes=np.linspace(.1, 1.0, 5)):\n",
        "    \"\"\"\n",
        "    Generate a simple plot of the test and training learning curve.\n",
        "\n",
        "    Parameters\n",
        "    ----------\n",
        "    estimator : object type that implements the \"fit\" and \"predict\" methods\n",
        "        An object of that type which is cloned for each validation.\n",
        "\n",
        "    title : string\n",
        "        Title for the chart.\n",
        "\n",
        "    X : array-like, shape (n_samples, n_features)\n",
        "        Training vector, where n_samples is the number of samples and\n",
        "        n_features is the number of features.\n",
        "\n",
        "    y : array-like, shape (n_samples) or (n_samples, n_features), optional\n",
        "        Target relative to X for classification or regression;\n",
        "        None for unsupervised learning.\n",
        "\n",
        "    ylim : tuple, shape (ymin, ymax), optional\n",
        "        Defines minimum and maximum yvalues plotted.\n",
        "\n",
        "    cv : int, cross-validation generator or an iterable, optional\n",
        "        Determines the cross-validation splitting strategy.\n",
        "        Possible inputs for cv are:\n",
        "          - None, to use the default 3-fold cross-validation,\n",
        "          - integer, to specify the number of folds.\n",
        "          - :term:`CV splitter`,\n",
        "          - An iterable yielding (train, test) splits as arrays of indices.\n",
        "\n",
        "        For integer/None inputs, if ``y`` is binary or multiclass,\n",
        "        :class:`StratifiedKFold` used. If the estimator is not a classifier\n",
        "        or if ``y`` is neither binary nor multiclass, :class:`KFold` is used.\n",
        "\n",
        "        Refer :ref:`User Guide <cross_validation>` for the various\n",
        "        cross-validators that can be used here.\n",
        "\n",
        "    n_jobs : int or None, optional (default=None)\n",
        "        Number of jobs to run in parallel.\n",
        "        ``None`` means 1 unless in a :obj:`joblib.parallel_backend` context.\n",
        "        ``-1`` means using all processors. See :term:`Glossary <n_jobs>`\n",
        "        for more details.\n",
        "\n",
        "    train_sizes : array-like, shape (n_ticks,), dtype float or int\n",
        "        Relative or absolute numbers of training examples that will be used to\n",
        "        generate the learning curve. If the dtype is float, it is regarded as a\n",
        "        fraction of the maximum size of the training set (that is determined\n",
        "        by the selected validation method), i.e. it has to be within (0, 1].\n",
        "        Otherwise it is interpreted as absolute sizes of the training sets.\n",
        "        Note that for classification the number of samples usually have to\n",
        "        be big enough to contain at least one sample from each class.\n",
        "        (default: np.linspace(0.1, 1.0, 5))\n",
        "    \"\"\"\n",
        "    plt.figure()\n",
        "    plt.title(title)\n",
        "    if ylim is not None:\n",
        "        plt.ylim(*ylim)\n",
        "    plt.xlabel(\"Training examples\")\n",
        "    plt.ylabel(\"Score\")\n",
        "    train_sizes, train_scores, test_scores = learning_curve(\n",
        "        estimator, X, y, cv=cv, n_jobs=n_jobs, train_sizes=train_sizes)\n",
        "    train_scores_mean = np.mean(train_scores, axis=1)\n",
        "    train_scores_std = np.std(train_scores, axis=1)\n",
        "    test_scores_mean = np.mean(test_scores, axis=1)\n",
        "    test_scores_std = np.std(test_scores, axis=1)\n",
        "    plt.grid()\n",
        "\n",
        "    plt.fill_between(train_sizes, train_scores_mean - train_scores_std,\n",
        "                     train_scores_mean + train_scores_std, alpha=0.3,\n",
        "                     color=\"r\")\n",
        "    plt.fill_between(train_sizes, test_scores_mean - test_scores_std,\n",
        "                     test_scores_mean + test_scores_std, alpha=0.1, color=\"g\")\n",
        "    plt.plot(train_sizes, train_scores_mean, 'o-', color=\"r\",\n",
        "             label=\"Training score\")\n",
        "    plt.plot(train_sizes, test_scores_mean, 'o-', color=\"g\",\n",
        "             label=\"Cross-validation score\")\n",
        "\n",
        "    plt.legend(loc=\"best\")\n",
        "    return plt"
      ],
      "execution_count": 0,
      "outputs": []
    },
    {
      "cell_type": "code",
      "metadata": {
        "id": "E0kICarjeyCo",
        "colab_type": "code",
        "colab": {
          "base_uri": "https://localhost:8080/",
          "height": 318
        },
        "outputId": "9c771aff-4d2c-4f5d-fdfd-aae6356ef85e"
      },
      "source": [
        "plot_learning_curve(clf_gs.best_estimator_, 'n_neighbors=5', \n",
        "                    data.data, data.target, cv=5, train_sizes=np.linspace(.2, 1.0, 5))"
      ],
      "execution_count": 124,
      "outputs": [
        {
          "output_type": "execute_result",
          "data": {
            "text/plain": [
              "<module 'matplotlib.pyplot' from '/usr/local/lib/python3.6/dist-packages/matplotlib/pyplot.py'>"
            ]
          },
          "metadata": {
            "tags": []
          },
          "execution_count": 124
        },
        {
          "output_type": "display_data",
          "data": {
            "image/png": "[encoded data removed]",
            "text/plain": [
              "<Figure size 432x288 with 1 Axes>"
            ]
          },
          "metadata": {
            "tags": []
          }
        }
      ]
    },
    {
      "cell_type": "code",
      "metadata": {
        "id": "eKJZs5MThwdF",
        "colab_type": "code",
        "colab": {}
      },
      "source": [
        "def plot_validation_curve(estimator, title, X, y, \n",
        "                          param_name, param_range, cv, \n",
        "                          scoring=\"neg_mean_absolute_error\"):\n",
        "                                                   \n",
        "    train_scores, test_scores = validation_curve(\n",
        "        estimator, X, y, param_name=param_name, param_range=param_range,\n",
        "        cv=cv, scoring=scoring, n_jobs=1)\n",
        "    train_scores_mean = np.mean(train_scores, axis=1)\n",
        "    train_scores_std = np.std(train_scores, axis=1)\n",
        "    test_scores_mean = np.mean(test_scores, axis=1)\n",
        "    test_scores_std = np.std(test_scores, axis=1)\n",
        "\n",
        "    plt.title(title)\n",
        "    plt.xlabel(param_name)\n",
        "    plt.ylabel(str(scoring))\n",
        "    plt.ylim(0.0, 1.1)\n",
        "    lw = 2\n",
        "    plt.plot(param_range, train_scores_mean, label=\"Training score\",\n",
        "                 color=\"darkorange\", lw=lw)\n",
        "    plt.fill_between(param_range, train_scores_mean - train_scores_std,\n",
        "                     train_scores_mean + train_scores_std, alpha=0.4,\n",
        "                     color=\"darkorange\", lw=lw)\n",
        "    plt.plot(param_range, test_scores_mean, label=\"Cross-validation score\",\n",
        "                 color=\"navy\", lw=lw)\n",
        "    plt.fill_between(param_range, test_scores_mean - test_scores_std,\n",
        "                     test_scores_mean + test_scores_std, alpha=0.2,\n",
        "                     color=\"navy\", lw=lw)\n",
        "    plt.legend(loc=\"best\")\n",
        "    return plt"
      ],
      "execution_count": 0,
      "outputs": []
    },
    {
      "cell_type": "code",
      "metadata": {
        "id": "jHlUK9VoiXhS",
        "colab_type": "code",
        "colab": {}
      },
      "source": [
        "#plot_validation_curve(KNeighborsClassifier(), 'knn', \n",
        "#                      iris_X_train, iris_y_train, \n",
        "#                      param_name='n_neighbors', param_range=n_range, \n",
        "#                      cv=20, scoring=\"accuracy\")"
      ],
      "execution_count": 0,
      "outputs": []
    },
    {
      "cell_type": "code",
      "metadata": {
        "id": "eDHa3Zxei0js",
        "colab_type": "code",
        "colab": {}
      },
      "source": [
        "n_range2 = np.array(range(5,125,5))"
      ],
      "execution_count": 0,
      "outputs": []
    },
    {
      "cell_type": "code",
      "metadata": {
        "id": "iI2nsOCji4pG",
        "colab_type": "code",
        "colab": {
          "base_uri": "https://localhost:8080/",
          "height": 318
        },
        "outputId": "f4853db3-c87f-4f49-b19d-d14525c09d60"
      },
      "source": [
        "plot_validation_curve(KNeighborsRegressor(), 'knn', \n",
        "                      data.data, data.target, \n",
        "                      param_name='n_neighbors', param_range=n_range, \n",
        "                      cv=5, scoring=\"r2\")"
      ],
      "execution_count": 131,
      "outputs": [
        {
          "output_type": "execute_result",
          "data": {
            "text/plain": [
              "<module 'matplotlib.pyplot' from '/usr/local/lib/python3.6/dist-packages/matplotlib/pyplot.py'>"
            ]
          },
          "metadata": {
            "tags": []
          },
          "execution_count": 131
        },
        {
          "output_type": "display_data",
          "data": {
            "image/png": "[encoded data removed]",
            "text/plain": [
              "<Figure size 432x288 with 1 Axes>"
            ]
          },
          "metadata": {
            "tags": []
          }
        }
      ]
    }
  ]
}